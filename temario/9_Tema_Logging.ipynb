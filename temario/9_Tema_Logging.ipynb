{
 "cells": [
  {
   "cell_type": "markdown",
   "id": "239cf164-a5f9-4fd3-84f6-563ae9bf6369",
   "metadata": {},
   "source": [
    "*Creado por:*\n",
    "\n",
    "*Isabel Maniega*"
   ]
  },
  {
   "cell_type": "markdown",
   "id": "5221b5c0-ce69-403c-a0f9-61cd5ea92bb3",
   "metadata": {},
   "source": [
    "## Logging en Python\n",
    "\n",
    "La biblioteca estándar de Python proporciona un módulo útil llamado ```logging``` para registrar eventos que ocurren en la aplicación. Los registros se utilizan con mayor frecuencia para encontrar la causa de un error. De forma predeterminada, Python y sus módulos proporcionan muchos registros que le informan sobre las causas de los errores. Sin embargo, es una buena práctica crear sus propios registros que pueden ser útiles para usted o para otros programadores.\n",
    "\n",
    "Un ejemplo de uso de sus propios registros puede ser cualquier sistema de Internet. Cuando los usuarios visitan su sitio, puede registrar información sobre los navegadores que utilizan. Si algo sale mal, podrá determinar en qué navegadores se está produciendo el problema.\n",
    "\n",
    "En Python, puede almacenar registros en diferentes lugares. La mayoría de las veces, se encuentra en forma de archivo, pero también puede ser un flujo de salida o incluso un servicio externo. Para comenzar a registrar, necesitamos importar el módulo apropiado:\n",
    "```\n",
    "import logging\n",
    "```\n",
    "En esta parte del curso, aprenderá a crear registros utilizando el módulo ```logging``. Vea lo que ofrece este módulo y comience a usarlo para convertirse en un mejor programador.\n",
    "\n",
    "**El objeto Logger**\n",
    "\n",
    "Una aplicación puede tener varios registradores creados tanto por nosotros como por los programadores de los módulos. Si su aplicación es simple, como en el ejemplo a continuación, puede usar el registrador raíz. Para ello, llame a la función getLogger sin proporcionar un nombre. El registrador raíz está en el punto más alto de la jerarquía. Su lugar en la jerarquía se asigna en función de los nombres pasados a la función ```getLogger```.\n",
    "\n",
    "Los nombres de los registradores son similares a los nombres de los módulos de Python en los que se utiliza el separador de puntos. Su formato es el siguiente:\n",
    "\n",
    "- **hello** – crea un registrador que es un hijo del registrador raíz;\n",
    "\n",
    "- **hello.world** – crea un registrador que es un hijo del registrador hello.\n",
    "\n",
    "Si desea realizar otra anidación, simplemente utilice el separador de puntos.\n",
    "\n",
    "La función ```getLogger``` devuelve un objeto ```Logger```. Veamos el código de ejemplo en el editor. Allí encontraremos las formas de obtener el objeto ```Logger```, tanto con nombre como sin él.\n",
    "\n",
    "Recomendamos llamar a la función ```getLogger``` con el argumento ```__name__```, que se reemplaza por el nombre del módulo actual. Esto le permite especificar fácilmente la fuente del mensaje registrado.\n",
    "\n",
    "NOTA: Varias llamadas a la función ```getLogger``` con el mismo nombre siempre devolverán el mismo objeto."
   ]
  },
  {
   "cell_type": "code",
   "execution_count": 1,
   "id": "d0d18eb3-24eb-4352-81e2-cb9cef3146b9",
   "metadata": {},
   "outputs": [
    {
     "name": "stdout",
     "output_type": "stream",
     "text": [
      "<Logger hello.world (WARNING)>\n"
     ]
    }
   ],
   "source": [
    "import logging\n",
    "\n",
    "logger = logging.getLogger()\n",
    "hello_logger = logging.getLogger('hello')\n",
    "hello_world_logger = logging.getLogger('hello.world')\n",
    "recommended_logger = logging.getLogger(__name__)\n",
    "print(hello_world_logger)"
   ]
  },
  {
   "cell_type": "markdown",
   "id": "439d5cb8-e35c-4002-8ca4-3a5f12780969",
   "metadata": {},
   "source": [
    "**Niveles de registro**\n",
    "\n",
    "El objeto ```Logger``` permite crear registros con distintos niveles de registro que ayudan a distinguir entre registros menos importantes y aquellos que informan un error grave. De forma predeterminada, se definen los siguientes niveles de registro:\n",
    "\n",
    "|    Level name\t   | Value |\n",
    "| ---------------- | ----- |\n",
    "| ```CRITICAL```   |  50   |\n",
    "|    ```ERROR```   |  40   |\n",
    "|   ```WARNING```  |  30   |\n",
    "|    ```INFO```    |  20   |\n",
    "|   ```DEBUG```    |  10   |\n",
    "|   ```NOTSET```   |  0    |\n",
    "\n",
    "Cada nivel tiene un ```nombre``` y un valor ```numérico```. También puedes definir tu propio nivel, pero los que ofrece el módulo ```logging``` son suficientes. El objeto Logger tiene métodos que establecen el nivel de registro por ti. Observa el ejemplo en el editor.\n",
    "\n",
    "Resultado:\n",
    "```\n",
    "CRITICAL:root:Your CRITICAL message\n",
    "ERROR:root:Your ERROR message\n",
    "WARNING:root:Your WARNING message\n",
    "```\n",
    "\n",
    "Todos los métodos anteriores requieren que proporciones un mensaje que será visible en los registros. El formato de registro predeterminado incluye el nivel, el nombre del registrador y el mensaje que hayas definido. Ten en cuenta que todos estos valores están separados por dos puntos. Más adelante en este curso, aprenderás a cambiar el formato predeterminado.\n",
    "\n",
    "Probablemente te estés preguntando por qué no se muestran los mensajes con niveles INFO y DEBUG. Esto se debe a la configuración predeterminada, de la que hablaremos en un momento.\n",
    "\n",
    "NOTA: El método ```basicConfig``` se analizará más adelante en el curso. Por ahora, recuerda que es responsable de la configuración básica del registro."
   ]
  },
  {
   "cell_type": "code",
   "execution_count": 2,
   "id": "4771fad9-85b1-4ddb-9805-b625123cf03b",
   "metadata": {},
   "outputs": [
    {
     "name": "stderr",
     "output_type": "stream",
     "text": [
      "CRITICAL:Hola:Your CRITICAL message\n",
      "ERROR:Hola:Your ERROR message\n",
      "WARNING:Hola:Your WARNING message\n"
     ]
    }
   ],
   "source": [
    "import logging\n",
    "\n",
    "logging.basicConfig()\n",
    "\n",
    "logger = logging.getLogger('Hola')\n",
    "\n",
    "logger.critical('Your CRITICAL message')\n",
    "logger.error('Your ERROR message')\n",
    "logger.warning('Your WARNING message')\n",
    "logger.info('Your INFO message')\n",
    "logger.debug('Your DEBUG message')"
   ]
  },
  {
   "cell_type": "markdown",
   "id": "afe8a702-d5da-4dcf-b093-079872b7e68c",
   "metadata": {},
   "source": [
    "**El método setLevel**\n",
    "\n",
    "El registrador raíz tiene el nivel de registro establecido en ```WARNING```. Esto significa que los mensajes en los niveles ```INFO``` o ```DEBUG``` no se procesan.\n",
    "\n",
    "A veces, es posible que desee cambiar este comportamiento, especialmente si crea su propio registrador. Para ello, debe pasar un nivel de registro al método ```setLevel```. Vea cómo lo hacemos en el editor.\n",
    "\n",
    "Resultado:\n",
    "```\n",
    "CRITICAL:root:Your CRITICAL message\n",
    "ERROR:root:Your ERROR message\n",
    "WARNING:root:Your WARNING message\n",
    "INFO:root:Your INFO message\n",
    "DEBUG:root:Your DEBUG message\n",
    "```\n",
    "La configuración del nivel ```DEBUG``` hace que se registren los mensajes con este nivel o uno superior. Vale la pena mencionar que los registradores creados con el argumento de nombre tienen el nivel ```NOTSET``` establecido de forma predeterminada. En este caso, su nivel de registro se establece en función de los niveles principales, comenzando por el principal más cercano al registrador raíz.\n",
    "\n",
    "Si el principal más cercano tiene un nivel establecido en ```NOTSET```, el nivel del registrador se establece en función de los niveles de los principales subsiguientes en la jerarquía. La configuración de nivel finaliza si un principal tiene un nivel distinto de ```NOTSET```. Si ninguno de los principales visitados tiene un nivel distinto de ```NOTSET```, entonces se procesarán todos los mensajes independientemente de su nivel."
   ]
  },
  {
   "cell_type": "code",
   "execution_count": 3,
   "id": "52bd5027-6cc3-4a15-852d-580b90b80ded",
   "metadata": {},
   "outputs": [
    {
     "name": "stderr",
     "output_type": "stream",
     "text": [
      "CRITICAL:root:Your CRITICAL message\n",
      "ERROR:root:Your ERROR message\n",
      "WARNING:root:Your WARNING message\n",
      "INFO:root:Your INFO message\n",
      "DEBUG:root:Your DEBUG message\n"
     ]
    }
   ],
   "source": [
    "import logging\n",
    "\n",
    "logging.basicConfig()\n",
    "\n",
    "logger = logging.getLogger()\n",
    "logger.setLevel(logging.DEBUG)\n",
    "\n",
    "logger.critical('Your CRITICAL message')\n",
    "logger.error('Your ERROR message')\n",
    "logger.warning('Your WARNING message')\n",
    "logger.info('Your INFO message')\n",
    "logger.debug('Your DEBUG message')"
   ]
  },
  {
   "cell_type": "markdown",
   "id": "08558f8b-9bf6-4845-88cf-4bc2dd76e7da",
   "metadata": {},
   "source": [
    "**Configuración básica (parte 1)**\n",
    "\n",
    "Como mencionamos antes, la configuración básica de registro se realiza mediante el método ```basicConfig```. Al llamar al método ```basicConfig``` (sin especificar ningún argumento), se crea un objeto ```StreamHandler``` que procesa los registros y luego los muestra en la consola.\n",
    "\n",
    "El objeto ```StreamHandler``` es creado por el objeto ```Formatter``` predeterminado responsable del formato del registro. Como recordatorio, el formato predeterminado consta del nombre del nivel, el nombre del registrador y el mensaje definido. Finalmente, el controlador recién creado se agrega al registrador raíz. Más adelante, aprenderá a crear su propio controlador y formateador.\n",
    "\n",
    "En los ejemplos anteriores, llamamos al método ```basicConfig``` sin ningún argumento. Usando el método ```basicConfig```, puedes cambiar el nivel de registro (de la misma manera que usando el método ```setLevel```) e incluso la ubicación de los registros. Observa el ejemplo en el editor.\n",
    "\n",
    "Resultado en el archivo ```prod.log```:\n",
    "```\n",
    "CRITICAL:root:Tu mensaje CRÍTICO\n",
    "```\n",
    "En el ejemplo, el método ```basicConfig``` toma tres argumentos. El primero es el nivel de registro igual a ```CRITICAL```, lo que significa que solo se procesarán los mensajes con este nivel.\n",
    "\n",
    "Pasar un nombre de archivo al segundo argumento crea un objeto ```FileHandler``` (en lugar de un objeto ```StreamHandler```). Como probablemente hayas notado, los registros ya no aparecen en la consola. Después de configurar el argumento ```filename```, todos los registros se dirigirán al archivo especificado.\n",
    "\n",
    "Además, pasar el último argumento ```filemode``` con el valor ```'a'``` (este es el modo predeterminado) significa que se agregarán nuevos registros a este archivo. Si desea cambiar este modo, puede usar otros modos que sean análogos a los utilizados en la función incorporada ```open```.\n",
    "\n",
    "Estos no son todos los argumentos que puede tomar el método ```basicConfig```. ¿Está listo para otra dosis de conocimiento? ¡Sigamos adelante!\n",
    "\n",
    "NOTA: El método ```basicConfig``` cambia la configuración del registrador raíz y sus hijos que no tienen su propio controlador definido."
   ]
  },
  {
   "cell_type": "code",
   "execution_count": 4,
   "id": "0af051dd-95a1-4021-9b66-0a86e3bd1dd4",
   "metadata": {},
   "outputs": [
    {
     "name": "stderr",
     "output_type": "stream",
     "text": [
      "CRITICAL:root:Your CRITICAL message\n",
      "ERROR:root:Your ERROR message\n",
      "WARNING:root:Your WARNING message\n",
      "INFO:root:Your INFO message\n",
      "DEBUG:root:Your DEBUG message\n"
     ]
    }
   ],
   "source": [
    "import logging\n",
    "\n",
    "logging.basicConfig(level=logging.CRITICAL, filename='prod.log', filemode='a')\n",
    "\n",
    "logger = logging.getLogger()\n",
    "\n",
    "logger.critical('Your CRITICAL message')\n",
    "logger.error('Your ERROR message')\n",
    "logger.warning('Your WARNING message')\n",
    "logger.info('Your INFO message')\n",
    "logger.debug('Your DEBUG message')"
   ]
  },
  {
   "cell_type": "markdown",
   "id": "d8c20f1d-666a-4d49-b78e-201fda5184c8",
   "metadata": {},
   "source": [
    "**Configuración básica (parte 2)**\n",
    "\n",
    "El método ```basicConfig``` presentado anteriormente también se puede utilizar para cambiar el formato de registro predeterminado. Esto se hace utilizando el argumento ```format```, que se puede definir utilizando cualquier carácter o atributo del objeto ```LogRecord```. Vamos a explicarlo con el ejemplo en el editor.\n",
    "\n",
    "Resultado en el archivo prod.log:\n",
    "```\n",
    "root:CRITICAL:2019-10-10 17:16:46,293:Su mensaje CRÍTICO\n",
    "```\n",
    "El formato que definimos se crea combinando los atributos del objeto ```LogRecord``` separados por dos puntos. El objeto ```LogRecord``` es creado automáticamente por el registrador durante el registro. Contiene muchos atributos, como el nombre del ```logger```, el ```logging level``` o incluso el número de línea en el que se llama al método ```logging```. Puede encontrar una lista completa de todos los atributos disponibles aquí [https://docs.python.org/3/library/logging.html#logrecord-attributes].\n",
    "\n",
    "En nuestro ejemplo, usamos los siguientes atributos:\n",
    "\n",
    "**%(name)s** – este patrón será reemplazado por el nombre del registrador que llama al método de registro. En nuestro caso, es el registrador raíz;\n",
    "\n",
    "**%(levelname)s** – este patrón será reemplazado por el nivel de inicio de sesión establecido. En nuestro caso, este es el nivel ```CRITICAL```;\n",
    "\n",
    "**%(asctime)s** – este patrón será reemplazado por un formato de fecha legible para humanos que indica cuándo se creó el objeto ```LogRecord```. El valor decimal se expresa en milisegundos;\n",
    "\n",
    "**%(message)s** – este patrón será reemplazado por el mensaje definido. En nuestro caso, es ```'Su mensaje CRÍTICO'```.\n",
    "\n",
    "En general, el esquema para usar el argumento del objeto ```LogRecord``` en el argumento de formato se ve así:\n",
    "```\n",
    "(LOG_RECORD_ATTRIBUTE_NAME)s\n",
    "```"
   ]
  },
  {
   "cell_type": "code",
   "execution_count": 5,
   "id": "48dc8967-c954-4a7c-9a11-10059ebfe8df",
   "metadata": {},
   "outputs": [
    {
     "name": "stderr",
     "output_type": "stream",
     "text": [
      "CRITICAL:root:Your CRITICAL message\n",
      "ERROR:root:Your ERROR message\n",
      "WARNING:root:Your WARNING message\n",
      "INFO:root:Your INFO message\n",
      "DEBUG:root:Your DEBUG message\n"
     ]
    }
   ],
   "source": [
    "import logging\n",
    "\n",
    "FORMAT = '%(name)s:%(levelname)s:%(asctime)s:%(message)s'\n",
    "\n",
    "logging.basicConfig(level=logging.CRITICAL, filename='prod.log', filemode='a', format=FORMAT)\n",
    "\n",
    "logger = logging.getLogger()\n",
    "\n",
    "logger.critical('Your CRITICAL message')\n",
    "logger.error('Your ERROR message')\n",
    "logger.warning('Your WARNING message')\n",
    "logger.info('Your INFO message')\n",
    "logger.debug('Your DEBUG message')"
   ]
  },
  {
   "cell_type": "markdown",
   "id": "52b0be3f-dc6f-44c9-bf4b-16f1c342aeb7",
   "metadata": {},
   "source": [
    "**Su primer controlador**\n",
    "\n",
    "Cada registrador puede guardar registros en diferentes ubicaciones y en diferentes formatos. Para ello, debe definir su propio controlador y formateador.\n",
    "\n",
    "En la mayoría de los casos, querrá guardar sus registros en un archivo. El módulo de registro tiene la clase ```FileHandler```, que facilita esta tarea. Al crear un objeto ```FileHandler```, debe pasar un nombre de archivo donde se guardarán los registros.\n",
    "\n",
    "Además, puede pasar un modo de archivo con el argumento mode, por ejemplo, ```mode='a'```. En el siguiente paso, debe establecer el nivel de registro que procesará el controlador. De forma predeterminada, el controlador recién creado se establece en el nivel ```NOTSET```. Puede cambiarlo utilizando el método ```setLevel```. En el ejemplo del editor, hemos establecido el nivel ```CRITICAL```.\n",
    "\n",
    "Por último, debes agregar el manejador creado a tu registrador usando el método ```addHandler```.\n",
    "\n",
    "Resultado en el archivo ```prod.log```:\n",
    "```\n",
    "Tu mensaje CRÍTICO\n",
    "```\n",
    "Si revisas el archivo ```prod.log```, verás que solo el mensaje se guarda allí. ¿Sabes lo que olvidamos? Tu manejador no ha creado un formateador. Aprenderás cómo hacer esto en un momento.\n",
    "\n",
    "NOTA: Cada registrador puede tener varios manejadores agregados. Un manejador puede guardar registros en un archivo, mientras que otro puede enviarlos a un servicio externo. Para procesar mensajes con un nivel inferior a ```WARNING``` por manejadores agregados, es necesario establecer este umbral de nivel en el registrador raíz."
   ]
  },
  {
   "cell_type": "code",
   "execution_count": 7,
   "id": "bb04b780-b2f3-425a-ad2a-296b17888397",
   "metadata": {},
   "outputs": [
    {
     "name": "stderr",
     "output_type": "stream",
     "text": [
      "CRITICAL:__main__:Your CRITICAL message\n",
      "ERROR:__main__:Your ERROR message\n",
      "WARNING:__main__:Your WARNING message\n",
      "INFO:__main__:Your INFO message\n",
      "DEBUG:__main__:Your DEBUG message\n"
     ]
    }
   ],
   "source": [
    "import logging\n",
    "\n",
    "logger = logging.getLogger(__name__)\n",
    "\n",
    "handler = logging.FileHandler('prod.log', mode='w')\n",
    "handler.setLevel(logging.CRITICAL)\n",
    "\n",
    "logger.addHandler(handler)\n",
    "\n",
    "logger.critical('Your CRITICAL message')\n",
    "logger.error('Your ERROR message')\n",
    "logger.warning('Your WARNING message')\n",
    "logger.info('Your INFO message')\n",
    "logger.debug('Your DEBUG message')"
   ]
  },
  {
   "cell_type": "markdown",
   "id": "0c6da916-ae94-45ee-ad09-6ba037c1c9ff",
   "metadata": {},
   "source": [
    "**Tu primer formateador**\n",
    "\n",
    "¡Felicitaciones! Acabas de crear tu primer controlador. Solo falta el formateador, pero no te preocupes. Son solo dos pasos. Observa el ejemplo en el editor.\n",
    "\n",
    "Resultado en el archivo ```prod.log```:\n",
    "```\n",
    "__main__:CRITICAL:2019-10-10 20:40:05,119:Tu mensaje CRÍTICO\n",
    "```\n",
    "En el primer paso, debes crear un objeto ```Formatter``` pasando el formato que has definido a su constructor. En el ejemplo, usamos el formato definido en uno de los ejemplos anteriores.\n",
    "\n",
    "El siguiente paso es configurar el formateador en el objeto ```handler```. Esto se hace usando el método ```setFormatter```. Después de hacer esto, puedes analizar tus registros en el archivo ```prod.log```."
   ]
  },
  {
   "cell_type": "code",
   "execution_count": 8,
   "id": "7cb34ab5-64ab-4a3c-9dc1-1fecdc10ea4a",
   "metadata": {},
   "outputs": [
    {
     "name": "stderr",
     "output_type": "stream",
     "text": [
      "CRITICAL:__main__:Your CRITICAL message\n",
      "ERROR:__main__:Your ERROR message\n",
      "WARNING:__main__:Your WARNING message\n",
      "INFO:__main__:Your INFO message\n",
      "DEBUG:__main__:Your DEBUG message\n"
     ]
    }
   ],
   "source": [
    "import logging\n",
    "\n",
    "FORMAT = '%(name)s:%(levelname)s:%(asctime)s:%(message)s'\n",
    "\n",
    "logger = logging.getLogger(__name__)\n",
    "\n",
    "handler = logging.FileHandler('prod.log', mode='w')\n",
    "handler.setLevel(logging.CRITICAL)\n",
    "\n",
    "formatter = logging.Formatter(FORMAT)\n",
    "handler.setFormatter(formatter)\n",
    "\n",
    "logger.addHandler(handler)\n",
    "\n",
    "logger.critical('Your CRITICAL message')\n",
    "logger.error('Your ERROR message')\n",
    "logger.warning('Your WARNING message')\n",
    "logger.info('Your INFO message')\n",
    "logger.debug('Your DEBUG message')"
   ]
  },
  {
   "cell_type": "markdown",
   "id": "5c8fd8a0-d7d1-4e04-9655-11a9436cd58a",
   "metadata": {},
   "source": [
    "*Creado por:*\n",
    "\n",
    "*Isabel Maniega*"
   ]
  }
 ],
 "metadata": {
  "kernelspec": {
   "display_name": "Python 3 (ipykernel)",
   "language": "python",
   "name": "python3"
  },
  "language_info": {
   "codemirror_mode": {
    "name": "ipython",
    "version": 3
   },
   "file_extension": ".py",
   "mimetype": "text/x-python",
   "name": "python",
   "nbconvert_exporter": "python",
   "pygments_lexer": "ipython3",
   "version": "3.10.12"
  }
 },
 "nbformat": 4,
 "nbformat_minor": 5
}
