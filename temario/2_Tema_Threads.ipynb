{
 "cells": [
  {
   "cell_type": "markdown",
   "id": "7e037f75-88fb-4949-bb6d-95d447d35f41",
   "metadata": {},
   "source": [
    "*Creado por:*\n",
    "\n",
    "*Isabel Maniega*"
   ]
  },
  {
   "cell_type": "markdown",
   "id": "cd0f2a79-0440-46c6-9266-ab91bb0f1803",
   "metadata": {},
   "source": [
    "# Threads"
   ]
  },
  {
   "cell_type": "markdown",
   "id": "e5a44fda-a86f-4356-b00e-38619258bba7",
   "metadata": {},
   "source": [
    "Paralelismo basado en hilos.\n",
    "\n",
    "**Thread** es una unidad de ejecución que forma parte de un proceso. Un proceso puede tener varios subprocesos y todos ejecutarse al mismo tiempo. Es una unidad de ejecución en programación concurrente. Un hilo es liviano y un programador puede administrarlo de forma independiente. Le ayuda a mejorar el rendimiento de la aplicación mediante el paralelismo.\n",
    "\n",
    "**Diferencia entre proceso y Threads (hilos):**\n",
    "\n",
    "- Proceso significa que un programa está en ejecución, mientras que hilo significa un segmento de un proceso.\n",
    "- Un proceso no es liviano, mientras que los subprocesos son livianos.\n",
    "- Un proceso tarda más en finalizar y el hilo tarda menos en finalizar.\n",
    "- El proceso requiere más tiempo para su creación, mientras que Thread requiere menos tiempo para su creación.\n",
    "- Es probable que el proceso requiera más tiempo para el cambio de contexto, mientras que Threads requiere menos tiempo para el cambio de contexto.\n",
    "- Un proceso está mayoritariamente aislado, mientras que los subprocesos comparten memoria.\n",
    "- El proceso no comparte datos y los subprocesos comparten datos entre sí.\n",
    "\n",
    "La forma más sencilla de usar un Thread es crear una instancia con un función de destino y llamar a start() para que comience a funcionar."
   ]
  },
  {
   "cell_type": "code",
   "execution_count": 1,
   "id": "240febaa-ea96-4b20-9b8e-b0a958c9bbfa",
   "metadata": {},
   "outputs": [
    {
     "name": "stdout",
     "output_type": "stream",
     "text": [
      "Worker\n",
      "Worker\n",
      "Worker\n",
      "Worker\n",
      "Worker\n",
      "[<Thread(Thread-5, stopped 140023634581056)>, <Thread(Thread-6, stopped 140023634581056)>, <Thread(Thread-7, stopped 140023634581056)>, <Thread(Thread-8, stopped 140023634581056)>, <Thread(Thread-9, stopped 140023634581056)>]\n"
     ]
    }
   ],
   "source": [
    "# Importamos la librería threading\n",
    "import threading\n",
    "\n",
    "\n",
    "def worker():\n",
    "    \"\"\"\n",
    "        Función con la actividad \n",
    "        que debe realizar el hilo\n",
    "    \"\"\"\n",
    "    print('Worker')\n",
    "\n",
    "# listado de hilos creados\n",
    "threads = []\n",
    "for i in range(5):\n",
    "    # Creamos 5 subprocesos distintos y pasamos la función que deben realizar:\n",
    "    t = threading.Thread(target=worker)\n",
    "    threads.append(t)\n",
    "    # Iniciamos el subproceso\n",
    "    t.start()\n",
    "print(threads)"
   ]
  },
  {
   "cell_type": "markdown",
   "id": "9d6aab47-647c-4b0b-b5b6-acd7ba0055ab",
   "metadata": {},
   "source": [
    "La salida son cinco líneas con \"Worker\" en cada una.\n",
    "\n",
    "Es útil poder generar un hilo y pasarle argumentos para decirle que trabajo hacer. Cualquier tipo de objeto puede ser pasado como argumento al hilo. Este ejemplo pasa un número, que luego el hilo imprime."
   ]
  },
  {
   "cell_type": "code",
   "execution_count": 2,
   "id": "87f2dbe1-824b-41c6-9b57-58f0b9c36c09",
   "metadata": {},
   "outputs": [
    {
     "name": "stdout",
     "output_type": "stream",
     "text": [
      "Worker: 0\n",
      "Worker: 1\n",
      "Worker: 2\n",
      "Worker: 3\n",
      "Worker: 4\n",
      "[<Thread(Thread-10, stopped 140023634581056)>, <Thread(Thread-11, stopped 140023634581056)>, <Thread(Thread-12, stopped 140023634581056)>, <Thread(Thread-13, stopped 140023634581056)>, <Thread(Thread-14, stopped 140023634581056)>]\n"
     ]
    }
   ],
   "source": [
    "# Importamos la librería threading\n",
    "import threading\n",
    "\n",
    "\n",
    "def worker(num):\n",
    "    \"\"\"\n",
    "        Función con la actividad \n",
    "        que debe realizar el hilo\n",
    "        num: int\n",
    "    \"\"\"\n",
    "    print('Worker: %s' % num)\n",
    "\n",
    "# listado de hilos creados\n",
    "threads = []\n",
    "for i in range(5):\n",
    "    \"\"\"\n",
    "        Creamos 5 subprocesos distintos y \n",
    "        pasamos la función que deben realizar,\n",
    "        además los argumentos de la función (args) \n",
    "    \"\"\"    \n",
    "    t = threading.Thread(target=worker, args=(i,))\n",
    "    threads.append(t)\n",
    "    # Iniciamos el subproceso\n",
    "    t.start()\n",
    "print(threads)"
   ]
  },
  {
   "cell_type": "markdown",
   "id": "4ac0954c-0705-44e6-8a47-36ab1d0016d1",
   "metadata": {},
   "source": [
    "El argumento entero ahora está incluido en el mensaje impreso por cada hilo.\n",
    "\n",
    "**Determinar el hilo actual**\n",
    "\n",
    "Usar argumentos para identificar o nombrar el hilo es engorroso e innecesario. Cada instancia Thread tiene un nombre con un valor predeterminado que se puede cambiar cuando se crea el hilo. Nombrar hilos es útil en procesos de servidor con múltiples hilos de servicio manejando diferentes operaciones."
   ]
  },
  {
   "cell_type": "code",
   "execution_count": 3,
   "id": "1de60711-67cf-4260-8362-2ce2e5fba029",
   "metadata": {},
   "outputs": [
    {
     "name": "stdout",
     "output_type": "stream",
     "text": [
      "worker Starting\n",
      "Thread-15 Starting\n",
      "my_service Starting\n",
      "worker Exiting\n",
      "Thread-15 Exiting\n",
      "my_service Exiting\n"
     ]
    }
   ],
   "source": [
    "import threading\n",
    "import time\n",
    "\n",
    "\n",
    "def worker():\n",
    "    \"\"\"\n",
    "        Imprimimos el nombre del actual subproceso\n",
    "        que esta ejecutándose:\n",
    "        threading.current_thread().getName()\n",
    "    \"\"\"\n",
    "    print(threading.current_thread().getName(), 'Starting')\n",
    "    time.sleep(0.2)\n",
    "    print(threading.current_thread().getName(), 'Exiting')\n",
    "\n",
    "\n",
    "def my_service():\n",
    "    \"\"\"\n",
    "        Imprimimos el nombre del actual subproceso\n",
    "        que esta ejecutándose:\n",
    "        threading.current_thread().getName()\n",
    "    \"\"\"\n",
    "    print(threading.current_thread().getName(), 'Starting')\n",
    "    time.sleep(0.3)\n",
    "    print(threading.current_thread().getName(), 'Exiting')\n",
    "\n",
    "# El argumento name nos permite nombrar el hilo\n",
    "# Creamos dos subprocesos con funciones distintas\n",
    "t = threading.Thread(name='my_service', target=my_service)\n",
    "w = threading.Thread(name='worker', target=worker)\n",
    "# Subproceso creado con nombre por defecto\n",
    "w2 = threading.Thread(target=worker)  \n",
    "\n",
    "w.start()\n",
    "w2.start()\n",
    "t.start()"
   ]
  },
  {
   "cell_type": "markdown",
   "id": "bbe8f7d6-0812-49fe-bd58-25d6aeac3e18",
   "metadata": {},
   "source": [
    "La salida de depuración incluye el nombre del hilo actual en cada línea. Las líneas con \"Thread-X\" en la columna de nombre de hilo corresponden al hilo sin nombre w2.\n",
    "\n",
    "**Hilos de Daemon vs. No-Daemon**\n",
    "\n",
    "Hasta este punto, los programas de ejemplo han esperado implícitamente para salir hasta que todos los hilos hayan completado su trabajo. A veces los programas generan un hilo como un demonio que se ejecuta sin bloquear el programa principal de salir. El uso de hilos de demonio es útil para servicios donde puede que no haya una manera fácil de interrumpir el hilo, o donde dejar que el el hilo muera en medio de su trabajo, no pierde ni corrompe los datos (por ejemplo, un hilo que genera «latidos del corazón» para una herramienta de monitoreo de servicio). Para marcar un hilo como demonio, pasa daemon=True al construirlo o llama a su método set_daemon() con True. El valor predeterminado es que los subprocesos no sean demonios."
   ]
  },
  {
   "cell_type": "code",
   "execution_count": 4,
   "id": "962bd692-a3f9-494f-aeb4-c0bd3cfaaaa1",
   "metadata": {},
   "outputs": [
    {
     "name": "stdout",
     "output_type": "stream",
     "text": [
      "daemon Starting\n",
      "non-daemon Starting\n",
      "non-daemon Exiting\n",
      "daemon Exiting\n"
     ]
    }
   ],
   "source": [
    "import threading\n",
    "import time\n",
    "\n",
    "\n",
    "def daemon():\n",
    "    print(threading.current_thread().getName(), 'Starting')\n",
    "    time.sleep(0.2)\n",
    "    print(threading.current_thread().getName(), 'Exiting')\n",
    "\n",
    "\n",
    "def non_daemon():\n",
    "    print(threading.current_thread().getName(), 'Starting')\n",
    "    print(threading.current_thread().getName(), 'Exiting')\n",
    "\n",
    "\"\"\"\n",
    "    Iniciamos dos subprocesos:\n",
    "    - name 'daemon' como demonio a True\n",
    "    - name non_daemon como demonio a False\n",
    "\"\"\"\n",
    "d = threading.Thread(name='daemon', target=daemon, daemon=True)\n",
    "t = threading.Thread(name='non-daemon', target=non_daemon)\n",
    "\n",
    "d.start()\n",
    "t.start()"
   ]
  },
  {
   "cell_type": "markdown",
   "id": "081fbf24-32ec-48e1-b99a-f787f72b1314",
   "metadata": {},
   "source": [
    "La salida no incluye el mensaje \"Exiting\" del hilo demonio, ya que todos los hilos no demonio (incluyendo el hilo principal) terminan antes de que el hilo demonio se despierte de la llamada sleep().\n",
    "\n",
    "Para esperar hasta que un subproceso demonio haya completado su trabajo, usa el método join()."
   ]
  },
  {
   "cell_type": "code",
   "execution_count": 5,
   "id": "4edf5743-6057-4fbc-bfa5-55c93c746441",
   "metadata": {},
   "outputs": [
    {
     "name": "stdout",
     "output_type": "stream",
     "text": [
      "daemon Starting\n",
      "non-daemon Starting\n",
      "non-daemon Exiting\n",
      "daemon Exiting\n"
     ]
    }
   ],
   "source": [
    "import threading\n",
    "import time\n",
    "\n",
    "\n",
    "def daemon():\n",
    "    print(threading.current_thread().getName(), 'Starting')\n",
    "    time.sleep(0.2)\n",
    "    print(threading.current_thread().getName(), 'Exiting')\n",
    "\n",
    "\n",
    "def non_daemon():\n",
    "    print(threading.current_thread().getName(), 'Starting')\n",
    "    print(threading.current_thread().getName(), 'Exiting')\n",
    "\n",
    "\"\"\"\n",
    "    Iniciamos dos subprocesos:\n",
    "    - name 'daemon' como demonio a True\n",
    "    - name non_daemon como demonio a False\n",
    "\"\"\"\n",
    "d = threading.Thread(name='daemon', target=daemon, daemon=True)\n",
    "t = threading.Thread(name='non-daemon', target=non_daemon)\n",
    "\n",
    "d.start()\n",
    "t.start()\n",
    "\n",
    "d.join()\n",
    "t.join()"
   ]
  },
  {
   "cell_type": "markdown",
   "id": "31f5c412-7871-48f7-9dc4-3a607a80acb8",
   "metadata": {},
   "source": [
    "Por defecto, join() bloquea indefinidamente. También es posible pasar un valor flotante que represente el número de segundos a esperar por el hilo para convertirse en inactivo. Si el hilo no se completa dentro del período de tiempo de espera, join() retorna de todos modos."
   ]
  },
  {
   "cell_type": "code",
   "execution_count": 6,
   "id": "34836f1b-e6a4-488f-9f04-f0f7d5aaf1dc",
   "metadata": {},
   "outputs": [
    {
     "name": "stdout",
     "output_type": "stream",
     "text": [
      "daemon Starting\n",
      "non-daemon Starting\n",
      "non-daemon Exiting\n",
      "d.is_alive() True\n",
      "daemon Exiting\n"
     ]
    }
   ],
   "source": [
    "import threading\n",
    "import time\n",
    "\n",
    "\n",
    "def daemon():\n",
    "    print(threading.current_thread().getName(), 'Starting')\n",
    "    time.sleep(0.2)\n",
    "    print(threading.current_thread().getName(), 'Exiting')\n",
    "\n",
    "\n",
    "def non_daemon():\n",
    "    print(threading.current_thread().getName(), 'Starting')\n",
    "    print(threading.current_thread().getName(), 'Exiting')\n",
    "\n",
    "\"\"\"\n",
    "    Iniciamos dos subprocesos:\n",
    "    - name 'daemon' como demonio a True\n",
    "    - name non_daemon como demonio a False\n",
    "\"\"\"\n",
    "d = threading.Thread(name='daemon', target=daemon, daemon=True)\n",
    "t = threading.Thread(name='non-daemon', target=non_daemon)\n",
    "\n",
    "d.start()\n",
    "t.start()\n",
    "\n",
    "d.join(0.1)\n",
    "print('d.is_alive()', d.is_alive())\n",
    "t.join()"
   ]
  },
  {
   "cell_type": "markdown",
   "id": "0cab280c-eab5-4ac9-aa41-fa4df6457d6c",
   "metadata": {},
   "source": [
    "Dado que el tiempo de espera transcurrido es menor que la cantidad de tiempo que el hilo demonio duerme, el hilo sigue «vivo» después de join() retorna.\n",
    "\n",
    "**Señalización Entre Hilos**\n",
    "\n",
    "Aunque el punto de usar múltiples hilos es ejecutar separadamente operaciones al mismo tiempo, hay momentos en que es importante ser capaz de sincronizar las operaciones en dos o más hilos. Los objetos evento son una forma sencilla de comunicarse entre hilos de forma segura. Un Event gestiona una bandera interna que las personas que llaman pueden controlar con los métodos set() y clear(). Otros hilos pueden usar wait() para pausar hasta que se establezca la bandera, bloqueando efectivamente el avance hasta que se permita continuar."
   ]
  },
  {
   "cell_type": "code",
   "execution_count": 7,
   "id": "1f721f4a-b7a8-4d46-a98d-ce97e7b25b92",
   "metadata": {},
   "outputs": [
    {
     "name": "stdout",
     "output_type": "stream",
     "text": [
      "(block ) wait_for_event starting\n",
      "(nonblock ) wait_for_event_timeout starting\n",
      "(MainThread ) Waiting before calling Event.set()\n",
      "(MainThread ) Event is set\n",
      "nonblock event set: True\n",
      "(nonblock ) processing event\n",
      "block event set: True\n"
     ]
    }
   ],
   "source": [
    "import threading\n",
    "import time\n",
    "\n",
    "\n",
    "def wait_for_event(e):\n",
    "    \"\"\"Wait for the event to be set before doing anything\"\"\"\n",
    "    print(f'({threading.current_thread().getName()} ) wait_for_event starting')\n",
    "    event_is_set = e.wait()\n",
    "    print(threading.current_thread().getName(), f'event set: {event_is_set}')\n",
    "\n",
    "\n",
    "def wait_for_event_timeout(e, t):\n",
    "    \"\"\"Wait t seconds and then timeout\"\"\"\n",
    "    while not e.is_set():\n",
    "        print(f'({threading.current_thread().getName()} ) wait_for_event_timeout starting')\n",
    "        event_is_set = e.wait(t)\n",
    "        print(threading.current_thread().getName(), f'event set: {event_is_set}')\n",
    "        if event_is_set:\n",
    "             print(f'({threading.current_thread().getName()} ) processing event')\n",
    "        else:\n",
    "            print(f'({threading.current_thread().getName()} ) doing other work')\n",
    "\n",
    "e = threading.Event()\n",
    "t1 = threading.Thread(name='block', target=wait_for_event, args=(e,),)\n",
    "t1.start()\n",
    "\n",
    "t2 = threading.Thread(name='nonblock', target=wait_for_event_timeout, args=(e, 2),)\n",
    "t2.start()\n",
    "\n",
    "print(f'({threading.current_thread().getName()} ) Waiting before calling Event.set()')\n",
    "time.sleep(0.3)\n",
    "e.set()\n",
    "print(f'({threading.current_thread().getName()} ) Event is set')"
   ]
  },
  {
   "cell_type": "markdown",
   "id": "209e209e-f57f-498c-abd6-065cbd3c1a2f",
   "metadata": {},
   "source": [
    "El método wait_for_event_timeout() toma un argumento que representa el número de segundos que el evento espera antes de que se agote el tiempo de espera. Devuelve un booleano indicando si el evento está configurado o no, para que la persona que llama sepa por qué wait() regresó. El método is_set() puede ser usado por separado en el evento sin miedo a bloquear.\n",
    "\n",
    "En este ejemplo, wait_for_event_timeout() comprueba el estatus del evento sin bloqueo indefinido. El wait_for_event() bloquea en la llamada a wait(), que no regresa hasta que el estado del evento cambie.\n",
    "\n",
    "**Sincronizar hilos**\n",
    "\n",
    "Además de usar Events, otra forma de sincronizar los hilos son a través del uso de un objeto Condition. Porque Condition utiliza un Lock, se puede vincular a un recurso compartido, permitiendo que múltiples hilos esperen a que el recurso sea actualizado. En este ejemplo, los hilos consumer() esperan el Condition que se establezca antes de continuar. El hilo producer() es responsable de establecer la condición y notificar a los otros hilos que pueden continuar."
   ]
  },
  {
   "cell_type": "code",
   "execution_count": 8,
   "id": "596a1716-bee2-449e-8be2-ee110f1ce061",
   "metadata": {},
   "outputs": [
    {
     "name": "stdout",
     "output_type": "stream",
     "text": [
      "(c1 ) Starting consumer thread\n",
      "(c2 ) Starting consumer thread\n",
      "(p ) Starting producer thread\n",
      "(p ) Making resource available\n",
      "(c1 ) Resource is available to consumer\n",
      "(c2 ) Resource is available to consumer\n"
     ]
    }
   ],
   "source": [
    "import threading\n",
    "import time\n",
    "\n",
    "\n",
    "def consumer(cond):\n",
    "    \"\"\"wait for the condition and use the resource\"\"\"\n",
    "    print(f'({threading.current_thread().getName()} ) Starting consumer thread')\n",
    "    with cond:\n",
    "        cond.wait()\n",
    "        print(f'({threading.current_thread().getName()} ) Resource is available to consumer')\n",
    "\n",
    "\n",
    "def producer(cond):\n",
    "    \"\"\"set up the resource to be used by the consumer\"\"\"\n",
    "    print(f'({threading.current_thread().getName()} ) Starting producer thread')\n",
    "    with cond:\n",
    "        print(f'({threading.current_thread().getName()} ) Making resource available')\n",
    "        cond.notifyAll()\n",
    "\n",
    "\n",
    "condition = threading.Condition()\n",
    "c1 = threading.Thread(name='c1', target=consumer, args=(condition,))\n",
    "c2 = threading.Thread(name='c2', target=consumer, args=(condition,))\n",
    "p = threading.Thread(name='p', target=producer, args=(condition,))\n",
    "\n",
    "c1.start()\n",
    "time.sleep(0.2)\n",
    "c2.start()\n",
    "time.sleep(0.2)\n",
    "p.start()"
   ]
  },
  {
   "cell_type": "markdown",
   "id": "bcfd4d6c-be2f-4977-82bc-e3995aa35433",
   "metadata": {},
   "source": [
    "Los hilos usan with para adquirir el bloqueo asociado con la Condition. Usando los métodos capture() y release() explícitamente también funcionan.\n",
    "\n",
    "Las barreras son otro mecanismo de sincronización de hilos. Una Barrier establece un punto de control y todos los hilos participantes bloquean hasta que todas las «partes» participantes hayan alcanzado ese punto. Permite que los hilos se inicien por separado y luego se pause hasta que todos están listos para continuar."
   ]
  },
  {
   "cell_type": "code",
   "execution_count": 9,
   "id": "46b28627-6fc1-4d97-8318-8fafb7f58be9",
   "metadata": {},
   "outputs": [
    {
     "name": "stdout",
     "output_type": "stream",
     "text": [
      "worker-0 starting\n",
      "worker-0 waiting for barrier with 0 others\n",
      "worker-1 starting\n",
      "worker-1 waiting for barrier with 1 others\n",
      "worker-2 starting\n",
      "worker-2 waiting for barrier with 2 others\n",
      "worker-2 after barrier 2\n",
      "worker-0 after barrier 0\n",
      "worker-1 after barrier 1\n"
     ]
    }
   ],
   "source": [
    "import threading\n",
    "import time\n",
    "\n",
    "\n",
    "def worker(barrier):\n",
    "    print(threading.current_thread().name, 'waiting for barrier with {} others'.format(barrier.n_waiting))\n",
    "    worker_id = barrier.wait()\n",
    "    print(threading.current_thread().name, 'after barrier', worker_id)\n",
    "\n",
    "\n",
    "NUM_THREADS = 3\n",
    "\n",
    "barrier = threading.Barrier(NUM_THREADS)\n",
    "\n",
    "threads = [threading.Thread(name='worker-%s' % i, target=worker, args=(barrier,),) \n",
    "           for i in range(NUM_THREADS)]\n",
    "\n",
    "for t in threads:\n",
    "    print(t.name, 'starting')\n",
    "    t.start()\n",
    "    time.sleep(0.1)\n",
    "\n",
    "for t in threads:\n",
    "    t.join()"
   ]
  },
  {
   "cell_type": "markdown",
   "id": "64f520fc-576f-4ea5-883c-1e4f36677891",
   "metadata": {},
   "source": [
    "En este ejemplo, la Barrier está configurada para bloquear hasta que tres hilos estén esperando. Cuando se cumple la condición, todos los los hilos se liberan más allá del punto de control al mismo tiempo. Los valores de retorno de wait() indica el número de la parte que está siendo liberada, y puede usarse para limitar algunos subprocesos de realizar una acción como limpiar un recurso compartido.\n",
    "\n",
    "**Colas o Queue (FIFO)**\n",
    "\n",
    "FIFO: primero en entrar, primero en salir"
   ]
  },
  {
   "cell_type": "code",
   "execution_count": 10,
   "id": "b4a659ad-9ed7-4fde-aa5c-c7cdadfd4265",
   "metadata": {},
   "outputs": [
    {
     "data": {
      "text/plain": [
       "{'maxsize': 5,\n",
       " 'queue': deque([1, 2, 3]),\n",
       " 'mutex': <unlocked _thread.lock object at 0x7f59e824f6c0>,\n",
       " 'not_empty': <Condition(<unlocked _thread.lock object at 0x7f59e824f6c0>, 0)>,\n",
       " 'not_full': <Condition(<unlocked _thread.lock object at 0x7f59e824f6c0>, 0)>,\n",
       " 'all_tasks_done': <Condition(<unlocked _thread.lock object at 0x7f59e824f6c0>, 0)>,\n",
       " 'unfinished_tasks': 3}"
      ]
     },
     "execution_count": 10,
     "metadata": {},
     "output_type": "execute_result"
    }
   ],
   "source": [
    "import queue\n",
    "\n",
    "q1 = queue.Queue(5)\n",
    "q1.put(1)\n",
    "q1.put(2)\n",
    "q1.put(3)\n",
    "q1.__dict__"
   ]
  },
  {
   "cell_type": "code",
   "execution_count": 11,
   "id": "b83d8b62-f35d-4552-b81c-00879812529e",
   "metadata": {},
   "outputs": [
    {
     "data": {
      "text/plain": [
       "1"
      ]
     },
     "execution_count": 11,
     "metadata": {},
     "output_type": "execute_result"
    }
   ],
   "source": [
    "q1.get()"
   ]
  },
  {
   "cell_type": "code",
   "execution_count": 12,
   "id": "01ff18e5-3fb3-4b77-a750-8e1ee34581f3",
   "metadata": {},
   "outputs": [
    {
     "data": {
      "text/plain": [
       "2"
      ]
     },
     "execution_count": 12,
     "metadata": {},
     "output_type": "execute_result"
    }
   ],
   "source": [
    "q1.get()"
   ]
  },
  {
   "cell_type": "code",
   "execution_count": 13,
   "id": "7a92c9df-43ab-4f41-a41a-be7c04f7528a",
   "metadata": {},
   "outputs": [
    {
     "data": {
      "text/plain": [
       "{'maxsize': 5,\n",
       " 'queue': deque([3]),\n",
       " 'mutex': <unlocked _thread.lock object at 0x7f59e824f6c0>,\n",
       " 'not_empty': <Condition(<unlocked _thread.lock object at 0x7f59e824f6c0>, 0)>,\n",
       " 'not_full': <Condition(<unlocked _thread.lock object at 0x7f59e824f6c0>, 0)>,\n",
       " 'all_tasks_done': <Condition(<unlocked _thread.lock object at 0x7f59e824f6c0>, 0)>,\n",
       " 'unfinished_tasks': 3}"
      ]
     },
     "execution_count": 13,
     "metadata": {},
     "output_type": "execute_result"
    }
   ],
   "source": [
    "q1.__dict__"
   ]
  },
  {
   "cell_type": "markdown",
   "id": "3a8bf6b8-d5e7-48e3-b3f5-a7d225101afc",
   "metadata": {},
   "source": [
    "**Compartir datos entre threads**"
   ]
  },
  {
   "cell_type": "code",
   "execution_count": 14,
   "id": "fff3b349-d099-4c60-89da-291fa5578c93",
   "metadata": {},
   "outputs": [
    {
     "name": "stdout",
     "output_type": "stream",
     "text": [
      "Resultado:  Busqueda1 confirmó el número\n"
     ]
    }
   ],
   "source": [
    "import threading\n",
    "import queue\n",
    "\n",
    "\n",
    "def busqueda1(num,cola):\n",
    "    for i in range(5):\n",
    "        if num == i:\n",
    "            cola.put(\"Busqueda1 confirmó el número\")\n",
    "\n",
    "def busqueda2(num,cola):\n",
    "    for i in range(5,10):\n",
    "        if(num == i):\n",
    "            cola.put(\"Busqueda2 confirmó el número\")\n",
    "numero = 3\n",
    "cola = queue.Queue()\n",
    "\n",
    "thread1 = threading.Thread(target=busqueda1,args=(numero,cola))\n",
    "thread2 = threading.Thread(target=busqueda2,args=(numero,cola))\n",
    "\n",
    "thread1.start()\n",
    "thread2.start()\n",
    "\n",
    "thread1.join()\n",
    "thread2.join()\n",
    "\n",
    "print('Resultado: ', cola.get())"
   ]
  },
  {
   "cell_type": "code",
   "execution_count": 15,
   "id": "8eb81a9d-1df3-4821-9b79-47695a6de015",
   "metadata": {},
   "outputs": [
    {
     "name": "stdout",
     "output_type": "stream",
     "text": [
      "Producer1 got message: 10\n",
      "Producer2 got message: 2\n",
      "Valores en la cola:  [10, 2]\n",
      "Consumer1 storing message: 10 (size=1)\n",
      "Valores en la cola:  [2]\n",
      "Consumer2 storing message: 2 (size=0)\n",
      "Main: about to set event\n",
      "Consumer1 received event. Exiting\n",
      "Producer2 received event. Exiting\n",
      "Producer1 received event. Exiting\n",
      "Consumer2 received event. Exiting\n"
     ]
    }
   ],
   "source": [
    "import queue\n",
    "import random\n",
    "import threading\n",
    "import time\n",
    "\n",
    "def producer(queue, event):\n",
    "    \"\"\"Pretend we're getting a number from the network.\"\"\"\n",
    "    while not event.is_set():\n",
    "        message = random.randint(1, 10)\n",
    "        print(\"%s got message: %s\" % (threading.current_thread().name, message))\n",
    "        queue.put(message)\n",
    "        event.wait()\n",
    "\n",
    "    print(f\"{threading.current_thread().name} received event. Exiting\")\n",
    "\n",
    "def consumer(queue, event):\n",
    "    \"\"\"Pretend we're saving a number in the database.\"\"\"\n",
    "    print('Valores en la cola: ', list(queue.queue))\n",
    "    while not event.is_set() or not queue.empty():\n",
    "        message = queue.get()\n",
    "        print(\"%s storing message: %s (size=%d)\" % (threading.current_thread().name, \n",
    "                                                    message, queue.qsize()))\n",
    "        event.wait()\n",
    "\n",
    "    print(f\"{threading.current_thread().name} received event. Exiting\")\n",
    "\n",
    "cola = queue.Queue()\n",
    "event = threading.Event()\n",
    "\n",
    "thread1 = threading.Thread(name='Producer1', target=producer,args=(cola, event))\n",
    "thread3 = threading.Thread(name='Producer2', target=producer,args=(cola, event))\n",
    "thread2 = threading.Thread(name='Consumer1',target=consumer,args=(cola, event))\n",
    "thread4 = threading.Thread(name='Consumer2',target=consumer,args=(cola, event))\n",
    "\n",
    "thread1.start()\n",
    "thread3.start()\n",
    "thread2.start()\n",
    "thread4.start()\n",
    "\n",
    "time.sleep(0.1)\n",
    "print(\"Main: about to set event\")\n",
    "event.set()"
   ]
  },
  {
   "cell_type": "markdown",
   "id": "2c33202d-d862-427d-9013-2e26d7642d2a",
   "metadata": {},
   "source": [
    "*Creado por:*\n",
    "\n",
    "*Isabel Maniega*"
   ]
  }
 ],
 "metadata": {
  "kernelspec": {
   "display_name": "Python 3 (ipykernel)",
   "language": "python",
   "name": "python3"
  },
  "language_info": {
   "codemirror_mode": {
    "name": "ipython",
    "version": 3
   },
   "file_extension": ".py",
   "mimetype": "text/x-python",
   "name": "python",
   "nbconvert_exporter": "python",
   "pygments_lexer": "ipython3",
   "version": "3.10.12"
  }
 },
 "nbformat": 4,
 "nbformat_minor": 5
}
