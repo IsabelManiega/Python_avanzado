{
 "cells": [
  {
   "cell_type": "markdown",
   "id": "e7246e3b-d021-4c1d-9a60-8f22b36f10a0",
   "metadata": {},
   "source": [
    "*Creado por:*\n",
    "\n",
    "*Isabel Maniega*"
   ]
  },
  {
   "cell_type": "markdown",
   "id": "543470e3-a737-42ae-b1c7-214be5e07165",
   "metadata": {},
   "source": [
    "# JSON / XML con Python"
   ]
  },
  {
   "cell_type": "markdown",
   "id": "867a6dd5-b2b4-4525-b932-52625edd4298",
   "metadata": {},
   "source": [
    "**Módulo Json**"
   ]
  },
  {
   "cell_type": "markdown",
   "id": "bea8554f-5fa4-4fc8-a184-758b7b41d732",
   "metadata": {},
   "source": [
    "JSON se ha convertido en el estándar por defecto para el intercambio de información. \n",
    "Sus usos son:\n",
    "\n",
    "- Transportar datos Tal vez esté\n",
    "- Recopilando información a través de una API\n",
    "- Almacenando sus datos en una base de datos de documentos.\n",
    "\n",
    "Las siglas vienen de:\n",
    "\n",
    "- **J**ava...\n",
    "- ...**S**cript\n",
    "- **O**bject\n",
    "- **N**otation\n",
    "\n",
    "JSON es la respuesta a una necesidad bastante básica: la necesidad de transferir datos que son el contenido de un objeto o un conjunto de objetos. El mecanismo que la soluciona debe ser portable e independiente de la plataforma.\n",
    "\n",
    "¿Cómo podemos satisfacer tal requisito?\n",
    "\n",
    "El problema con el que nos enfrentamos es cómo representar un objeto (entendido como un conjunto de datos de diferentes tipos, incluidos otros objetos) o incluso un único valor de forma que pueda sobrevivir a las transferencias de red y las conversiones entre plataformas.\n",
    "\n",
    "JSON resuelve el problema con dos trucos simples:\n",
    "\n",
    "- utiliza texto codificado en UTF-8, lo que significa que no se utilizan formatos dependientes de la máquina o la plataforma; también significa que los datos que lleva JSON son legibles (mal, pero siempre legibles) y comprensibles para los humanos;\n",
    "- utiliza un formato simple y no muy expandido (podemos llamarlo sintaxis, o incluso gramática) para representar dependencias mutuas y relaciones entre diferentes partes de los objetos, y es capaz de transferir no solo los valores de las propiedades de los objetos, sino también sus nombres.\n",
    "\n",
    "En JSON, puede ser un valor sin nombre como un número, una cadena, un booleano o… nada, aunque esto no es lo que más nos gusta de JSON. JSON es capaz de transportar datos mucho más complejos, recopilados y agregados en compuestos más grandes.\n",
    "\n",
    "Si desea transferir no solo datos sin procesar, sino también todos los nombres asociados a ellos (como la forma en que los objetos mantienen sus propiedades), JSON ofrece una sintaxis que parece un pariente cercano del diccionario de Python, que es, de hecho, un conjunto de pares ```clave:valor```. Hacer tal suposición nos lleva a la siguiente pregunta: ¿podemos usar la sintaxis de Python para codificar y decodificar mensajes de red en REST?\n",
    "\n",
    "Ejemplo de Json:\n",
    "\n",
    "{\n",
    "    \n",
    "    \"firstName\": \"Jasmine\",\n",
    "    \n",
    "    \"lastName\": \"Doe\",\n",
    "    \n",
    "    \"hobbies\": [\"running\", \"cooking\", \"singing\"],\n",
    "    \n",
    "    \"age\": 35,\n",
    "    \n",
    "    \"children\": [\n",
    "    \n",
    "        {\n",
    "            \"firstName\": \"Alice\",\n",
    "            \n",
    "            \"age\": 6\n",
    "        },\n",
    "        {\n",
    "            \"firstName\": \"Bob\",\n",
    "            \n",
    "            \"age\": 8\n",
    "        }\n",
    "    ]\n",
    "}\n",
    "\n",
    "\n",
    "Para poder manejar estos datos usaremos el modulo **json:**\n",
    "\n",
    "```\n",
    "import json\n",
    "```\n",
    "\n",
    "Concepto básico:\n",
    "\n",
    "- **Serialización:** Consiste en convertir un objeto de Python (normalmente una lista o diccionario) en un string.\n",
    "- **Deserialización:** Consiste en convertir un string en un objeto de Python (normalmente una lista o diccionario)."
   ]
  },
  {
   "cell_type": "code",
   "execution_count": 16,
   "id": "f2eb924e-55a6-4910-a9c5-a3145ffe8547",
   "metadata": {},
   "outputs": [
    {
     "data": {
      "text/plain": [
       "'{\"presidente\": {\"nombre\": \"Zaphod Beeblebrox\", \"especie\": \"Betelgeusian\"}}'"
      ]
     },
     "execution_count": 16,
     "metadata": {},
     "output_type": "execute_result"
    }
   ],
   "source": [
    "# Ejemplo de serialización\n",
    "\n",
    "import json\n",
    "\n",
    "data = {\n",
    "    \"presidente\": {\n",
    "        \"nombre\": \"Zaphod Beeblebrox\",\n",
    "        \"especie\": \"Betelgeusian\"\n",
    "    }\n",
    "}\n",
    "\n",
    "json_string = json.dumps(data)\n",
    "json_string"
   ]
  },
  {
   "cell_type": "code",
   "execution_count": 17,
   "id": "c5d7346d-98bc-4d10-987a-680c6b2def44",
   "metadata": {},
   "outputs": [
    {
     "data": {
      "text/plain": [
       "str"
      ]
     },
     "execution_count": 17,
     "metadata": {},
     "output_type": "execute_result"
    }
   ],
   "source": [
    "type(json_string)"
   ]
  },
  {
   "cell_type": "code",
   "execution_count": 18,
   "id": "27c33498-d2d1-4d16-857b-178a540d3465",
   "metadata": {},
   "outputs": [
    {
     "ename": "TypeError",
     "evalue": "string indices must be integers",
     "output_type": "error",
     "traceback": [
      "\u001b[0;31m---------------------------------------------------------------------------\u001b[0m",
      "\u001b[0;31mTypeError\u001b[0m                                 Traceback (most recent call last)",
      "Cell \u001b[0;32mIn[18], line 1\u001b[0m\n\u001b[0;32m----> 1\u001b[0m \u001b[43mjson_string\u001b[49m\u001b[43m[\u001b[49m\u001b[38;5;124;43m\"\u001b[39;49m\u001b[38;5;124;43mpresidente\u001b[39;49m\u001b[38;5;124;43m\"\u001b[39;49m\u001b[43m]\u001b[49m\n\u001b[1;32m      3\u001b[0m \u001b[38;5;66;03m# TypeError: string indices must be integers\u001b[39;00m\n\u001b[1;32m      4\u001b[0m \u001b[38;5;66;03m# No podemos recorrerlo para ello será necesario decodificarlo\u001b[39;00m\n",
      "\u001b[0;31mTypeError\u001b[0m: string indices must be integers"
     ]
    }
   ],
   "source": [
    "json_string[\"presidente\"]\n",
    "\n",
    "# TypeError: string indices must be integers\n",
    "# No podemos recorrerlo para ello será necesario decodificarlo"
   ]
  },
  {
   "cell_type": "code",
   "execution_count": 19,
   "id": "7d202240-056e-44e2-ae7d-e2578445d59a",
   "metadata": {},
   "outputs": [],
   "source": [
    "# La opción de dumps nos sirve para escribirlo en un archivo de formato Json:\n",
    "\n",
    "with open(\"archivo_data.json\", \"w\") as write_file:\n",
    "    json.dump(data, write_file)"
   ]
  },
  {
   "cell_type": "code",
   "execution_count": 20,
   "id": "0b9581d0-bf82-4c19-b0b5-60f4efba353a",
   "metadata": {},
   "outputs": [],
   "source": [
    "# Indent nos permite añadir un salto a cada componente del Json:\n",
    "\n",
    "with open(\"archivo_data.json\", \"w\") as write_file:\n",
    "    json.dump(data, write_file, indent=2)"
   ]
  },
  {
   "cell_type": "code",
   "execution_count": 21,
   "id": "dd49ab14-d097-41ee-8601-4b425b8cb7f4",
   "metadata": {},
   "outputs": [],
   "source": [
    "# sort_keys= True: la salida de los diccionarios se ordenará por clave:\n",
    "# Salida esperada: {\"age\": 30, \"city\": \"New York\", \"name\": \"John\"}\n",
    "\n",
    "data = {\n",
    "  \"name\": \"John\",\n",
    "  \"age\": 30,\n",
    "  \"city\": \"New York\"\n",
    "}\n",
    "\n",
    "with open(\"archivo_data.json\", \"w\") as write_file:\n",
    "    json.dump(data, write_file, indent=2, sort_keys=True)"
   ]
  },
  {
   "cell_type": "code",
   "execution_count": 22,
   "id": "349333ba-e681-4e5f-a0b7-1da678627907",
   "metadata": {},
   "outputs": [
    {
     "data": {
      "text/plain": [
       "{'presidente': {'nombre': 'Zaphod Beeblebrox', 'especie': 'Betelgeusian'}}"
      ]
     },
     "execution_count": 22,
     "metadata": {},
     "output_type": "execute_result"
    }
   ],
   "source": [
    "# Ejemplo de deserialización\n",
    "# Convertir datos codificados en JSON en objetos de Python.\n",
    "\n",
    "json_decoded = json.loads(json_string)\n",
    "json_decoded"
   ]
  },
  {
   "cell_type": "code",
   "execution_count": 23,
   "id": "2001a51c-10de-474b-8afc-7c12f573ff2f",
   "metadata": {},
   "outputs": [
    {
     "data": {
      "text/plain": [
       "dict"
      ]
     },
     "execution_count": 23,
     "metadata": {},
     "output_type": "execute_result"
    }
   ],
   "source": [
    "type(json_decoded)\n",
    "\n",
    "# Con loads podemos recorrer el diccionario y extraer la información."
   ]
  },
  {
   "cell_type": "code",
   "execution_count": 24,
   "id": "d34e1530-b475-4427-b32b-c6eb5a5a556b",
   "metadata": {},
   "outputs": [
    {
     "data": {
      "text/plain": [
       "{'nombre': 'Zaphod Beeblebrox', 'especie': 'Betelgeusian'}"
      ]
     },
     "execution_count": 24,
     "metadata": {},
     "output_type": "execute_result"
    }
   ],
   "source": [
    "json_decoded['presidente']"
   ]
  },
  {
   "cell_type": "code",
   "execution_count": 25,
   "id": "80d06a35-417d-4e0c-ab2a-c4c1affca4ae",
   "metadata": {},
   "outputs": [
    {
     "data": {
      "text/plain": [
       "'Zaphod Beeblebrox'"
      ]
     },
     "execution_count": 25,
     "metadata": {},
     "output_type": "execute_result"
    }
   ],
   "source": [
    "json_decoded['presidente']['nombre']"
   ]
  },
  {
   "cell_type": "markdown",
   "id": "80ef3825-1574-4853-984f-5bbdf1623d00",
   "metadata": {},
   "source": [
    "Como puede ver, Python utiliza un pequeño conjunto de reglas simples para crear mensajes JSON a partir de sus datos nativos. Aquí está:\n",
    "\n",
    "|    Python data     |    JSON element    |\n",
    "| -------------------| -------------------|\n",
    "|      ```dict```    | ```object```       |\n",
    "|```list or tuple``` | ```array```        |\n",
    "|     ```string```   | ```string```       |\n",
    "| ```int or float``` | ```number```       |\n",
    "| ```True / False``` | ```true / false``` |\n",
    "|     ```None```     | ```null```         |\n",
    "\n",
    "Pero hasta ahora parece simple y coherente, pero ¿dónde está la trampa?\n",
    "\n",
    "La trampa está aquí:\n",
    "```\n",
    "import json\n",
    "\n",
    "class Who:\n",
    "    def __init__(self, name, age):\n",
    "        self.name = name\n",
    "        self.age = age\n",
    "\n",
    "\n",
    "some_man = Who('John Doe', 42)\n",
    "print(json.dumps(some_man))\n",
    "```\n",
    "\n",
    "El resultado que verás es extremadamente decepcionante:\n",
    "```\n",
    "TypeError: Object of type 'Class' is not JSON serializable\n",
    "```\n",
    "\n",
    "Sí, esa es la clave. No puedes simplemente volcar el contenido de un objeto, incluso un objeto tan simple como este.\n",
    "\n",
    "Por supuesto, si no necesitas nada más que un conjunto de propiedades de objeto y sus valores, puedes realizar un truco (un poco sucio) y volcar no el objeto en sí, sino el contenido de su propiedad ```__dict__```. Funcionará, pero esperamos más.\n",
    "\n",
    "¿Qué deberíamos hacer?\n",
    "\n",
    "Un enfoque se basa en el hecho de que la serialización se realiza mediante el método denominado ```default()```, que forma parte de la clase ```json.JSONEncoder```. Te da la oportunidad de sobrecargar el método que define una subclase de JSONEncoder y pasarlo a ```dumps()```.\n",
    "\n",
    "Pero, ¿qué sucede con los objetos de Python? ¿Podemos deserializarlos de la misma manera que realizamos la serialización?\n",
    "\n",
    "Como probablemente esperes, deserializar un objeto puede requerir algunos pasos adicionales. Sí, de hecho. Como ```loads()``` no puede adivinar qué objeto (de qué clase) necesitas deserializar, debes proporcionar esta información.\n",
    "\n",
    "Observa el fragmento que hemos proporcionado en la ventana del editor.\n",
    "\n",
    "Como puedes ver, hay un argumento de palabra clave llamado ```object_hook```, que se usa para señalar la función responsable de crear un objeto nuevo de una clase necesaria y de llenarlo con datos reales.\n",
    "\n",
    "Nota: la función ```decode_who()``` recibe una entidad de Python, o más específicamente, un diccionario. Como el constructor de Who espera dos valores ordinarios, una cadena y un número, no un diccionario, tenemos que usar un pequeño truco: hemos empleado el operador doble ```*``` para convertir el directorio en una lista de argumentos de palabras clave construida a partir de los pares ```key:value``` del diccionario. Por supuesto, las claves del diccionario deben tener los mismos nombres que los parámetros del constructor.\n",
    "\n",
    "Nota: la función, especificada por ```object_hook``` se invocará solo cuando la cadena JSON describa un objeto JSON. Lo sentimos, no hay excepciones a esta regla."
   ]
  },
  {
   "cell_type": "code",
   "execution_count": 4,
   "id": "9c96bdc8-0c15-4939-80c9-488e8bf73cdc",
   "metadata": {},
   "outputs": [
    {
     "name": "stdout",
     "output_type": "stream",
     "text": [
      "<class '__main__.Who'>\n",
      "{'name': 'Jane Doe', 'age': 23}\n"
     ]
    }
   ],
   "source": [
    "import json\n",
    "\n",
    "\n",
    "class Who:\n",
    "    def __init__(self, name, age):\n",
    "        self.name = name\n",
    "        self.age = age\n",
    "\n",
    "\n",
    "def encode_who(w):\n",
    "    if isinstance(w, Who):\n",
    "        return w.__dict__\n",
    "    else:\n",
    "        raise TypeError(w.__class__.__name__ + 'is not JSON serializable')\n",
    "\n",
    "\n",
    "def decode_who(w):\n",
    "    return Who(w['name'], w['age'])\n",
    "\n",
    "\n",
    "old_man = Who(\"Jane Doe\", 23)\n",
    "json_str = json.dumps(old_man, default=encode_who)\n",
    "new_man = json.loads(json_str, object_hook=decode_who)\n",
    "print(type(new_man))\n",
    "print(new_man.__dict__)"
   ]
  },
  {
   "cell_type": "markdown",
   "id": "bec1ba6b-fcb0-4c6f-8ce8-39887c6b6e45",
   "metadata": {},
   "source": [
    "Como ya se ha dicho, también es posible utilizar un enfoque más puro basado en objetos, que se basa en la redefinición de la clase JSONDecoder. Lamentablemente, esta variante es más complicada que su contraparte de codificación.\n",
    "\n",
    "No necesitamos reescribir ningún método, pero sí tenemos que redefinir el constructor de la superclase, lo que hace que nuestro trabajo sea un poco más laborioso. El nuevo constructor tiene como objetivo hacer solo una cosa: establecer una función para la creación de objetos.\n",
    "\n",
    "Como puede ver, esto es exactamente lo mismo que hicimos antes, pero expresado en un nivel diferente.\n",
    "\n",
    "Nos complace informarle que ahora hemos reunido suficiente conocimiento para pasar al siguiente nivel. Volveremos a tratar algunos problemas de red, pero también queremos mostrarle algunas herramientas nuevas y útiles."
   ]
  },
  {
   "cell_type": "code",
   "execution_count": 5,
   "id": "723153a9-2134-4c1f-903c-5303dedb9911",
   "metadata": {},
   "outputs": [
    {
     "name": "stdout",
     "output_type": "stream",
     "text": [
      "<class '__main__.Who'>\n",
      "{'name': 'Jane Doe', 'age': 23}\n"
     ]
    }
   ],
   "source": [
    "import json\n",
    "\n",
    "\n",
    "class Who:\n",
    "    def __init__(self, name, age):\n",
    "        self.name = name\n",
    "        self.age = age\n",
    "\n",
    "\n",
    "class MyEncoder(json.JSONEncoder):\n",
    "    def default(self, w):\n",
    "        if isinstance(w, Who):\n",
    "            return w.__dict__\n",
    "        else:\n",
    "            return super().default(self, z)\n",
    "\n",
    "\n",
    "class MyDecoder(json.JSONDecoder):\n",
    "    def __init__(self):\n",
    "        json.JSONDecoder.__init__(self, object_hook=self.decode_who)\n",
    "\n",
    "    def decode_who(self, d):\n",
    "        return Who(**d)\n",
    "\n",
    "\n",
    "some_man = Who('Jane Doe', 23)\n",
    "json_str = json.dumps(some_man, cls=MyEncoder)\n",
    "new_man = json.loads(json_str, cls=MyDecoder)\n",
    "\n",
    "print(type(new_man))\n",
    "print(new_man.__dict__)"
   ]
  },
  {
   "cell_type": "markdown",
   "id": "fcf79202-258f-4679-b753-11f85cf36bf4",
   "metadata": {},
   "source": [
    "## Archivos XML \n",
    "\n",
    "**Procesamiento de XML en Python**\n",
    "\n",
    "Python se utiliza habitualmente para procesar distintos tipos de datos. Tal vez, mientras trabaja como programador, tenga que leer o crear un archivo de datos en formato XML. Pronto, hacerlo será pan comido.\n",
    "\n",
    "La biblioteca estándar de Python ofrece algunos módulos interesantes para trabajar con XML:\n",
    "\n",
    "- xml.etree.ElementTree: tiene una API muy simple para analizar y crear datos XML. Es una excelente opción para personas que nunca han trabajado con el Modelo de objetos de documento (DOM) antes.\n",
    "- xml.dom.minidom: es la implementación mínima del Modelo de objetos de documento (DOM). Al utilizar el DOM, el enfoque para un documento XML es ligeramente diferente, porque se analiza en una estructura de árbol en la que cada nodo es un objeto.\n",
    "- xml.sax: SAX es un acrónimo de “Simple API for XML”. SAX es una interfaz en Python para el análisis de documentos XML impulsado por eventos. A diferencia de los módulos anteriores, analizar un documento XML simple utilizando este módulo requiere más trabajo.\n",
    "\n",
    "En este curso aprenderás a crear y procesar documentos XML utilizando el módulo ```xml.etree.ElementTree```. No perdamos más tiempo. ¡Vamos allá!\n",
    "\n",
    "**¿Qué es XML?**\n",
    "\n",
    "**Extensible Markup Language (XML)** es un lenguaje de marcado diseñado para almacenar y transportar datos, por ejemplo, mediante sistemas que utilizan el protocolo de comunicación SOAP. Una de sus principales ventajas es la capacidad de definir sus propias etiquetas que hacen que el documento sea más legible para los humanos. XML es un estándar recomendado por la organización W3C. Veamos qué elementos contienen los documentos XML:\n",
    "\n",
    "- prólogo: la primera línea (opcional) del documento. En el prólogo, puede especificar la codificación de caracteres, por ejemplo, ```<?xml version=\"1.0\" encoding=\"ISO-8859-2\"?>``` cambia la codificación de caracteres predeterminada (UTF-8) a ISO-8859-2.\n",
    "- elemento raíz: el documento XML debe tener un elemento raíz que contenga todos los demás elementos. En el ejemplo siguiente, el elemento principal es la etiqueta ```data```.\n",
    "- elementos: consisten en etiquetas de apertura y cierre. Los elementos incluyen texto, atributos y otros elementos secundarios. En el ejemplo siguiente, podemos encontrar el elemento book con el atributo title y dos elementos secundarios (```author``` y ```year```).\n",
    "- atributos: estos se colocan en las etiquetas de apertura. Consisten en pares clave-valor, p. ej., ```title = \"El Principito\"```.\n",
    "\n",
    "NOTA: Cada etiqueta XML abierta debe tener una etiqueta ```closing``` correspondiente.\n",
    "```\n",
    "<?xml version=\"1.0\"?>\n",
    "<data>\n",
    "    <book title=\"The Little Prince\">\n",
    "        <author>Antoine de Saint-Exupéry</author>\n",
    "        <year>1943</year>\n",
    "    </book>\n",
    "    <book title=\"Hamlet\">\n",
    "        <author>William Shakespeare</author>\n",
    "        <year>1603</year>\n",
    "    </book>\n",
    "</data>\n",
    "```\n",
    "\n",
    "**Análisis de XML (parte 1)**\n",
    "\n",
    "Procesar archivos XML en Python es muy fácil gracias a la clase ```ElementTree``` proporcionada por el módulo ```xml.etree.ElementTree```. El objeto ```ElementTree``` es responsable de presentar el documento XML en forma de árbol en el que podemos movernos hacia arriba o hacia abajo.\n",
    "\n",
    "Primero, necesitamos importar el módulo apropiado y definir un alias para él. Es común usar el alias ET, pero por supuesto puedes darle el nombre que quieras. Para crear un árbol (un objeto ```ElementTree```) a partir de un documento XML existente, pásalo al método parse de la siguiente manera:\n",
    "```\n",
    "import xml.etree.ElementTree as ET\n",
    "\n",
    "tree = ET.parse('books.xml')\n",
    "root = tree.getroot()\n",
    "```\n",
    "\n",
    "El método ```getroot``` retorna el elemento raíz. Con acceso al elemento raíz, podemos llegar a cualquier elemento del documento. Cada uno de estos elementos está representado por una clase llamada Element.\n",
    "\n",
    "Además del método parse, podemos utilizar el método llamado ```fromstring```, que, como argumento, toma XML como cadena:\n",
    "```\n",
    "import xml.etree.ElementTree as ET\n",
    "\n",
    "root = ET.fromstring(your_xml_as_string)\n",
    "```\n",
    "\n",
    "NOTA: El método ```fromstring``` no devuelve el objeto ```ElementTree```, sino que devuelve el elemento raíz representado por la clase ```Element```.\n",
    "\n",
    "**XML parsing (part 2)**\n",
    "\n",
    "Ya sabes cómo acceder al elemento raíz. Vamos a usarlo para visitar los elementos de nuestro árbol: mira el código en el editor.\n",
    "\n",
    "Resultado:\n",
    "```\n",
    "The root tag is: data\n",
    "The root has the following children:\n",
    "book {'title': 'The Little Prince'}\n",
    "book {'title': 'Hamlet'}\n",
    "```\n",
    "\n",
    "El elemento raíz y todos sus elementos secundarios son objetos ```Element```. En el ejemplo anterior, utilizamos las siguientes propiedades:\n",
    "\n",
    "- tag: devuelve el nombre de la etiqueta como una cadena\n",
    "- attrib: devuelve todos los atributos de la etiqueta como un diccionario. Para recuperar el valor de un solo atributo, utilice su clave, p. ej., ```child.attrib ['title']```."
   ]
  },
  {
   "cell_type": "code",
   "execution_count": 7,
   "id": "a4c2b88f-1ef7-43d0-ae46-740a25c5cfc0",
   "metadata": {},
   "outputs": [
    {
     "name": "stdout",
     "output_type": "stream",
     "text": [
      "The root tag is: data\n",
      "The root has the following children:\n",
      "book {'title': 'The Little Prince'}\n",
      "book {'title': 'Hamlet'}\n"
     ]
    }
   ],
   "source": [
    "import xml.etree.ElementTree as ET\n",
    "\n",
    "tree = ET.parse('books.xml')\n",
    "root = tree.getroot()\n",
    "print('The root tag is:', root.tag)\n",
    "print('The root has the following children:')\n",
    "for child in root:\n",
    "    print(child.tag, child.attrib)"
   ]
  },
  {
   "cell_type": "markdown",
   "id": "f485445a-050b-4e64-8d66-c0c828ed6dcc",
   "metadata": {},
   "source": [
    "**Análisis XML (parte 3)**\n",
    "\n",
    "Además de iterar sobre los elementos del árbol, podemos acceder a ellos directamente mediante índices. Observa el ejemplo siguiente en el que utilizamos el elemento book actual para recuperar texto de sus elementos secundarios. Observa el código en el editor.\n",
    "\n",
    "Resultado:\n",
    "```\n",
    "My books:\n",
    "\n",
    "Title:  The Little Prince\n",
    "Author: Antoine de Saint-Exupéry\n",
    "Year:  1943\n",
    " \n",
    "Title:  Hamlet\n",
    "Author: William Shakespeare\n",
    "Year:  1603\n",
    "```\n",
    "Durante cada iteración, hacemos referencia a los elementos secundarios del elemento book mediante índices. El índice ```0``` hace referencia al primer elemento secundario del elemento book, mientras que el índice ```1``` hace referencia a su segundo elemento secundario. La visualización de texto es posible gracias a la propiedad ```text```, disponible en el objeto ```Element```.\n",
    "\n",
    "NOTA: Los índices también se utilizan en anidamientos más profundos, por ejemplo, ```root [0] [0]``` .text devuelve el primer elemento del libro y luego muestra el texto ubicado en su primer elemento secundario."
   ]
  },
  {
   "cell_type": "code",
   "execution_count": 28,
   "id": "09b075db-b1ee-479a-9479-2b0d8ecab057",
   "metadata": {},
   "outputs": [
    {
     "name": "stdout",
     "output_type": "stream",
     "text": [
      "My books:\n",
      "\n",
      "Title:  The Little Prince\n",
      "Author: Antoine de Saint-Exupéry\n",
      "Year:  1943 \n",
      "\n",
      "Title:  Hamlet\n",
      "Author: William Shakespeare\n",
      "Year:  1603 \n",
      "\n"
     ]
    }
   ],
   "source": [
    "import xml.etree.ElementTree as ET\n",
    "\n",
    "tree = ET.parse('books.xml')\n",
    "root = tree.getroot()\n",
    "print(\"My books:\\n\")\n",
    "for book in root:\n",
    "    print('Title: ', book.attrib['title'])\n",
    "    print('Author:', book[0].text)\n",
    "    print('Year: ', book[1].text, '\\n')"
   ]
  },
  {
   "cell_type": "markdown",
   "id": "eb4eca36-74c7-4132-a7a9-fda174ec6698",
   "metadata": {},
   "source": [
    "**Análisis de XML (parte 4)**\n",
    "\n",
    "El módulo ```xml.etree.ElementTree```, o más precisamente, la clase ```Element```, proporciona varios métodos útiles para buscar elementos en un documento XML. Comencemos con el método llamado ```iter```.\n",
    "\n",
    "El método ```iter``` devuelve todos los elementos al pasar la etiqueta como argumento. El elemento que lo llama se trata como el elemento principal desde el que comienza la búsqueda. Para encontrar todas las coincidencias, el iterador itera recursivamente a través de todos los elementos secundarios y sus elementos anidados.\n",
    "\n",
    "Observe el código en el editor para ver un ejemplo de una búsqueda de todos los elementos con la etiqueta ```author```.\n",
    "\n",
    "Resultado:\n",
    "```\n",
    "Antoine de Saint-Exupéry\n",
    "William Shakespeare\n",
    "```"
   ]
  },
  {
   "cell_type": "code",
   "execution_count": 29,
   "id": "1361ef38-12bd-4cff-839e-5b5635b60551",
   "metadata": {},
   "outputs": [
    {
     "name": "stdout",
     "output_type": "stream",
     "text": [
      "Antoine de Saint-Exupéry\n",
      "William Shakespeare\n"
     ]
    }
   ],
   "source": [
    "import xml.etree.ElementTree as ET\n",
    "\n",
    "tree = ET.parse('books.xml')\n",
    "root = tree.getroot()\n",
    "for author in root.iter('author'):\n",
    "    print(author.text)"
   ]
  },
  {
   "cell_type": "markdown",
   "id": "a23f8ba7-1c6e-49c2-8d50-1b8fbeac4ffd",
   "metadata": {},
   "source": [
    "**Análisis XML (parte 5)**\n",
    "\n",
    "El objeto Element tiene un método llamado ```findall``` para buscar elementos secundarios directos. A diferencia del método ```iter```, el método ```findall``` solo busca los elementos secundarios en el primer nivel de anidación. Eche un vistazo al ejemplo en el editor.\n",
    "\n",
    "El ejemplo no devuelve ningún resultado, porque el método ```findall``` solo puede iterar sobre los elementos del libro que son los elementos secundarios más cercanos del elemento raíz. El código correcto se ve así:\n",
    "```\n",
    "import xml.etree.ElementTree as ET\n",
    "\n",
    "tree = ET.parse('books.xml')\n",
    "root = tree.getroot()\n",
    "for book in root.findall('book'):\n",
    "    print(book.get('title'))\n",
    "```\n",
    "Resultado:\n",
    "```\n",
    "The Little Prince\n",
    "Hamlet\n",
    "```\n",
    "Para visualizar el valor de los atributos ```title```, utilizamos el método ```get```, que luce mucho mejor que una llamada ```book.attrib['title']```. Su uso es muy sencillo: solo hay que introducir el nombre del atributo y opcionalmente (como segundo argumento) el valor que se devolverá si no se encuentra el atributo (por defecto es None).\n",
    "\n",
    "NOTA: El método ```findall``` también acepta una expresión XPath. Te animamos a que profundices en el conocimiento de las expresiones XPath y lo apliques al ejemplo mostrado."
   ]
  },
  {
   "cell_type": "code",
   "execution_count": 8,
   "id": "023a2070-f694-4a86-8acf-b0c2fe547eee",
   "metadata": {},
   "outputs": [
    {
     "name": "stdout",
     "output_type": "stream",
     "text": [
      "The Little Prince\n",
      "Hamlet\n"
     ]
    }
   ],
   "source": [
    "import xml.etree.ElementTree as ET\n",
    "\n",
    "tree = ET.parse('books.xml')\n",
    "root = tree.getroot()\n",
    "for book in root.findall('book'):\n",
    "    print(book.get('title'))"
   ]
  },
  {
   "cell_type": "markdown",
   "id": "4387f5f9-bb0c-4204-bf24-b2624f90d092",
   "metadata": {},
   "source": [
    "**Análisis de XML (parte 6)**\n",
    "\n",
    "Otro método útil que se utiliza para analizar un documento XML es un método llamado ```find```. El método ```find``` devuelve el primer elemento secundario que contiene la etiqueta especificada o la expresión XPath correspondiente. Observa el código en el editor.\n",
    "\n",
    "Resultado:\n",
    "```\n",
    "The Little Prince\n",
    "```\n",
    "En el ejemplo, utilizamos el método ```find``` para encontrar el primer elemento secundario que contiene la etiqueta book y luego mostramos el valor de su atributo ```title```. Ten en cuenta que el elemento desde el que iniciamos la búsqueda es el elemento raíz."
   ]
  },
  {
   "cell_type": "code",
   "execution_count": 9,
   "id": "8fb0eec5-d939-47e3-9cf4-e63b7311a683",
   "metadata": {},
   "outputs": [
    {
     "name": "stdout",
     "output_type": "stream",
     "text": [
      "The Little Prince\n"
     ]
    }
   ],
   "source": [
    "import xml.etree.ElementTree as ET\n",
    "\n",
    "tree = ET.parse('books.xml')\n",
    "root = tree.getroot()\n",
    "print(root.find('book').get('title'))"
   ]
  },
  {
   "cell_type": "markdown",
   "id": "19bf88dd-ade2-4d66-bf25-66a8add3db22",
   "metadata": {},
   "source": [
    "**Modificación de un documento XML (parte 1)**\n",
    "\n",
    "Ya aprendiste a analizar un documento XML. Es hora de dar el siguiente paso. Modifiquemos el árbol de elementos y creemos un nuevo archivo XML basado en él con los siguientes datos de la película:\n",
    "```\n",
    "<?xml version=\"1.0\"?>\n",
    "<data>\n",
    "    <movie title=\"The Little Prince\" rate=\"5\"></movie>\n",
    "    <movie title=\"Hamlet\" rate=\"5\"></movie>\n",
    "</data>\n",
    "```\n",
    "¿Te preguntas si será difícil convertir datos de libros en datos de películas? Gracias al módulo ```xml.etree.ElementTree```, es muy fácil.\n",
    "\n",
    "Para cambiar la etiqueta del objeto Element, debemos asignar un nuevo valor a su propiedad tag. Observa el código en el editor.\n",
    "\n",
    "Resultado:\n",
    "```\n",
    "movie {'title': 'The Little Prince'}\n",
    "author : Antoine de Saint-Exupéry\n",
    "year : 1943\n",
    "movie {'title': 'Hamlet'}\n",
    "author : William Shakespeare\n",
    "year : 1603\n",
    "```\n",
    "En el ejemplo, durante cada iteración a través de los elementos ```book```, los reemplazamos con la etiqueta ```movie``` y luego nos aseguramos de que todos los cambios se hayan realizado correctamente."
   ]
  },
  {
   "cell_type": "code",
   "execution_count": 32,
   "id": "b08365be-efa5-4ea5-b17c-e98dca760b97",
   "metadata": {},
   "outputs": [
    {
     "name": "stdout",
     "output_type": "stream",
     "text": [
      "book {'title': 'The Little Prince'}\n",
      "movie {'title': 'The Little Prince'}\n",
      "author : Antoine de Saint-Exupéry\n",
      "year : 1943\n",
      "book {'title': 'Hamlet'}\n",
      "movie {'title': 'Hamlet'}\n",
      "author : William Shakespeare\n",
      "year : 1603\n"
     ]
    }
   ],
   "source": [
    "import xml.etree.ElementTree as ET\n",
    "\n",
    "tree = ET.parse('books.xml')\n",
    "root = tree.getroot()\n",
    "for child in root:\n",
    "    child.tag = 'movie'\n",
    "    print(child.tag, child.attrib)\n",
    "    for sub_child in child:\n",
    "        print(sub_child.tag, ':', sub_child.text)"
   ]
  },
  {
   "cell_type": "markdown",
   "id": "8cce0790-23e0-4d81-9435-dea83d806144",
   "metadata": {},
   "source": [
    "**Modificación de un documento XML (parte 2)**\n",
    "\n",
    "Nuestro XML tiene algunos elementos innecesarios, como el autor y el año. Para eliminarlos, necesitamos utilizar el método llamado ```remove```, proporcionado por la clase ```Element```. Observa el código en el editor.\n",
    "\n",
    "Resultado:\n",
    "```\n",
    "movie {'title': 'The Little Prince'}\n",
    "movie {'title': 'Hamlet'}\n",
    "```\n",
    "El método remove elimina el elemento secundario que se pasa como argumento, que debe ser un objeto ```Element```. Ten en cuenta que para este propósito usamos el método llamado ```find```, con el que ya estás familiarizado."
   ]
  },
  {
   "cell_type": "code",
   "execution_count": 2,
   "id": "78e0bfcf-b661-44fd-a134-6c5beea0ac2a",
   "metadata": {},
   "outputs": [
    {
     "name": "stdout",
     "output_type": "stream",
     "text": [
      "movie {'title': 'The Little Prince'}\n",
      "movie {'title': 'Hamlet'}\n"
     ]
    }
   ],
   "source": [
    "import xml.etree.ElementTree as ET\n",
    "\n",
    "tree = ET.parse('books.xml')\n",
    "root = tree.getroot()\n",
    "for child in root:\n",
    "    child.tag = 'movie'\n",
    "    child.remove(child.find('author'))\n",
    "    child.remove(child.find('year'))\n",
    "    print(child.tag, child.attrib)\n",
    "    for sub_child in child:\n",
    "        print(sub_child.tag, ':', sub_child.text)"
   ]
  },
  {
   "cell_type": "markdown",
   "id": "06ca2f6c-b641-48d9-9878-ef48c09f91d1",
   "metadata": {},
   "source": [
    "**Modificación de un documento XML (parte 3)**\n",
    "\n",
    "¿Recuerdas el método get que obtiene el valor del atributo? El objeto ```Element``` también tiene un método llamado ```set```, que permite configurar cualquier atributo. Observa el código en el editor.\n",
    "\n",
    "Resultado:\n",
    "```\n",
    "movie {'title': 'The Little Prince', 'rate': '5'}\n",
    "movie {'title': 'Hamlet', 'rate': '5'}\n",
    "```\n",
    "El método set toma como argumentos el atributo ```nombre``` y su ```valor```. En nuestro caso, lo utilizamos para establecer la calificación más alta para cada una de las películas."
   ]
  },
  {
   "cell_type": "code",
   "execution_count": 3,
   "id": "a9367881-050b-49ce-a2f0-23ebf0c2564b",
   "metadata": {},
   "outputs": [
    {
     "name": "stdout",
     "output_type": "stream",
     "text": [
      "movie {'title': 'The Little Prince', 'rate': '5'}\n",
      "movie {'title': 'Hamlet', 'rate': '5'}\n"
     ]
    }
   ],
   "source": [
    "import xml.etree.ElementTree as ET\n",
    "\n",
    "tree = ET.parse('books.xml')\n",
    "root = tree.getroot()\n",
    "for child in root:\n",
    "    child.tag = 'movie'\n",
    "    child.remove(child.find('author'))\n",
    "    child.remove(child.find('year'))\n",
    "    child.set('rate', '5')\n",
    "    print(child.tag, child.attrib)\n",
    "    for sub_child in child:\n",
    "        print(sub_child.tag, ':', sub_child.text)"
   ]
  },
  {
   "cell_type": "markdown",
   "id": "ff9c6a40-ca91-4ebf-b1e2-4b6de98cc0a4",
   "metadata": {},
   "source": [
    "**Modificación de un documento XML (parte 4)**\n",
    "\n",
    "Debes haber notado que el documento XML modificado no se guarda en ningún lugar. Para guardar todos los cambios que hemos realizado en el árbol, tenemos que utilizar el método llamado ```write```.\n",
    "\n",
    "El método ```write``` tiene un solo argumento obligatorio, que es un nombre de archivo del archivo XML de salida, o un objeto de archivo abierto para escritura. Además, podemos definir la codificación de caracteres utilizando el segundo argumento (el valor predeterminado es US-ASCII). Para agregar un prólogo a nuestro documento, debemos pasar ```True``` en el tercer argumento.\n",
    "\n",
    "Observa el ejemplo en el editor, en el que guardamos el árbol modificado en un archivo llamado ```movies.xml```.\n",
    "\n",
    "El archivo creado se ve así:\n",
    "```\n",
    "<?xml version='1.0' encoding='UTF-8'?>\n",
    "<data><movie rate=\"5\" title=\"The Little Prince\" /><movie rate=\"5\" title=\"Hamlet\" /></data>\n",
    "```\n"
   ]
  },
  {
   "cell_type": "code",
   "execution_count": 12,
   "id": "7f9d4758-33bc-43b2-94fc-98129cac577f",
   "metadata": {},
   "outputs": [
    {
     "name": "stdout",
     "output_type": "stream",
     "text": [
      "movie {'title': 'The Little Prince', 'rate': '5'}\n",
      "movie {'title': 'Hamlet', 'rate': '5'}\n"
     ]
    }
   ],
   "source": [
    "import xml.etree.ElementTree as ET\n",
    "\n",
    "tree = ET.parse('books.xml')\n",
    "root = tree.getroot()\n",
    "for child in root:\n",
    "    child.tag = 'movie'\n",
    "    child.remove(child.find('author'))\n",
    "    child.remove(child.find('year'))\n",
    "    child.set('rate', '5')\n",
    "    print(child.tag, child.attrib)\n",
    "    for sub_child in child:\n",
    "        print(sub_child.tag, ':', sub_child.text)\n",
    "\n",
    "tree.write('movies.xml', 'UTF-8', True)"
   ]
  },
  {
   "cell_type": "markdown",
   "id": "0f28ca9d-fcef-483d-8e9c-33dfa8138611",
   "metadata": {},
   "source": [
    "**Creación de un documento XML (parte 1)**\n",
    "\n",
    "Durante este curso, no ha tenido la oportunidad de crear un objeto ```Element```. Veamos cómo crear un documento XML en Python.\n",
    "\n",
    "El constructor de la clase ```Element``` toma dos argumentos. El primero es el nombre de la etiqueta que se creará, mientras que el segundo (opcional) es el diccionario de atributos. En el ejemplo del editor, hemos creado el elemento raíz representado por una etiqueta de datos sin atributos; observe el código.\n",
    "\n",
    "Resultado:\n",
    "```\n",
    "<data />\n",
    "```\n",
    "En el ejemplo anterior, utilizamos el método ```dump```, que nos permite depurar todo el árbol o un solo elemento."
   ]
  },
  {
   "cell_type": "code",
   "execution_count": 13,
   "id": "c7f947e1-8858-457a-99e5-2518de1b244c",
   "metadata": {},
   "outputs": [
    {
     "name": "stdout",
     "output_type": "stream",
     "text": [
      "<data />\n"
     ]
    }
   ],
   "source": [
    "import xml.etree.ElementTree as ET\n",
    "\n",
    "root = ET.Element('data')\n",
    "ET.dump(root)"
   ]
  },
  {
   "cell_type": "markdown",
   "id": "a77ce09f-7ee8-4250-9ed1-0679303ba45f",
   "metadata": {},
   "source": [
    "**Creación de un documento XML (parte 2)**\n",
    "\n",
    "Además de la clase ```Element```, el módulo ```xml.etree.ElementTree``` ofrece una función para crear elementos secundarios llamada ```SubElement```. La función ```SubElement``` toma tres argumentos.\n",
    "\n",
    "El primero define el elemento principal, el segundo define el nombre de la ```etiqueta``` y el tercero (opcional) define los atributos del elemento. Veamos cómo se ve en acción y analicemos el código en el editor.\n",
    "\n",
    "Resultado:\n",
    "```\n",
    "<data><movie rate=\"5\" title=\"The Little Prince\" /><movie rate=\"5\" title=\"Hamlet\" /></data>\n",
    "```\n",
    "\n",
    "En el ejemplo, hemos añadido dos elementos secundarios llamados movie al elemento ```root```. Los elementos creados son objetos de la clase ```Element```, por lo que podemos utilizar todos los métodos que aprendimos durante este curso.\n",
    "\n",
    "NOTA: Para guardar un documento utilizando el método ```write```, necesitamos tener un objeto ```ElementTree```. Para ello, pasa nuestro elemento raíz a su constructor:\n",
    "```\n",
    "tree = ET.ElementTree(root)\n",
    "```"
   ]
  },
  {
   "cell_type": "code",
   "execution_count": 14,
   "id": "2b3cb04a-d206-4430-acc1-61725b693c3d",
   "metadata": {},
   "outputs": [
    {
     "name": "stdout",
     "output_type": "stream",
     "text": [
      "<data><movie title=\"The Little Prince\" rate=\"5\" /><movie title=\"Hamlet\" rate=\"5\" /></data>\n"
     ]
    }
   ],
   "source": [
    "import xml.etree.ElementTree as ET\n",
    "\n",
    "root = ET.Element('data')\n",
    "movie_1 = ET.SubElement(root, 'movie', {'title': 'The Little Prince', 'rate': '5'})\n",
    "movie_2 = ET.SubElement(root, 'movie', {'title': 'Hamlet', 'rate': '5'})\n",
    "ET.dump(root)"
   ]
  },
  {
   "cell_type": "markdown",
   "id": "4d4105a0-938a-422e-8716-fd2dd72f0cdd",
   "metadata": {},
   "source": [
    "*Creado por:*\n",
    "\n",
    "*Isabel Maniega*"
   ]
  }
 ],
 "metadata": {
  "kernelspec": {
   "display_name": "Python 3 (ipykernel)",
   "language": "python",
   "name": "python3"
  },
  "language_info": {
   "codemirror_mode": {
    "name": "ipython",
    "version": 3
   },
   "file_extension": ".py",
   "mimetype": "text/x-python",
   "name": "python",
   "nbconvert_exporter": "python",
   "pygments_lexer": "ipython3",
   "version": "3.10.12"
  }
 },
 "nbformat": 4,
 "nbformat_minor": 5
}
