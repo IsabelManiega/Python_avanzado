{
 "cells": [
  {
   "cell_type": "code",
   "execution_count": 2,
   "id": "0eb348ed-8ae8-411d-b13a-89bdf290bf4e",
   "metadata": {},
   "outputs": [
    {
     "name": "stdout",
     "output_type": "stream",
     "text": [
      "se creo la tabla articulos\n"
     ]
    }
   ],
   "source": [
    "# Importamos las librería sqlite3:\n",
    "import sqlite3\n",
    "\n",
    "# Creamos un archivo como extensión .db donde se almacenará la información, si no existe se crea:\n",
    "conexion=sqlite3.connect(\"cars.db\")\n",
    "try:\n",
    "    # Creamos la tabla anteriormente explicada:\n",
    "    conexion.execute(\"\"\"CREATE TABLE cars (id INTEGER PRIMARY KEY AUTOINCREMENT, \n",
    "                        brand TEXT NOT NULL, model TEXT NOT NULL, production_year INTEGER NOT NULL, convertible BOOLEAN)\"\"\")\n",
    "    print(\"se creo la tabla articulos\")                        \n",
    "except sqlite3.OperationalError:\n",
    "    # si ocurre un error al crear la tabla nos mostrará el siguiente error:\n",
    "    print(\"La tabla articulos ya existe\")                    \n",
    "conexion.close()"
   ]
  },
  {
   "cell_type": "code",
   "execution_count": 6,
   "id": "b6e03f97-d788-40e3-97da-39488607614b",
   "metadata": {},
   "outputs": [],
   "source": [
    "# Crear:\n",
    "# Insertamos información en la tabla creada anteriormente de articulos:\n",
    "\n",
    "conexion=sqlite3.connect(\"cars.db\")\n",
    "conexion.execute(\"INSERT INTO cars(brand, model, production_year, convertible) VALUES (?,?,?,?)\", ('Ford', 'Mustang', 1972, False))\n",
    "conexion.execute(\"INSERT INTO cars(brand, model, production_year, convertible) VALUES (?,?,?,?)\", ('Chevrolet', 'Camaro', 1988, True))\n",
    "conexion.execute(\"INSERT INTO cars(brand, model, production_year, convertible) VALUES (?,?,?,?)\", ('Aston Martin', 'Rapide', 2010, False))\n",
    "conexion.execute(\"INSERT INTO cars(brand, model, production_year, convertible) VALUES (?,?,?,?)\", ('Maserati', 'Mexico', 1970, False))\n",
    "conexion.execute(\"INSERT INTO cars(brand, model, production_year, convertible) VALUES (?,?,?,?)\", ('Nissan', 'Fairlady', 1974, False))\n",
    "conexion.execute(\"INSERT INTO cars(brand, model, production_year, convertible) VALUES (?,?,?,?)\", ('Mercedes Benz', '300SL', 1957, True))\n",
    "conexion.commit()\n",
    "conexion.close()"
   ]
  },
  {
   "cell_type": "code",
   "execution_count": 7,
   "id": "1fc37391-2d3a-4551-977d-63abb33be120",
   "metadata": {},
   "outputs": [
    {
     "name": "stdout",
     "output_type": "stream",
     "text": [
      "('Ford', 'Mustang', 1972, 0)\n",
      "('Chevrolet', 'Camaro', 1988, 1)\n",
      "('Aston Martin', 'Rapide', 2010, 0)\n",
      "('Maserati', 'Mexico', 1970, 0)\n",
      "('Nissan', 'Fairlady', 1974, 0)\n",
      "('Mercedes Benz', '300SL', 1957, 1)\n"
     ]
    }
   ],
   "source": [
    "# Read\n",
    "# Leer todos los datos de la tabla:\n",
    "\n",
    "conexion = sqlite3.connect(\"cars.db\")\n",
    "cursor = conexion.execute(\"SELECT brand,model,production_year,convertible FROM cars\")\n",
    "for fila in cursor:\n",
    "    print(fila)\n",
    "conexion.close()"
   ]
  }
 ],
 "metadata": {
  "kernelspec": {
   "display_name": "Python 3 (ipykernel)",
   "language": "python",
   "name": "python3"
  },
  "language_info": {
   "codemirror_mode": {
    "name": "ipython",
    "version": 3
   },
   "file_extension": ".py",
   "mimetype": "text/x-python",
   "name": "python",
   "nbconvert_exporter": "python",
   "pygments_lexer": "ipython3",
   "version": "3.10.12"
  }
 },
 "nbformat": 4,
 "nbformat_minor": 5
}
