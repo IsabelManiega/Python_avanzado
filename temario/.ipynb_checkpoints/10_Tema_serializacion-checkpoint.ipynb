{
 "cells": [
  {
   "cell_type": "markdown",
   "id": "7b7269de-8d96-4e75-b26c-0aede1494747",
   "metadata": {},
   "source": [
    "*Creado por:*\n",
    "\n",
    "*Isabel Maniega*"
   ]
  },
  {
   "cell_type": "markdown",
   "id": "a7a7f616-de25-4c97-bf94-57d18381205d",
   "metadata": {},
   "source": [
    "# Librerías de Serialización"
   ]
  },
  {
   "cell_type": "markdown",
   "id": "57d1fe33-04ac-456b-a1fa-9f8e95c468a9",
   "metadata": {},
   "source": [
    "## Serialización de objetos Python usando el módulo pickle\n",
    "\n",
    "En esta sección, aprenderá a conservar objetos Python para su uso posterior.\n",
    "\n",
    "El pickle es el proceso de preservar o extender la vida útil de los alimentos. El alimento resultante se llama encurtido y, para evitar ambigüedades, se antepone con el adjetivo 'encurtido'.\n",
    "\n",
    "¿Alguna vez ha considerado guardar el resultado de su procesamiento de datos para su uso posterior?\n",
    "\n",
    "La forma más sencilla de conservar los resultados es generar un archivo de texto plano y escribir los resultados. Es una forma muy sencilla de hacerlo, pero no es adecuada para conservar conjuntos de diferentes tipos de objetos o estructuras anidadas.\n",
    "\n",
    "En Python, la serialización de objetos es el proceso de convertir una estructura de objeto en un flujo de bytes para almacenar el objeto en un archivo o base de datos, o para transmitirlo a través de una red. Este flujo de bytes contiene toda la información necesaria para reconstruir el objeto en otro script de Python.\n",
    "\n",
    "Este proceso inverso se llama deserialización.\n",
    "\n",
    "Los objetos de Python también pueden serializarse utilizando un módulo llamado 'pickle', y utilizando este módulo, puede 'encapsular' sus objetos de Python para su uso posterior.\n",
    "\n",
    "El módulo 'pickle' es un módulo muy popular y conveniente para la serialización de datos en el mundo de los Pythonistas.\n",
    "\n",
    "Entonces, ¿qué se puede encapsular y luego desencapsular?\n",
    "\n",
    "Se pueden encapsular los siguientes tipos:\n",
    "\n",
    "- Ninguno, booleanos;\n",
    "- enteros, números de punto flotante, números complejos;\n",
    "- cadenas, bytes, bytearrays;\n",
    "- tuplas, listas, conjuntos y diccionarios que contienen objetos encapsulables;\n",
    "- objetos, incluidos objetos con referencias a otros objetos (¡recuerde evitar los ciclos!)\n",
    "- referencias a funciones y clases, pero no a sus definiciones.\n",
    "\n",
    "Encapsularemos nuestro primer conjunto de datos que consta de:\n",
    "\n",
    "- un diccionario anidado que contiene información sobre monedas;\n",
    "- una lista que contiene una cadena, un entero y una lista.\n",
    "\n",
    "Cuando ejecute el código presentado en el panel derecho, se debe crear un nuevo archivo. Recuerde ejecutar el código localmente.\n",
    "\n",
    "El código comienza con la declaración de importación responsable de cargar el módulo pickle:\n",
    "\n",
    "```\n",
    "import pickle\n",
    "```\n",
    "\n",
    "Más adelante, podrá ver que el identificador de archivo 'file_out' está asociado con el archivo abierto para escritura en modo binario. Es importante abrir el archivo en modo binario, ya que estamos volcando datos como un flujo de bytes:\n",
    "\n",
    "```\n",
    "with open('multidata.pckl', 'wb') as file_out:\n",
    "```\n",
    "\n",
    "Ahora es el momento de conservar el primer objeto con la función ```dump()```. Esta función espera que se conserve un objeto y un identificador de archivo.\n",
    "\n",
    "```\n",
    "pickle.dump(a_dict, file_out)\n",
    "```\n",
    "\n",
    "Y el segundo objeto se conserva de la misma manera:\n",
    "\n",
    "```\n",
    "pickle.dump(a_list, file_out)\n",
    "```\n",
    "\n",
    "En este resultado, hemos creado un archivo que conserva los objetos pickle."
   ]
  },
  {
   "cell_type": "code",
   "execution_count": 1,
   "id": "5e80d601-f90b-4450-8f7b-7078f7d20dfb",
   "metadata": {},
   "outputs": [],
   "source": [
    "import pickle\n",
    "\n",
    "a_dict = dict()\n",
    "a_dict['EUR'] = {'code':'Euro', 'symbol': '€'}\n",
    "a_dict['GBP'] = {'code':'Pounds sterling', 'symbol': '£'}\n",
    "a_dict['USD'] = {'code':'US dollar', 'symbol': '$'}\n",
    "a_dict['JPY'] = {'code':'Japanese yen', 'symbol': '¥'}\n",
    "\n",
    "a_list = ['a', 123, [10, 100, 1000]]\n",
    "\n",
    "with open('multidata.pckl', 'wb') as file_out:\n",
    "    pickle.dump(a_dict, file_out)\n",
    "    pickle.dump(a_list, file_out)"
   ]
  },
  {
   "cell_type": "markdown",
   "id": "cf97a83b-b296-48a5-9ebd-ff97556621e4",
   "metadata": {},
   "source": [
    "Ahora es el momento de descomprimir el contenido del archivo.\n",
    "\n",
    "El código presentado es bastante simple:\n",
    "\n",
    "- estamos importando un módulo pickle;\n",
    "- el archivo se abre en modo binario y el identificador de archivo se asocia con el archivo;\n",
    "- leemos consecutivamente algunas porciones de datos y las deserializamos con la función ```load()```;\n",
    "- finalmente, examinamos el tipo y el contenido de los objetos.\n",
    "\n",
    "Presta atención al hecho de que con el módulo 'pickle', debes recordar el orden en el que se conservaron los objetos y el código de deserialización debe seguir el mismo orden."
   ]
  },
  {
   "cell_type": "code",
   "execution_count": 2,
   "id": "bff7c05b-686c-4d59-b26a-280cdd327719",
   "metadata": {},
   "outputs": [
    {
     "name": "stdout",
     "output_type": "stream",
     "text": [
      "<class 'dict'>\n",
      "{'EUR': {'code': 'Euro', 'symbol': '€'}, 'GBP': {'code': 'Pounds sterling', 'symbol': '£'}, 'USD': {'code': 'US dollar', 'symbol': '$'}, 'JPY': {'code': 'Japanese yen', 'symbol': '¥'}}\n",
      "<class 'list'>\n",
      "['a', 123, [10, 100, 1000]]\n"
     ]
    }
   ],
   "source": [
    "import pickle\n",
    "\n",
    "with open('multidata.pckl', 'rb') as file_in:\n",
    "    data1 = pickle.load(file_in)\n",
    "    data2 = pickle.load(file_in)\n",
    "\n",
    "print(type(data1))\n",
    "print(data1)\n",
    "print(type(data2))\n",
    "print(data2)"
   ]
  },
  {
   "cell_type": "markdown",
   "id": "39b95bd0-c45d-4354-aa76-e157c5820036",
   "metadata": {},
   "source": [
    "Al principio del módulo de serialización, mencionamos que los objetos serializados se pueden conservar en una base de datos o enviarse a través de una red. Esto implica otras dos funciones correspondientes a las funciones pickle.dumps() y pickle.loads():\n",
    "\n",
    "- ```pickle.dumps(object_to_be_pickled)``` – espera un objeto inicial, devuelve un objeto byte. Este objeto byte debe pasarse a una base de datos o controlador de red para conservar los datos;\n",
    "- ```pickle.loads(bytes_object)``` – espera el objeto bytes, devuelve el objeto inicial.\n",
    "\n",
    "En el panel derecho se presenta un ejemplo de serialización y deserialización in situ."
   ]
  },
  {
   "cell_type": "code",
   "execution_count": 3,
   "id": "ad7f83a9-fd45-476e-9e53-5d130bd8a35f",
   "metadata": {},
   "outputs": [
    {
     "name": "stdout",
     "output_type": "stream",
     "text": [
      "Intermediate object type, used to preserve data: <class 'bytes'>\n",
      "A type of deserialized object: <class 'list'>\n",
      "Contents: ['a', 123, [10, 100, 1000]]\n"
     ]
    }
   ],
   "source": [
    "import pickle\n",
    "\n",
    "a_list = ['a', 123, [10, 100, 1000]]\n",
    "bytes = pickle.dumps(a_list)\n",
    "print('Intermediate object type, used to preserve data:', type(bytes))\n",
    "\n",
    "# now pass 'bytes' to appropriate driver\n",
    "\n",
    "# therefore when you receive a bytes object from an appropriate driver you can deserialize it\n",
    "b_list = pickle.loads(bytes)\n",
    "print('A type of deserialized object:', type(b_list))\n",
    "print('Contents:', b_list)"
   ]
  },
  {
   "cell_type": "markdown",
   "id": "fa01874a-f047-4a8f-a923-51e5b3856b0e",
   "metadata": {},
   "source": [
    "Recuerde que los intentos de picklear objetos que no se pueden picklear generarán la excepción ```PicklingError```.\n",
    "\n",
    "Intentar picklear una estructura de datos altamente recursiva (tenga en cuenta los ciclos) puede exceder la profundidad de recursión máxima, y se generará una excepción ```RecursionError``` en tales casos.\n",
    "\n",
    "Tenga en cuenta que las funciones (tanto las integradas como las definidas por el usuario) se pickean por su referencia de nombre, no por ningún valor. Esto significa que solo se pickea el nombre de la función; no se pickea ni el código de la función ni ninguno de sus atributos de función.\n",
    "\n",
    "De manera similar, las clases se pickean por referencia nombrada, por lo que se aplican las mismas restricciones en el entorno de despicking. Tenga en cuenta que no se pickea ningún código ni dato de la clase.\n",
    "\n",
    "Esto se hace a propósito, para que pueda corregir errores en una clase o agregar métodos a la clase, y aún así cargar objetos que se crearon con una versión anterior de la clase.\n",
    "\n",
    "Por lo tanto, su función es garantizar que el entorno en el que se descomprime la clase o función pueda importar la definición de la clase o función. En otras palabras, la función o clase debe estar disponible en el espacio de nombres de su código que lee el archivo de pickle.\n",
    "\n",
    "De lo contrario, se generará una excepción ```AtrributeError```.\n",
    "\n",
    "El siguiente código demuestra la situación del pickle de la definición de función:\n",
    "\n",
    "```\n",
    "import pickle\n",
    "\n",
    "def f1():\n",
    "    print('Hello from the jar!')\n",
    "\n",
    "with open('function.pckl', 'wb') as file_out:\n",
    "    pickle.dump(f1, file_out)\n",
    "```\n",
    "\n",
    "No vemos ningún error, por lo que podemos concluir que f1() se ha procesado correctamente y ahora podemos recuperarlo del archivo.\n",
    "\n",
    "Ejecuta el código en el editor y observa qué sucede."
   ]
  },
  {
   "cell_type": "code",
   "execution_count": 4,
   "id": "f9623e29-48ea-4d9b-8c36-e2ee5231d27e",
   "metadata": {},
   "outputs": [],
   "source": [
    "import pickle\n",
    "\n",
    "def f1():\n",
    "    print('Hello from the jar!')\n",
    "\n",
    "with open('function.pckl', 'wb') as file_out:\n",
    "    pickle.dump(f1, file_out)"
   ]
  },
  {
   "cell_type": "code",
   "execution_count": 5,
   "id": "2070d5af-181e-4be0-91fe-70db8f2b2c29",
   "metadata": {},
   "outputs": [
    {
     "name": "stdout",
     "output_type": "stream",
     "text": [
      "<class 'function'>\n",
      "<function f1 at 0x7728dd189510>\n",
      "Hello from the jar!\n"
     ]
    }
   ],
   "source": [
    "import pickle\n",
    "\n",
    "with open('function.pckl', 'rb') as file_in:\n",
    "    data = pickle.load(file_in)\n",
    "\n",
    "print(type(data))\n",
    "print(data)\n",
    "data()"
   ]
  },
  {
   "cell_type": "markdown",
   "id": "13f321d8-2f50-4b80-adde-2916be03bbd4",
   "metadata": {},
   "source": [
    "A continuación se muestra el mismo ejemplo sobre la definición de clase y el picking de objetos:\n",
    "\n",
    "```\n",
    "import pickle\n",
    "\n",
    "class Cucumber:\n",
    "    def __init__(self):\n",
    "        self.size = 'small'\n",
    "\n",
    "    def get_size(self):\n",
    "        return self.size\n",
    "\n",
    "cucu = Cucumber()\n",
    "\n",
    "with open('cucumber.pckl', 'wb') as file_out:\n",
    "    pickle.dump(cucu, file_out)\n",
    "```\n",
    "\n",
    "No vemos ningún error, por lo que podemos concluir que la clase y el objeto Cucumber se procesaron correctamente y ahora podemos recuperarlos del archivo. De hecho, solo se conserva el objeto, pero no su definición, lo que nos permite determinar la disposición de los atributos:\n",
    "\n",
    "Si ejecuta el código, recibirá:"
   ]
  },
  {
   "cell_type": "code",
   "execution_count": 6,
   "id": "5c061871-a586-4573-9052-0a327a459da7",
   "metadata": {},
   "outputs": [],
   "source": [
    "import pickle\n",
    "\n",
    "class Cucumber:\n",
    "    def __init__(self):\n",
    "        self.size = 'small'\n",
    "\n",
    "    def get_size(self):\n",
    "        return self.size\n",
    "\n",
    "cucu = Cucumber()\n",
    "\n",
    "with open('cucumber.pckl', 'wb') as file_out:\n",
    "    pickle.dump(cucu, file_out)"
   ]
  },
  {
   "cell_type": "code",
   "execution_count": 7,
   "id": "af403aca-03f2-4e37-85fb-984d2e649f37",
   "metadata": {},
   "outputs": [
    {
     "name": "stdout",
     "output_type": "stream",
     "text": [
      "<class '__main__.Cucumber'>\n",
      "<__main__.Cucumber object at 0x7728dd19f760>\n",
      "small\n",
      "small\n"
     ]
    }
   ],
   "source": [
    "import pickle\n",
    "\n",
    "with open('cucumber.pckl', 'rb') as file_in:\n",
    "    data = pickle.load(file_in)\n",
    "\n",
    "print(type(data))\n",
    "print(data)\n",
    "print(data.size)\n",
    "print(data.get_size())"
   ]
  },
  {
   "cell_type": "markdown",
   "id": "3f0e4d5b-0d03-4997-8049-bd39ce05e33e",
   "metadata": {},
   "source": [
    "**Resumen**\n",
    "\n",
    "Algunas palabras adicionales sobre el módulo pickle:\n",
    "\n",
    "- es una implementación de Python del proceso de serialización, por lo que los datos enlatados no se pueden intercambiar con programas escritos en otros lenguajes como Java o C++. En tales casos, debe pensar en los formatos JSON o XML, que pueden ser menos convenientes que el pickling, pero cuando se asimilan son más poderosos que el pickling;\n",
    "- el módulo pickle evoluciona constantemente, por lo que el formato binario puede diferir entre las diferentes versiones de Python. Preste atención a que tanto las partes que serializan como las que deserializan están haciendo uso de las mismas versiones de pickle;\n",
    "- el módulo pickle no está protegido contra datos erróneos o construidos maliciosamente. Nunca desempaquete los datos recibidos de una fuente no confiable o no autenticada.\n",
    "\n",
    "## Serialización de objetos Python usando el módulo shelve\n",
    "\n",
    "Como recordará, el módulo pickle se usa para serializar objetos como un flujo de un solo byte. Tanto las partes que serializan como las que deserializan deben respetar el orden de todos los elementos colocados en un archivo o base de datos, o enviados a través de una red.\n",
    "\n",
    "Hay otro módulo útil, llamado **shelve**, que está *construido sobre pickle* e implementa un diccionario de serialización donde los objetos se seleccionan y se asocian con una clave. Las claves deben ser cadenas comunes, porque la base de datos subyacente (dbm) requiere cadenas.\n",
    "\n",
    "Por lo tanto, puede abrir su archivo de datos almacenado y acceder a sus objetos seleccionados a través de las claves de la misma manera que lo hace cuando accede a los diccionarios de Python. Esto podría ser más conveniente para usted cuando está serializando muchos objetos.\n",
    "\n",
    "Usar shelve es bastante fácil e intuitivo.\n",
    "\n",
    "Primero, importemos el módulo apropiado y creemos un objeto que represente una base de datos basada en archivos:\n",
    "\n",
    "```\n",
    "import shelve\n",
    "my_shelve = shelve.open('first_shelve.shlv', flag='w')\n",
    "```\n",
    "\n",
    "El significado del parámetro opcional flag:\n",
    "\n",
    "|**Valor**|              **Significado**                                                                         |\n",
    "|---------|------------------------------------------------------------------------------------------------------|\n",
    "|   'r'   |Abrir base de datos existente solo para lectura                                                       |\n",
    "|   'w'   |Abrir base de datos existente para lectura y escritura                                                |\n",
    "|   'c'   |Abrir base de datos para lectura y escritura, creándola si no existe (este es un valor predeterminado)|\n",
    "|   'n'   |Siempre crear una base de datos nueva, vacía, abierta para lectura y escritura                        |\n",
    "\n",
    "Ahora nuestro objeto shelve está listo para la acción, así que insertemos algunos elementos y cerremos el objeto shelve.\n",
    "\n",
    "```\n",
    "my_shelve['USD'] = {'code':'US dollar', 'symbol': '$'}\n",
    "my_shelve['JPY'] = {'code':'Japanese yen', 'symbol': '¥'}\n",
    "my_shelve.close()\n",
    "```\n",
    "\n",
    "Ahora abramos el archivo shelve para demostrar el acceso directo a los elementos (contrario al acceso secuencial a los elementos cuando usamos pickles).\n",
    "\n",
    "```\n",
    "new_shelve = shelve.open(shelve_name)\n",
    "print(new_shelve['USD'])\n",
    "new_shelve.close()\n",
    "```\n",
    "\n",
    "El código final se presenta en el panel derecho."
   ]
  },
  {
   "cell_type": "code",
   "execution_count": 1,
   "id": "2b682409-39bb-4eb1-842c-d216104ef674",
   "metadata": {},
   "outputs": [
    {
     "name": "stdout",
     "output_type": "stream",
     "text": [
      "{'code': 'US dollar', 'symbol': '$'}\n"
     ]
    }
   ],
   "source": [
    "import shelve\n",
    "\n",
    "shelve_name = 'first_shelve.shlv'\n",
    "\n",
    "my_shelve = shelve.open(shelve_name, flag='c')\n",
    "my_shelve['EUR'] = {'code':'Euro', 'symbol': '€'}\n",
    "my_shelve['GBP'] = {'code':'Pounds sterling', 'symbol': '£'}\n",
    "my_shelve['USD'] = {'code':'US dollar', 'symbol': '$'}\n",
    "my_shelve['JPY'] = {'code':'Japanese yen', 'symbol': '¥'}\n",
    "my_shelve.close()\n",
    "\n",
    "new_shelve = shelve.open(shelve_name)\n",
    "print(new_shelve['USD'])\n",
    "new_shelve.close()"
   ]
  },
  {
   "cell_type": "markdown",
   "id": "66962c41-3d5b-46f3-acf4-80377b125457",
   "metadata": {},
   "source": [
    "Debes tratar un objeto shelve como un diccionario Python, con algunas notas adicionales:\n",
    "\n",
    "- las claves deben ser cadenas;\n",
    "- Python coloca los cambios en un búfer que se vacía periódicamente en el disco. Para hacer que se vacíe de forma inmediata, llama al método sync() en tu objeto shelve;\n",
    "- cuando llamas al método close() en un objeto shelve, también vacía los búferes.\n",
    "\n",
    "Cuando tratas un objeto shelve como un diccionario Python, puedes hacer uso de las utilidades del diccionario:\n",
    "\n",
    "- la función len();\n",
    "- el operador in;\n",
    "- los métodos keys() e items();\n",
    "- la operación update, que funciona igual que cuando se aplica a un diccionario Python;\n",
    "- la instrucción del, que se utiliza para eliminar un par clave-valor.\n",
    "\n",
    "Después de ejecutar el código, notarás además que se crean algunos archivos para respaldar la base de datos. No intentes alterar esos archivos con utilidades externas, porque tu shelve puede volverse inconsistente, lo que resultará en errores de lectura/escritura.\n",
    "\n",
    "El uso de shelve es realmente fácil y efectivo. Además, debes saber que puedes simular el shelve mediante el pickle de todo el diccionario, pero el módulo shelve utiliza la memoria de manera más eficiente, por lo que siempre que necesites acceder a objetos pickle, utiliza un shelve.\n",
    "\n",
    "Y la observación final es:\n",
    "\n",
    "- debido a que el módulo shelve está respaldado por pickle, no es seguro cargar un shelve desde una fuente no confiable. Al igual que con pickle, cargar un shelve puede ejecutar código arbitrario.\n",
    "\n",
    "## Serialización de objetos Python usando el módulo marshal\n",
    "\n",
    "El módulo Marshal es utilizado por Python para la serialización interna de objetos de Python, con el fin de admitir operaciones de lectura y escritura en versiones compiladas de módulos de Python (archivos .pyc). Las características de serialización de objetos del módulo Marshal son las mismas que las del módulo pickle.\n",
    "\n",
    "El formato de datos que utiliza el módulo Marshal no es compatible con las versiones de Python. Por lo tanto, un script de Python compilado (archivo .pyc) de una versión probablemente no funcione para otra.\n",
    "\n",
    "Para leer y escribir objetos serializados desde/hacia archivos, el módulo marshal define las funciones load() y dump().\n",
    "\n",
    "**Función dump()**\n",
    "\n",
    "Esta función se utiliza para escribir una representación de bytes de un objeto Python en un archivo con permiso de escritura.\n",
    "\n",
    "*Sintaxis:*\n",
    "```\n",
    "marshal.dump(valor, archivo[, versión])\n",
    "```\n",
    "\n",
    "Dónde:\n",
    "\n",
    "- El valor debe ser un tipo compatible.\n",
    "- El archivo debe ser un archivo binario escribible .\n",
    "- El argumento de versión indica el formato de los datos.\n",
    "\n",
    "Si el valor tiene un tipo no admitido, se genera una excepción ```ValueError```.\n",
    "\n",
    "**Función load()**\n",
    "\n",
    "Esta función lee un valor (datos de byte) de un archivo binario abierto y devuelve el objeto Python convertido.\n",
    "\n",
    "*Sintaxis:*\n",
    "```\n",
    "mariscal.load(archivo)\n",
    "```\n",
    "Dónde,\n",
    "\n",
    "- El archivo debe ser un archivo binario legible .\n",
    "\n",
    "Si no se lee ningún valor, se genera ```EOFError```, ```ValueError``` o ```TypeError```.\n",
    "\n",
    "**Función compile()**\n",
    "\n",
    "El código utiliza la función compile() incorporada que devuelve el objeto de código Python desde la fuente.\n",
    "\n",
    "*Sintaxis:*\n",
    "```\n",
    "compile(source, filename, mode, flag, dont_inherit, optimize)\n",
    "```\n",
    "Dónde,\n",
    "\n",
    "- source -. puede ser un objeto String , un objeto Bytes o un objeto AST .\n",
    "- filename — El nombre del archivo\n",
    "- mode — exec or eval or single.\n",
    "- flag(opcional) — Cómo compilar el objeto fuente. Predeterminado 0.\n",
    "- dont_inherit (opcional): cómo compilar el objeto de origen. Valor predeterminado: Falso.\n",
    "- optimize (opcional): nivel de optimización del compilador. Predeterminado: -1.\n",
    "\n",
    "El parámetro de mode es:\n",
    "\n",
    "- 'exec ' si la fuente contiene una secuencia de declaraciones,\n",
    "- 'eval' si hay una sola expresión\n",
    "- 'single' si contiene una sola declaración interactiva.\n",
    "\n",
    "El objeto de código de compilación se almacena en un archivo .pyc utilizando la función dump() .\n",
    "\n",
    "El siguiente programa muestra el uso de las funciones dump() y load()."
   ]
  },
  {
   "cell_type": "code",
   "execution_count": 2,
   "id": "8178239c-8c7a-44b7-98a1-0571a53a72ac",
   "metadata": {},
   "outputs": [],
   "source": [
    "import marshal\n",
    "\n",
    "script = \"\"\"\n",
    "a = 10\n",
    "b = 20\n",
    "print('addition=', a + b)\n",
    "\"\"\"\n",
    "code = compile(script, \"script\", \"exec\")\n",
    "f = open(\"dev.pyc\",\"wb\")\n",
    "marshal.dump(code, f)\n",
    "f.close()"
   ]
  },
  {
   "cell_type": "markdown",
   "id": "21c48515-a894-432f-a578-ca83342c91e7",
   "metadata": {},
   "source": [
    "La función ```load()``` se utiliza para deserializar el objeto del archivo .pyc. Dado que devuelve un objeto de código Python, se puede ejecutar mediante la función ```exec()``` u otra función incorporada."
   ]
  },
  {
   "cell_type": "code",
   "execution_count": 4,
   "id": "642ed02e-5115-4182-b633-b11f4652407c",
   "metadata": {},
   "outputs": [
    {
     "name": "stdout",
     "output_type": "stream",
     "text": [
      "addition= 30\n"
     ]
    }
   ],
   "source": [
    "import marshal\n",
    "\n",
    "f=open(\"dev.pyc\",\"rb\")\n",
    "data=marshal.load(f)\n",
    "exec(data)"
   ]
  },
  {
   "cell_type": "markdown",
   "id": "b298fe28-8371-4be3-bcba-835790792e9a",
   "metadata": {},
   "source": [
    "## Serialización de objetos Python usando el módulo Cpickle\n",
    "\n",
    "La serialización es un proceso de almacenamiento de un objeto como un flujo de bytes o caracteres para transmitirlo a través de una red o almacenarlo en el disco para recrearlo junto con su estado cuando sea necesario. El proceso inverso se denomina deserialización. \n",
    "\n",
    "En Python, el módulo Pickle nos proporciona los medios para serializar y deserializar los objetos de Python. Pickle es una biblioteca potente que puede serializar muchos objetos complejos y personalizados que otras bibliotecas no pueden hacer. Al igual que Pickle, existe un módulo cPickle que comparte los mismos métodos que Pickle, pero está escrito en C. El módulo cPickle está escrito como una función de C en lugar de un formato de clase.\n",
    "\n",
    "**Nota:**\n",
    "cPickle era una biblioteca de Python que proporcionaba una implementación más rápida de la biblioteca pickle, que se utiliza para serializar y deserializar objetos de Python.  \n",
    "cPickle ha quedado obsoleto en favor de la biblioteca pickle, que ahora está implementada en C y ofrece beneficios de rendimiento similares.\n",
    "\n",
    "**Diferencia entre Pickle y cPickle:**\n",
    "\n",
    "- Pickle utiliza una implementación basada en clases de Python, mientras que cPickle está escrito como funciones de C. Como resultado, cPickle es mucho más rápido que pickle.\n",
    "- Pickle está disponible tanto en Python 2.x como en Python 3.x, mientras que cPickle está disponible en Python 2.x de forma predeterminada. Para usar cPickle en Python 3.x, podemos importar _pickle.\n",
    "- cPickle no admite subclases de pickle. cPickle es mejor si la subclasificación no es importante; de lo contrario, Pickle es la mejor opción.\n",
    "\n",
    "Dado que tanto pickle como cPickle comparten la misma interfaz, podemos utilizar ambos de la misma manera. A continuación se muestra un código de ejemplo como referencia:"
   ]
  },
  {
   "cell_type": "code",
   "execution_count": 35,
   "id": "1d2bfda6-0460-4628-b2f6-784929165ac1",
   "metadata": {},
   "outputs": [
    {
     "name": "stdout",
     "output_type": "stream",
     "text": [
      "DATA: [{'a': 'A', 'b': 2, 'c': 3.0}]\n",
      "PICKLE text: b'\\x80\\x04\\x95#\\x00\\x00\\x00\\x00\\x00\\x00\\x00]\\x94}\\x94(\\x8c\\x01a\\x94\\x8c\\x01A\\x94\\x8c\\x01b\\x94K\\x02\\x8c\\x01c\\x94G@\\x08\\x00\\x00\\x00\\x00\\x00\\x00ua.'\n"
     ]
    }
   ],
   "source": [
    "# importar: _pickle\n",
    "import _pickle as pckl\n",
    "\n",
    "data = [{ 'a':'A', 'b':2, 'c':3.0 }]\n",
    "print('DATA:', data)\n",
    "\n",
    "# Serialización como objeto (dumps):\n",
    "\n",
    "data_string = pckl.dumps(data)\n",
    "print('PICKLE text:', data_string)"
   ]
  },
  {
   "cell_type": "code",
   "execution_count": 32,
   "id": "b565ce8a-98a0-487a-a1cd-8cbb2fb6c3ba",
   "metadata": {},
   "outputs": [
    {
     "data": {
      "text/plain": [
       "[{'a': 'A', 'b': 2, 'c': 3.0}]"
      ]
     },
     "execution_count": 32,
     "metadata": {},
     "output_type": "execute_result"
    }
   ],
   "source": [
    "# Deserialización como objeto (loads):\n",
    "\n",
    "readata = pckl.loads(data_string)\n",
    "readata"
   ]
  },
  {
   "cell_type": "code",
   "execution_count": 33,
   "id": "6bf9c8ed-0bd8-44e9-8240-e9629e9832b5",
   "metadata": {},
   "outputs": [],
   "source": [
    "# Serialización como archivo (dump):\n",
    "\n",
    "file = open('datafile.txt', 'wb')\n",
    "pckl.dump(data, file)\n",
    "file.close()"
   ]
  },
  {
   "cell_type": "code",
   "execution_count": 34,
   "id": "7aa35c35-0ab8-479f-997e-746b3068285f",
   "metadata": {},
   "outputs": [
    {
     "name": "stdout",
     "output_type": "stream",
     "text": [
      "[{'a': 'A', 'b': 2, 'c': 3.0}]\n"
     ]
    }
   ],
   "source": [
    "# Deserialización como archivo (load):\n",
    "\n",
    "file = open('datafile.txt', 'rb')\n",
    "info = pckl.load(file)\n",
    "print(info)\n",
    "file.close()"
   ]
  },
  {
   "cell_type": "markdown",
   "id": "7a2bea06-9871-4cfc-b166-73829a18a551",
   "metadata": {},
   "source": [
    "*Creado por:*\n",
    "\n",
    "*Isabel Maniega*"
   ]
  }
 ],
 "metadata": {
  "kernelspec": {
   "display_name": "Python 3 (ipykernel)",
   "language": "python",
   "name": "python3"
  },
  "language_info": {
   "codemirror_mode": {
    "name": "ipython",
    "version": 3
   },
   "file_extension": ".py",
   "mimetype": "text/x-python",
   "name": "python",
   "nbconvert_exporter": "python",
   "pygments_lexer": "ipython3",
   "version": "3.10.12"
  }
 },
 "nbformat": 4,
 "nbformat_minor": 5
}
