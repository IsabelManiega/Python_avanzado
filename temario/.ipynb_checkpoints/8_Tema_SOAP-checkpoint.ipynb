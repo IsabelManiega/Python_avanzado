{
 "cells": [
  {
   "cell_type": "markdown",
   "id": "a379c5fd-0bc4-4517-be91-3a460a2ea875",
   "metadata": {},
   "source": [
    "*Creado por:*\n",
    "\n",
    "*Isabel Maniega*"
   ]
  },
  {
   "cell_type": "markdown",
   "id": "59def7f8-ca56-45f1-980d-02c163b92f5e",
   "metadata": {},
   "source": [
    "# SOAP\n",
    "\n",
    "SOAP (anteriormente conocido como Simple Object Access Protocol) es un protocolo ligero para el intercambio de información en entornos descentralizados y distribuidos. Los mensajes SOAP son las transmisiones de información de remitentes a destinatarios. Los mensajes SOAP se pueden combinar para crear patrones de petición/respuesta.\n",
    "\n",
    "SOAP es independiente del transporte pero habitualmente se lleva a través de HTTP para ejecutarse con la infraestructura de Internet existente. SOAP habilita el enlace y la utilización de servicios Web descubiertos definiendo una vía de acceso de mensajes para direccionar mensajes. \n",
    "\n",
    "SOAP es un protocolo basado en XML que define tres partes en todos los mensajes:\n",
    "\n",
    "- Sobre. El sobre define una infraestructura para describir qué hay en un mensaje y cómo procesarlo. Un mensaje SOAP es un sobre que contiene cero o varias cabeceras y exactamente un cuerpo. El sobre es el elemento superior del documento XML que proporciona un contenedor para la información de control, la dirección de un mensaje y el mensaje en sí. Las cabeceras transportan información de control como por ejemplo atributos de calidad de servicio. El cuerpo contiene la identificación del mensaje y sus parámetros. Tanto las cabeceras como el cuerpo son elementos hijo del sobre.\n",
    "- Reglas de codificación. El conjunto de reglas de codificación expresa instancias de tipos de datos definidos por la aplicación. Las normas de codificación definen un mecanismo de serialización que se puede utilizar para intercambiar instancias de tipos de datos definidos por la aplicación. SOAP define un esquema de tipo de datos independiente del lenguaje de programación basado en XSD y normas de codificación para todos los tipos de datos definidos de acuerdo a este modelo. \n",
    "- Estilos de comunicación. Las comunicaciones pueden seguir el formato RPC (llamada a procedimiento remoto) u orientado a mensajes (Documento).\n",
    "\n",
    "## WSDL (Web Services Description Language)\n",
    "\n",
    "WSDL (Web Services Description Language) es una especificación estándar para describir servicios basados en XML de red. Proporciona a los proveedores de servicios un modo sencillo de describir el formato básico de las peticiones a sus sistemas independientemente de la implementación del motor de ejecución subyacente.\n",
    "\n",
    "WSDL define un formato XML para describir servicios de red como un conjunto de puntos finales que operan en mensajes que contienen información orientada a documentos u orientada a procedimientos. Primero se describen las operaciones y mensajes de forma abstracta y luego se enlazan a un protocolo de red y formato de mensaje concreto para definir un punto final. Los puntos finales concretos relacionados se combinan en puntos finales abstractos (servicios). WSDL es ampliable para permitir la descripción de puntos finales y sus mensajes, independientemente de los formatos de mensaje o los protocolos de red que se utilicen para comunicarse. Esto significa que se definen las interfaces de forma abstracta con el esquema XML y luego se enlazan a representaciones concretas que son adecuadas para el protocolo.\n",
    "\n",
    "WSDL permite a los proveedores de servicios especificar las siguientes características de un servicio Web:\n",
    "\n",
    "- El nombre del servicio Web y la información de direccionamiento\n",
    "- El protocolo y el estilo de codificación que se van a utilizar al acceder a las operaciones públicas del servicio Web\n",
    "- La información de tipos, como las operaciones, los parámetros y los tipos de datos que componen la interfaz del servicio Web\n",
    "\n",
    "Los documentos WSDL permiten a los desarrolladores exponer sus aplicaciones como servicios accesibles de red en Internet. Mediante UDDI y WSIL, otras aplicaciones pueden encontrar documentos WSDL y enlazarlos para ejecutar transacciones o realizar otros procesos de empresa.\n",
    "\n",
    "**WSDL Documents**\n",
    "\n",
    "Un documento WSDL describe un servicio web. Especifica la ubicación del servicio y los métodos del servicio mediante estos elementos principales:\n",
    "\n",
    "Descripción del elemento:\n",
    "\n",
    "```<types>```\tDefine los tipos de datos (esquema XML) utilizados por el servicio web\n",
    "\n",
    "```<message>```\tDefine los elementos de datos para cada operación.\n",
    "\n",
    "```<portType>```\tDescribe las operaciones que se pueden realizar y los mensajes involucrados.\n",
    "\n",
    "```<binding>```\tDefine el protocolo y el formato de datos para cada tipo de puerto.\n",
    "\n",
    "La estructura principal de un documento WSDL se ve así:\n",
    "```\n",
    "<definitions>\n",
    "\n",
    "    <types>\n",
    "      data type definitions........\n",
    "    </types>\n",
    "    \n",
    "    <message>\n",
    "      definition of the data being communicated....\n",
    "    </message>\n",
    "    \n",
    "    <portType>\n",
    "      set of operations......\n",
    "    </portType>\n",
    "    \n",
    "    <binding>\n",
    "      protocol and data format specification....\n",
    "    </binding>\n",
    "\n",
    "</definitions>\n",
    "```\n",
    "\n",
    "## Módulo Zeep\n",
    "\n",
    "Trabajar con servicios web basados en SOAP puede ser a veces una tarea que requiere mucho tiempo, ya que hay que escribir el XML completo para realizar solicitudes de API y luego analizar el XML de respuesta para obtener los resultados deseados. Eso es un dolor de cabeza, ¿no? Bueno, ahí es cuando Zeep entra en juego. Zeep es un módulo puramente Python. Lo mejor de Zeep es que no es necesario escribir el XML en absoluto. Solo hay que crear un diccionario con todos los datos de solicitud relevantes y Zeep creará el XML por usted.\n",
    "\n",
    "Instalación con:"
   ]
  },
  {
   "cell_type": "code",
   "execution_count": 1,
   "id": "5b294a88-5fb4-4fae-b877-4f6657b16ad1",
   "metadata": {},
   "outputs": [],
   "source": [
    "# pip install zeep"
   ]
  },
  {
   "cell_type": "markdown",
   "id": "70ccce44-c76d-47ee-aced-08f09db2eda6",
   "metadata": {},
   "source": [
    "**Ejemplo de como usar zeep**"
   ]
  },
  {
   "cell_type": "markdown",
   "id": "cdadcf30-7245-4b16-ac79-2a5ce127eee3",
   "metadata": {},
   "source": [
    "Tenemos un servicio SOAP activo para una calculadora (http://www.dneonline.com/calculator.asmx), podemos examinar el archivo WSDL de los serivios que contienen, para ello pondremos en el terminal el siguiente comando:"
   ]
  },
  {
   "cell_type": "code",
   "execution_count": 12,
   "id": "a35f384d-df67-4fb4-b70a-986e470a8d33",
   "metadata": {},
   "outputs": [],
   "source": [
    "# python -mzeep http://www.dneonline.com/calculator.asmx?WSDL"
   ]
  },
  {
   "cell_type": "markdown",
   "id": "b829bd78-5525-4657-9ee7-0e459bf47ce1",
   "metadata": {},
   "source": [
    "Nos devuelve la siguiente salida:\n",
    "\n",
    "http://www.dneonline.com/calculator.asmx?WSDL\n",
    "\n",
    "```\n",
    "Prefixes:\n",
    "     xsd: http://www.w3.org/2001/XMLSchema\n",
    "     ns0: http://tempuri.org/\n",
    "\n",
    "Global elements:\n",
    "     ns0:Add(intA: xsd:int, intB: xsd:int)\n",
    "     ns0:AddResponse(AddResult: xsd:int)\n",
    "     ns0:Divide(intA: xsd:int, intB: xsd:int)\n",
    "     ns0:DivideResponse(DivideResult: xsd:int)\n",
    "     ns0:Multiply(intA: xsd:int, intB: xsd:int)\n",
    "     ns0:MultiplyResponse(MultiplyResult: xsd:int)\n",
    "     ns0:Subtract(intA: xsd:int, intB: xsd:int)\n",
    "     ns0:SubtractResponse(SubtractResult: xsd:int)\n",
    "     \n",
    "\n",
    "Global types:\n",
    "     xsd:anyType\n",
    "     xsd:ENTITIES\n",
    "     xsd:ENTITY\n",
    "     xsd:ID\n",
    "     xsd:IDREF\n",
    "     xsd:IDREFS\n",
    "     xsd:NCName\n",
    "     xsd:NMTOKEN\n",
    "     xsd:NMTOKENS\n",
    "     xsd:NOTATION\n",
    "     xsd:Name\n",
    "     xsd:QName\n",
    "     xsd:anySimpleType\n",
    "     xsd:anyURI\n",
    "     xsd:base64Binary\n",
    "     xsd:boolean\n",
    "     xsd:byte\n",
    "     xsd:date\n",
    "     xsd:dateTime\n",
    "     xsd:decimal\n",
    "     xsd:double\n",
    "     xsd:duration\n",
    "     xsd:float\n",
    "     xsd:gDay\n",
    "     xsd:gMonth\n",
    "     xsd:gMonthDay\n",
    "     xsd:gYear\n",
    "     xsd:gYearMonth\n",
    "     xsd:hexBinary\n",
    "     xsd:int\n",
    "     xsd:integer\n",
    "     xsd:language\n",
    "     xsd:long\n",
    "     xsd:negativeInteger\n",
    "     xsd:nonNegativeInteger\n",
    "     xsd:nonPositiveInteger\n",
    "     xsd:normalizedString\n",
    "     xsd:positiveInteger\n",
    "     xsd:short\n",
    "     xsd:string\n",
    "     xsd:time\n",
    "     xsd:token\n",
    "     xsd:unsignedByte\n",
    "     xsd:unsignedInt\n",
    "     xsd:unsignedLong\n",
    "     xsd:unsignedShort\n",
    "\n",
    "Bindings:\n",
    "     Soap11Binding: {http://tempuri.org/}CalculatorSoap\n",
    "     Soap12Binding: {http://tempuri.org/}CalculatorSoap12\n",
    "\n",
    "Service: Calculator\n",
    "     Port: CalculatorSoap (Soap11Binding: {http://tempuri.org/}CalculatorSoap)\n",
    "         Operations:\n",
    "            Add(intA: xsd:int, intB: xsd:int) -> AddResult: xsd:int\n",
    "            Divide(intA: xsd:int, intB: xsd:int) -> DivideResult: xsd:int\n",
    "            Multiply(intA: xsd:int, intB: xsd:int) -> MultiplyResult: xsd:int\n",
    "            Subtract(intA: xsd:int, intB: xsd:int) -> SubtractResult: xsd:int\n",
    "\n",
    "     Port: CalculatorSoap12 (Soap12Binding: {http://tempuri.org/}CalculatorSoap12)\n",
    "         Operations:\n",
    "            Add(intA: xsd:int, intB: xsd:int) -> AddResult: xsd:int\n",
    "            Divide(intA: xsd:int, intB: xsd:int) -> DivideResult: xsd:int\n",
    "            Multiply(intA: xsd:int, intB: xsd:int) -> MultiplyResult: xsd:int\n",
    "            Subtract(intA: xsd:int, intB: xsd:int) -> SubtractResult: xsd:int\n",
    "```\n",
    "\n",
    "Nos fijamos en la parte de servicios que es lo que la aplicaicón es capaz de hacer (suma, división, multiplicación y resta), veremos como implementarlo usando el módulo zeep:"
   ]
  },
  {
   "cell_type": "code",
   "execution_count": 13,
   "id": "8bb56b2f-b31e-4d30-8a95-46fe26fa2c9d",
   "metadata": {},
   "outputs": [
    {
     "data": {
      "text/plain": [
       "['__annotations__',\n",
       " '__class__',\n",
       " '__delattr__',\n",
       " '__dict__',\n",
       " '__dir__',\n",
       " '__doc__',\n",
       " '__enter__',\n",
       " '__eq__',\n",
       " '__exit__',\n",
       " '__format__',\n",
       " '__ge__',\n",
       " '__getattribute__',\n",
       " '__gt__',\n",
       " '__hash__',\n",
       " '__init__',\n",
       " '__init_subclass__',\n",
       " '__le__',\n",
       " '__lt__',\n",
       " '__module__',\n",
       " '__ne__',\n",
       " '__new__',\n",
       " '__reduce__',\n",
       " '__reduce_ex__',\n",
       " '__repr__',\n",
       " '__setattr__',\n",
       " '__sizeof__',\n",
       " '__str__',\n",
       " '__subclasshook__',\n",
       " '__weakref__',\n",
       " '_default_port_name',\n",
       " '_default_service',\n",
       " '_default_service_name',\n",
       " '_default_soapheaders',\n",
       " '_default_transport',\n",
       " '_get_port',\n",
       " '_get_service',\n",
       " 'bind',\n",
       " 'create_message',\n",
       " 'create_service',\n",
       " 'get_element',\n",
       " 'get_type',\n",
       " 'namespaces',\n",
       " 'plugins',\n",
       " 'service',\n",
       " 'set_default_soapheaders',\n",
       " 'set_ns_prefix',\n",
       " 'settings',\n",
       " 'transport',\n",
       " 'type_factory',\n",
       " 'wsdl',\n",
       " 'wsse']"
      ]
     },
     "execution_count": 13,
     "metadata": {},
     "output_type": "execute_result"
    }
   ],
   "source": [
    "import os\n",
    "import zeep\n",
    "\n",
    "WSDL_URL=\"http://www.dneonline.com/calculator.asmx?WSDL\"\n",
    "soap = zeep.Client(wsdl=WSDL_URL)\n",
    "dir(soap) # vemos los metodos disponibles, nos fijamos en el WSDL"
   ]
  },
  {
   "cell_type": "code",
   "execution_count": 14,
   "id": "6112453f-2ef9-449c-84b3-cd9ced7b5a8a",
   "metadata": {},
   "outputs": [
    {
     "data": {
      "text/plain": [
       "['__class__',\n",
       " '__delattr__',\n",
       " '__dict__',\n",
       " '__dir__',\n",
       " '__doc__',\n",
       " '__eq__',\n",
       " '__format__',\n",
       " '__ge__',\n",
       " '__getattribute__',\n",
       " '__gt__',\n",
       " '__hash__',\n",
       " '__init__',\n",
       " '__init_subclass__',\n",
       " '__le__',\n",
       " '__lt__',\n",
       " '__module__',\n",
       " '__ne__',\n",
       " '__new__',\n",
       " '__reduce__',\n",
       " '__reduce_ex__',\n",
       " '__repr__',\n",
       " '__setattr__',\n",
       " '__sizeof__',\n",
       " '__str__',\n",
       " '__subclasshook__',\n",
       " '__weakref__',\n",
       " '_add_definition',\n",
       " '_definitions',\n",
       " '_get_xml_document',\n",
       " 'bindings',\n",
       " 'dump',\n",
       " 'load',\n",
       " 'location',\n",
       " 'messages',\n",
       " 'port_types',\n",
       " 'services',\n",
       " 'settings',\n",
       " 'transport',\n",
       " 'types']"
      ]
     },
     "execution_count": 14,
     "metadata": {},
     "output_type": "execute_result"
    }
   ],
   "source": [
    "dir(soap.wsdl) # dentro de wsdl vemos que métodos tenemos"
   ]
  },
  {
   "cell_type": "code",
   "execution_count": 15,
   "id": "bae25a68-f088-43a3-8b64-65c5ad22d3dc",
   "metadata": {},
   "outputs": [
    {
     "data": {
      "text/plain": [
       "odict_keys(['Calculator'])"
      ]
     },
     "execution_count": 15,
     "metadata": {},
     "output_type": "execute_result"
    }
   ],
   "source": [
    "# accedemos a los servicios y pedimos las claves:\n",
    "\n",
    "soap.wsdl.services.keys()"
   ]
  },
  {
   "cell_type": "code",
   "execution_count": 16,
   "id": "48383b8b-8491-4082-867b-2685fbf7e017",
   "metadata": {},
   "outputs": [
    {
     "data": {
      "text/plain": [
       "odict_items([('Calculator', <Service(name='Calculator', ports=OrderedDict([('CalculatorSoap', <Port(name='CalculatorSoap', binding=<Soap11Binding(name='{http://tempuri.org/}CalculatorSoap', port_type=<PortType(name='{http://tempuri.org/}CalculatorSoap')>)>, {'address': 'http://www.dneonline.com/calculator.asmx'})>), ('CalculatorSoap12', <Port(name='CalculatorSoap12', binding=<Soap12Binding(name='{http://tempuri.org/}CalculatorSoap12', port_type=<PortType(name='{http://tempuri.org/}CalculatorSoap')>)>, {'address': 'http://www.dneonline.com/calculator.asmx'})>)]))>)])"
      ]
     },
     "execution_count": 16,
     "metadata": {},
     "output_type": "execute_result"
    }
   ],
   "source": [
    "# accedemos a las servicios y pedimos los elementos que lo componen:\n",
    "\n",
    "soap.wsdl.services.items()"
   ]
  },
  {
   "cell_type": "code",
   "execution_count": 17,
   "id": "d3868347-556b-431a-a731-06ae5ab45604",
   "metadata": {},
   "outputs": [
    {
     "data": {
      "text/plain": [
       "['Add',\n",
       " 'Divide',\n",
       " 'Multiply',\n",
       " 'Subtract',\n",
       " '__class__',\n",
       " '__delattr__',\n",
       " '__dir__',\n",
       " '__doc__',\n",
       " '__eq__',\n",
       " '__format__',\n",
       " '__ge__',\n",
       " '__get__',\n",
       " '__getattribute__',\n",
       " '__gt__',\n",
       " '__hash__',\n",
       " '__init__',\n",
       " '__init_subclass__',\n",
       " '__le__',\n",
       " '__lt__',\n",
       " '__ne__',\n",
       " '__new__',\n",
       " '__reduce__',\n",
       " '__reduce_ex__',\n",
       " '__repr__',\n",
       " '__self__',\n",
       " '__self_class__',\n",
       " '__setattr__',\n",
       " '__sizeof__',\n",
       " '__str__',\n",
       " '__subclasshook__',\n",
       " '__thisclass__']"
      ]
     },
     "execution_count": 17,
     "metadata": {},
     "output_type": "execute_result"
    }
   ],
   "source": [
    "# podemos ver los métodos disponibles en los servicios:\n",
    "\n",
    "dir(soap.service)"
   ]
  },
  {
   "cell_type": "code",
   "execution_count": 18,
   "id": "2ef68202-aee2-4616-afe5-142117ac3da3",
   "metadata": {},
   "outputs": [
    {
     "data": {
      "text/plain": [
       "10"
      ]
     },
     "execution_count": 18,
     "metadata": {},
     "output_type": "execute_result"
    }
   ],
   "source": [
    "# Vamos a testear el servicio en este caso con la suma de 5 + 5:\n",
    "\n",
    "soap.service.Add(5, 5)"
   ]
  },
  {
   "cell_type": "code",
   "execution_count": 20,
   "id": "d48d5ef5-fb79-417e-aa9f-cc23d36d51f8",
   "metadata": {},
   "outputs": [
    {
     "data": {
      "text/plain": [
       "2"
      ]
     },
     "execution_count": 20,
     "metadata": {},
     "output_type": "execute_result"
    }
   ],
   "source": [
    "# Vamos a testear el servicio en este caso con la dividir de 4 / 2:\n",
    "\n",
    "soap.service.Divide(4, 2)"
   ]
  },
  {
   "cell_type": "code",
   "execution_count": 21,
   "id": "15583402-5fe9-42fb-9326-cf93edfa11d0",
   "metadata": {},
   "outputs": [
    {
     "data": {
      "text/plain": [
       "8"
      ]
     },
     "execution_count": 21,
     "metadata": {},
     "output_type": "execute_result"
    }
   ],
   "source": [
    "# Vamos a testear el servicio en este caso con la multiplicar de  4 * 2:\n",
    "\n",
    "soap.service.Multiply(4, 2)"
   ]
  },
  {
   "cell_type": "code",
   "execution_count": 24,
   "id": "5ab9732c-749b-442e-8ef3-290e91e3c49b",
   "metadata": {},
   "outputs": [
    {
     "data": {
      "text/plain": [
       "2"
      ]
     },
     "execution_count": 24,
     "metadata": {},
     "output_type": "execute_result"
    }
   ],
   "source": [
    "# Vamos a testear el servicio en este caso con la resta de  4 - 2:\n",
    "soap.service.Subtract(4, 2)"
   ]
  },
  {
   "cell_type": "code",
   "execution_count": 26,
   "id": "0a09ef43-0646-40c8-afd7-4e32480cb8c6",
   "metadata": {},
   "outputs": [
    {
     "ename": "Fault",
     "evalue": "System.Web.Services.Protocols.SoapException: Server was unable to read request. ---> System.InvalidOperationException: There is an error in XML document (2, 165). ---> System.FormatException: Input string was not in a correct format.\n   at System.Number.StringToNumber(String str, NumberStyles options, NumberBuffer& number, NumberFormatInfo info, Boolean parseDecimal)\n   at System.Number.ParseInt32(String s, NumberStyles style, NumberFormatInfo info)\n   at System.Xml.XmlConvert.ToInt32(String s)\n   at Microsoft.Xml.Serialization.GeneratedAssembly.XmlSerializationReader1.Read3_Subtract()\n   at Microsoft.Xml.Serialization.GeneratedAssembly.ArrayOfObjectSerializer4.Deserialize(XmlSerializationReader reader)\n   at System.Xml.Serialization.XmlSerializer.Deserialize(XmlReader xmlReader, String encodingStyle, XmlDeserializationEvents events)\n   --- End of inner exception stack trace ---\n   at System.Xml.Serialization.XmlSerializer.Deserialize(XmlReader xmlReader, String encodingStyle, XmlDeserializationEvents events)\n   at System.Xml.Serialization.XmlSerializer.Deserialize(XmlReader xmlReader, String encodingStyle)\n   at System.Web.Services.Protocols.SoapServerProtocol.ReadParameters()\n   --- End of inner exception stack trace ---\n   at System.Web.Services.Protocols.SoapServerProtocol.ReadParameters()\n   at System.Web.Services.Protocols.WebServiceHandler.CoreProcessRequest()",
     "output_type": "error",
     "traceback": [
      "\u001b[0;31m---------------------------------------------------------------------------\u001b[0m",
      "\u001b[0;31mFault\u001b[0m                                     Traceback (most recent call last)",
      "Cell \u001b[0;32mIn[26], line 3\u001b[0m\n\u001b[1;32m      1\u001b[0m \u001b[38;5;66;03m# Nos arroja un error por que el servidor solo espera valores enteros:\u001b[39;00m\n\u001b[0;32m----> 3\u001b[0m \u001b[43msoap\u001b[49m\u001b[38;5;241;43m.\u001b[39;49m\u001b[43mservice\u001b[49m\u001b[38;5;241;43m.\u001b[39;49m\u001b[43mSubtract\u001b[49m\u001b[43m(\u001b[49m\u001b[38;5;241;43m4.2\u001b[39;49m\u001b[43m,\u001b[49m\u001b[43m \u001b[49m\u001b[38;5;241;43m2.2\u001b[39;49m\u001b[43m)\u001b[49m\n",
      "File \u001b[0;32m~/Documentos/Python_avanzado_cas/venv/lib/python3.10/site-packages/zeep/proxy.py:46\u001b[0m, in \u001b[0;36mOperationProxy.__call__\u001b[0;34m(self, *args, **kwargs)\u001b[0m\n\u001b[1;32m     43\u001b[0m \u001b[38;5;28;01mif\u001b[39;00m soap_headers:\n\u001b[1;32m     44\u001b[0m     kwargs[\u001b[38;5;124m\"\u001b[39m\u001b[38;5;124m_soapheaders\u001b[39m\u001b[38;5;124m\"\u001b[39m] \u001b[38;5;241m=\u001b[39m soap_headers\n\u001b[0;32m---> 46\u001b[0m \u001b[38;5;28;01mreturn\u001b[39;00m \u001b[38;5;28;43mself\u001b[39;49m\u001b[38;5;241;43m.\u001b[39;49m\u001b[43m_proxy\u001b[49m\u001b[38;5;241;43m.\u001b[39;49m\u001b[43m_binding\u001b[49m\u001b[38;5;241;43m.\u001b[39;49m\u001b[43msend\u001b[49m\u001b[43m(\u001b[49m\n\u001b[1;32m     47\u001b[0m \u001b[43m    \u001b[49m\u001b[38;5;28;43mself\u001b[39;49m\u001b[38;5;241;43m.\u001b[39;49m\u001b[43m_proxy\u001b[49m\u001b[38;5;241;43m.\u001b[39;49m\u001b[43m_client\u001b[49m\u001b[43m,\u001b[49m\n\u001b[1;32m     48\u001b[0m \u001b[43m    \u001b[49m\u001b[38;5;28;43mself\u001b[39;49m\u001b[38;5;241;43m.\u001b[39;49m\u001b[43m_proxy\u001b[49m\u001b[38;5;241;43m.\u001b[39;49m\u001b[43m_binding_options\u001b[49m\u001b[43m,\u001b[49m\n\u001b[1;32m     49\u001b[0m \u001b[43m    \u001b[49m\u001b[38;5;28;43mself\u001b[39;49m\u001b[38;5;241;43m.\u001b[39;49m\u001b[43m_op_name\u001b[49m\u001b[43m,\u001b[49m\n\u001b[1;32m     50\u001b[0m \u001b[43m    \u001b[49m\u001b[43margs\u001b[49m\u001b[43m,\u001b[49m\n\u001b[1;32m     51\u001b[0m \u001b[43m    \u001b[49m\u001b[43mkwargs\u001b[49m\u001b[43m,\u001b[49m\n\u001b[1;32m     52\u001b[0m \u001b[43m\u001b[49m\u001b[43m)\u001b[49m\n",
      "File \u001b[0;32m~/Documentos/Python_avanzado_cas/venv/lib/python3.10/site-packages/zeep/wsdl/bindings/soap.py:135\u001b[0m, in \u001b[0;36mSoapBinding.send\u001b[0;34m(self, client, options, operation, args, kwargs)\u001b[0m\n\u001b[1;32m    132\u001b[0m \u001b[38;5;28;01mif\u001b[39;00m client\u001b[38;5;241m.\u001b[39msettings\u001b[38;5;241m.\u001b[39mraw_response:\n\u001b[1;32m    133\u001b[0m     \u001b[38;5;28;01mreturn\u001b[39;00m response\n\u001b[0;32m--> 135\u001b[0m \u001b[38;5;28;01mreturn\u001b[39;00m \u001b[38;5;28;43mself\u001b[39;49m\u001b[38;5;241;43m.\u001b[39;49m\u001b[43mprocess_reply\u001b[49m\u001b[43m(\u001b[49m\u001b[43mclient\u001b[49m\u001b[43m,\u001b[49m\u001b[43m \u001b[49m\u001b[43moperation_obj\u001b[49m\u001b[43m,\u001b[49m\u001b[43m \u001b[49m\u001b[43mresponse\u001b[49m\u001b[43m)\u001b[49m\n",
      "File \u001b[0;32m~/Documentos/Python_avanzado_cas/venv/lib/python3.10/site-packages/zeep/wsdl/bindings/soap.py:229\u001b[0m, in \u001b[0;36mSoapBinding.process_reply\u001b[0;34m(self, client, operation, response)\u001b[0m\n\u001b[1;32m    227\u001b[0m fault_node \u001b[38;5;241m=\u001b[39m doc\u001b[38;5;241m.\u001b[39mfind(\u001b[38;5;124m\"\u001b[39m\u001b[38;5;124msoap-env:Body/soap-env:Fault\u001b[39m\u001b[38;5;124m\"\u001b[39m, namespaces\u001b[38;5;241m=\u001b[39m\u001b[38;5;28mself\u001b[39m\u001b[38;5;241m.\u001b[39mnsmap)\n\u001b[1;32m    228\u001b[0m \u001b[38;5;28;01mif\u001b[39;00m response\u001b[38;5;241m.\u001b[39mstatus_code \u001b[38;5;241m!=\u001b[39m \u001b[38;5;241m200\u001b[39m \u001b[38;5;129;01mor\u001b[39;00m fault_node \u001b[38;5;129;01mis\u001b[39;00m \u001b[38;5;129;01mnot\u001b[39;00m \u001b[38;5;28;01mNone\u001b[39;00m:\n\u001b[0;32m--> 229\u001b[0m     \u001b[38;5;28;01mreturn\u001b[39;00m \u001b[38;5;28;43mself\u001b[39;49m\u001b[38;5;241;43m.\u001b[39;49m\u001b[43mprocess_error\u001b[49m\u001b[43m(\u001b[49m\u001b[43mdoc\u001b[49m\u001b[43m,\u001b[49m\u001b[43m \u001b[49m\u001b[43moperation\u001b[49m\u001b[43m)\u001b[49m\n\u001b[1;32m    231\u001b[0m result \u001b[38;5;241m=\u001b[39m operation\u001b[38;5;241m.\u001b[39mprocess_reply(doc)\n\u001b[1;32m    233\u001b[0m \u001b[38;5;28;01mif\u001b[39;00m message_pack:\n",
      "File \u001b[0;32m~/Documentos/Python_avanzado_cas/venv/lib/python3.10/site-packages/zeep/wsdl/bindings/soap.py:329\u001b[0m, in \u001b[0;36mSoap11Binding.process_error\u001b[0;34m(self, doc, operation)\u001b[0m\n\u001b[1;32m    326\u001b[0m     \u001b[38;5;28;01mif\u001b[39;00m child \u001b[38;5;129;01mis\u001b[39;00m \u001b[38;5;129;01mnot\u001b[39;00m \u001b[38;5;28;01mNone\u001b[39;00m:\n\u001b[1;32m    327\u001b[0m         \u001b[38;5;28;01mreturn\u001b[39;00m child\u001b[38;5;241m.\u001b[39mtext\n\u001b[0;32m--> 329\u001b[0m \u001b[38;5;28;01mraise\u001b[39;00m Fault(\n\u001b[1;32m    330\u001b[0m     message\u001b[38;5;241m=\u001b[39mget_text(\u001b[38;5;124m\"\u001b[39m\u001b[38;5;124mfaultstring\u001b[39m\u001b[38;5;124m\"\u001b[39m),\n\u001b[1;32m    331\u001b[0m     code\u001b[38;5;241m=\u001b[39mget_text(\u001b[38;5;124m\"\u001b[39m\u001b[38;5;124mfaultcode\u001b[39m\u001b[38;5;124m\"\u001b[39m),\n\u001b[1;32m    332\u001b[0m     actor\u001b[38;5;241m=\u001b[39mget_text(\u001b[38;5;124m\"\u001b[39m\u001b[38;5;124mfaultactor\u001b[39m\u001b[38;5;124m\"\u001b[39m),\n\u001b[1;32m    333\u001b[0m     detail\u001b[38;5;241m=\u001b[39mfault_node\u001b[38;5;241m.\u001b[39mfind(\u001b[38;5;124m\"\u001b[39m\u001b[38;5;124mdetail\u001b[39m\u001b[38;5;124m\"\u001b[39m, namespaces\u001b[38;5;241m=\u001b[39mfault_node\u001b[38;5;241m.\u001b[39mnsmap),\n\u001b[1;32m    334\u001b[0m )\n",
      "\u001b[0;31mFault\u001b[0m: System.Web.Services.Protocols.SoapException: Server was unable to read request. ---> System.InvalidOperationException: There is an error in XML document (2, 165). ---> System.FormatException: Input string was not in a correct format.\n   at System.Number.StringToNumber(String str, NumberStyles options, NumberBuffer& number, NumberFormatInfo info, Boolean parseDecimal)\n   at System.Number.ParseInt32(String s, NumberStyles style, NumberFormatInfo info)\n   at System.Xml.XmlConvert.ToInt32(String s)\n   at Microsoft.Xml.Serialization.GeneratedAssembly.XmlSerializationReader1.Read3_Subtract()\n   at Microsoft.Xml.Serialization.GeneratedAssembly.ArrayOfObjectSerializer4.Deserialize(XmlSerializationReader reader)\n   at System.Xml.Serialization.XmlSerializer.Deserialize(XmlReader xmlReader, String encodingStyle, XmlDeserializationEvents events)\n   --- End of inner exception stack trace ---\n   at System.Xml.Serialization.XmlSerializer.Deserialize(XmlReader xmlReader, String encodingStyle, XmlDeserializationEvents events)\n   at System.Xml.Serialization.XmlSerializer.Deserialize(XmlReader xmlReader, String encodingStyle)\n   at System.Web.Services.Protocols.SoapServerProtocol.ReadParameters()\n   --- End of inner exception stack trace ---\n   at System.Web.Services.Protocols.SoapServerProtocol.ReadParameters()\n   at System.Web.Services.Protocols.WebServiceHandler.CoreProcessRequest()"
     ]
    }
   ],
   "source": [
    "# Nos arroja un error por que el servidor solo espera valores enteros:\n",
    "\n",
    "soap.service.Subtract(4.2, 2.2)"
   ]
  },
  {
   "cell_type": "markdown",
   "id": "aea236c5-b668-4389-ac00-88b839d5174c",
   "metadata": {},
   "source": [
    "*Creado por:*\n",
    "\n",
    "*Isabel Maniega*"
   ]
  }
 ],
 "metadata": {
  "kernelspec": {
   "display_name": "Python 3 (ipykernel)",
   "language": "python",
   "name": "python3"
  },
  "language_info": {
   "codemirror_mode": {
    "name": "ipython",
    "version": 3
   },
   "file_extension": ".py",
   "mimetype": "text/x-python",
   "name": "python",
   "nbconvert_exporter": "python",
   "pygments_lexer": "ipython3",
   "version": "3.10.12"
  }
 },
 "nbformat": 4,
 "nbformat_minor": 5
}
