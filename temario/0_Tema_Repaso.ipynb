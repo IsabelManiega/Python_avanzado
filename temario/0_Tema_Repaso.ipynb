{
 "cells": [
  {
   "cell_type": "markdown",
   "id": "1356b039-3206-490c-8d9d-b822475c530a",
   "metadata": {},
   "source": [
    "*Creado por:*\n",
    "\n",
    "*Isabel Maniega*"
   ]
  },
  {
   "cell_type": "markdown",
   "id": "fbdbaf64-3fe5-4547-a714-10eeeff2faae",
   "metadata": {},
   "source": [
    "# Tuplas"
   ]
  },
  {
   "cell_type": "code",
   "execution_count": 6,
   "id": "cd89f7b5-343f-45d2-932b-db8c7490239b",
   "metadata": {},
   "outputs": [
    {
     "data": {
      "text/plain": [
       "(1, 3, 4, 8)"
      ]
     },
     "execution_count": 6,
     "metadata": {},
     "output_type": "execute_result"
    }
   ],
   "source": [
    "a = (1, 3, 4, 8) # 0, 1, 2, 3...\n",
    "a"
   ]
  },
  {
   "cell_type": "code",
   "execution_count": 7,
   "id": "ed90d217-c58b-418c-b897-7c04825ca404",
   "metadata": {},
   "outputs": [
    {
     "data": {
      "text/plain": [
       "4"
      ]
     },
     "execution_count": 7,
     "metadata": {},
     "output_type": "execute_result"
    }
   ],
   "source": [
    "a[2]"
   ]
  },
  {
   "cell_type": "code",
   "execution_count": 8,
   "id": "32e9f67d-b4b8-4d07-a7a4-742ba2577b1e",
   "metadata": {},
   "outputs": [
    {
     "data": {
      "text/plain": [
       "8"
      ]
     },
     "execution_count": 8,
     "metadata": {},
     "output_type": "execute_result"
    }
   ],
   "source": [
    "a[-1]"
   ]
  },
  {
   "cell_type": "code",
   "execution_count": 4,
   "id": "a8cb899d-84a7-47ff-900a-99c25aeb1b6a",
   "metadata": {},
   "outputs": [
    {
     "ename": "AttributeError",
     "evalue": "'tuple' object has no attribute 'append'",
     "output_type": "error",
     "traceback": [
      "\u001b[0;31m---------------------------------------------------------------------------\u001b[0m",
      "\u001b[0;31mAttributeError\u001b[0m                            Traceback (most recent call last)",
      "Cell \u001b[0;32mIn[4], line 1\u001b[0m\n\u001b[0;32m----> 1\u001b[0m \u001b[43ma\u001b[49m\u001b[38;5;241;43m.\u001b[39;49m\u001b[43mappend\u001b[49m(\u001b[38;5;241m8\u001b[39m)\n\u001b[1;32m      2\u001b[0m a\n",
      "\u001b[0;31mAttributeError\u001b[0m: 'tuple' object has no attribute 'append'"
     ]
    }
   ],
   "source": [
    "# apendizar valors en tuplas\n",
    "a.append(8)\n",
    "a"
   ]
  },
  {
   "cell_type": "code",
   "execution_count": 38,
   "id": "2017e012-2785-495c-8b73-c173efc895c2",
   "metadata": {},
   "outputs": [
    {
     "ename": "TypeError",
     "evalue": "'tuple' object does not support item assignment",
     "output_type": "error",
     "traceback": [
      "\u001b[0;31m---------------------------------------------------------------------------\u001b[0m",
      "\u001b[0;31mTypeError\u001b[0m                                 Traceback (most recent call last)",
      "Cell \u001b[0;32mIn[38], line 2\u001b[0m\n\u001b[1;32m      1\u001b[0m \u001b[38;5;66;03m# Modificar valores:\u001b[39;00m\n\u001b[0;32m----> 2\u001b[0m \u001b[43ma\u001b[49m\u001b[43m[\u001b[49m\u001b[38;5;241;43m0\u001b[39;49m\u001b[43m]\u001b[49m \u001b[38;5;241m=\u001b[39m \u001b[38;5;241m10\u001b[39m\n\u001b[1;32m      3\u001b[0m a\n",
      "\u001b[0;31mTypeError\u001b[0m: 'tuple' object does not support item assignment"
     ]
    }
   ],
   "source": [
    "# Modificar valores:\n",
    "a[0] = 10\n",
    "a"
   ]
  },
  {
   "cell_type": "code",
   "execution_count": 41,
   "id": "8b3f52b5-4ea6-461d-ad46-714b1575d81e",
   "metadata": {},
   "outputs": [
    {
     "name": "stdout",
     "output_type": "stream",
     "text": [
      "<class 'tuple'>\n"
     ]
    }
   ],
   "source": [
    "# Poner siempre una coma al final para asegurarnos que es una tupla, \n",
    "# NO un entero (int)\n",
    "\n",
    "b = (10,)\n",
    "print(type(b))"
   ]
  },
  {
   "cell_type": "code",
   "execution_count": 40,
   "id": "2c5a9a2b-f192-49e1-aac7-7ab6ffebe600",
   "metadata": {},
   "outputs": [],
   "source": [
    "# concatenación de tuplas:\n",
    "c = a + b"
   ]
  },
  {
   "cell_type": "code",
   "execution_count": 9,
   "id": "611d4f5e-57f5-4c11-b2bb-02d79ccd3cc5",
   "metadata": {},
   "outputs": [
    {
     "data": {
      "text/plain": [
       "(1, 3, 4, 8, 10)"
      ]
     },
     "execution_count": 9,
     "metadata": {},
     "output_type": "execute_result"
    }
   ],
   "source": [
    "c"
   ]
  },
  {
   "cell_type": "markdown",
   "id": "b4564d28-aaaa-42b0-bd27-efb227530693",
   "metadata": {},
   "source": [
    "* Las tuplas NO se pueden apendizar ni modificar\n",
    "* Las tuplas se pueden concatenar"
   ]
  },
  {
   "cell_type": "markdown",
   "id": "8f1191b4-61e1-447d-b226-532b6862def6",
   "metadata": {},
   "source": [
    "# Listas"
   ]
  },
  {
   "cell_type": "code",
   "execution_count": 42,
   "id": "2edafa44-4f4b-4b0b-a317-302dee5bc691",
   "metadata": {},
   "outputs": [
    {
     "data": {
      "text/plain": [
       "[1, 8, 7, 7]"
      ]
     },
     "execution_count": 42,
     "metadata": {},
     "output_type": "execute_result"
    }
   ],
   "source": [
    "# izq > derch: 0, 1, 2,...\n",
    "# derch > izq: -1, -2, -3, ...\n",
    "D = [1, 8, 7, 7] \n",
    "D"
   ]
  },
  {
   "cell_type": "code",
   "execution_count": 11,
   "id": "f9a9d85c-97c0-4e6e-976b-03e0789a85ed",
   "metadata": {},
   "outputs": [
    {
     "data": {
      "text/plain": [
       "list"
      ]
     },
     "execution_count": 11,
     "metadata": {},
     "output_type": "execute_result"
    }
   ],
   "source": [
    "type(D)"
   ]
  },
  {
   "cell_type": "code",
   "execution_count": 12,
   "id": "f44f367f-3e2f-4817-9ec0-e9caaaa36691",
   "metadata": {},
   "outputs": [
    {
     "data": {
      "text/plain": [
       "[1, 3, 4, 8, 10]"
      ]
     },
     "execution_count": 12,
     "metadata": {},
     "output_type": "execute_result"
    }
   ],
   "source": [
    "F = list((c))\n",
    "F"
   ]
  },
  {
   "cell_type": "code",
   "execution_count": 13,
   "id": "6141f1bc-5982-45be-987e-d7174bdd8e9d",
   "metadata": {},
   "outputs": [
    {
     "data": {
      "text/plain": [
       "[1, 3, 4, 8, 10, 400]"
      ]
     },
     "execution_count": 13,
     "metadata": {},
     "output_type": "execute_result"
    }
   ],
   "source": [
    "F.append(400)\n",
    "F"
   ]
  },
  {
   "cell_type": "code",
   "execution_count": 14,
   "id": "bece1878-2071-4eee-9b6a-24e75c9a9a79",
   "metadata": {},
   "outputs": [
    {
     "data": {
      "text/plain": [
       "[74, 3, 4, 8, 10, 400]"
      ]
     },
     "execution_count": 14,
     "metadata": {},
     "output_type": "execute_result"
    }
   ],
   "source": [
    "F[0] = 74\n",
    "F"
   ]
  },
  {
   "cell_type": "code",
   "execution_count": 15,
   "id": "5acbeb3d-1365-473b-898f-e0c86f8a9dd7",
   "metadata": {},
   "outputs": [
    {
     "data": {
      "text/plain": [
       "[1, 2]"
      ]
     },
     "execution_count": 15,
     "metadata": {},
     "output_type": "execute_result"
    }
   ],
   "source": [
    "G = [1, 2,]\n",
    "G"
   ]
  },
  {
   "cell_type": "code",
   "execution_count": 16,
   "id": "542a75aa-527a-4e86-9efd-9cb1a597812c",
   "metadata": {},
   "outputs": [],
   "source": [
    "R = F + G"
   ]
  },
  {
   "cell_type": "code",
   "execution_count": 17,
   "id": "8bb505ca-0777-4ce7-bc19-8f4b53546ace",
   "metadata": {},
   "outputs": [
    {
     "data": {
      "text/plain": [
       "[74, 3, 4, 8, 10, 400, 1, 2]"
      ]
     },
     "execution_count": 17,
     "metadata": {},
     "output_type": "execute_result"
    }
   ],
   "source": [
    "R"
   ]
  },
  {
   "cell_type": "code",
   "execution_count": 33,
   "id": "b0280c2a-8f84-4b18-a812-55959f0b1b8b",
   "metadata": {},
   "outputs": [
    {
     "data": {
      "text/plain": [
       "502"
      ]
     },
     "execution_count": 33,
     "metadata": {},
     "output_type": "execute_result"
    }
   ],
   "source": [
    "sum(R)"
   ]
  },
  {
   "cell_type": "code",
   "execution_count": 39,
   "id": "4b6bed90-dd18-4b3b-a118-b00511c39e1c",
   "metadata": {},
   "outputs": [
    {
     "data": {
      "text/plain": [
       "(400, 1)"
      ]
     },
     "execution_count": 39,
     "metadata": {},
     "output_type": "execute_result"
    }
   ],
   "source": [
    "max(R), min(R)"
   ]
  },
  {
   "cell_type": "markdown",
   "id": "84fc0a76-9770-489b-af38-46415024ba3f",
   "metadata": {},
   "source": [
    "* Las listas se pueden apendizar y modificar\n",
    "* Las listas se pueden concatenar"
   ]
  },
  {
   "cell_type": "markdown",
   "id": "aad11973-2645-4af0-9fb2-4811f1c6569c",
   "metadata": {},
   "source": [
    "# List comprehension"
   ]
  },
  {
   "cell_type": "code",
   "execution_count": 4,
   "id": "00506b61-7f1c-4287-8cd7-ae84ab3d5d27",
   "metadata": {},
   "outputs": [
    {
     "data": {
      "text/plain": [
       "[74, 3, 4, 8, 10, 400, 1, 2]"
      ]
     },
     "execution_count": 4,
     "metadata": {},
     "output_type": "execute_result"
    }
   ],
   "source": [
    "listado = [74, 3, 4, 8, 10, 400, 1, 2]\n",
    "listado"
   ]
  },
  {
   "cell_type": "code",
   "execution_count": 5,
   "id": "22aa4def-f91a-4fba-aadc-649f9f367521",
   "metadata": {},
   "outputs": [
    {
     "data": {
      "text/plain": [
       "[74, 8, 10, 400]"
      ]
     },
     "execution_count": 5,
     "metadata": {},
     "output_type": "execute_result"
    }
   ],
   "source": [
    "listado_a = []\n",
    "\n",
    "for valor in listado:\n",
    "    if valor >= 8:\n",
    "        listado_a.append(valor)\n",
    "\n",
    "listado_a"
   ]
  },
  {
   "cell_type": "code",
   "execution_count": 6,
   "id": "20b17c92-6231-4430-9f50-3f75b239cfa5",
   "metadata": {},
   "outputs": [
    {
     "data": {
      "text/plain": [
       "[74, 8, 10, 400]"
      ]
     },
     "execution_count": 6,
     "metadata": {},
     "output_type": "execute_result"
    }
   ],
   "source": [
    "listado_b = [valor for valor in listado if valor >= 8]\n",
    "listado_b"
   ]
  },
  {
   "cell_type": "code",
   "execution_count": 7,
   "id": "0ff27017-5010-4c48-b951-7208dc64d511",
   "metadata": {},
   "outputs": [
    {
     "data": {
      "text/plain": [
       "<generator object <genexpr> at 0x7d3609546340>"
      ]
     },
     "execution_count": 7,
     "metadata": {},
     "output_type": "execute_result"
    }
   ],
   "source": [
    "# Es un generador que la variable sólo existe una vez\n",
    "listado_b = (valor for valor in listado if valor >= 8)\n",
    "listado_b"
   ]
  },
  {
   "cell_type": "code",
   "execution_count": 9,
   "id": "9dc99c03-a24a-48a2-ae4c-9acaafed62af",
   "metadata": {},
   "outputs": [],
   "source": [
    "# Al consumir el generador este desaparece:\n",
    "for i in listado_b:\n",
    "    print(i)"
   ]
  },
  {
   "cell_type": "markdown",
   "id": "18da0c77-63ce-4d5a-9de8-dddf2f480420",
   "metadata": {},
   "source": [
    "# Bucles"
   ]
  },
  {
   "cell_type": "code",
   "execution_count": 1,
   "id": "9be3efae-9fa7-4006-96a7-f8e50f9decee",
   "metadata": {},
   "outputs": [
    {
     "name": "stdout",
     "output_type": "stream",
     "text": [
      "5\n",
      "8\n",
      "9\n"
     ]
    }
   ],
   "source": [
    "# break: romper la iteración.\n",
    "\n",
    "lista = [5, 8, 9, 7, 6, 4]\n",
    "\n",
    "for i in lista:\n",
    "    if i == 7:\n",
    "        break\n",
    "    else:\n",
    "        print(i)"
   ]
  },
  {
   "cell_type": "code",
   "execution_count": 2,
   "id": "927a107a-2b34-4c7e-b607-9c4780ded7fd",
   "metadata": {},
   "outputs": [
    {
     "name": "stdout",
     "output_type": "stream",
     "text": [
      "5\n",
      "8\n",
      "9\n",
      "6\n",
      "4\n"
     ]
    }
   ],
   "source": [
    "# continue: continua la iteración.\n",
    "\n",
    "lista = [5, 8, 9, 7, 6, 4]\n",
    "\n",
    "for i in lista:\n",
    "    if i == 7:\n",
    "        continue\n",
    "    else:\n",
    "        print(i)"
   ]
  },
  {
   "cell_type": "code",
   "execution_count": 3,
   "id": "8a7f00b3-dced-45b1-ab2e-4840ab492366",
   "metadata": {},
   "outputs": [
    {
     "name": "stdout",
     "output_type": "stream",
     "text": [
      "5\n",
      "8\n",
      "9\n",
      "6\n",
      "4\n"
     ]
    }
   ],
   "source": [
    "# pass: continua la iteración.\n",
    "\n",
    "lista = [5, 8, 9, 7, 6, 4]\n",
    "\n",
    "for i in lista:\n",
    "    if i == 7:\n",
    "        pass\n",
    "    else:\n",
    "        print(i)"
   ]
  },
  {
   "cell_type": "markdown",
   "id": "9c1f5d55-0248-4468-8420-a0940e806e35",
   "metadata": {},
   "source": [
    "# Prints"
   ]
  },
  {
   "cell_type": "code",
   "execution_count": 4,
   "id": "78d72ef5-eb90-4ec2-8b7e-8c8e05957ae2",
   "metadata": {},
   "outputs": [
    {
     "name": "stdout",
     "output_type": "stream",
     "text": [
      "Hola-Mundo\n"
     ]
    }
   ],
   "source": [
    "print('Hola', end='-')\n",
    "print('Mundo')"
   ]
  },
  {
   "cell_type": "code",
   "execution_count": 5,
   "id": "3101fa09-6075-499c-9531-33b51dfd0394",
   "metadata": {},
   "outputs": [
    {
     "name": "stdout",
     "output_type": "stream",
     "text": [
      "1*2*3\n"
     ]
    }
   ],
   "source": [
    "print(1, 2, 3, sep='*')"
   ]
  },
  {
   "cell_type": "markdown",
   "id": "745db8c7-4693-4d77-ab04-91518f6b7a7a",
   "metadata": {},
   "source": [
    "# Asignación y copias en variables"
   ]
  },
  {
   "cell_type": "code",
   "execution_count": 9,
   "id": "2ae3fe66-1681-4266-aa7e-bdf787f9f704",
   "metadata": {},
   "outputs": [
    {
     "name": "stdout",
     "output_type": "stream",
     "text": [
      "[10, 5, 7, 6]\n",
      "[10, 5, 7, 6]\n",
      "True\n",
      "True\n"
     ]
    }
   ],
   "source": [
    "x = [1, 5, 7, 6]\n",
    "y = x\n",
    "y[0] = 10\n",
    "\n",
    "print(x) # [10, 5, 7, 6]\n",
    "print(y) # [10, 5, 7, 6]\n",
    "print(x == y)\n",
    "print(x is y)"
   ]
  },
  {
   "cell_type": "code",
   "execution_count": 10,
   "id": "7cd1c086-40df-450d-915a-c801e6e57029",
   "metadata": {},
   "outputs": [
    {
     "name": "stdout",
     "output_type": "stream",
     "text": [
      "[1, 5, 7, 6]\n",
      "[10, 5, 7, 6]\n"
     ]
    }
   ],
   "source": [
    "x = [1, 5, 7, 6]\n",
    "y = x[:]\n",
    "y[0] = 10\n",
    "\n",
    "print(x) # [1, 5, 7, 6]\n",
    "print(y) # [10, 5, 7, 6]"
   ]
  },
  {
   "cell_type": "code",
   "execution_count": 11,
   "id": "cd4928fa-bc52-4dad-a658-2e036eb4f0f9",
   "metadata": {},
   "outputs": [
    {
     "name": "stdout",
     "output_type": "stream",
     "text": [
      "[1, 5, 7, 6]\n",
      "[1, 5, 7, 6]\n",
      "True\n",
      "False\n"
     ]
    }
   ],
   "source": [
    "x = [1, 5, 7, 6]\n",
    "y = x[:]\n",
    "\n",
    "print(x) # [1, 5, 7, 6]\n",
    "print(y) # [1, 5, 7, 6]\n",
    "print(x == y)\n",
    "print(x is y)"
   ]
  },
  {
   "cell_type": "markdown",
   "id": "c9633957-9443-44da-b05e-bf78de64df56",
   "metadata": {},
   "source": [
    "# Strings"
   ]
  },
  {
   "cell_type": "markdown",
   "id": "b8d65efb-25b4-43c8-970f-0f5237ac7f2d",
   "metadata": {},
   "source": [
    "**Concatenación**"
   ]
  },
  {
   "cell_type": "code",
   "execution_count": 1,
   "id": "2421a281-7294-48ee-b678-2c29cf12a2ff",
   "metadata": {},
   "outputs": [
    {
     "data": {
      "text/plain": [
       "'Hola Mundo'"
      ]
     },
     "execution_count": 1,
     "metadata": {},
     "output_type": "execute_result"
    }
   ],
   "source": [
    "strings = 'Hola ' + 'Mundo'\n",
    "strings"
   ]
  },
  {
   "cell_type": "code",
   "execution_count": 2,
   "id": "4c847275-fcd9-45fa-9927-193bd36c2a58",
   "metadata": {},
   "outputs": [
    {
     "data": {
      "text/plain": [
       "'Hola Mundo'"
      ]
     },
     "execution_count": 2,
     "metadata": {},
     "output_type": "execute_result"
    }
   ],
   "source": [
    "strings = 'Hola'+ ' ' + 'Mundo'\n",
    "strings"
   ]
  },
  {
   "cell_type": "markdown",
   "id": "0337e360-4bd4-49a4-a4fc-3f8bf39a7669",
   "metadata": {},
   "source": [
    "**Multiplicación**"
   ]
  },
  {
   "cell_type": "code",
   "execution_count": 4,
   "id": "90ba8d90-599a-4a1f-acb0-99d333edb2e3",
   "metadata": {},
   "outputs": [
    {
     "data": {
      "text/plain": [
       "'aa'"
      ]
     },
     "execution_count": 4,
     "metadata": {},
     "output_type": "execute_result"
    }
   ],
   "source": [
    "# Cuando se multiplica por un número un strings,\n",
    "# este se repite tantas veces como nos indique el número\n",
    "\n",
    "repeticion = 2 * 'a'\n",
    "repeticion"
   ]
  },
  {
   "cell_type": "code",
   "execution_count": 10,
   "id": "fd8e74d8-1722-47b2-b0d7-5bfaf1a96ebd",
   "metadata": {},
   "outputs": [
    {
     "data": {
      "text/plain": [
       "'aaaaaaaaaa'"
      ]
     },
     "execution_count": 10,
     "metadata": {},
     "output_type": "execute_result"
    }
   ],
   "source": [
    "repeticion = 10 * 'a'\n",
    "repeticion"
   ]
  },
  {
   "cell_type": "markdown",
   "id": "4019ba77-c5e0-40c6-8a7d-f4826ae9444f",
   "metadata": {},
   "source": [
    "**join()**"
   ]
  },
  {
   "cell_type": "code",
   "execution_count": 24,
   "id": "32f9c676-86f4-499e-9960-70876e1c893d",
   "metadata": {},
   "outputs": [
    {
     "data": {
      "text/plain": [
       "'H-o-l-a- -M-u-n-d-o'"
      ]
     },
     "execution_count": 24,
     "metadata": {},
     "output_type": "execute_result"
    }
   ],
   "source": [
    "strings = \"Hola Mundo\"\n",
    "strings = '-'.join(strings)\n",
    "strings"
   ]
  },
  {
   "cell_type": "markdown",
   "id": "05f6832e-e69f-44df-9b98-d3aca3a89c3f",
   "metadata": {},
   "source": [
    "**Signo de escape ```\\```**"
   ]
  },
  {
   "cell_type": "code",
   "execution_count": 28,
   "id": "7003f384-231a-470c-9b2d-6dc56059e230",
   "metadata": {},
   "outputs": [
    {
     "name": "stdout",
     "output_type": "stream",
     "text": [
      "Hola \n",
      "Mundo\n"
     ]
    }
   ],
   "source": [
    "# \\ signo de escape + n (newline)\n",
    "print('Hola \\nMundo')"
   ]
  },
  {
   "cell_type": "code",
   "execution_count": 29,
   "id": "1304979a-b33b-414d-aee4-b73ff23eceaf",
   "metadata": {},
   "outputs": [
    {
     "name": "stdout",
     "output_type": "stream",
     "text": [
      "Hola\n",
      "\\\n",
      "Mundo\n"
     ]
    }
   ],
   "source": [
    "print('Hola')\n",
    "print('\\\\')\n",
    "print('Mundo')"
   ]
  },
  {
   "cell_type": "code",
   "execution_count": 30,
   "id": "b9570e9d-10c8-4c15-9586-89e003b089f6",
   "metadata": {},
   "outputs": [
    {
     "name": "stdout",
     "output_type": "stream",
     "text": [
      "Hola\n",
      "\\\\\n",
      "Mundo\n"
     ]
    }
   ],
   "source": [
    "print('Hola')\n",
    "print('\\\\\\\\')\n",
    "print('Mundo')"
   ]
  },
  {
   "cell_type": "code",
   "execution_count": 33,
   "id": "ff05b9f6-c753-4e48-9e1d-30cd23e365fe",
   "metadata": {},
   "outputs": [
    {
     "ename": "SyntaxError",
     "evalue": "unterminated string literal (detected at line 2) (2084114708.py, line 2)",
     "output_type": "error",
     "traceback": [
      "\u001b[0;36m  Cell \u001b[0;32mIn[33], line 2\u001b[0;36m\u001b[0m\n\u001b[0;31m    print('\\')\u001b[0m\n\u001b[0m          ^\u001b[0m\n\u001b[0;31mSyntaxError\u001b[0m\u001b[0;31m:\u001b[0m unterminated string literal (detected at line 2)\n"
     ]
    }
   ],
   "source": [
    "print('Hola')\n",
    "print('\\')\n",
    "print('Mundo')"
   ]
  },
  {
   "cell_type": "markdown",
   "id": "5b6b44ef-8dd4-4496-a3c3-fafdd8da0007",
   "metadata": {},
   "source": [
    "# Args vs Kwargs"
   ]
  },
  {
   "cell_type": "code",
   "execution_count": 23,
   "id": "b0c9b355-fc28-4bb6-9936-bfc9f754bb94",
   "metadata": {},
   "outputs": [
    {
     "data": {
      "text/plain": [
       "(4, (2, 3, 4), {'singleton': 25, 'decorador': 'Hola'})"
      ]
     },
     "execution_count": 23,
     "metadata": {},
     "output_type": "execute_result"
    }
   ],
   "source": [
    "# *args: son todos los valores numericos, devueltos como una tupla\n",
    "# **kwargs: son todos los valores asignados como variables devueltos como diccionario:\n",
    "\n",
    "def new_func(x=1, y=2, *args, **kwargs):\n",
    "    z = x + y\n",
    "    return z, args, kwargs\n",
    "\n",
    "new_func(2, 2, 2, 3, 4, singleton=25, decorador='Hola')"
   ]
  },
  {
   "cell_type": "markdown",
   "id": "7d13f457-99e8-4bcf-b80c-9883a795c714",
   "metadata": {},
   "source": [
    "# Función lambda"
   ]
  },
  {
   "cell_type": "code",
   "execution_count": 34,
   "id": "e532f934-250d-4ad5-a653-1b3fc02306c5",
   "metadata": {},
   "outputs": [],
   "source": [
    "def funcion_suma(x, y):\n",
    "    return x + y"
   ]
  },
  {
   "cell_type": "code",
   "execution_count": 35,
   "id": "3f73c62d-0578-4153-a177-3b7579091469",
   "metadata": {},
   "outputs": [
    {
     "data": {
      "text/plain": [
       "5"
      ]
     },
     "execution_count": 35,
     "metadata": {},
     "output_type": "execute_result"
    }
   ],
   "source": [
    "funcion_suma(3, 2)"
   ]
  },
  {
   "cell_type": "code",
   "execution_count": 37,
   "id": "de1fb4f4-d48d-40a4-89d2-2f4b7fe3b867",
   "metadata": {},
   "outputs": [
    {
     "data": {
      "text/plain": [
       "5"
      ]
     },
     "execution_count": 37,
     "metadata": {},
     "output_type": "execute_result"
    }
   ],
   "source": [
    "# LAMBDA ES LA FUNCIÓN ANÓNIMA:\n",
    "\n",
    "(lambda x, y: x + y)(3, 2)"
   ]
  },
  {
   "cell_type": "code",
   "execution_count": 38,
   "id": "a8dc5480-cc53-4352-9ae8-877b60c0d631",
   "metadata": {},
   "outputs": [
    {
     "data": {
      "text/plain": [
       "5"
      ]
     },
     "execution_count": 38,
     "metadata": {},
     "output_type": "execute_result"
    }
   ],
   "source": [
    "funcion_suma = lambda x, y: x + y\n",
    "funcion_suma(3, 2)"
   ]
  },
  {
   "cell_type": "code",
   "execution_count": 39,
   "id": "9d6afff4-37b3-44ea-9509-28a8fedf0e76",
   "metadata": {},
   "outputs": [
    {
     "data": {
      "text/plain": [
       "15"
      ]
     },
     "execution_count": 39,
     "metadata": {},
     "output_type": "execute_result"
    }
   ],
   "source": [
    "funcion_suma(7, 8)"
   ]
  },
  {
   "cell_type": "markdown",
   "id": "83d1df93-9c65-4396-996d-114af7541273",
   "metadata": {},
   "source": [
    "# Importar modulos"
   ]
  },
  {
   "cell_type": "markdown",
   "id": "bce992ac-8a19-4f4d-b929-4d8b02380cbb",
   "metadata": {},
   "source": [
    "**A)** Importar el modulo:\n",
    "\n",
    "```import math```"
   ]
  },
  {
   "cell_type": "code",
   "execution_count": 41,
   "id": "f5ef250b-9697-41c0-b263-dcf7419c59ea",
   "metadata": {},
   "outputs": [
    {
     "data": {
      "text/plain": [
       "1.0"
      ]
     },
     "execution_count": 41,
     "metadata": {},
     "output_type": "execute_result"
    }
   ],
   "source": [
    "import math\n",
    "\n",
    "math.sin(math.pi/2)"
   ]
  },
  {
   "cell_type": "markdown",
   "id": "7217d74a-a3cd-4bd0-a4a3-df0be1ccb675",
   "metadata": {},
   "source": [
    "**modulo + '.' + entidad**"
   ]
  },
  {
   "cell_type": "markdown",
   "id": "f1518751-15e2-4ecb-8ed2-3f5eb897184f",
   "metadata": {},
   "source": [
    "**B)** Importar el modulo + entidad:\n",
    "\n",
    "```from math import sin```\n",
    "\n",
    "* from para importar el modulo\n",
    "* import importar la entidad"
   ]
  },
  {
   "cell_type": "code",
   "execution_count": 43,
   "id": "228f846f-5af5-4489-890e-8042533c9d9a",
   "metadata": {},
   "outputs": [
    {
     "data": {
      "text/plain": [
       "1.0"
      ]
     },
     "execution_count": 43,
     "metadata": {},
     "output_type": "execute_result"
    }
   ],
   "source": [
    "from math import sin, pi\n",
    "\n",
    "sin(pi/2)"
   ]
  },
  {
   "cell_type": "markdown",
   "id": "7523fd6d-160c-4e65-a60c-fb59b1ce89d5",
   "metadata": {},
   "source": [
    "**C)** Importar el modulo y todas las entidades:\n",
    "\n",
    "```from math import *```\n",
    "\n",
    "* from para importar el modulo\n",
    "* import importar TODO"
   ]
  },
  {
   "cell_type": "code",
   "execution_count": 44,
   "id": "d8bd6ae2-77a1-4fd1-8e63-b1e5d4e76b1e",
   "metadata": {},
   "outputs": [
    {
     "data": {
      "text/plain": [
       "1.0"
      ]
     },
     "execution_count": 44,
     "metadata": {},
     "output_type": "execute_result"
    }
   ],
   "source": [
    "from math import *\n",
    "\n",
    "sin(pi/2)"
   ]
  },
  {
   "cell_type": "code",
   "execution_count": 45,
   "id": "a7964043-9015-4eb7-bb8d-6c7ce15c206c",
   "metadata": {},
   "outputs": [
    {
     "data": {
      "text/plain": [
       "['__doc__',\n",
       " '__loader__',\n",
       " '__name__',\n",
       " '__package__',\n",
       " '__spec__',\n",
       " 'acos',\n",
       " 'acosh',\n",
       " 'asin',\n",
       " 'asinh',\n",
       " 'atan',\n",
       " 'atan2',\n",
       " 'atanh',\n",
       " 'ceil',\n",
       " 'comb',\n",
       " 'copysign',\n",
       " 'cos',\n",
       " 'cosh',\n",
       " 'degrees',\n",
       " 'dist',\n",
       " 'e',\n",
       " 'erf',\n",
       " 'erfc',\n",
       " 'exp',\n",
       " 'expm1',\n",
       " 'fabs',\n",
       " 'factorial',\n",
       " 'floor',\n",
       " 'fmod',\n",
       " 'frexp',\n",
       " 'fsum',\n",
       " 'gamma',\n",
       " 'gcd',\n",
       " 'hypot',\n",
       " 'inf',\n",
       " 'isclose',\n",
       " 'isfinite',\n",
       " 'isinf',\n",
       " 'isnan',\n",
       " 'isqrt',\n",
       " 'lcm',\n",
       " 'ldexp',\n",
       " 'lgamma',\n",
       " 'log',\n",
       " 'log10',\n",
       " 'log1p',\n",
       " 'log2',\n",
       " 'modf',\n",
       " 'nan',\n",
       " 'nextafter',\n",
       " 'perm',\n",
       " 'pi',\n",
       " 'pow',\n",
       " 'prod',\n",
       " 'radians',\n",
       " 'remainder',\n",
       " 'sin',\n",
       " 'sinh',\n",
       " 'sqrt',\n",
       " 'tan',\n",
       " 'tanh',\n",
       " 'tau',\n",
       " 'trunc',\n",
       " 'ulp']"
      ]
     },
     "execution_count": 45,
     "metadata": {},
     "output_type": "execute_result"
    }
   ],
   "source": [
    "dir(math)"
   ]
  },
  {
   "cell_type": "markdown",
   "id": "d6e23144-5517-48f6-9bea-6bde300a53f9",
   "metadata": {},
   "source": [
    "**Importar con un alias**\n",
    "\n",
    "```import pandas as pd```\n",
    "\n",
    "* as: alias para abreviar en el código"
   ]
  },
  {
   "cell_type": "code",
   "execution_count": 47,
   "id": "ecf4d99f-ddb7-40d9-88f9-f7686b53c2b4",
   "metadata": {},
   "outputs": [
    {
     "data": {
      "text/html": [
       "<div>\n",
       "<style scoped>\n",
       "    .dataframe tbody tr th:only-of-type {\n",
       "        vertical-align: middle;\n",
       "    }\n",
       "\n",
       "    .dataframe tbody tr th {\n",
       "        vertical-align: top;\n",
       "    }\n",
       "\n",
       "    .dataframe thead th {\n",
       "        text-align: right;\n",
       "    }\n",
       "</style>\n",
       "<table border=\"1\" class=\"dataframe\">\n",
       "  <thead>\n",
       "    <tr style=\"text-align: right;\">\n",
       "      <th></th>\n",
       "      <th>Numeros</th>\n",
       "    </tr>\n",
       "  </thead>\n",
       "  <tbody>\n",
       "    <tr>\n",
       "      <th>0</th>\n",
       "      <td>1</td>\n",
       "    </tr>\n",
       "    <tr>\n",
       "      <th>1</th>\n",
       "      <td>2</td>\n",
       "    </tr>\n",
       "    <tr>\n",
       "      <th>2</th>\n",
       "      <td>4</td>\n",
       "    </tr>\n",
       "    <tr>\n",
       "      <th>3</th>\n",
       "      <td>8</td>\n",
       "    </tr>\n",
       "  </tbody>\n",
       "</table>\n",
       "</div>"
      ],
      "text/plain": [
       "   Numeros\n",
       "0        1\n",
       "1        2\n",
       "2        4\n",
       "3        8"
      ]
     },
     "execution_count": 47,
     "metadata": {},
     "output_type": "execute_result"
    }
   ],
   "source": [
    "import pandas as pd\n",
    "\n",
    "df = pd.DataFrame([1, 2, 4, 8], columns=['Numeros'])\n",
    "df"
   ]
  },
  {
   "cell_type": "markdown",
   "id": "07259a8b-78f2-49a4-a7b8-b317213fa1fe",
   "metadata": {},
   "source": [
    "*Creado por:*\n",
    "\n",
    "*Isabel Maniega*"
   ]
  }
 ],
 "metadata": {
  "kernelspec": {
   "display_name": "Python 3 (ipykernel)",
   "language": "python",
   "name": "python3"
  },
  "language_info": {
   "codemirror_mode": {
    "name": "ipython",
    "version": 3
   },
   "file_extension": ".py",
   "mimetype": "text/x-python",
   "name": "python",
   "nbconvert_exporter": "python",
   "pygments_lexer": "ipython3",
   "version": "3.10.12"
  }
 },
 "nbformat": 4,
 "nbformat_minor": 5
}
