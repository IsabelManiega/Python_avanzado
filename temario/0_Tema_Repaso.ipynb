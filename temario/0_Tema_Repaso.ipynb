{
 "cells": [
  {
   "cell_type": "markdown",
   "id": "1356b039-3206-490c-8d9d-b822475c530a",
   "metadata": {},
   "source": [
    "*Creado por:*\n",
    "\n",
    "*Isabel Maniega*"
   ]
  },
  {
   "cell_type": "markdown",
   "id": "fbdbaf64-3fe5-4547-a714-10eeeff2faae",
   "metadata": {},
   "source": [
    "# Tuplas"
   ]
  },
  {
   "cell_type": "code",
   "execution_count": 1,
   "id": "cd89f7b5-343f-45d2-932b-db8c7490239b",
   "metadata": {},
   "outputs": [
    {
     "data": {
      "text/plain": [
       "(1, 3, 4, 8)"
      ]
     },
     "execution_count": 1,
     "metadata": {},
     "output_type": "execute_result"
    }
   ],
   "source": [
    "a = (1, 3, 4, 8) # 0, 1, 2, 3...\n",
    "a"
   ]
  },
  {
   "cell_type": "code",
   "execution_count": 2,
   "id": "ed90d217-c58b-418c-b897-7c04825ca404",
   "metadata": {},
   "outputs": [
    {
     "data": {
      "text/plain": [
       "8"
      ]
     },
     "execution_count": 2,
     "metadata": {},
     "output_type": "execute_result"
    }
   ],
   "source": [
    "a[2]"
   ]
  },
  {
   "cell_type": "code",
   "execution_count": 3,
   "id": "32e9f67d-b4b8-4d07-a7a4-742ba2577b1e",
   "metadata": {},
   "outputs": [
    {
     "data": {
      "text/plain": [
       "8"
      ]
     },
     "execution_count": 3,
     "metadata": {},
     "output_type": "execute_result"
    }
   ],
   "source": [
    "a[-1]"
   ]
  },
  {
   "cell_type": "code",
   "execution_count": 4,
   "id": "a8cb899d-84a7-47ff-900a-99c25aeb1b6a",
   "metadata": {},
   "outputs": [
    {
     "ename": "AttributeError",
     "evalue": "'tuple' object has no attribute 'append'",
     "output_type": "error",
     "traceback": [
      "\u001b[0;31m---------------------------------------------------------------------------\u001b[0m",
      "\u001b[0;31mAttributeError\u001b[0m                            Traceback (most recent call last)",
      "Cell \u001b[0;32mIn[4], line 1\u001b[0m\n\u001b[0;32m----> 1\u001b[0m \u001b[43ma\u001b[49m\u001b[38;5;241;43m.\u001b[39;49m\u001b[43mappend\u001b[49m(\u001b[38;5;241m8\u001b[39m)\n\u001b[1;32m      2\u001b[0m a\n",
      "\u001b[0;31mAttributeError\u001b[0m: 'tuple' object has no attribute 'append'"
     ]
    }
   ],
   "source": [
    "# apendizar valors en tuplas\n",
    "a.append(8)\n",
    "a"
   ]
  },
  {
   "cell_type": "code",
   "execution_count": 38,
   "id": "2017e012-2785-495c-8b73-c173efc895c2",
   "metadata": {},
   "outputs": [
    {
     "ename": "TypeError",
     "evalue": "'tuple' object does not support item assignment",
     "output_type": "error",
     "traceback": [
      "\u001b[0;31m---------------------------------------------------------------------------\u001b[0m",
      "\u001b[0;31mTypeError\u001b[0m                                 Traceback (most recent call last)",
      "Cell \u001b[0;32mIn[38], line 2\u001b[0m\n\u001b[1;32m      1\u001b[0m \u001b[38;5;66;03m# Modificar valores:\u001b[39;00m\n\u001b[0;32m----> 2\u001b[0m \u001b[43ma\u001b[49m\u001b[43m[\u001b[49m\u001b[38;5;241;43m0\u001b[39;49m\u001b[43m]\u001b[49m \u001b[38;5;241m=\u001b[39m \u001b[38;5;241m10\u001b[39m\n\u001b[1;32m      3\u001b[0m a\n",
      "\u001b[0;31mTypeError\u001b[0m: 'tuple' object does not support item assignment"
     ]
    }
   ],
   "source": [
    "# Modificar valores:\n",
    "a[0] = 10\n",
    "a"
   ]
  },
  {
   "cell_type": "code",
   "execution_count": 41,
   "id": "8b3f52b5-4ea6-461d-ad46-714b1575d81e",
   "metadata": {},
   "outputs": [
    {
     "name": "stdout",
     "output_type": "stream",
     "text": [
      "<class 'tuple'>\n"
     ]
    }
   ],
   "source": [
    "# Poner siempre una coma al final para asegurarnos que es una tupla, \n",
    "# NO un entero (int)\n",
    "\n",
    "b = (10,)\n",
    "print(type(b))"
   ]
  },
  {
   "cell_type": "code",
   "execution_count": 40,
   "id": "2c5a9a2b-f192-49e1-aac7-7ab6ffebe600",
   "metadata": {},
   "outputs": [],
   "source": [
    "# concatenación de tuplas:\n",
    "c = a + b"
   ]
  },
  {
   "cell_type": "code",
   "execution_count": 9,
   "id": "611d4f5e-57f5-4c11-b2bb-02d79ccd3cc5",
   "metadata": {},
   "outputs": [
    {
     "data": {
      "text/plain": [
       "(1, 3, 4, 8, 10)"
      ]
     },
     "execution_count": 9,
     "metadata": {},
     "output_type": "execute_result"
    }
   ],
   "source": [
    "c"
   ]
  },
  {
   "cell_type": "markdown",
   "id": "b4564d28-aaaa-42b0-bd27-efb227530693",
   "metadata": {},
   "source": [
    "* Las tuplas NO se pueden apendizar ni modificar\n",
    "* Las tuplas se pueden concatenar"
   ]
  },
  {
   "cell_type": "markdown",
   "id": "8f1191b4-61e1-447d-b226-532b6862def6",
   "metadata": {},
   "source": [
    "# Listas"
   ]
  },
  {
   "cell_type": "code",
   "execution_count": 42,
   "id": "2edafa44-4f4b-4b0b-a317-302dee5bc691",
   "metadata": {},
   "outputs": [
    {
     "data": {
      "text/plain": [
       "[1, 8, 7, 7]"
      ]
     },
     "execution_count": 42,
     "metadata": {},
     "output_type": "execute_result"
    }
   ],
   "source": [
    "# izq > derch: 0, 1, 2,...\n",
    "# derch > izq: -1, -2, -3, ...\n",
    "D = [1, 8, 7, 7] \n",
    "D"
   ]
  },
  {
   "cell_type": "code",
   "execution_count": 11,
   "id": "f9a9d85c-97c0-4e6e-976b-03e0789a85ed",
   "metadata": {},
   "outputs": [
    {
     "data": {
      "text/plain": [
       "list"
      ]
     },
     "execution_count": 11,
     "metadata": {},
     "output_type": "execute_result"
    }
   ],
   "source": [
    "type(D)"
   ]
  },
  {
   "cell_type": "code",
   "execution_count": 12,
   "id": "f44f367f-3e2f-4817-9ec0-e9caaaa36691",
   "metadata": {},
   "outputs": [
    {
     "data": {
      "text/plain": [
       "[1, 3, 4, 8, 10]"
      ]
     },
     "execution_count": 12,
     "metadata": {},
     "output_type": "execute_result"
    }
   ],
   "source": [
    "F = list((c))\n",
    "F"
   ]
  },
  {
   "cell_type": "code",
   "execution_count": 13,
   "id": "6141f1bc-5982-45be-987e-d7174bdd8e9d",
   "metadata": {},
   "outputs": [
    {
     "data": {
      "text/plain": [
       "[1, 3, 4, 8, 10, 400]"
      ]
     },
     "execution_count": 13,
     "metadata": {},
     "output_type": "execute_result"
    }
   ],
   "source": [
    "F.append(400)\n",
    "F"
   ]
  },
  {
   "cell_type": "code",
   "execution_count": 14,
   "id": "bece1878-2071-4eee-9b6a-24e75c9a9a79",
   "metadata": {},
   "outputs": [
    {
     "data": {
      "text/plain": [
       "[74, 3, 4, 8, 10, 400]"
      ]
     },
     "execution_count": 14,
     "metadata": {},
     "output_type": "execute_result"
    }
   ],
   "source": [
    "F[0] = 74\n",
    "F"
   ]
  },
  {
   "cell_type": "code",
   "execution_count": 15,
   "id": "5acbeb3d-1365-473b-898f-e0c86f8a9dd7",
   "metadata": {},
   "outputs": [
    {
     "data": {
      "text/plain": [
       "[1, 2]"
      ]
     },
     "execution_count": 15,
     "metadata": {},
     "output_type": "execute_result"
    }
   ],
   "source": [
    "G = [1, 2,]\n",
    "G"
   ]
  },
  {
   "cell_type": "code",
   "execution_count": 16,
   "id": "542a75aa-527a-4e86-9efd-9cb1a597812c",
   "metadata": {},
   "outputs": [],
   "source": [
    "R = F + G"
   ]
  },
  {
   "cell_type": "code",
   "execution_count": 17,
   "id": "8bb505ca-0777-4ce7-bc19-8f4b53546ace",
   "metadata": {},
   "outputs": [
    {
     "data": {
      "text/plain": [
       "[74, 3, 4, 8, 10, 400, 1, 2]"
      ]
     },
     "execution_count": 17,
     "metadata": {},
     "output_type": "execute_result"
    }
   ],
   "source": [
    "R"
   ]
  },
  {
   "cell_type": "code",
   "execution_count": 33,
   "id": "b0280c2a-8f84-4b18-a812-55959f0b1b8b",
   "metadata": {},
   "outputs": [
    {
     "data": {
      "text/plain": [
       "502"
      ]
     },
     "execution_count": 33,
     "metadata": {},
     "output_type": "execute_result"
    }
   ],
   "source": [
    "sum(R)"
   ]
  },
  {
   "cell_type": "code",
   "execution_count": 39,
   "id": "4b6bed90-dd18-4b3b-a118-b00511c39e1c",
   "metadata": {},
   "outputs": [
    {
     "data": {
      "text/plain": [
       "(400, 1)"
      ]
     },
     "execution_count": 39,
     "metadata": {},
     "output_type": "execute_result"
    }
   ],
   "source": [
    "max(R), min(R)"
   ]
  },
  {
   "cell_type": "markdown",
   "id": "84fc0a76-9770-489b-af38-46415024ba3f",
   "metadata": {},
   "source": [
    "* Las listas se pueden apendizar y modificar\n",
    "* Las listas se pueden concatenar"
   ]
  },
  {
   "cell_type": "markdown",
   "id": "aad11973-2645-4af0-9fb2-4811f1c6569c",
   "metadata": {},
   "source": [
    "# List comprehension"
   ]
  },
  {
   "cell_type": "code",
   "execution_count": 4,
   "id": "00506b61-7f1c-4287-8cd7-ae84ab3d5d27",
   "metadata": {},
   "outputs": [
    {
     "data": {
      "text/plain": [
       "[74, 3, 4, 8, 10, 400, 1, 2]"
      ]
     },
     "execution_count": 4,
     "metadata": {},
     "output_type": "execute_result"
    }
   ],
   "source": [
    "listado = [74, 3, 4, 8, 10, 400, 1, 2]\n",
    "listado"
   ]
  },
  {
   "cell_type": "code",
   "execution_count": 5,
   "id": "22aa4def-f91a-4fba-aadc-649f9f367521",
   "metadata": {},
   "outputs": [
    {
     "data": {
      "text/plain": [
       "[74, 8, 10, 400]"
      ]
     },
     "execution_count": 5,
     "metadata": {},
     "output_type": "execute_result"
    }
   ],
   "source": [
    "listado_a = []\n",
    "\n",
    "for valor in listado:\n",
    "    if valor >= 8:\n",
    "        listado_a.append(valor)\n",
    "\n",
    "listado_a"
   ]
  },
  {
   "cell_type": "code",
   "execution_count": 6,
   "id": "20b17c92-6231-4430-9f50-3f75b239cfa5",
   "metadata": {},
   "outputs": [
    {
     "data": {
      "text/plain": [
       "[74, 8, 10, 400]"
      ]
     },
     "execution_count": 6,
     "metadata": {},
     "output_type": "execute_result"
    }
   ],
   "source": [
    "listado_b = [valor for valor in listado if valor >= 8]\n",
    "listado_b"
   ]
  },
  {
   "cell_type": "code",
   "execution_count": 7,
   "id": "0ff27017-5010-4c48-b951-7208dc64d511",
   "metadata": {},
   "outputs": [
    {
     "data": {
      "text/plain": [
       "<generator object <genexpr> at 0x7d3609546340>"
      ]
     },
     "execution_count": 7,
     "metadata": {},
     "output_type": "execute_result"
    }
   ],
   "source": [
    "# Es un generador que la variable sólo existe una vez\n",
    "listado_b = (valor for valor in listado if valor >= 8)\n",
    "listado_b"
   ]
  },
  {
   "cell_type": "code",
   "execution_count": 9,
   "id": "9dc99c03-a24a-48a2-ae4c-9acaafed62af",
   "metadata": {},
   "outputs": [],
   "source": [
    "# Al consumir el generador este desaparece:\n",
    "for i in listado_b:\n",
    "    print(i)"
   ]
  },
  {
   "cell_type": "markdown",
   "id": "18da0c77-63ce-4d5a-9de8-dddf2f480420",
   "metadata": {},
   "source": [
    "# Bucles"
   ]
  },
  {
   "cell_type": "code",
   "execution_count": 1,
   "id": "9be3efae-9fa7-4006-96a7-f8e50f9decee",
   "metadata": {},
   "outputs": [
    {
     "name": "stdout",
     "output_type": "stream",
     "text": [
      "5\n",
      "8\n",
      "9\n"
     ]
    }
   ],
   "source": [
    "# break: romper la iteración.\n",
    "\n",
    "lista = [5, 8, 9, 7, 6, 4]\n",
    "\n",
    "for i in lista:\n",
    "    if i == 7:\n",
    "        break\n",
    "    else:\n",
    "        print(i)"
   ]
  },
  {
   "cell_type": "code",
   "execution_count": 2,
   "id": "927a107a-2b34-4c7e-b607-9c4780ded7fd",
   "metadata": {},
   "outputs": [
    {
     "name": "stdout",
     "output_type": "stream",
     "text": [
      "5\n",
      "8\n",
      "9\n",
      "6\n",
      "4\n"
     ]
    }
   ],
   "source": [
    "# continue: continua la iteración.\n",
    "\n",
    "lista = [5, 8, 9, 7, 6, 4]\n",
    "\n",
    "for i in lista:\n",
    "    if i == 7:\n",
    "        continue\n",
    "    else:\n",
    "        print(i)"
   ]
  },
  {
   "cell_type": "code",
   "execution_count": 3,
   "id": "8a7f00b3-dced-45b1-ab2e-4840ab492366",
   "metadata": {},
   "outputs": [
    {
     "name": "stdout",
     "output_type": "stream",
     "text": [
      "5\n",
      "8\n",
      "9\n",
      "6\n",
      "4\n"
     ]
    }
   ],
   "source": [
    "# pass: continua la iteración.\n",
    "\n",
    "lista = [5, 8, 9, 7, 6, 4]\n",
    "\n",
    "for i in lista:\n",
    "    if i == 7:\n",
    "        pass\n",
    "    else:\n",
    "        print(i)"
   ]
  },
  {
   "cell_type": "markdown",
   "id": "9c1f5d55-0248-4468-8420-a0940e806e35",
   "metadata": {},
   "source": [
    "# Prints"
   ]
  },
  {
   "cell_type": "code",
   "execution_count": 4,
   "id": "78d72ef5-eb90-4ec2-8b7e-8c8e05957ae2",
   "metadata": {},
   "outputs": [
    {
     "name": "stdout",
     "output_type": "stream",
     "text": [
      "Hola-Mundo\n"
     ]
    }
   ],
   "source": [
    "print('Hola', end='-')\n",
    "print('Mundo')"
   ]
  },
  {
   "cell_type": "code",
   "execution_count": 5,
   "id": "3101fa09-6075-499c-9531-33b51dfd0394",
   "metadata": {},
   "outputs": [
    {
     "name": "stdout",
     "output_type": "stream",
     "text": [
      "1*2*3\n"
     ]
    }
   ],
   "source": [
    "print(1, 2, 3, sep='*')"
   ]
  },
  {
   "cell_type": "markdown",
   "id": "745db8c7-4693-4d77-ab04-91518f6b7a7a",
   "metadata": {},
   "source": [
    "# Asignación y copias en variables"
   ]
  },
  {
   "cell_type": "code",
   "execution_count": 9,
   "id": "2ae3fe66-1681-4266-aa7e-bdf787f9f704",
   "metadata": {},
   "outputs": [
    {
     "name": "stdout",
     "output_type": "stream",
     "text": [
      "[10, 5, 7, 6]\n",
      "[10, 5, 7, 6]\n",
      "True\n",
      "True\n"
     ]
    }
   ],
   "source": [
    "x = [1, 5, 7, 6]\n",
    "y = x\n",
    "y[0] = 10\n",
    "\n",
    "print(x) # [10, 5, 7, 6]\n",
    "print(y) # [10, 5, 7, 6]\n",
    "print(x == y)\n",
    "print(x is y)"
   ]
  },
  {
   "cell_type": "code",
   "execution_count": 10,
   "id": "7cd1c086-40df-450d-915a-c801e6e57029",
   "metadata": {},
   "outputs": [
    {
     "name": "stdout",
     "output_type": "stream",
     "text": [
      "[1, 5, 7, 6]\n",
      "[10, 5, 7, 6]\n"
     ]
    }
   ],
   "source": [
    "x = [1, 5, 7, 6]\n",
    "y = x[:]\n",
    "y[0] = 10\n",
    "\n",
    "print(x) # [1, 5, 7, 6]\n",
    "print(y) # [10, 5, 7, 6]"
   ]
  },
  {
   "cell_type": "code",
   "execution_count": 11,
   "id": "cd4928fa-bc52-4dad-a658-2e036eb4f0f9",
   "metadata": {},
   "outputs": [
    {
     "name": "stdout",
     "output_type": "stream",
     "text": [
      "[1, 5, 7, 6]\n",
      "[1, 5, 7, 6]\n",
      "True\n",
      "False\n"
     ]
    }
   ],
   "source": [
    "x = [1, 5, 7, 6]\n",
    "y = x[:]\n",
    "\n",
    "print(x) # [1, 5, 7, 6]\n",
    "print(y) # [1, 5, 7, 6]\n",
    "print(x == y)\n",
    "print(x is y)"
   ]
  },
  {
   "cell_type": "markdown",
   "id": "c9633957-9443-44da-b05e-bf78de64df56",
   "metadata": {},
   "source": [
    "# Strings"
   ]
  },
  {
   "cell_type": "code",
   "execution_count": 12,
   "id": "43e2c8db-481f-49e4-a037-d2c834f66d22",
   "metadata": {},
   "outputs": [],
   "source": [
    "# Concatenacion, multiplicacion, etc..."
   ]
  },
  {
   "cell_type": "markdown",
   "id": "07259a8b-78f2-49a4-a7b8-b317213fa1fe",
   "metadata": {},
   "source": [
    "*Creado por:*\n",
    "\n",
    "*Isabel Maniega*"
   ]
  }
 ],
 "metadata": {
  "kernelspec": {
   "display_name": "venv",
   "language": "python",
   "name": "python3"
  },
  "language_info": {
   "codemirror_mode": {
    "name": "ipython",
    "version": 3
   },
   "file_extension": ".py",
   "mimetype": "text/x-python",
   "name": "python",
   "nbconvert_exporter": "python",
   "pygments_lexer": "ipython3",
   "version": "3.10.12"
  }
 },
 "nbformat": 4,
 "nbformat_minor": 5
}
