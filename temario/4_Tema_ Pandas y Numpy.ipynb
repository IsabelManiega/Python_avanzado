{
 "cells": [
  {
   "cell_type": "markdown",
   "id": "19864fea-ab6c-4b90-8670-a25fa133470c",
   "metadata": {},
   "source": [
    "*Creado por:*\n",
    "\n",
    "*Isabel Maniega*"
   ]
  },
  {
   "cell_type": "markdown",
   "id": "0f770b1a-ac57-4df1-bc4f-08127cfcdb8d",
   "metadata": {},
   "source": [
    "# Pandas\n",
    "\n",
    "1. [Vista de los datos(4.1.1)](#Vista-de-los-datos)\n",
    "2. [Selección(4.1.2)](#Seleccion)\n",
    "3. [Setting(4.1.1)](#Setting-(Modificacion-del-dataframe))\n",
    "4. [Missing values(4.1.1)](#Missing-values)\n",
    "5. [Operaciones (4.2.1)](#Operaciones)\n",
    "6. [Unión de dataframe (4.1.1)](#Union-de-dataframe)\n",
    "7. [Grouping (4.1.1 / 4.1.4)](#Grouping)\n",
    "8. [Reshaping (4.1.1)](#Reshaping)\n",
    "9. [Time Series](#Time-Series)\n",
    "10. [Categoricals](#Categoricals)\n",
    "11. [Plotting](#Plotting)"
   ]
  },
  {
   "cell_type": "markdown",
   "id": "c6a233db-773f-4181-ac49-b76194cc8f5a",
   "metadata": {},
   "source": [
    "Contiene dos tipos de estructuras:\n",
    "\n",
    "- **Series**: una matriz etiquetada unidimensional que contiene datos de cualquier tipo como números enteros, cadenas, objetos Python, etc.\n",
    "- **Dataframe**: una estructura de datos bidimensional que contiene datos como una matriz bidimensional o una tabla con filas y columnas."
   ]
  },
  {
   "cell_type": "code",
   "execution_count": 1,
   "id": "f4e0c198-4302-40d0-a573-082b739a92b2",
   "metadata": {},
   "outputs": [],
   "source": [
    "# pip install pandas"
   ]
  },
  {
   "cell_type": "code",
   "execution_count": 2,
   "id": "a055770e-304c-4fc5-8e13-0d3652fdbb23",
   "metadata": {},
   "outputs": [],
   "source": [
    "from IPython import display"
   ]
  },
  {
   "cell_type": "code",
   "execution_count": 3,
   "id": "d1d16c93-8c0c-4164-b9a3-7a77e3320744",
   "metadata": {},
   "outputs": [
    {
     "name": "stderr",
     "output_type": "stream",
     "text": [
      "/tmp/ipykernel_7159/2162656668.py:1: DeprecationWarning: \n",
      "Pyarrow will become a required dependency of pandas in the next major release of pandas (pandas 3.0),\n",
      "(to allow more performant data types, such as the Arrow string type, and better interoperability with other libraries)\n",
      "but was not found to be installed on your system.\n",
      "If this would cause problems for you,\n",
      "please provide us feedback at https://github.com/pandas-dev/pandas/issues/54466\n",
      "        \n",
      "  import pandas as pd\n"
     ]
    }
   ],
   "source": [
    "import pandas as pd\n",
    "import numpy as np"
   ]
  },
  {
   "cell_type": "code",
   "execution_count": 4,
   "id": "2ac798e2-1821-46ef-946b-c63058a9a7e9",
   "metadata": {},
   "outputs": [
    {
     "data": {
      "text/plain": [
       "[1, 2, 5, 9, None, 47, 20]"
      ]
     },
     "execution_count": 4,
     "metadata": {},
     "output_type": "execute_result"
    }
   ],
   "source": [
    "lista = [1, 2, 5, 9, None, 47, 20]\n",
    "lista"
   ]
  },
  {
   "cell_type": "code",
   "execution_count": 5,
   "id": "8747c001-1f3d-4b12-8eb9-ab84e985e431",
   "metadata": {},
   "outputs": [
    {
     "data": {
      "text/plain": [
       "0     1.0\n",
       "1     2.0\n",
       "2     5.0\n",
       "3     9.0\n",
       "4     NaN\n",
       "5    47.0\n",
       "6    20.0\n",
       "dtype: float64"
      ]
     },
     "execution_count": 5,
     "metadata": {},
     "output_type": "execute_result"
    }
   ],
   "source": [
    "# Series:\n",
    "\n",
    "s = pd.Series(lista)\n",
    "s"
   ]
  },
  {
   "cell_type": "code",
   "execution_count": 6,
   "id": "68ec7b3b-4dcc-42fe-859d-9ef12fc0ff62",
   "metadata": {},
   "outputs": [
    {
     "data": {
      "text/plain": [
       "0    1.0\n",
       "1    3.0\n",
       "2    5.0\n",
       "3    NaN\n",
       "4    6.0\n",
       "5    8.0\n",
       "dtype: float64"
      ]
     },
     "execution_count": 6,
     "metadata": {},
     "output_type": "execute_result"
    }
   ],
   "source": [
    "# Series:\n",
    "\n",
    "s = pd.Series([1, 3, 5, np.nan, 6, 8])\n",
    "s"
   ]
  },
  {
   "cell_type": "code",
   "execution_count": 7,
   "id": "6a544677-c98b-4d37-9a62-676ff021cce5",
   "metadata": {},
   "outputs": [
    {
     "data": {
      "text/plain": [
       "DatetimeIndex(['2013-01-01', '2013-01-02', '2013-01-03', '2013-01-04',\n",
       "               '2013-01-05', '2013-01-06'],\n",
       "              dtype='datetime64[ns]', freq='D')"
      ]
     },
     "execution_count": 7,
     "metadata": {},
     "output_type": "execute_result"
    }
   ],
   "source": [
    "# date_range(genera un rango de fecha apartir de un valor, marcando el número de datos a generar (periods)\n",
    "dates = pd.date_range(\"20130101\", periods=6)\n",
    "dates"
   ]
  },
  {
   "cell_type": "code",
   "execution_count": 8,
   "id": "bc2a3faf-f92a-4ec0-861e-d6dd5188b958",
   "metadata": {},
   "outputs": [
    {
     "data": {
      "text/html": [
       "<div>\n",
       "<style scoped>\n",
       "    .dataframe tbody tr th:only-of-type {\n",
       "        vertical-align: middle;\n",
       "    }\n",
       "\n",
       "    .dataframe tbody tr th {\n",
       "        vertical-align: top;\n",
       "    }\n",
       "\n",
       "    .dataframe thead th {\n",
       "        text-align: right;\n",
       "    }\n",
       "</style>\n",
       "<table border=\"1\" class=\"dataframe\">\n",
       "  <thead>\n",
       "    <tr style=\"text-align: right;\">\n",
       "      <th></th>\n",
       "      <th>A</th>\n",
       "      <th>B</th>\n",
       "      <th>C</th>\n",
       "      <th>D</th>\n",
       "    </tr>\n",
       "  </thead>\n",
       "  <tbody>\n",
       "    <tr>\n",
       "      <th>2013-01-01</th>\n",
       "      <td>-0.711362</td>\n",
       "      <td>0.825269</td>\n",
       "      <td>-0.532520</td>\n",
       "      <td>-2.232001</td>\n",
       "    </tr>\n",
       "    <tr>\n",
       "      <th>2013-01-02</th>\n",
       "      <td>1.530446</td>\n",
       "      <td>-1.099274</td>\n",
       "      <td>-0.275519</td>\n",
       "      <td>-0.607721</td>\n",
       "    </tr>\n",
       "    <tr>\n",
       "      <th>2013-01-03</th>\n",
       "      <td>-2.434541</td>\n",
       "      <td>-1.111805</td>\n",
       "      <td>2.101658</td>\n",
       "      <td>1.161692</td>\n",
       "    </tr>\n",
       "    <tr>\n",
       "      <th>2013-01-04</th>\n",
       "      <td>-0.323204</td>\n",
       "      <td>-0.416781</td>\n",
       "      <td>0.613086</td>\n",
       "      <td>-0.251889</td>\n",
       "    </tr>\n",
       "    <tr>\n",
       "      <th>2013-01-05</th>\n",
       "      <td>-1.008649</td>\n",
       "      <td>-1.469483</td>\n",
       "      <td>0.297839</td>\n",
       "      <td>-0.798676</td>\n",
       "    </tr>\n",
       "    <tr>\n",
       "      <th>2013-01-06</th>\n",
       "      <td>0.035385</td>\n",
       "      <td>-1.806611</td>\n",
       "      <td>0.660986</td>\n",
       "      <td>-0.421329</td>\n",
       "    </tr>\n",
       "  </tbody>\n",
       "</table>\n",
       "</div>"
      ],
      "text/plain": [
       "                   A         B         C         D\n",
       "2013-01-01 -0.711362  0.825269 -0.532520 -2.232001\n",
       "2013-01-02  1.530446 -1.099274 -0.275519 -0.607721\n",
       "2013-01-03 -2.434541 -1.111805  2.101658  1.161692\n",
       "2013-01-04 -0.323204 -0.416781  0.613086 -0.251889\n",
       "2013-01-05 -1.008649 -1.469483  0.297839 -0.798676\n",
       "2013-01-06  0.035385 -1.806611  0.660986 -0.421329"
      ]
     },
     "execution_count": 8,
     "metadata": {},
     "output_type": "execute_result"
    }
   ],
   "source": [
    "df = pd.DataFrame(np.random.randn(6, 4), index=dates, columns=list(\"ABCD\"))\n",
    "df"
   ]
  },
  {
   "cell_type": "code",
   "execution_count": 9,
   "id": "55b06485-7393-4298-96fe-981f6be4b64c",
   "metadata": {},
   "outputs": [
    {
     "data": {
      "text/plain": [
       "A    float64\n",
       "B    float64\n",
       "C    float64\n",
       "D    float64\n",
       "dtype: object"
      ]
     },
     "execution_count": 9,
     "metadata": {},
     "output_type": "execute_result"
    }
   ],
   "source": [
    "# dtypes nos muestra de que tipo son los datos:\n",
    "\n",
    "df.dtypes"
   ]
  },
  {
   "cell_type": "markdown",
   "id": "4b18c783-354a-4fe6-ba0a-903e63522347",
   "metadata": {},
   "source": [
    "## Vista de los datos"
   ]
  },
  {
   "cell_type": "code",
   "execution_count": 10,
   "id": "44d063ce-091e-4210-bd2f-0f0d7ea16852",
   "metadata": {},
   "outputs": [
    {
     "data": {
      "text/html": [
       "<div>\n",
       "<style scoped>\n",
       "    .dataframe tbody tr th:only-of-type {\n",
       "        vertical-align: middle;\n",
       "    }\n",
       "\n",
       "    .dataframe tbody tr th {\n",
       "        vertical-align: top;\n",
       "    }\n",
       "\n",
       "    .dataframe thead th {\n",
       "        text-align: right;\n",
       "    }\n",
       "</style>\n",
       "<table border=\"1\" class=\"dataframe\">\n",
       "  <thead>\n",
       "    <tr style=\"text-align: right;\">\n",
       "      <th></th>\n",
       "      <th>A</th>\n",
       "      <th>B</th>\n",
       "      <th>C</th>\n",
       "      <th>D</th>\n",
       "    </tr>\n",
       "  </thead>\n",
       "  <tbody>\n",
       "    <tr>\n",
       "      <th>2013-01-01</th>\n",
       "      <td>-0.711362</td>\n",
       "      <td>0.825269</td>\n",
       "      <td>-0.532520</td>\n",
       "      <td>-2.232001</td>\n",
       "    </tr>\n",
       "    <tr>\n",
       "      <th>2013-01-02</th>\n",
       "      <td>1.530446</td>\n",
       "      <td>-1.099274</td>\n",
       "      <td>-0.275519</td>\n",
       "      <td>-0.607721</td>\n",
       "    </tr>\n",
       "    <tr>\n",
       "      <th>2013-01-03</th>\n",
       "      <td>-2.434541</td>\n",
       "      <td>-1.111805</td>\n",
       "      <td>2.101658</td>\n",
       "      <td>1.161692</td>\n",
       "    </tr>\n",
       "    <tr>\n",
       "      <th>2013-01-04</th>\n",
       "      <td>-0.323204</td>\n",
       "      <td>-0.416781</td>\n",
       "      <td>0.613086</td>\n",
       "      <td>-0.251889</td>\n",
       "    </tr>\n",
       "    <tr>\n",
       "      <th>2013-01-05</th>\n",
       "      <td>-1.008649</td>\n",
       "      <td>-1.469483</td>\n",
       "      <td>0.297839</td>\n",
       "      <td>-0.798676</td>\n",
       "    </tr>\n",
       "  </tbody>\n",
       "</table>\n",
       "</div>"
      ],
      "text/plain": [
       "                   A         B         C         D\n",
       "2013-01-01 -0.711362  0.825269 -0.532520 -2.232001\n",
       "2013-01-02  1.530446 -1.099274 -0.275519 -0.607721\n",
       "2013-01-03 -2.434541 -1.111805  2.101658  1.161692\n",
       "2013-01-04 -0.323204 -0.416781  0.613086 -0.251889\n",
       "2013-01-05 -1.008649 -1.469483  0.297839 -0.798676"
      ]
     },
     "execution_count": 10,
     "metadata": {},
     "output_type": "execute_result"
    }
   ],
   "source": [
    "# Muestra las primeras filas del dataframe, por defecto las 5 primeras\n",
    "df.head()"
   ]
  },
  {
   "cell_type": "code",
   "execution_count": 11,
   "id": "007c02e3-76e8-45e1-8262-d7296fd491ad",
   "metadata": {},
   "outputs": [
    {
     "data": {
      "text/html": [
       "<div>\n",
       "<style scoped>\n",
       "    .dataframe tbody tr th:only-of-type {\n",
       "        vertical-align: middle;\n",
       "    }\n",
       "\n",
       "    .dataframe tbody tr th {\n",
       "        vertical-align: top;\n",
       "    }\n",
       "\n",
       "    .dataframe thead th {\n",
       "        text-align: right;\n",
       "    }\n",
       "</style>\n",
       "<table border=\"1\" class=\"dataframe\">\n",
       "  <thead>\n",
       "    <tr style=\"text-align: right;\">\n",
       "      <th></th>\n",
       "      <th>A</th>\n",
       "      <th>B</th>\n",
       "      <th>C</th>\n",
       "      <th>D</th>\n",
       "    </tr>\n",
       "  </thead>\n",
       "  <tbody>\n",
       "    <tr>\n",
       "      <th>2013-01-01</th>\n",
       "      <td>-0.711362</td>\n",
       "      <td>0.825269</td>\n",
       "      <td>-0.532520</td>\n",
       "      <td>-2.232001</td>\n",
       "    </tr>\n",
       "    <tr>\n",
       "      <th>2013-01-02</th>\n",
       "      <td>1.530446</td>\n",
       "      <td>-1.099274</td>\n",
       "      <td>-0.275519</td>\n",
       "      <td>-0.607721</td>\n",
       "    </tr>\n",
       "  </tbody>\n",
       "</table>\n",
       "</div>"
      ],
      "text/plain": [
       "                   A         B         C         D\n",
       "2013-01-01 -0.711362  0.825269 -0.532520 -2.232001\n",
       "2013-01-02  1.530446 -1.099274 -0.275519 -0.607721"
      ]
     },
     "execution_count": 11,
     "metadata": {},
     "output_type": "execute_result"
    }
   ],
   "source": [
    "df.head(2)"
   ]
  },
  {
   "cell_type": "code",
   "execution_count": 12,
   "id": "475e142e-f9aa-4527-9234-99493f36aacc",
   "metadata": {},
   "outputs": [
    {
     "data": {
      "text/html": [
       "<div>\n",
       "<style scoped>\n",
       "    .dataframe tbody tr th:only-of-type {\n",
       "        vertical-align: middle;\n",
       "    }\n",
       "\n",
       "    .dataframe tbody tr th {\n",
       "        vertical-align: top;\n",
       "    }\n",
       "\n",
       "    .dataframe thead th {\n",
       "        text-align: right;\n",
       "    }\n",
       "</style>\n",
       "<table border=\"1\" class=\"dataframe\">\n",
       "  <thead>\n",
       "    <tr style=\"text-align: right;\">\n",
       "      <th></th>\n",
       "      <th>A</th>\n",
       "      <th>B</th>\n",
       "      <th>C</th>\n",
       "      <th>D</th>\n",
       "    </tr>\n",
       "  </thead>\n",
       "  <tbody>\n",
       "    <tr>\n",
       "      <th>2013-01-02</th>\n",
       "      <td>1.530446</td>\n",
       "      <td>-1.099274</td>\n",
       "      <td>-0.275519</td>\n",
       "      <td>-0.607721</td>\n",
       "    </tr>\n",
       "    <tr>\n",
       "      <th>2013-01-03</th>\n",
       "      <td>-2.434541</td>\n",
       "      <td>-1.111805</td>\n",
       "      <td>2.101658</td>\n",
       "      <td>1.161692</td>\n",
       "    </tr>\n",
       "    <tr>\n",
       "      <th>2013-01-04</th>\n",
       "      <td>-0.323204</td>\n",
       "      <td>-0.416781</td>\n",
       "      <td>0.613086</td>\n",
       "      <td>-0.251889</td>\n",
       "    </tr>\n",
       "    <tr>\n",
       "      <th>2013-01-05</th>\n",
       "      <td>-1.008649</td>\n",
       "      <td>-1.469483</td>\n",
       "      <td>0.297839</td>\n",
       "      <td>-0.798676</td>\n",
       "    </tr>\n",
       "    <tr>\n",
       "      <th>2013-01-06</th>\n",
       "      <td>0.035385</td>\n",
       "      <td>-1.806611</td>\n",
       "      <td>0.660986</td>\n",
       "      <td>-0.421329</td>\n",
       "    </tr>\n",
       "  </tbody>\n",
       "</table>\n",
       "</div>"
      ],
      "text/plain": [
       "                   A         B         C         D\n",
       "2013-01-02  1.530446 -1.099274 -0.275519 -0.607721\n",
       "2013-01-03 -2.434541 -1.111805  2.101658  1.161692\n",
       "2013-01-04 -0.323204 -0.416781  0.613086 -0.251889\n",
       "2013-01-05 -1.008649 -1.469483  0.297839 -0.798676\n",
       "2013-01-06  0.035385 -1.806611  0.660986 -0.421329"
      ]
     },
     "execution_count": 12,
     "metadata": {},
     "output_type": "execute_result"
    }
   ],
   "source": [
    "# Muestra las últimas filas de un dataframe, por defecto las 5 últimas:\n",
    "\n",
    "df.tail()"
   ]
  },
  {
   "cell_type": "code",
   "execution_count": 13,
   "id": "10885a6c-cdaf-482c-ae8f-b7ef7709864b",
   "metadata": {},
   "outputs": [
    {
     "data": {
      "text/html": [
       "<div>\n",
       "<style scoped>\n",
       "    .dataframe tbody tr th:only-of-type {\n",
       "        vertical-align: middle;\n",
       "    }\n",
       "\n",
       "    .dataframe tbody tr th {\n",
       "        vertical-align: top;\n",
       "    }\n",
       "\n",
       "    .dataframe thead th {\n",
       "        text-align: right;\n",
       "    }\n",
       "</style>\n",
       "<table border=\"1\" class=\"dataframe\">\n",
       "  <thead>\n",
       "    <tr style=\"text-align: right;\">\n",
       "      <th></th>\n",
       "      <th>A</th>\n",
       "      <th>B</th>\n",
       "      <th>C</th>\n",
       "      <th>D</th>\n",
       "    </tr>\n",
       "  </thead>\n",
       "  <tbody>\n",
       "    <tr>\n",
       "      <th>2013-01-05</th>\n",
       "      <td>-1.008649</td>\n",
       "      <td>-1.469483</td>\n",
       "      <td>0.297839</td>\n",
       "      <td>-0.798676</td>\n",
       "    </tr>\n",
       "    <tr>\n",
       "      <th>2013-01-06</th>\n",
       "      <td>0.035385</td>\n",
       "      <td>-1.806611</td>\n",
       "      <td>0.660986</td>\n",
       "      <td>-0.421329</td>\n",
       "    </tr>\n",
       "  </tbody>\n",
       "</table>\n",
       "</div>"
      ],
      "text/plain": [
       "                   A         B         C         D\n",
       "2013-01-05 -1.008649 -1.469483  0.297839 -0.798676\n",
       "2013-01-06  0.035385 -1.806611  0.660986 -0.421329"
      ]
     },
     "execution_count": 13,
     "metadata": {},
     "output_type": "execute_result"
    }
   ],
   "source": [
    "df.tail(2)"
   ]
  },
  {
   "cell_type": "code",
   "execution_count": 14,
   "id": "273ccda3-9fab-4aa0-870b-d78127327e54",
   "metadata": {},
   "outputs": [
    {
     "data": {
      "text/plain": [
       "DatetimeIndex(['2013-01-01', '2013-01-02', '2013-01-03', '2013-01-04',\n",
       "               '2013-01-05', '2013-01-06'],\n",
       "              dtype='datetime64[ns]', freq='D')"
      ]
     },
     "execution_count": 14,
     "metadata": {},
     "output_type": "execute_result"
    }
   ],
   "source": [
    "# Muestra el valor de la primera columna que suele ser un valor único (id), en este ejemplo una fecha:\n",
    "\n",
    "df.index"
   ]
  },
  {
   "cell_type": "code",
   "execution_count": 15,
   "id": "cfec3032-957a-44bf-8dbd-9e7dcd0aef7f",
   "metadata": {},
   "outputs": [
    {
     "data": {
      "text/plain": [
       "Index(['A', 'B', 'C', 'D'], dtype='object')"
      ]
     },
     "execution_count": 15,
     "metadata": {},
     "output_type": "execute_result"
    }
   ],
   "source": [
    "# Muestra el nombre de las columnas:\n",
    "\n",
    "df.columns"
   ]
  },
  {
   "cell_type": "code",
   "execution_count": 16,
   "id": "18a34ce8-34a3-481d-ab66-932a97478d9a",
   "metadata": {},
   "outputs": [
    {
     "data": {
      "text/plain": [
       "array([[-0.71136247,  0.82526885, -0.53251966, -2.23200059],\n",
       "       [ 1.530446  , -1.09927375, -0.27551884, -0.60772076],\n",
       "       [-2.43454111, -1.1118055 ,  2.10165828,  1.16169221],\n",
       "       [-0.32320382, -0.4167814 ,  0.61308623, -0.25188882],\n",
       "       [-1.00864866, -1.46948307,  0.2978386 , -0.79867647],\n",
       "       [ 0.03538463, -1.80661127,  0.66098596, -0.42132873]])"
      ]
     },
     "execution_count": 16,
     "metadata": {},
     "output_type": "execute_result"
    }
   ],
   "source": [
    "# Podemos convertir un dataframe en una matriz de numpy con:\n",
    "\n",
    "df.to_numpy()"
   ]
  },
  {
   "cell_type": "code",
   "execution_count": 17,
   "id": "14ae7899-3824-4979-ab5f-643689733df5",
   "metadata": {},
   "outputs": [
    {
     "name": "stdout",
     "output_type": "stream",
     "text": [
      "[[-0.71136247  0.82526885 -0.53251966 -2.23200059]\n",
      " [ 1.530446   -1.09927375 -0.27551884 -0.60772076]\n",
      " [-2.43454111 -1.1118055   2.10165828  1.16169221]\n",
      " [-0.32320382 -0.4167814   0.61308623 -0.25188882]\n",
      " [-1.00864866 -1.46948307  0.2978386  -0.79867647]\n",
      " [ 0.03538463 -1.80661127  0.66098596 -0.42132873]]\n"
     ]
    }
   ],
   "source": [
    "# Podemos convertir un dataframe en una matriz de numpy con:\n",
    "\n",
    "print(df.to_numpy())"
   ]
  },
  {
   "cell_type": "code",
   "execution_count": 18,
   "id": "2623856e-4c9e-403a-bc5c-c30484cb2a61",
   "metadata": {},
   "outputs": [
    {
     "data": {
      "text/html": [
       "<div>\n",
       "<style scoped>\n",
       "    .dataframe tbody tr th:only-of-type {\n",
       "        vertical-align: middle;\n",
       "    }\n",
       "\n",
       "    .dataframe tbody tr th {\n",
       "        vertical-align: top;\n",
       "    }\n",
       "\n",
       "    .dataframe thead th {\n",
       "        text-align: right;\n",
       "    }\n",
       "</style>\n",
       "<table border=\"1\" class=\"dataframe\">\n",
       "  <thead>\n",
       "    <tr style=\"text-align: right;\">\n",
       "      <th></th>\n",
       "      <th>A</th>\n",
       "      <th>B</th>\n",
       "      <th>C</th>\n",
       "      <th>D</th>\n",
       "    </tr>\n",
       "  </thead>\n",
       "  <tbody>\n",
       "    <tr>\n",
       "      <th>count</th>\n",
       "      <td>6.000000</td>\n",
       "      <td>6.000000</td>\n",
       "      <td>6.000000</td>\n",
       "      <td>6.000000</td>\n",
       "    </tr>\n",
       "    <tr>\n",
       "      <th>mean</th>\n",
       "      <td>-0.485321</td>\n",
       "      <td>-0.846448</td>\n",
       "      <td>0.477588</td>\n",
       "      <td>-0.524987</td>\n",
       "    </tr>\n",
       "    <tr>\n",
       "      <th>std</th>\n",
       "      <td>1.302702</td>\n",
       "      <td>0.940603</td>\n",
       "      <td>0.928375</td>\n",
       "      <td>1.088656</td>\n",
       "    </tr>\n",
       "    <tr>\n",
       "      <th>min</th>\n",
       "      <td>-2.434541</td>\n",
       "      <td>-1.806611</td>\n",
       "      <td>-0.532520</td>\n",
       "      <td>-2.232001</td>\n",
       "    </tr>\n",
       "    <tr>\n",
       "      <th>25%</th>\n",
       "      <td>-0.934327</td>\n",
       "      <td>-1.380064</td>\n",
       "      <td>-0.132179</td>\n",
       "      <td>-0.750938</td>\n",
       "    </tr>\n",
       "    <tr>\n",
       "      <th>50%</th>\n",
       "      <td>-0.517283</td>\n",
       "      <td>-1.105540</td>\n",
       "      <td>0.455462</td>\n",
       "      <td>-0.514525</td>\n",
       "    </tr>\n",
       "    <tr>\n",
       "      <th>75%</th>\n",
       "      <td>-0.054262</td>\n",
       "      <td>-0.587404</td>\n",
       "      <td>0.649011</td>\n",
       "      <td>-0.294249</td>\n",
       "    </tr>\n",
       "    <tr>\n",
       "      <th>max</th>\n",
       "      <td>1.530446</td>\n",
       "      <td>0.825269</td>\n",
       "      <td>2.101658</td>\n",
       "      <td>1.161692</td>\n",
       "    </tr>\n",
       "  </tbody>\n",
       "</table>\n",
       "</div>"
      ],
      "text/plain": [
       "              A         B         C         D\n",
       "count  6.000000  6.000000  6.000000  6.000000\n",
       "mean  -0.485321 -0.846448  0.477588 -0.524987\n",
       "std    1.302702  0.940603  0.928375  1.088656\n",
       "min   -2.434541 -1.806611 -0.532520 -2.232001\n",
       "25%   -0.934327 -1.380064 -0.132179 -0.750938\n",
       "50%   -0.517283 -1.105540  0.455462 -0.514525\n",
       "75%   -0.054262 -0.587404  0.649011 -0.294249\n",
       "max    1.530446  0.825269  2.101658  1.161692"
      ]
     },
     "execution_count": 18,
     "metadata": {},
     "output_type": "execute_result"
    }
   ],
   "source": [
    "# Para obtener los estadísticos más representativos usamos:\n",
    "\n",
    "df.describe()"
   ]
  },
  {
   "cell_type": "code",
   "execution_count": 19,
   "id": "f3be58b1-c048-42f4-a5e2-8b0736427157",
   "metadata": {},
   "outputs": [
    {
     "data": {
      "text/html": [
       "<div>\n",
       "<style scoped>\n",
       "    .dataframe tbody tr th:only-of-type {\n",
       "        vertical-align: middle;\n",
       "    }\n",
       "\n",
       "    .dataframe tbody tr th {\n",
       "        vertical-align: top;\n",
       "    }\n",
       "\n",
       "    .dataframe thead th {\n",
       "        text-align: right;\n",
       "    }\n",
       "</style>\n",
       "<table border=\"1\" class=\"dataframe\">\n",
       "  <thead>\n",
       "    <tr style=\"text-align: right;\">\n",
       "      <th></th>\n",
       "      <th>2013-01-01</th>\n",
       "      <th>2013-01-02</th>\n",
       "      <th>2013-01-03</th>\n",
       "      <th>2013-01-04</th>\n",
       "      <th>2013-01-05</th>\n",
       "      <th>2013-01-06</th>\n",
       "    </tr>\n",
       "  </thead>\n",
       "  <tbody>\n",
       "    <tr>\n",
       "      <th>A</th>\n",
       "      <td>-0.711362</td>\n",
       "      <td>1.530446</td>\n",
       "      <td>-2.434541</td>\n",
       "      <td>-0.323204</td>\n",
       "      <td>-1.008649</td>\n",
       "      <td>0.035385</td>\n",
       "    </tr>\n",
       "    <tr>\n",
       "      <th>B</th>\n",
       "      <td>0.825269</td>\n",
       "      <td>-1.099274</td>\n",
       "      <td>-1.111805</td>\n",
       "      <td>-0.416781</td>\n",
       "      <td>-1.469483</td>\n",
       "      <td>-1.806611</td>\n",
       "    </tr>\n",
       "    <tr>\n",
       "      <th>C</th>\n",
       "      <td>-0.532520</td>\n",
       "      <td>-0.275519</td>\n",
       "      <td>2.101658</td>\n",
       "      <td>0.613086</td>\n",
       "      <td>0.297839</td>\n",
       "      <td>0.660986</td>\n",
       "    </tr>\n",
       "    <tr>\n",
       "      <th>D</th>\n",
       "      <td>-2.232001</td>\n",
       "      <td>-0.607721</td>\n",
       "      <td>1.161692</td>\n",
       "      <td>-0.251889</td>\n",
       "      <td>-0.798676</td>\n",
       "      <td>-0.421329</td>\n",
       "    </tr>\n",
       "  </tbody>\n",
       "</table>\n",
       "</div>"
      ],
      "text/plain": [
       "   2013-01-01  2013-01-02  2013-01-03  2013-01-04  2013-01-05  2013-01-06\n",
       "A   -0.711362    1.530446   -2.434541   -0.323204   -1.008649    0.035385\n",
       "B    0.825269   -1.099274   -1.111805   -0.416781   -1.469483   -1.806611\n",
       "C   -0.532520   -0.275519    2.101658    0.613086    0.297839    0.660986\n",
       "D   -2.232001   -0.607721    1.161692   -0.251889   -0.798676   -0.421329"
      ]
     },
     "execution_count": 19,
     "metadata": {},
     "output_type": "execute_result"
    }
   ],
   "source": [
    "# Podemos dar la vuelta a la tabla y poner lo que esta en filas en columnas y viceversa:\n",
    "\n",
    "df.T"
   ]
  },
  {
   "cell_type": "code",
   "execution_count": 20,
   "id": "a4e57762-edf9-4ed5-bba9-5a1b0a7aecbf",
   "metadata": {},
   "outputs": [
    {
     "data": {
      "text/html": [
       "<div>\n",
       "<style scoped>\n",
       "    .dataframe tbody tr th:only-of-type {\n",
       "        vertical-align: middle;\n",
       "    }\n",
       "\n",
       "    .dataframe tbody tr th {\n",
       "        vertical-align: top;\n",
       "    }\n",
       "\n",
       "    .dataframe thead th {\n",
       "        text-align: right;\n",
       "    }\n",
       "</style>\n",
       "<table border=\"1\" class=\"dataframe\">\n",
       "  <thead>\n",
       "    <tr style=\"text-align: right;\">\n",
       "      <th></th>\n",
       "      <th>D</th>\n",
       "      <th>C</th>\n",
       "      <th>B</th>\n",
       "      <th>A</th>\n",
       "    </tr>\n",
       "  </thead>\n",
       "  <tbody>\n",
       "    <tr>\n",
       "      <th>2013-01-01</th>\n",
       "      <td>-2.232001</td>\n",
       "      <td>-0.532520</td>\n",
       "      <td>0.825269</td>\n",
       "      <td>-0.711362</td>\n",
       "    </tr>\n",
       "    <tr>\n",
       "      <th>2013-01-02</th>\n",
       "      <td>-0.607721</td>\n",
       "      <td>-0.275519</td>\n",
       "      <td>-1.099274</td>\n",
       "      <td>1.530446</td>\n",
       "    </tr>\n",
       "    <tr>\n",
       "      <th>2013-01-03</th>\n",
       "      <td>1.161692</td>\n",
       "      <td>2.101658</td>\n",
       "      <td>-1.111805</td>\n",
       "      <td>-2.434541</td>\n",
       "    </tr>\n",
       "    <tr>\n",
       "      <th>2013-01-04</th>\n",
       "      <td>-0.251889</td>\n",
       "      <td>0.613086</td>\n",
       "      <td>-0.416781</td>\n",
       "      <td>-0.323204</td>\n",
       "    </tr>\n",
       "    <tr>\n",
       "      <th>2013-01-05</th>\n",
       "      <td>-0.798676</td>\n",
       "      <td>0.297839</td>\n",
       "      <td>-1.469483</td>\n",
       "      <td>-1.008649</td>\n",
       "    </tr>\n",
       "    <tr>\n",
       "      <th>2013-01-06</th>\n",
       "      <td>-0.421329</td>\n",
       "      <td>0.660986</td>\n",
       "      <td>-1.806611</td>\n",
       "      <td>0.035385</td>\n",
       "    </tr>\n",
       "  </tbody>\n",
       "</table>\n",
       "</div>"
      ],
      "text/plain": [
       "                   D         C         B         A\n",
       "2013-01-01 -2.232001 -0.532520  0.825269 -0.711362\n",
       "2013-01-02 -0.607721 -0.275519 -1.099274  1.530446\n",
       "2013-01-03  1.161692  2.101658 -1.111805 -2.434541\n",
       "2013-01-04 -0.251889  0.613086 -0.416781 -0.323204\n",
       "2013-01-05 -0.798676  0.297839 -1.469483 -1.008649\n",
       "2013-01-06 -0.421329  0.660986 -1.806611  0.035385"
      ]
     },
     "execution_count": 20,
     "metadata": {},
     "output_type": "execute_result"
    }
   ],
   "source": [
    "# Colocar los valores según el indice:\n",
    "\n",
    "df.sort_index(axis=1, ascending=False)"
   ]
  },
  {
   "cell_type": "code",
   "execution_count": 21,
   "id": "4ac59bab-4667-49cd-aee1-e3a0a6cf4b6e",
   "metadata": {},
   "outputs": [
    {
     "data": {
      "text/html": [
       "<div>\n",
       "<style scoped>\n",
       "    .dataframe tbody tr th:only-of-type {\n",
       "        vertical-align: middle;\n",
       "    }\n",
       "\n",
       "    .dataframe tbody tr th {\n",
       "        vertical-align: top;\n",
       "    }\n",
       "\n",
       "    .dataframe thead th {\n",
       "        text-align: right;\n",
       "    }\n",
       "</style>\n",
       "<table border=\"1\" class=\"dataframe\">\n",
       "  <thead>\n",
       "    <tr style=\"text-align: right;\">\n",
       "      <th></th>\n",
       "      <th>A</th>\n",
       "      <th>B</th>\n",
       "      <th>C</th>\n",
       "      <th>D</th>\n",
       "    </tr>\n",
       "  </thead>\n",
       "  <tbody>\n",
       "    <tr>\n",
       "      <th>2013-01-06</th>\n",
       "      <td>0.035385</td>\n",
       "      <td>-1.806611</td>\n",
       "      <td>0.660986</td>\n",
       "      <td>-0.421329</td>\n",
       "    </tr>\n",
       "    <tr>\n",
       "      <th>2013-01-05</th>\n",
       "      <td>-1.008649</td>\n",
       "      <td>-1.469483</td>\n",
       "      <td>0.297839</td>\n",
       "      <td>-0.798676</td>\n",
       "    </tr>\n",
       "    <tr>\n",
       "      <th>2013-01-03</th>\n",
       "      <td>-2.434541</td>\n",
       "      <td>-1.111805</td>\n",
       "      <td>2.101658</td>\n",
       "      <td>1.161692</td>\n",
       "    </tr>\n",
       "    <tr>\n",
       "      <th>2013-01-02</th>\n",
       "      <td>1.530446</td>\n",
       "      <td>-1.099274</td>\n",
       "      <td>-0.275519</td>\n",
       "      <td>-0.607721</td>\n",
       "    </tr>\n",
       "    <tr>\n",
       "      <th>2013-01-04</th>\n",
       "      <td>-0.323204</td>\n",
       "      <td>-0.416781</td>\n",
       "      <td>0.613086</td>\n",
       "      <td>-0.251889</td>\n",
       "    </tr>\n",
       "    <tr>\n",
       "      <th>2013-01-01</th>\n",
       "      <td>-0.711362</td>\n",
       "      <td>0.825269</td>\n",
       "      <td>-0.532520</td>\n",
       "      <td>-2.232001</td>\n",
       "    </tr>\n",
       "  </tbody>\n",
       "</table>\n",
       "</div>"
      ],
      "text/plain": [
       "                   A         B         C         D\n",
       "2013-01-06  0.035385 -1.806611  0.660986 -0.421329\n",
       "2013-01-05 -1.008649 -1.469483  0.297839 -0.798676\n",
       "2013-01-03 -2.434541 -1.111805  2.101658  1.161692\n",
       "2013-01-02  1.530446 -1.099274 -0.275519 -0.607721\n",
       "2013-01-04 -0.323204 -0.416781  0.613086 -0.251889\n",
       "2013-01-01 -0.711362  0.825269 -0.532520 -2.232001"
      ]
     },
     "execution_count": 21,
     "metadata": {},
     "output_type": "execute_result"
    }
   ],
   "source": [
    "# Ordenar los datos según una columna:\n",
    "\n",
    "df.sort_values(by=\"B\")"
   ]
  },
  {
   "cell_type": "markdown",
   "id": "37afd066-0725-40aa-8280-f0af5ed24c58",
   "metadata": {
    "jp-MarkdownHeadingCollapsed": true
   },
   "source": [
    "## Seleccion"
   ]
  },
  {
   "cell_type": "markdown",
   "id": "da1ee81d-e4ba-4414-927b-e9439c80ca97",
   "metadata": {},
   "source": [
    "## ```GetItem()```"
   ]
  },
  {
   "cell_type": "markdown",
   "id": "5b5cabba-1c08-4a75-a14e-6f071a65a76e",
   "metadata": {},
   "source": [
    "**Selección de columna**. Existen 3 formas de seleccionar una columna:"
   ]
  },
  {
   "cell_type": "code",
   "execution_count": 22,
   "id": "d445762f-7062-4dbc-9dfd-22cd52cdd8e4",
   "metadata": {},
   "outputs": [
    {
     "data": {
      "text/plain": [
       "2013-01-01   -0.711362\n",
       "2013-01-02    1.530446\n",
       "2013-01-03   -2.434541\n",
       "2013-01-04   -0.323204\n",
       "2013-01-05   -1.008649\n",
       "2013-01-06    0.035385\n",
       "Freq: D, Name: A, dtype: float64"
      ]
     },
     "execution_count": 22,
     "metadata": {},
     "output_type": "execute_result"
    }
   ],
   "source": [
    "df['A']"
   ]
  },
  {
   "cell_type": "code",
   "execution_count": 23,
   "id": "1b04ad8a-2e92-4f89-ad47-88e06371411b",
   "metadata": {},
   "outputs": [
    {
     "data": {
      "text/plain": [
       "2013-01-01   -0.711362\n",
       "2013-01-02    1.530446\n",
       "2013-01-03   -2.434541\n",
       "2013-01-04   -0.323204\n",
       "2013-01-05   -1.008649\n",
       "2013-01-06    0.035385\n",
       "Freq: D, Name: A, dtype: float64"
      ]
     },
     "execution_count": 23,
     "metadata": {},
     "output_type": "execute_result"
    }
   ],
   "source": [
    "df.A"
   ]
  },
  {
   "cell_type": "code",
   "execution_count": 24,
   "id": "f71e0044-89ec-4997-831d-2bc75a58d1ec",
   "metadata": {},
   "outputs": [
    {
     "data": {
      "text/html": [
       "<div>\n",
       "<style scoped>\n",
       "    .dataframe tbody tr th:only-of-type {\n",
       "        vertical-align: middle;\n",
       "    }\n",
       "\n",
       "    .dataframe tbody tr th {\n",
       "        vertical-align: top;\n",
       "    }\n",
       "\n",
       "    .dataframe thead th {\n",
       "        text-align: right;\n",
       "    }\n",
       "</style>\n",
       "<table border=\"1\" class=\"dataframe\">\n",
       "  <thead>\n",
       "    <tr style=\"text-align: right;\">\n",
       "      <th></th>\n",
       "      <th>A</th>\n",
       "    </tr>\n",
       "  </thead>\n",
       "  <tbody>\n",
       "    <tr>\n",
       "      <th>2013-01-01</th>\n",
       "      <td>-0.711362</td>\n",
       "    </tr>\n",
       "    <tr>\n",
       "      <th>2013-01-02</th>\n",
       "      <td>1.530446</td>\n",
       "    </tr>\n",
       "    <tr>\n",
       "      <th>2013-01-03</th>\n",
       "      <td>-2.434541</td>\n",
       "    </tr>\n",
       "    <tr>\n",
       "      <th>2013-01-04</th>\n",
       "      <td>-0.323204</td>\n",
       "    </tr>\n",
       "    <tr>\n",
       "      <th>2013-01-05</th>\n",
       "      <td>-1.008649</td>\n",
       "    </tr>\n",
       "    <tr>\n",
       "      <th>2013-01-06</th>\n",
       "      <td>0.035385</td>\n",
       "    </tr>\n",
       "  </tbody>\n",
       "</table>\n",
       "</div>"
      ],
      "text/plain": [
       "                   A\n",
       "2013-01-01 -0.711362\n",
       "2013-01-02  1.530446\n",
       "2013-01-03 -2.434541\n",
       "2013-01-04 -0.323204\n",
       "2013-01-05 -1.008649\n",
       "2013-01-06  0.035385"
      ]
     },
     "execution_count": 24,
     "metadata": {},
     "output_type": "execute_result"
    }
   ],
   "source": [
    "df[['A']]"
   ]
  },
  {
   "cell_type": "markdown",
   "id": "0058552f-6092-4c92-9c79-c5d3cb9c1aeb",
   "metadata": {},
   "source": [
    "**Selección de filas mediante slicing(:)**"
   ]
  },
  {
   "cell_type": "code",
   "execution_count": 25,
   "id": "f6c79b92-3ab8-4c1f-aa5f-0ddfa922731f",
   "metadata": {},
   "outputs": [
    {
     "data": {
      "text/html": [
       "<div>\n",
       "<style scoped>\n",
       "    .dataframe tbody tr th:only-of-type {\n",
       "        vertical-align: middle;\n",
       "    }\n",
       "\n",
       "    .dataframe tbody tr th {\n",
       "        vertical-align: top;\n",
       "    }\n",
       "\n",
       "    .dataframe thead th {\n",
       "        text-align: right;\n",
       "    }\n",
       "</style>\n",
       "<table border=\"1\" class=\"dataframe\">\n",
       "  <thead>\n",
       "    <tr style=\"text-align: right;\">\n",
       "      <th></th>\n",
       "      <th>A</th>\n",
       "      <th>B</th>\n",
       "      <th>C</th>\n",
       "      <th>D</th>\n",
       "    </tr>\n",
       "  </thead>\n",
       "  <tbody>\n",
       "    <tr>\n",
       "      <th>2013-01-01</th>\n",
       "      <td>-0.711362</td>\n",
       "      <td>0.825269</td>\n",
       "      <td>-0.532520</td>\n",
       "      <td>-2.232001</td>\n",
       "    </tr>\n",
       "    <tr>\n",
       "      <th>2013-01-02</th>\n",
       "      <td>1.530446</td>\n",
       "      <td>-1.099274</td>\n",
       "      <td>-0.275519</td>\n",
       "      <td>-0.607721</td>\n",
       "    </tr>\n",
       "    <tr>\n",
       "      <th>2013-01-03</th>\n",
       "      <td>-2.434541</td>\n",
       "      <td>-1.111805</td>\n",
       "      <td>2.101658</td>\n",
       "      <td>1.161692</td>\n",
       "    </tr>\n",
       "    <tr>\n",
       "      <th>2013-01-04</th>\n",
       "      <td>-0.323204</td>\n",
       "      <td>-0.416781</td>\n",
       "      <td>0.613086</td>\n",
       "      <td>-0.251889</td>\n",
       "    </tr>\n",
       "    <tr>\n",
       "      <th>2013-01-05</th>\n",
       "      <td>-1.008649</td>\n",
       "      <td>-1.469483</td>\n",
       "      <td>0.297839</td>\n",
       "      <td>-0.798676</td>\n",
       "    </tr>\n",
       "    <tr>\n",
       "      <th>2013-01-06</th>\n",
       "      <td>0.035385</td>\n",
       "      <td>-1.806611</td>\n",
       "      <td>0.660986</td>\n",
       "      <td>-0.421329</td>\n",
       "    </tr>\n",
       "  </tbody>\n",
       "</table>\n",
       "</div>"
      ],
      "text/plain": [
       "                   A         B         C         D\n",
       "2013-01-01 -0.711362  0.825269 -0.532520 -2.232001\n",
       "2013-01-02  1.530446 -1.099274 -0.275519 -0.607721\n",
       "2013-01-03 -2.434541 -1.111805  2.101658  1.161692\n",
       "2013-01-04 -0.323204 -0.416781  0.613086 -0.251889\n",
       "2013-01-05 -1.008649 -1.469483  0.297839 -0.798676\n",
       "2013-01-06  0.035385 -1.806611  0.660986 -0.421329"
      ]
     },
     "execution_count": 25,
     "metadata": {},
     "output_type": "execute_result"
    }
   ],
   "source": [
    "df"
   ]
  },
  {
   "cell_type": "code",
   "execution_count": 26,
   "id": "2e46380b-02a1-415c-a088-e5d647b20dc0",
   "metadata": {},
   "outputs": [
    {
     "data": {
      "text/html": [
       "<div>\n",
       "<style scoped>\n",
       "    .dataframe tbody tr th:only-of-type {\n",
       "        vertical-align: middle;\n",
       "    }\n",
       "\n",
       "    .dataframe tbody tr th {\n",
       "        vertical-align: top;\n",
       "    }\n",
       "\n",
       "    .dataframe thead th {\n",
       "        text-align: right;\n",
       "    }\n",
       "</style>\n",
       "<table border=\"1\" class=\"dataframe\">\n",
       "  <thead>\n",
       "    <tr style=\"text-align: right;\">\n",
       "      <th></th>\n",
       "      <th>A</th>\n",
       "      <th>B</th>\n",
       "      <th>C</th>\n",
       "      <th>D</th>\n",
       "    </tr>\n",
       "  </thead>\n",
       "  <tbody>\n",
       "    <tr>\n",
       "      <th>2013-01-01</th>\n",
       "      <td>-0.711362</td>\n",
       "      <td>0.825269</td>\n",
       "      <td>-0.532520</td>\n",
       "      <td>-2.232001</td>\n",
       "    </tr>\n",
       "    <tr>\n",
       "      <th>2013-01-02</th>\n",
       "      <td>1.530446</td>\n",
       "      <td>-1.099274</td>\n",
       "      <td>-0.275519</td>\n",
       "      <td>-0.607721</td>\n",
       "    </tr>\n",
       "  </tbody>\n",
       "</table>\n",
       "</div>"
      ],
      "text/plain": [
       "                   A         B         C         D\n",
       "2013-01-01 -0.711362  0.825269 -0.532520 -2.232001\n",
       "2013-01-02  1.530446 -1.099274 -0.275519 -0.607721"
      ]
     },
     "execution_count": 26,
     "metadata": {},
     "output_type": "execute_result"
    }
   ],
   "source": [
    "df[0:2]"
   ]
  },
  {
   "cell_type": "code",
   "execution_count": 27,
   "id": "5007d710-f1ee-480f-a66e-9522c74ad0fe",
   "metadata": {},
   "outputs": [
    {
     "data": {
      "text/html": [
       "<div>\n",
       "<style scoped>\n",
       "    .dataframe tbody tr th:only-of-type {\n",
       "        vertical-align: middle;\n",
       "    }\n",
       "\n",
       "    .dataframe tbody tr th {\n",
       "        vertical-align: top;\n",
       "    }\n",
       "\n",
       "    .dataframe thead th {\n",
       "        text-align: right;\n",
       "    }\n",
       "</style>\n",
       "<table border=\"1\" class=\"dataframe\">\n",
       "  <thead>\n",
       "    <tr style=\"text-align: right;\">\n",
       "      <th></th>\n",
       "      <th>A</th>\n",
       "      <th>B</th>\n",
       "      <th>C</th>\n",
       "      <th>D</th>\n",
       "    </tr>\n",
       "  </thead>\n",
       "  <tbody>\n",
       "    <tr>\n",
       "      <th>2013-01-03</th>\n",
       "      <td>-2.434541</td>\n",
       "      <td>-1.111805</td>\n",
       "      <td>2.101658</td>\n",
       "      <td>1.161692</td>\n",
       "    </tr>\n",
       "    <tr>\n",
       "      <th>2013-01-04</th>\n",
       "      <td>-0.323204</td>\n",
       "      <td>-0.416781</td>\n",
       "      <td>0.613086</td>\n",
       "      <td>-0.251889</td>\n",
       "    </tr>\n",
       "    <tr>\n",
       "      <th>2013-01-05</th>\n",
       "      <td>-1.008649</td>\n",
       "      <td>-1.469483</td>\n",
       "      <td>0.297839</td>\n",
       "      <td>-0.798676</td>\n",
       "    </tr>\n",
       "  </tbody>\n",
       "</table>\n",
       "</div>"
      ],
      "text/plain": [
       "                   A         B         C         D\n",
       "2013-01-03 -2.434541 -1.111805  2.101658  1.161692\n",
       "2013-01-04 -0.323204 -0.416781  0.613086 -0.251889\n",
       "2013-01-05 -1.008649 -1.469483  0.297839 -0.798676"
      ]
     },
     "execution_count": 27,
     "metadata": {},
     "output_type": "execute_result"
    }
   ],
   "source": [
    "df[\"20130103\":\"20130105\"]"
   ]
  },
  {
   "cell_type": "markdown",
   "id": "c5fe4390-b5d7-42ab-8343-1f5467a04cc7",
   "metadata": {},
   "source": [
    "**Selección con la función ```loc[]``` y ```at[]```**"
   ]
  },
  {
   "cell_type": "code",
   "execution_count": 28,
   "id": "5d0fbe96-e743-4f4f-a04f-ccaeab98cd05",
   "metadata": {},
   "outputs": [
    {
     "data": {
      "text/plain": [
       "A   -0.711362\n",
       "B    0.825269\n",
       "C   -0.532520\n",
       "D   -2.232001\n",
       "Name: 2013-01-01 00:00:00, dtype: float64"
      ]
     },
     "execution_count": 28,
     "metadata": {},
     "output_type": "execute_result"
    }
   ],
   "source": [
    "# Filas que coinciden con una etiqueta, selección de la primera fila:\n",
    "\n",
    "df.loc[dates[0]]"
   ]
  },
  {
   "cell_type": "code",
   "execution_count": 29,
   "id": "33ae7463-e0ad-4658-a561-522f7804b8e3",
   "metadata": {},
   "outputs": [
    {
     "data": {
      "text/html": [
       "<div>\n",
       "<style scoped>\n",
       "    .dataframe tbody tr th:only-of-type {\n",
       "        vertical-align: middle;\n",
       "    }\n",
       "\n",
       "    .dataframe tbody tr th {\n",
       "        vertical-align: top;\n",
       "    }\n",
       "\n",
       "    .dataframe thead th {\n",
       "        text-align: right;\n",
       "    }\n",
       "</style>\n",
       "<table border=\"1\" class=\"dataframe\">\n",
       "  <thead>\n",
       "    <tr style=\"text-align: right;\">\n",
       "      <th></th>\n",
       "      <th>B</th>\n",
       "      <th>C</th>\n",
       "    </tr>\n",
       "  </thead>\n",
       "  <tbody>\n",
       "    <tr>\n",
       "      <th>2013-01-01</th>\n",
       "      <td>0.825269</td>\n",
       "      <td>-0.532520</td>\n",
       "    </tr>\n",
       "    <tr>\n",
       "      <th>2013-01-02</th>\n",
       "      <td>-1.099274</td>\n",
       "      <td>-0.275519</td>\n",
       "    </tr>\n",
       "    <tr>\n",
       "      <th>2013-01-03</th>\n",
       "      <td>-1.111805</td>\n",
       "      <td>2.101658</td>\n",
       "    </tr>\n",
       "    <tr>\n",
       "      <th>2013-01-04</th>\n",
       "      <td>-0.416781</td>\n",
       "      <td>0.613086</td>\n",
       "    </tr>\n",
       "    <tr>\n",
       "      <th>2013-01-05</th>\n",
       "      <td>-1.469483</td>\n",
       "      <td>0.297839</td>\n",
       "    </tr>\n",
       "    <tr>\n",
       "      <th>2013-01-06</th>\n",
       "      <td>-1.806611</td>\n",
       "      <td>0.660986</td>\n",
       "    </tr>\n",
       "  </tbody>\n",
       "</table>\n",
       "</div>"
      ],
      "text/plain": [
       "                   B         C\n",
       "2013-01-01  0.825269 -0.532520\n",
       "2013-01-02 -1.099274 -0.275519\n",
       "2013-01-03 -1.111805  2.101658\n",
       "2013-01-04 -0.416781  0.613086\n",
       "2013-01-05 -1.469483  0.297839\n",
       "2013-01-06 -1.806611  0.660986"
      ]
     },
     "execution_count": 29,
     "metadata": {},
     "output_type": "execute_result"
    }
   ],
   "source": [
    "# Seleccionar todas las filas de una determinada columna:\n",
    "\n",
    "df.loc[:, ['B', 'C']]"
   ]
  },
  {
   "cell_type": "code",
   "execution_count": 30,
   "id": "9fb3f105-862b-4256-a694-4e0011a9f2d3",
   "metadata": {},
   "outputs": [
    {
     "data": {
      "text/html": [
       "<div>\n",
       "<style scoped>\n",
       "    .dataframe tbody tr th:only-of-type {\n",
       "        vertical-align: middle;\n",
       "    }\n",
       "\n",
       "    .dataframe tbody tr th {\n",
       "        vertical-align: top;\n",
       "    }\n",
       "\n",
       "    .dataframe thead th {\n",
       "        text-align: right;\n",
       "    }\n",
       "</style>\n",
       "<table border=\"1\" class=\"dataframe\">\n",
       "  <thead>\n",
       "    <tr style=\"text-align: right;\">\n",
       "      <th></th>\n",
       "      <th>B</th>\n",
       "      <th>C</th>\n",
       "    </tr>\n",
       "  </thead>\n",
       "  <tbody>\n",
       "    <tr>\n",
       "      <th>2013-01-03</th>\n",
       "      <td>-1.111805</td>\n",
       "      <td>2.101658</td>\n",
       "    </tr>\n",
       "    <tr>\n",
       "      <th>2013-01-04</th>\n",
       "      <td>-0.416781</td>\n",
       "      <td>0.613086</td>\n",
       "    </tr>\n",
       "    <tr>\n",
       "      <th>2013-01-05</th>\n",
       "      <td>-1.469483</td>\n",
       "      <td>0.297839</td>\n",
       "    </tr>\n",
       "  </tbody>\n",
       "</table>\n",
       "</div>"
      ],
      "text/plain": [
       "                   B         C\n",
       "2013-01-03 -1.111805  2.101658\n",
       "2013-01-04 -0.416781  0.613086\n",
       "2013-01-05 -1.469483  0.297839"
      ]
     },
     "execution_count": 30,
     "metadata": {},
     "output_type": "execute_result"
    }
   ],
   "source": [
    "# Seleccionar por filas y columnas:\n",
    "\n",
    "df.loc[\"20130103\":\"20130105\", ['B', 'C']]"
   ]
  },
  {
   "cell_type": "code",
   "execution_count": 31,
   "id": "399d4226-36d6-4e0f-9ca9-39ba76c89a6a",
   "metadata": {},
   "outputs": [
    {
     "data": {
      "text/plain": [
       "-1.1118054961800448"
      ]
     },
     "execution_count": 31,
     "metadata": {},
     "output_type": "execute_result"
    }
   ],
   "source": [
    "# Seleccionar para un valor determinado -0.891699 (20130103, B):\n",
    "\n",
    "df.loc[dates[2], 'B']"
   ]
  },
  {
   "cell_type": "code",
   "execution_count": 32,
   "id": "027aa7d3-512b-4470-8e47-deb92f7aa295",
   "metadata": {},
   "outputs": [
    {
     "data": {
      "text/plain": [
       "-1.1118054961800448"
      ]
     },
     "execution_count": 32,
     "metadata": {},
     "output_type": "execute_result"
    }
   ],
   "source": [
    "df.at[dates[2], 'B']"
   ]
  },
  {
   "cell_type": "markdown",
   "id": "41c3bd4a-6e09-4fe2-bc51-1737ec0f5862",
   "metadata": {},
   "source": [
    "**Selección por posicion: método ```iloc[]``` y ```iat[]```**"
   ]
  },
  {
   "cell_type": "code",
   "execution_count": 33,
   "id": "b12acab2-00f3-44f7-b153-717d1400b9f6",
   "metadata": {},
   "outputs": [
    {
     "data": {
      "text/plain": [
       "A   -0.323204\n",
       "B   -0.416781\n",
       "C    0.613086\n",
       "D   -0.251889\n",
       "Name: 2013-01-04 00:00:00, dtype: float64"
      ]
     },
     "execution_count": 33,
     "metadata": {},
     "output_type": "execute_result"
    }
   ],
   "source": [
    "# Selección de una fila en posición 3:\n",
    "\n",
    "df.iloc[3]"
   ]
  },
  {
   "cell_type": "code",
   "execution_count": 34,
   "id": "4ad8f88c-9933-4339-9059-45e00b71beec",
   "metadata": {},
   "outputs": [
    {
     "data": {
      "text/html": [
       "<div>\n",
       "<style scoped>\n",
       "    .dataframe tbody tr th:only-of-type {\n",
       "        vertical-align: middle;\n",
       "    }\n",
       "\n",
       "    .dataframe tbody tr th {\n",
       "        vertical-align: top;\n",
       "    }\n",
       "\n",
       "    .dataframe thead th {\n",
       "        text-align: right;\n",
       "    }\n",
       "</style>\n",
       "<table border=\"1\" class=\"dataframe\">\n",
       "  <thead>\n",
       "    <tr style=\"text-align: right;\">\n",
       "      <th></th>\n",
       "      <th>B</th>\n",
       "      <th>C</th>\n",
       "    </tr>\n",
       "  </thead>\n",
       "  <tbody>\n",
       "    <tr>\n",
       "      <th>2013-01-04</th>\n",
       "      <td>-0.416781</td>\n",
       "      <td>0.613086</td>\n",
       "    </tr>\n",
       "    <tr>\n",
       "      <th>2013-01-05</th>\n",
       "      <td>-1.469483</td>\n",
       "      <td>0.297839</td>\n",
       "    </tr>\n",
       "  </tbody>\n",
       "</table>\n",
       "</div>"
      ],
      "text/plain": [
       "                   B         C\n",
       "2013-01-04 -0.416781  0.613086\n",
       "2013-01-05 -1.469483  0.297839"
      ]
     },
     "execution_count": 34,
     "metadata": {},
     "output_type": "execute_result"
    }
   ],
   "source": [
    "# Selección de una fila y columna por slicing:\n",
    "\n",
    "df.iloc[3:5, 1:3]"
   ]
  },
  {
   "cell_type": "code",
   "execution_count": 43,
   "id": "c685532f-a4af-4baa-922c-13ec481fad5a",
   "metadata": {},
   "outputs": [
    {
     "data": {
      "text/html": [
       "<div>\n",
       "<style scoped>\n",
       "    .dataframe tbody tr th:only-of-type {\n",
       "        vertical-align: middle;\n",
       "    }\n",
       "\n",
       "    .dataframe tbody tr th {\n",
       "        vertical-align: top;\n",
       "    }\n",
       "\n",
       "    .dataframe thead th {\n",
       "        text-align: right;\n",
       "    }\n",
       "</style>\n",
       "<table border=\"1\" class=\"dataframe\">\n",
       "  <thead>\n",
       "    <tr style=\"text-align: right;\">\n",
       "      <th></th>\n",
       "      <th>A</th>\n",
       "      <th>C</th>\n",
       "    </tr>\n",
       "  </thead>\n",
       "  <tbody>\n",
       "    <tr>\n",
       "      <th>2013-01-02</th>\n",
       "      <td>1.530446</td>\n",
       "      <td>-0.275519</td>\n",
       "    </tr>\n",
       "    <tr>\n",
       "      <th>2013-01-03</th>\n",
       "      <td>-2.434541</td>\n",
       "      <td>2.101658</td>\n",
       "    </tr>\n",
       "    <tr>\n",
       "      <th>2013-01-05</th>\n",
       "      <td>-1.008649</td>\n",
       "      <td>0.297839</td>\n",
       "    </tr>\n",
       "  </tbody>\n",
       "</table>\n",
       "</div>"
      ],
      "text/plain": [
       "                   A         C\n",
       "2013-01-02  1.530446 -0.275519\n",
       "2013-01-03 -2.434541  2.101658\n",
       "2013-01-05 -1.008649  0.297839"
      ]
     },
     "execution_count": 43,
     "metadata": {},
     "output_type": "execute_result"
    }
   ],
   "source": [
    "# Selección por lista de posiciones:\n",
    "# Filas: 1, 2, 4\n",
    "# Columnas: 0(A), 2(C)\n",
    "\n",
    "df.iloc[[1, 2, 4], [0, 2]]"
   ]
  },
  {
   "cell_type": "code",
   "execution_count": 36,
   "id": "79a5c8b9-a86f-4599-a416-a8c576a7bfae",
   "metadata": {},
   "outputs": [
    {
     "data": {
      "text/html": [
       "<div>\n",
       "<style scoped>\n",
       "    .dataframe tbody tr th:only-of-type {\n",
       "        vertical-align: middle;\n",
       "    }\n",
       "\n",
       "    .dataframe tbody tr th {\n",
       "        vertical-align: top;\n",
       "    }\n",
       "\n",
       "    .dataframe thead th {\n",
       "        text-align: right;\n",
       "    }\n",
       "</style>\n",
       "<table border=\"1\" class=\"dataframe\">\n",
       "  <thead>\n",
       "    <tr style=\"text-align: right;\">\n",
       "      <th></th>\n",
       "      <th>A</th>\n",
       "      <th>B</th>\n",
       "      <th>C</th>\n",
       "      <th>D</th>\n",
       "    </tr>\n",
       "  </thead>\n",
       "  <tbody>\n",
       "    <tr>\n",
       "      <th>2013-01-02</th>\n",
       "      <td>1.530446</td>\n",
       "      <td>-1.099274</td>\n",
       "      <td>-0.275519</td>\n",
       "      <td>-0.607721</td>\n",
       "    </tr>\n",
       "    <tr>\n",
       "      <th>2013-01-03</th>\n",
       "      <td>-2.434541</td>\n",
       "      <td>-1.111805</td>\n",
       "      <td>2.101658</td>\n",
       "      <td>1.161692</td>\n",
       "    </tr>\n",
       "  </tbody>\n",
       "</table>\n",
       "</div>"
      ],
      "text/plain": [
       "                   A         B         C         D\n",
       "2013-01-02  1.530446 -1.099274 -0.275519 -0.607721\n",
       "2013-01-03 -2.434541 -1.111805  2.101658  1.161692"
      ]
     },
     "execution_count": 36,
     "metadata": {},
     "output_type": "execute_result"
    }
   ],
   "source": [
    "# Selección por filas o columnas:\n",
    "\n",
    "df.iloc[1:3, :]"
   ]
  },
  {
   "cell_type": "code",
   "execution_count": 37,
   "id": "530d4375-f930-486f-ba71-deb6b41595bf",
   "metadata": {},
   "outputs": [
    {
     "data": {
      "text/html": [
       "<div>\n",
       "<style scoped>\n",
       "    .dataframe tbody tr th:only-of-type {\n",
       "        vertical-align: middle;\n",
       "    }\n",
       "\n",
       "    .dataframe tbody tr th {\n",
       "        vertical-align: top;\n",
       "    }\n",
       "\n",
       "    .dataframe thead th {\n",
       "        text-align: right;\n",
       "    }\n",
       "</style>\n",
       "<table border=\"1\" class=\"dataframe\">\n",
       "  <thead>\n",
       "    <tr style=\"text-align: right;\">\n",
       "      <th></th>\n",
       "      <th>B</th>\n",
       "      <th>C</th>\n",
       "    </tr>\n",
       "  </thead>\n",
       "  <tbody>\n",
       "    <tr>\n",
       "      <th>2013-01-01</th>\n",
       "      <td>0.825269</td>\n",
       "      <td>-0.532520</td>\n",
       "    </tr>\n",
       "    <tr>\n",
       "      <th>2013-01-02</th>\n",
       "      <td>-1.099274</td>\n",
       "      <td>-0.275519</td>\n",
       "    </tr>\n",
       "    <tr>\n",
       "      <th>2013-01-03</th>\n",
       "      <td>-1.111805</td>\n",
       "      <td>2.101658</td>\n",
       "    </tr>\n",
       "    <tr>\n",
       "      <th>2013-01-04</th>\n",
       "      <td>-0.416781</td>\n",
       "      <td>0.613086</td>\n",
       "    </tr>\n",
       "    <tr>\n",
       "      <th>2013-01-05</th>\n",
       "      <td>-1.469483</td>\n",
       "      <td>0.297839</td>\n",
       "    </tr>\n",
       "    <tr>\n",
       "      <th>2013-01-06</th>\n",
       "      <td>-1.806611</td>\n",
       "      <td>0.660986</td>\n",
       "    </tr>\n",
       "  </tbody>\n",
       "</table>\n",
       "</div>"
      ],
      "text/plain": [
       "                   B         C\n",
       "2013-01-01  0.825269 -0.532520\n",
       "2013-01-02 -1.099274 -0.275519\n",
       "2013-01-03 -1.111805  2.101658\n",
       "2013-01-04 -0.416781  0.613086\n",
       "2013-01-05 -1.469483  0.297839\n",
       "2013-01-06 -1.806611  0.660986"
      ]
     },
     "execution_count": 37,
     "metadata": {},
     "output_type": "execute_result"
    }
   ],
   "source": [
    "df.iloc[:, 1:3]"
   ]
  },
  {
   "cell_type": "code",
   "execution_count": 38,
   "id": "827ba17c-4220-4099-9da4-d8322dfe61ee",
   "metadata": {},
   "outputs": [
    {
     "data": {
      "text/plain": [
       "-1.1118054961800448"
      ]
     },
     "execution_count": 38,
     "metadata": {},
     "output_type": "execute_result"
    }
   ],
   "source": [
    "# Seleccionar un valor concreto por posición (2013-01-03, 'B'):\n",
    "\n",
    "df.iloc[2, 1]"
   ]
  },
  {
   "cell_type": "code",
   "execution_count": 39,
   "id": "790edd9f-c58e-4123-ba72-23a2da988a7f",
   "metadata": {},
   "outputs": [
    {
     "data": {
      "text/plain": [
       "-1.1118054961800448"
      ]
     },
     "execution_count": 39,
     "metadata": {},
     "output_type": "execute_result"
    }
   ],
   "source": [
    "df.iat[2, 1]"
   ]
  },
  {
   "cell_type": "markdown",
   "id": "6ac59603-b73c-46c7-a367-4a0aa9b845eb",
   "metadata": {},
   "source": [
    "## Boolean indexing"
   ]
  },
  {
   "cell_type": "code",
   "execution_count": 40,
   "id": "35370759-a6fd-46f8-9dd5-cec9a2bf4454",
   "metadata": {},
   "outputs": [
    {
     "data": {
      "text/html": [
       "<div>\n",
       "<style scoped>\n",
       "    .dataframe tbody tr th:only-of-type {\n",
       "        vertical-align: middle;\n",
       "    }\n",
       "\n",
       "    .dataframe tbody tr th {\n",
       "        vertical-align: top;\n",
       "    }\n",
       "\n",
       "    .dataframe thead th {\n",
       "        text-align: right;\n",
       "    }\n",
       "</style>\n",
       "<table border=\"1\" class=\"dataframe\">\n",
       "  <thead>\n",
       "    <tr style=\"text-align: right;\">\n",
       "      <th></th>\n",
       "      <th>A</th>\n",
       "      <th>B</th>\n",
       "      <th>C</th>\n",
       "      <th>D</th>\n",
       "    </tr>\n",
       "  </thead>\n",
       "  <tbody>\n",
       "    <tr>\n",
       "      <th>2013-01-02</th>\n",
       "      <td>1.530446</td>\n",
       "      <td>-1.099274</td>\n",
       "      <td>-0.275519</td>\n",
       "      <td>-0.607721</td>\n",
       "    </tr>\n",
       "  </tbody>\n",
       "</table>\n",
       "</div>"
      ],
      "text/plain": [
       "                   A         B         C         D\n",
       "2013-01-02  1.530446 -1.099274 -0.275519 -0.607721"
      ]
     },
     "execution_count": 40,
     "metadata": {},
     "output_type": "execute_result"
    }
   ],
   "source": [
    "# Selección por comparativa:\n",
    "\n",
    "df[df['A'] >= 0.2]"
   ]
  },
  {
   "cell_type": "code",
   "execution_count": 41,
   "id": "30aa4e30-1383-4803-a3d3-abb293662011",
   "metadata": {},
   "outputs": [
    {
     "data": {
      "text/html": [
       "<div>\n",
       "<style scoped>\n",
       "    .dataframe tbody tr th:only-of-type {\n",
       "        vertical-align: middle;\n",
       "    }\n",
       "\n",
       "    .dataframe tbody tr th {\n",
       "        vertical-align: top;\n",
       "    }\n",
       "\n",
       "    .dataframe thead th {\n",
       "        text-align: right;\n",
       "    }\n",
       "</style>\n",
       "<table border=\"1\" class=\"dataframe\">\n",
       "  <thead>\n",
       "    <tr style=\"text-align: right;\">\n",
       "      <th></th>\n",
       "      <th>A</th>\n",
       "      <th>B</th>\n",
       "      <th>C</th>\n",
       "      <th>D</th>\n",
       "    </tr>\n",
       "  </thead>\n",
       "  <tbody>\n",
       "    <tr>\n",
       "      <th>2013-01-01</th>\n",
       "      <td>NaN</td>\n",
       "      <td>0.825269</td>\n",
       "      <td>NaN</td>\n",
       "      <td>NaN</td>\n",
       "    </tr>\n",
       "    <tr>\n",
       "      <th>2013-01-02</th>\n",
       "      <td>1.530446</td>\n",
       "      <td>NaN</td>\n",
       "      <td>NaN</td>\n",
       "      <td>NaN</td>\n",
       "    </tr>\n",
       "    <tr>\n",
       "      <th>2013-01-03</th>\n",
       "      <td>NaN</td>\n",
       "      <td>NaN</td>\n",
       "      <td>2.101658</td>\n",
       "      <td>1.161692</td>\n",
       "    </tr>\n",
       "    <tr>\n",
       "      <th>2013-01-04</th>\n",
       "      <td>NaN</td>\n",
       "      <td>NaN</td>\n",
       "      <td>0.613086</td>\n",
       "      <td>NaN</td>\n",
       "    </tr>\n",
       "    <tr>\n",
       "      <th>2013-01-05</th>\n",
       "      <td>NaN</td>\n",
       "      <td>NaN</td>\n",
       "      <td>0.297839</td>\n",
       "      <td>NaN</td>\n",
       "    </tr>\n",
       "    <tr>\n",
       "      <th>2013-01-06</th>\n",
       "      <td>0.035385</td>\n",
       "      <td>NaN</td>\n",
       "      <td>0.660986</td>\n",
       "      <td>NaN</td>\n",
       "    </tr>\n",
       "  </tbody>\n",
       "</table>\n",
       "</div>"
      ],
      "text/plain": [
       "                   A         B         C         D\n",
       "2013-01-01       NaN  0.825269       NaN       NaN\n",
       "2013-01-02  1.530446       NaN       NaN       NaN\n",
       "2013-01-03       NaN       NaN  2.101658  1.161692\n",
       "2013-01-04       NaN       NaN  0.613086       NaN\n",
       "2013-01-05       NaN       NaN  0.297839       NaN\n",
       "2013-01-06  0.035385       NaN  0.660986       NaN"
      ]
     },
     "execution_count": 41,
     "metadata": {},
     "output_type": "execute_result"
    }
   ],
   "source": [
    "df[df > 0]"
   ]
  },
  {
   "cell_type": "markdown",
   "id": "98a89310-63fa-45eb-aa77-4e19994f7252",
   "metadata": {},
   "source": [
    "**Método ```isin()```**"
   ]
  },
  {
   "cell_type": "code",
   "execution_count": 42,
   "id": "f60cf698-c52f-45c8-bbaa-623e1c62db0c",
   "metadata": {},
   "outputs": [
    {
     "data": {
      "text/html": [
       "<div>\n",
       "<style scoped>\n",
       "    .dataframe tbody tr th:only-of-type {\n",
       "        vertical-align: middle;\n",
       "    }\n",
       "\n",
       "    .dataframe tbody tr th {\n",
       "        vertical-align: top;\n",
       "    }\n",
       "\n",
       "    .dataframe thead th {\n",
       "        text-align: right;\n",
       "    }\n",
       "</style>\n",
       "<table border=\"1\" class=\"dataframe\">\n",
       "  <thead>\n",
       "    <tr style=\"text-align: right;\">\n",
       "      <th></th>\n",
       "      <th>E</th>\n",
       "    </tr>\n",
       "  </thead>\n",
       "  <tbody>\n",
       "    <tr>\n",
       "      <th>0</th>\n",
       "      <td>one</td>\n",
       "    </tr>\n",
       "    <tr>\n",
       "      <th>1</th>\n",
       "      <td>one</td>\n",
       "    </tr>\n",
       "    <tr>\n",
       "      <th>4</th>\n",
       "      <td>four</td>\n",
       "    </tr>\n",
       "  </tbody>\n",
       "</table>\n",
       "</div>"
      ],
      "text/plain": [
       "      E\n",
       "0   one\n",
       "1   one\n",
       "4  four"
      ]
     },
     "execution_count": 42,
     "metadata": {},
     "output_type": "execute_result"
    }
   ],
   "source": [
    "# Selección según una coincidencia (filtrado):\n",
    "\n",
    "df2 = pd.DataFrame([\"one\", \"one\", \"two\", \"three\", \"four\", \"three\"], columns=['E'])\n",
    "\n",
    "df2[df2[\"E\"].isin([\"one\", \"four\"])]"
   ]
  },
  {
   "cell_type": "markdown",
   "id": "172bb9b2-c0c5-4768-98ce-ad39cab1dcdc",
   "metadata": {},
   "source": [
    "## Setting (Modificacion del dataframe)"
   ]
  },
  {
   "cell_type": "code",
   "execution_count": 44,
   "id": "2251a7ba-f060-41ab-b353-a02f7fa13e23",
   "metadata": {},
   "outputs": [
    {
     "data": {
      "text/plain": [
       "2013-01-01    1\n",
       "2013-01-02    2\n",
       "2013-01-03    3\n",
       "2013-01-04    4\n",
       "2013-01-05    5\n",
       "2013-01-06    6\n",
       "Freq: D, dtype: int64"
      ]
     },
     "execution_count": 44,
     "metadata": {},
     "output_type": "execute_result"
    }
   ],
   "source": [
    "# Añadir Valores nuevo \n",
    "\n",
    "serie = pd.Series([1, 2, 3, 4, 5, 6], index=pd.date_range(\"20130101\", periods=6))\n",
    "serie"
   ]
  },
  {
   "cell_type": "code",
   "execution_count": 45,
   "id": "f539a8b6-03c0-4080-9df2-63e4d707d641",
   "metadata": {},
   "outputs": [
    {
     "data": {
      "text/html": [
       "<div>\n",
       "<style scoped>\n",
       "    .dataframe tbody tr th:only-of-type {\n",
       "        vertical-align: middle;\n",
       "    }\n",
       "\n",
       "    .dataframe tbody tr th {\n",
       "        vertical-align: top;\n",
       "    }\n",
       "\n",
       "    .dataframe thead th {\n",
       "        text-align: right;\n",
       "    }\n",
       "</style>\n",
       "<table border=\"1\" class=\"dataframe\">\n",
       "  <thead>\n",
       "    <tr style=\"text-align: right;\">\n",
       "      <th></th>\n",
       "      <th>A</th>\n",
       "      <th>B</th>\n",
       "      <th>C</th>\n",
       "      <th>D</th>\n",
       "      <th>E</th>\n",
       "    </tr>\n",
       "  </thead>\n",
       "  <tbody>\n",
       "    <tr>\n",
       "      <th>2013-01-01</th>\n",
       "      <td>-0.711362</td>\n",
       "      <td>0.825269</td>\n",
       "      <td>-0.532520</td>\n",
       "      <td>-2.232001</td>\n",
       "      <td>1</td>\n",
       "    </tr>\n",
       "    <tr>\n",
       "      <th>2013-01-02</th>\n",
       "      <td>1.530446</td>\n",
       "      <td>-1.099274</td>\n",
       "      <td>-0.275519</td>\n",
       "      <td>-0.607721</td>\n",
       "      <td>2</td>\n",
       "    </tr>\n",
       "    <tr>\n",
       "      <th>2013-01-03</th>\n",
       "      <td>-2.434541</td>\n",
       "      <td>-1.111805</td>\n",
       "      <td>2.101658</td>\n",
       "      <td>1.161692</td>\n",
       "      <td>3</td>\n",
       "    </tr>\n",
       "    <tr>\n",
       "      <th>2013-01-04</th>\n",
       "      <td>-0.323204</td>\n",
       "      <td>-0.416781</td>\n",
       "      <td>0.613086</td>\n",
       "      <td>-0.251889</td>\n",
       "      <td>4</td>\n",
       "    </tr>\n",
       "    <tr>\n",
       "      <th>2013-01-05</th>\n",
       "      <td>-1.008649</td>\n",
       "      <td>-1.469483</td>\n",
       "      <td>0.297839</td>\n",
       "      <td>-0.798676</td>\n",
       "      <td>5</td>\n",
       "    </tr>\n",
       "    <tr>\n",
       "      <th>2013-01-06</th>\n",
       "      <td>0.035385</td>\n",
       "      <td>-1.806611</td>\n",
       "      <td>0.660986</td>\n",
       "      <td>-0.421329</td>\n",
       "      <td>6</td>\n",
       "    </tr>\n",
       "  </tbody>\n",
       "</table>\n",
       "</div>"
      ],
      "text/plain": [
       "                   A         B         C         D  E\n",
       "2013-01-01 -0.711362  0.825269 -0.532520 -2.232001  1\n",
       "2013-01-02  1.530446 -1.099274 -0.275519 -0.607721  2\n",
       "2013-01-03 -2.434541 -1.111805  2.101658  1.161692  3\n",
       "2013-01-04 -0.323204 -0.416781  0.613086 -0.251889  4\n",
       "2013-01-05 -1.008649 -1.469483  0.297839 -0.798676  5\n",
       "2013-01-06  0.035385 -1.806611  0.660986 -0.421329  6"
      ]
     },
     "execution_count": 45,
     "metadata": {},
     "output_type": "execute_result"
    }
   ],
   "source": [
    "df['E'] = serie\n",
    "df"
   ]
  },
  {
   "cell_type": "code",
   "execution_count": 46,
   "id": "748ab57d-a2ce-4503-b322-35b3abfb9b86",
   "metadata": {},
   "outputs": [
    {
     "data": {
      "text/html": [
       "<div>\n",
       "<style scoped>\n",
       "    .dataframe tbody tr th:only-of-type {\n",
       "        vertical-align: middle;\n",
       "    }\n",
       "\n",
       "    .dataframe tbody tr th {\n",
       "        vertical-align: top;\n",
       "    }\n",
       "\n",
       "    .dataframe thead th {\n",
       "        text-align: right;\n",
       "    }\n",
       "</style>\n",
       "<table border=\"1\" class=\"dataframe\">\n",
       "  <thead>\n",
       "    <tr style=\"text-align: right;\">\n",
       "      <th></th>\n",
       "      <th>A</th>\n",
       "      <th>B</th>\n",
       "      <th>C</th>\n",
       "      <th>D</th>\n",
       "      <th>E</th>\n",
       "    </tr>\n",
       "  </thead>\n",
       "  <tbody>\n",
       "    <tr>\n",
       "      <th>2013-01-01</th>\n",
       "      <td>0.000000</td>\n",
       "      <td>0.825269</td>\n",
       "      <td>-0.532520</td>\n",
       "      <td>-2.232001</td>\n",
       "      <td>1</td>\n",
       "    </tr>\n",
       "    <tr>\n",
       "      <th>2013-01-02</th>\n",
       "      <td>1.530446</td>\n",
       "      <td>-1.099274</td>\n",
       "      <td>-0.275519</td>\n",
       "      <td>-0.607721</td>\n",
       "      <td>2</td>\n",
       "    </tr>\n",
       "    <tr>\n",
       "      <th>2013-01-03</th>\n",
       "      <td>-2.434541</td>\n",
       "      <td>-1.111805</td>\n",
       "      <td>2.101658</td>\n",
       "      <td>1.161692</td>\n",
       "      <td>3</td>\n",
       "    </tr>\n",
       "    <tr>\n",
       "      <th>2013-01-04</th>\n",
       "      <td>-0.323204</td>\n",
       "      <td>-0.416781</td>\n",
       "      <td>0.613086</td>\n",
       "      <td>-0.251889</td>\n",
       "      <td>4</td>\n",
       "    </tr>\n",
       "    <tr>\n",
       "      <th>2013-01-05</th>\n",
       "      <td>-1.008649</td>\n",
       "      <td>-1.469483</td>\n",
       "      <td>0.297839</td>\n",
       "      <td>-0.798676</td>\n",
       "      <td>5</td>\n",
       "    </tr>\n",
       "    <tr>\n",
       "      <th>2013-01-06</th>\n",
       "      <td>0.035385</td>\n",
       "      <td>-1.806611</td>\n",
       "      <td>0.660986</td>\n",
       "      <td>-0.421329</td>\n",
       "      <td>6</td>\n",
       "    </tr>\n",
       "  </tbody>\n",
       "</table>\n",
       "</div>"
      ],
      "text/plain": [
       "                   A         B         C         D  E\n",
       "2013-01-01  0.000000  0.825269 -0.532520 -2.232001  1\n",
       "2013-01-02  1.530446 -1.099274 -0.275519 -0.607721  2\n",
       "2013-01-03 -2.434541 -1.111805  2.101658  1.161692  3\n",
       "2013-01-04 -0.323204 -0.416781  0.613086 -0.251889  4\n",
       "2013-01-05 -1.008649 -1.469483  0.297839 -0.798676  5\n",
       "2013-01-06  0.035385 -1.806611  0.660986 -0.421329  6"
      ]
     },
     "execution_count": 46,
     "metadata": {},
     "output_type": "execute_result"
    }
   ],
   "source": [
    "# Modificar valor por etiqueta\n",
    "# Se modifica el primer valor de df por 0 en la columna A:\n",
    "\n",
    "df.at[dates[0], \"A\"] = 0\n",
    "df"
   ]
  },
  {
   "cell_type": "code",
   "execution_count": 47,
   "id": "5dc389ed-84ec-48b3-9899-30a1abb36fe7",
   "metadata": {},
   "outputs": [
    {
     "data": {
      "text/html": [
       "<div>\n",
       "<style scoped>\n",
       "    .dataframe tbody tr th:only-of-type {\n",
       "        vertical-align: middle;\n",
       "    }\n",
       "\n",
       "    .dataframe tbody tr th {\n",
       "        vertical-align: top;\n",
       "    }\n",
       "\n",
       "    .dataframe thead th {\n",
       "        text-align: right;\n",
       "    }\n",
       "</style>\n",
       "<table border=\"1\" class=\"dataframe\">\n",
       "  <thead>\n",
       "    <tr style=\"text-align: right;\">\n",
       "      <th></th>\n",
       "      <th>A</th>\n",
       "      <th>B</th>\n",
       "      <th>C</th>\n",
       "      <th>D</th>\n",
       "      <th>E</th>\n",
       "    </tr>\n",
       "  </thead>\n",
       "  <tbody>\n",
       "    <tr>\n",
       "      <th>2013-01-01</th>\n",
       "      <td>0.000000</td>\n",
       "      <td>0.000000</td>\n",
       "      <td>-0.532520</td>\n",
       "      <td>-2.232001</td>\n",
       "      <td>1</td>\n",
       "    </tr>\n",
       "    <tr>\n",
       "      <th>2013-01-02</th>\n",
       "      <td>1.530446</td>\n",
       "      <td>-1.099274</td>\n",
       "      <td>-0.275519</td>\n",
       "      <td>-0.607721</td>\n",
       "      <td>2</td>\n",
       "    </tr>\n",
       "    <tr>\n",
       "      <th>2013-01-03</th>\n",
       "      <td>-2.434541</td>\n",
       "      <td>-1.111805</td>\n",
       "      <td>2.101658</td>\n",
       "      <td>1.161692</td>\n",
       "      <td>3</td>\n",
       "    </tr>\n",
       "    <tr>\n",
       "      <th>2013-01-04</th>\n",
       "      <td>-0.323204</td>\n",
       "      <td>-0.416781</td>\n",
       "      <td>0.613086</td>\n",
       "      <td>-0.251889</td>\n",
       "      <td>4</td>\n",
       "    </tr>\n",
       "    <tr>\n",
       "      <th>2013-01-05</th>\n",
       "      <td>-1.008649</td>\n",
       "      <td>-1.469483</td>\n",
       "      <td>0.297839</td>\n",
       "      <td>-0.798676</td>\n",
       "      <td>5</td>\n",
       "    </tr>\n",
       "    <tr>\n",
       "      <th>2013-01-06</th>\n",
       "      <td>0.035385</td>\n",
       "      <td>-1.806611</td>\n",
       "      <td>0.660986</td>\n",
       "      <td>-0.421329</td>\n",
       "      <td>6</td>\n",
       "    </tr>\n",
       "  </tbody>\n",
       "</table>\n",
       "</div>"
      ],
      "text/plain": [
       "                   A         B         C         D  E\n",
       "2013-01-01  0.000000  0.000000 -0.532520 -2.232001  1\n",
       "2013-01-02  1.530446 -1.099274 -0.275519 -0.607721  2\n",
       "2013-01-03 -2.434541 -1.111805  2.101658  1.161692  3\n",
       "2013-01-04 -0.323204 -0.416781  0.613086 -0.251889  4\n",
       "2013-01-05 -1.008649 -1.469483  0.297839 -0.798676  5\n",
       "2013-01-06  0.035385 -1.806611  0.660986 -0.421329  6"
      ]
     },
     "execution_count": 47,
     "metadata": {},
     "output_type": "execute_result"
    }
   ],
   "source": [
    "# Modificación de valor por posición\n",
    "# Se modifica el primer valor de la columna B:\n",
    "\n",
    "df.iat[0, 1] = 0\n",
    "df"
   ]
  },
  {
   "cell_type": "code",
   "execution_count": 48,
   "id": "05d66ab5-90f5-41ee-9e12-33888e8a2abb",
   "metadata": {},
   "outputs": [
    {
     "data": {
      "text/html": [
       "<div>\n",
       "<style scoped>\n",
       "    .dataframe tbody tr th:only-of-type {\n",
       "        vertical-align: middle;\n",
       "    }\n",
       "\n",
       "    .dataframe tbody tr th {\n",
       "        vertical-align: top;\n",
       "    }\n",
       "\n",
       "    .dataframe thead th {\n",
       "        text-align: right;\n",
       "    }\n",
       "</style>\n",
       "<table border=\"1\" class=\"dataframe\">\n",
       "  <thead>\n",
       "    <tr style=\"text-align: right;\">\n",
       "      <th></th>\n",
       "      <th>A</th>\n",
       "      <th>B</th>\n",
       "      <th>C</th>\n",
       "      <th>D</th>\n",
       "      <th>E</th>\n",
       "    </tr>\n",
       "  </thead>\n",
       "  <tbody>\n",
       "    <tr>\n",
       "      <th>2013-01-01</th>\n",
       "      <td>0.000000</td>\n",
       "      <td>0.000000</td>\n",
       "      <td>-0.532520</td>\n",
       "      <td>5.0</td>\n",
       "      <td>1</td>\n",
       "    </tr>\n",
       "    <tr>\n",
       "      <th>2013-01-02</th>\n",
       "      <td>1.530446</td>\n",
       "      <td>-1.099274</td>\n",
       "      <td>-0.275519</td>\n",
       "      <td>5.0</td>\n",
       "      <td>2</td>\n",
       "    </tr>\n",
       "    <tr>\n",
       "      <th>2013-01-03</th>\n",
       "      <td>-2.434541</td>\n",
       "      <td>-1.111805</td>\n",
       "      <td>2.101658</td>\n",
       "      <td>5.0</td>\n",
       "      <td>3</td>\n",
       "    </tr>\n",
       "    <tr>\n",
       "      <th>2013-01-04</th>\n",
       "      <td>-0.323204</td>\n",
       "      <td>-0.416781</td>\n",
       "      <td>0.613086</td>\n",
       "      <td>5.0</td>\n",
       "      <td>4</td>\n",
       "    </tr>\n",
       "    <tr>\n",
       "      <th>2013-01-05</th>\n",
       "      <td>-1.008649</td>\n",
       "      <td>-1.469483</td>\n",
       "      <td>0.297839</td>\n",
       "      <td>5.0</td>\n",
       "      <td>5</td>\n",
       "    </tr>\n",
       "    <tr>\n",
       "      <th>2013-01-06</th>\n",
       "      <td>0.035385</td>\n",
       "      <td>-1.806611</td>\n",
       "      <td>0.660986</td>\n",
       "      <td>5.0</td>\n",
       "      <td>6</td>\n",
       "    </tr>\n",
       "  </tbody>\n",
       "</table>\n",
       "</div>"
      ],
      "text/plain": [
       "                   A         B         C    D  E\n",
       "2013-01-01  0.000000  0.000000 -0.532520  5.0  1\n",
       "2013-01-02  1.530446 -1.099274 -0.275519  5.0  2\n",
       "2013-01-03 -2.434541 -1.111805  2.101658  5.0  3\n",
       "2013-01-04 -0.323204 -0.416781  0.613086  5.0  4\n",
       "2013-01-05 -1.008649 -1.469483  0.297839  5.0  5\n",
       "2013-01-06  0.035385 -1.806611  0.660986  5.0  6"
      ]
     },
     "execution_count": 48,
     "metadata": {},
     "output_type": "execute_result"
    }
   ],
   "source": [
    "# Modificación asignada por Numpy usando array:\n",
    "\n",
    "df.loc[:, \"D\"] = np.array([5] * len(df))\n",
    "df"
   ]
  },
  {
   "cell_type": "code",
   "execution_count": 49,
   "id": "a4a789d5-27e4-42c1-9857-671485b5611a",
   "metadata": {},
   "outputs": [
    {
     "data": {
      "text/html": [
       "<div>\n",
       "<style scoped>\n",
       "    .dataframe tbody tr th:only-of-type {\n",
       "        vertical-align: middle;\n",
       "    }\n",
       "\n",
       "    .dataframe tbody tr th {\n",
       "        vertical-align: top;\n",
       "    }\n",
       "\n",
       "    .dataframe thead th {\n",
       "        text-align: right;\n",
       "    }\n",
       "</style>\n",
       "<table border=\"1\" class=\"dataframe\">\n",
       "  <thead>\n",
       "    <tr style=\"text-align: right;\">\n",
       "      <th></th>\n",
       "      <th>A</th>\n",
       "      <th>B</th>\n",
       "      <th>C</th>\n",
       "      <th>D</th>\n",
       "      <th>E</th>\n",
       "    </tr>\n",
       "  </thead>\n",
       "  <tbody>\n",
       "    <tr>\n",
       "      <th>2013-01-01</th>\n",
       "      <td>0.000000</td>\n",
       "      <td>0.000000</td>\n",
       "      <td>-0.532520</td>\n",
       "      <td>-5.0</td>\n",
       "      <td>-1</td>\n",
       "    </tr>\n",
       "    <tr>\n",
       "      <th>2013-01-02</th>\n",
       "      <td>-1.530446</td>\n",
       "      <td>-1.099274</td>\n",
       "      <td>-0.275519</td>\n",
       "      <td>-5.0</td>\n",
       "      <td>-2</td>\n",
       "    </tr>\n",
       "    <tr>\n",
       "      <th>2013-01-03</th>\n",
       "      <td>-2.434541</td>\n",
       "      <td>-1.111805</td>\n",
       "      <td>-2.101658</td>\n",
       "      <td>-5.0</td>\n",
       "      <td>-3</td>\n",
       "    </tr>\n",
       "    <tr>\n",
       "      <th>2013-01-04</th>\n",
       "      <td>-0.323204</td>\n",
       "      <td>-0.416781</td>\n",
       "      <td>-0.613086</td>\n",
       "      <td>-5.0</td>\n",
       "      <td>-4</td>\n",
       "    </tr>\n",
       "    <tr>\n",
       "      <th>2013-01-05</th>\n",
       "      <td>-1.008649</td>\n",
       "      <td>-1.469483</td>\n",
       "      <td>-0.297839</td>\n",
       "      <td>-5.0</td>\n",
       "      <td>-5</td>\n",
       "    </tr>\n",
       "    <tr>\n",
       "      <th>2013-01-06</th>\n",
       "      <td>0.035385</td>\n",
       "      <td>-1.806611</td>\n",
       "      <td>-0.660986</td>\n",
       "      <td>-5.0</td>\n",
       "      <td>-6</td>\n",
       "    </tr>\n",
       "  </tbody>\n",
       "</table>\n",
       "</div>"
      ],
      "text/plain": [
       "                   A         B         C    D  E\n",
       "2013-01-01  0.000000  0.000000 -0.532520 -5.0 -1\n",
       "2013-01-02 -1.530446 -1.099274 -0.275519 -5.0 -2\n",
       "2013-01-03 -2.434541 -1.111805 -2.101658 -5.0 -3\n",
       "2013-01-04 -0.323204 -0.416781 -0.613086 -5.0 -4\n",
       "2013-01-05 -1.008649 -1.469483 -0.297839 -5.0 -5\n",
       "2013-01-06  0.035385 -1.806611 -0.660986 -5.0 -6"
      ]
     },
     "execution_count": 49,
     "metadata": {},
     "output_type": "execute_result"
    }
   ],
   "source": [
    "# Modificar según una condición (where):\n",
    "\n",
    "df2 = df.copy()  # Realización de una copia del df\n",
    "\n",
    "df2[df2 > 0.1] = -df2\n",
    "df2"
   ]
  },
  {
   "cell_type": "markdown",
   "id": "80dd21a2-8e8f-4a39-95fa-543f59f7a6ae",
   "metadata": {},
   "source": [
    "## Missing values"
   ]
  },
  {
   "cell_type": "code",
   "execution_count": 50,
   "id": "6ef112f0-2c67-461d-930b-ffca39e361ed",
   "metadata": {},
   "outputs": [
    {
     "name": "stdout",
     "output_type": "stream",
     "text": [
      "                   A         B         C    D    E\n",
      "2013-01-01  0.000000  0.000000 -0.532520  NaN  1.0\n",
      "2013-01-02  1.530446 -1.099274 -0.275519  5.0  2.0\n",
      "2013-01-03 -2.434541 -1.111805  2.101658  5.0  NaN\n",
      "2013-01-04 -0.323204 -0.416781  0.613086  5.0  NaN\n"
     ]
    }
   ],
   "source": [
    "# Creamos una columna nueva con valores nulos: \n",
    "\n",
    "df1 = df.reindex(index=dates[0:4], columns=list(df.columns))\n",
    "\n",
    "df1.loc[dates[2]:dates[3], \"E\"] = np.nan\n",
    "df1.at[dates[0], \"D\"] = np.nan\n",
    "\n",
    "print(df1)"
   ]
  },
  {
   "cell_type": "code",
   "execution_count": 51,
   "id": "3bb7defa-9f05-40c5-a295-3cda9c77921c",
   "metadata": {},
   "outputs": [
    {
     "data": {
      "text/html": [
       "<div>\n",
       "<style scoped>\n",
       "    .dataframe tbody tr th:only-of-type {\n",
       "        vertical-align: middle;\n",
       "    }\n",
       "\n",
       "    .dataframe tbody tr th {\n",
       "        vertical-align: top;\n",
       "    }\n",
       "\n",
       "    .dataframe thead th {\n",
       "        text-align: right;\n",
       "    }\n",
       "</style>\n",
       "<table border=\"1\" class=\"dataframe\">\n",
       "  <thead>\n",
       "    <tr style=\"text-align: right;\">\n",
       "      <th></th>\n",
       "      <th>A</th>\n",
       "      <th>B</th>\n",
       "      <th>C</th>\n",
       "      <th>D</th>\n",
       "      <th>E</th>\n",
       "    </tr>\n",
       "  </thead>\n",
       "  <tbody>\n",
       "    <tr>\n",
       "      <th>2013-01-02</th>\n",
       "      <td>1.530446</td>\n",
       "      <td>-1.099274</td>\n",
       "      <td>-0.275519</td>\n",
       "      <td>5.0</td>\n",
       "      <td>2.0</td>\n",
       "    </tr>\n",
       "  </tbody>\n",
       "</table>\n",
       "</div>"
      ],
      "text/plain": [
       "                   A         B         C    D    E\n",
       "2013-01-02  1.530446 -1.099274 -0.275519  5.0  2.0"
      ]
     },
     "execution_count": 51,
     "metadata": {},
     "output_type": "execute_result"
    }
   ],
   "source": [
    "# Eliminamos los valores nulos con la función dropna(): eliminando cualquier fila que contenga valores nulos\n",
    "\n",
    "df_1 = df1.dropna(how=\"any\")\n",
    "df_1"
   ]
  },
  {
   "cell_type": "code",
   "execution_count": 52,
   "id": "63dd8d23-7ecc-4346-8002-00e89c4332e2",
   "metadata": {},
   "outputs": [
    {
     "data": {
      "text/html": [
       "<div>\n",
       "<style scoped>\n",
       "    .dataframe tbody tr th:only-of-type {\n",
       "        vertical-align: middle;\n",
       "    }\n",
       "\n",
       "    .dataframe tbody tr th {\n",
       "        vertical-align: top;\n",
       "    }\n",
       "\n",
       "    .dataframe thead th {\n",
       "        text-align: right;\n",
       "    }\n",
       "</style>\n",
       "<table border=\"1\" class=\"dataframe\">\n",
       "  <thead>\n",
       "    <tr style=\"text-align: right;\">\n",
       "      <th></th>\n",
       "      <th>A</th>\n",
       "      <th>B</th>\n",
       "      <th>C</th>\n",
       "      <th>D</th>\n",
       "      <th>E</th>\n",
       "    </tr>\n",
       "  </thead>\n",
       "  <tbody>\n",
       "    <tr>\n",
       "      <th>2013-01-01</th>\n",
       "      <td>0.000000</td>\n",
       "      <td>0.000000</td>\n",
       "      <td>-0.532520</td>\n",
       "      <td>5.0</td>\n",
       "      <td>1.0</td>\n",
       "    </tr>\n",
       "    <tr>\n",
       "      <th>2013-01-02</th>\n",
       "      <td>1.530446</td>\n",
       "      <td>-1.099274</td>\n",
       "      <td>-0.275519</td>\n",
       "      <td>5.0</td>\n",
       "      <td>2.0</td>\n",
       "    </tr>\n",
       "    <tr>\n",
       "      <th>2013-01-03</th>\n",
       "      <td>-2.434541</td>\n",
       "      <td>-1.111805</td>\n",
       "      <td>2.101658</td>\n",
       "      <td>5.0</td>\n",
       "      <td>5.0</td>\n",
       "    </tr>\n",
       "    <tr>\n",
       "      <th>2013-01-04</th>\n",
       "      <td>-0.323204</td>\n",
       "      <td>-0.416781</td>\n",
       "      <td>0.613086</td>\n",
       "      <td>5.0</td>\n",
       "      <td>5.0</td>\n",
       "    </tr>\n",
       "  </tbody>\n",
       "</table>\n",
       "</div>"
      ],
      "text/plain": [
       "                   A         B         C    D    E\n",
       "2013-01-01  0.000000  0.000000 -0.532520  5.0  1.0\n",
       "2013-01-02  1.530446 -1.099274 -0.275519  5.0  2.0\n",
       "2013-01-03 -2.434541 -1.111805  2.101658  5.0  5.0\n",
       "2013-01-04 -0.323204 -0.416781  0.613086  5.0  5.0"
      ]
     },
     "execution_count": 52,
     "metadata": {},
     "output_type": "execute_result"
    }
   ],
   "source": [
    "# Rellenar valores nulos:\n",
    "\n",
    "df_1 = df1.fillna(value=5)\n",
    "df_1"
   ]
  },
  {
   "cell_type": "code",
   "execution_count": 53,
   "id": "8f21cfc4-6afb-469b-aae5-d1e66ca2db5a",
   "metadata": {},
   "outputs": [
    {
     "data": {
      "text/html": [
       "<div>\n",
       "<style scoped>\n",
       "    .dataframe tbody tr th:only-of-type {\n",
       "        vertical-align: middle;\n",
       "    }\n",
       "\n",
       "    .dataframe tbody tr th {\n",
       "        vertical-align: top;\n",
       "    }\n",
       "\n",
       "    .dataframe thead th {\n",
       "        text-align: right;\n",
       "    }\n",
       "</style>\n",
       "<table border=\"1\" class=\"dataframe\">\n",
       "  <thead>\n",
       "    <tr style=\"text-align: right;\">\n",
       "      <th></th>\n",
       "      <th>A</th>\n",
       "      <th>B</th>\n",
       "      <th>C</th>\n",
       "      <th>D</th>\n",
       "      <th>E</th>\n",
       "    </tr>\n",
       "  </thead>\n",
       "  <tbody>\n",
       "    <tr>\n",
       "      <th>2013-01-01</th>\n",
       "      <td>False</td>\n",
       "      <td>False</td>\n",
       "      <td>False</td>\n",
       "      <td>True</td>\n",
       "      <td>False</td>\n",
       "    </tr>\n",
       "    <tr>\n",
       "      <th>2013-01-02</th>\n",
       "      <td>False</td>\n",
       "      <td>False</td>\n",
       "      <td>False</td>\n",
       "      <td>False</td>\n",
       "      <td>False</td>\n",
       "    </tr>\n",
       "    <tr>\n",
       "      <th>2013-01-03</th>\n",
       "      <td>False</td>\n",
       "      <td>False</td>\n",
       "      <td>False</td>\n",
       "      <td>False</td>\n",
       "      <td>True</td>\n",
       "    </tr>\n",
       "    <tr>\n",
       "      <th>2013-01-04</th>\n",
       "      <td>False</td>\n",
       "      <td>False</td>\n",
       "      <td>False</td>\n",
       "      <td>False</td>\n",
       "      <td>True</td>\n",
       "    </tr>\n",
       "  </tbody>\n",
       "</table>\n",
       "</div>"
      ],
      "text/plain": [
       "                A      B      C      D      E\n",
       "2013-01-01  False  False  False   True  False\n",
       "2013-01-02  False  False  False  False  False\n",
       "2013-01-03  False  False  False  False   True\n",
       "2013-01-04  False  False  False  False   True"
      ]
     },
     "execution_count": 53,
     "metadata": {},
     "output_type": "execute_result"
    }
   ],
   "source": [
    "# isna() nos muestra si en el df hay valores nulo o no, sustituyendo por un booleano (True / False)\n",
    "\n",
    "pd.isna(df1)"
   ]
  },
  {
   "cell_type": "code",
   "execution_count": 54,
   "id": "6acbd336-b1db-451b-8414-4539511430a0",
   "metadata": {},
   "outputs": [
    {
     "data": {
      "text/plain": [
       "A    0\n",
       "B    0\n",
       "C    0\n",
       "D    1\n",
       "E    2\n",
       "dtype: int64"
      ]
     },
     "execution_count": 54,
     "metadata": {},
     "output_type": "execute_result"
    }
   ],
   "source": [
    "# isnull() nos muestra si en el df hay valores nulo o no, sustituyendo por un booleano (True / False)\n",
    "\n",
    "df1.isnull().sum()"
   ]
  },
  {
   "cell_type": "markdown",
   "id": "e909875c-3aba-4db4-b3d1-e4f948b9e1a0",
   "metadata": {},
   "source": [
    "## Operaciones\n",
    "\n",
    "En estos casos no tiene en cuenta los valores nulos."
   ]
  },
  {
   "cell_type": "code",
   "execution_count": 55,
   "id": "ad5206d4-aeb9-4756-b264-1ddef3fc3cc9",
   "metadata": {},
   "outputs": [
    {
     "data": {
      "text/html": [
       "<div>\n",
       "<style scoped>\n",
       "    .dataframe tbody tr th:only-of-type {\n",
       "        vertical-align: middle;\n",
       "    }\n",
       "\n",
       "    .dataframe tbody tr th {\n",
       "        vertical-align: top;\n",
       "    }\n",
       "\n",
       "    .dataframe thead th {\n",
       "        text-align: right;\n",
       "    }\n",
       "</style>\n",
       "<table border=\"1\" class=\"dataframe\">\n",
       "  <thead>\n",
       "    <tr style=\"text-align: right;\">\n",
       "      <th></th>\n",
       "      <th>notas_1</th>\n",
       "      <th>notas_2</th>\n",
       "      <th>notas_3</th>\n",
       "    </tr>\n",
       "  </thead>\n",
       "  <tbody>\n",
       "    <tr>\n",
       "      <th>0</th>\n",
       "      <td>15</td>\n",
       "      <td>16</td>\n",
       "      <td>17</td>\n",
       "    </tr>\n",
       "    <tr>\n",
       "      <th>1</th>\n",
       "      <td>16</td>\n",
       "      <td>21</td>\n",
       "      <td>22</td>\n",
       "    </tr>\n",
       "    <tr>\n",
       "      <th>2</th>\n",
       "      <td>15</td>\n",
       "      <td>16</td>\n",
       "      <td>15</td>\n",
       "    </tr>\n",
       "    <tr>\n",
       "      <th>3</th>\n",
       "      <td>17</td>\n",
       "      <td>16</td>\n",
       "      <td>22</td>\n",
       "    </tr>\n",
       "    <tr>\n",
       "      <th>4</th>\n",
       "      <td>14</td>\n",
       "      <td>13</td>\n",
       "      <td>14</td>\n",
       "    </tr>\n",
       "  </tbody>\n",
       "</table>\n",
       "</div>"
      ],
      "text/plain": [
       "   notas_1  notas_2  notas_3\n",
       "0       15       16       17\n",
       "1       16       21       22\n",
       "2       15       16       15\n",
       "3       17       16       22\n",
       "4       14       13       14"
      ]
     },
     "execution_count": 55,
     "metadata": {},
     "output_type": "execute_result"
    }
   ],
   "source": [
    "df = pd.DataFrame({\"notas_1\": [15, 16, 15, 17, 14, 14, 14, 10, 15, 25],\n",
    "                   \"notas_2\": [16, 21, 16, 16, 13, 15, 15, 19, 22, 15],\n",
    "                   \"notas_3\": [17, 22, 15, 22, 14, 15, 16, 15, 24, 16]})\n",
    "df.head()"
   ]
  },
  {
   "cell_type": "markdown",
   "id": "15a56813-bce7-43d9-a725-330c99936d23",
   "metadata": {},
   "source": [
    "### Tendencia Central"
   ]
  },
  {
   "cell_type": "markdown",
   "id": "bdbbd0f9-e4db-4a45-8cdf-f1065776b9e7",
   "metadata": {},
   "source": [
    "**Media**"
   ]
  },
  {
   "cell_type": "markdown",
   "id": "19aa45b0-3e41-4e11-af0c-4d6ae785c514",
   "metadata": {},
   "source": [
    "Como calcular la media de las distintas notas:"
   ]
  },
  {
   "cell_type": "code",
   "execution_count": 56,
   "id": "6edc09be-6e47-4927-83e6-5e57a93f9b3f",
   "metadata": {},
   "outputs": [
    {
     "data": {
      "text/plain": [
       "15.5"
      ]
     },
     "execution_count": 56,
     "metadata": {},
     "output_type": "execute_result"
    }
   ],
   "source": [
    "media_1 = df[\"notas_1\"].mean()\n",
    "media_1"
   ]
  },
  {
   "cell_type": "code",
   "execution_count": 57,
   "id": "82557fe4-4c4e-4725-90a9-639295bb7d4b",
   "metadata": {},
   "outputs": [
    {
     "data": {
      "text/plain": [
       "16.8"
      ]
     },
     "execution_count": 57,
     "metadata": {},
     "output_type": "execute_result"
    }
   ],
   "source": [
    "media_2 = df[\"notas_2\"].mean()\n",
    "media_2"
   ]
  },
  {
   "cell_type": "code",
   "execution_count": 58,
   "id": "356f4ad6-0312-4958-b7d1-0833adae6a6c",
   "metadata": {},
   "outputs": [
    {
     "data": {
      "text/plain": [
       "17.6"
      ]
     },
     "execution_count": 58,
     "metadata": {},
     "output_type": "execute_result"
    }
   ],
   "source": [
    "media_3 = df[\"notas_3\"].mean()\n",
    "media_3"
   ]
  },
  {
   "cell_type": "markdown",
   "id": "1a183b37-af35-4bc1-a1da-bd4fa15ed7a6",
   "metadata": {},
   "source": [
    "**Mediana**"
   ]
  },
  {
   "cell_type": "markdown",
   "id": "6703dc56-82a1-4d4f-9677-a8e6b137b39b",
   "metadata": {},
   "source": [
    "Como calcular la mediana de las distintas notas:"
   ]
  },
  {
   "cell_type": "code",
   "execution_count": 59,
   "id": "2a2e39aa-b212-4c5a-b23c-6599edf56097",
   "metadata": {},
   "outputs": [
    {
     "data": {
      "text/plain": [
       "15.0"
      ]
     },
     "execution_count": 59,
     "metadata": {},
     "output_type": "execute_result"
    }
   ],
   "source": [
    "mediana_1 = df[\"notas_1\"].median()\n",
    "mediana_1"
   ]
  },
  {
   "cell_type": "code",
   "execution_count": 60,
   "id": "75850c51-cbf6-4e48-ba1b-c14382ec5b20",
   "metadata": {},
   "outputs": [
    {
     "data": {
      "text/plain": [
       "16.0"
      ]
     },
     "execution_count": 60,
     "metadata": {},
     "output_type": "execute_result"
    }
   ],
   "source": [
    "mediana_2 = df[\"notas_2\"].median()\n",
    "mediana_2"
   ]
  },
  {
   "cell_type": "code",
   "execution_count": 61,
   "id": "8fa3b6cf-c5d9-48b9-8524-b4169f212105",
   "metadata": {},
   "outputs": [
    {
     "data": {
      "text/plain": [
       "16.0"
      ]
     },
     "execution_count": 61,
     "metadata": {},
     "output_type": "execute_result"
    }
   ],
   "source": [
    "mediana_3 = df[\"notas_3\"].median()\n",
    "mediana_3"
   ]
  },
  {
   "cell_type": "markdown",
   "id": "b2b0ee81-f106-4e63-b019-d41234e6b464",
   "metadata": {},
   "source": [
    "**Moda**"
   ]
  },
  {
   "cell_type": "markdown",
   "id": "f90125b3-4f20-4276-9f21-3e4170a242f2",
   "metadata": {},
   "source": [
    "Como calcular la moda de las distintas notas:"
   ]
  },
  {
   "cell_type": "code",
   "execution_count": 62,
   "id": "3d27184e-5efa-45a2-a93d-f9d5a399f60a",
   "metadata": {
    "scrolled": true
   },
   "outputs": [
    {
     "data": {
      "text/plain": [
       "0    14\n",
       "1    15\n",
       "Name: notas_1, dtype: int64"
      ]
     },
     "execution_count": 62,
     "metadata": {},
     "output_type": "execute_result"
    }
   ],
   "source": [
    "moda_1 = df[\"notas_1\"].mode()\n",
    "moda_1"
   ]
  },
  {
   "cell_type": "code",
   "execution_count": 63,
   "id": "0aa0ce7a-398d-404d-9874-f0a4bc10992b",
   "metadata": {
    "scrolled": true
   },
   "outputs": [
    {
     "data": {
      "text/plain": [
       "0    15\n",
       "1    16\n",
       "Name: notas_2, dtype: int64"
      ]
     },
     "execution_count": 63,
     "metadata": {},
     "output_type": "execute_result"
    }
   ],
   "source": [
    "moda_2 = df[\"notas_2\"].mode()\n",
    "moda_2"
   ]
  },
  {
   "cell_type": "code",
   "execution_count": 64,
   "id": "aba4659c-5573-4a0c-84bb-4ba46f1e589b",
   "metadata": {},
   "outputs": [
    {
     "data": {
      "text/plain": [
       "0    15\n",
       "Name: notas_3, dtype: int64"
      ]
     },
     "execution_count": 64,
     "metadata": {},
     "output_type": "execute_result"
    }
   ],
   "source": [
    "moda_3 = df[\"notas_3\"].mode()\n",
    "moda_3"
   ]
  },
  {
   "cell_type": "code",
   "execution_count": 65,
   "id": "ef68fe7f-2024-4e11-9d2c-e83dcbe7331e",
   "metadata": {
    "scrolled": true
   },
   "outputs": [
    {
     "data": {
      "text/plain": [
       "notas_3\n",
       "15    3\n",
       "22    2\n",
       "16    2\n",
       "17    1\n",
       "14    1\n",
       "24    1\n",
       "Name: count, dtype: int64"
      ]
     },
     "execution_count": 65,
     "metadata": {},
     "output_type": "execute_result"
    }
   ],
   "source": [
    "df.notas_3.value_counts()"
   ]
  },
  {
   "cell_type": "markdown",
   "id": "a4606dcd-90ed-4134-9085-2661123ad8ab",
   "metadata": {},
   "source": [
    "**Resultados Nota_1:**"
   ]
  },
  {
   "cell_type": "code",
   "execution_count": 66,
   "id": "9784d328-3668-436b-b236-40199e7d886b",
   "metadata": {
    "scrolled": true
   },
   "outputs": [
    {
     "name": "stdout",
     "output_type": "stream",
     "text": [
      "Media: 15.5, Mediana: 15.0, Moda: \n",
      "0    14\n",
      "1    15\n",
      "Name: notas_1, dtype: int64\n"
     ]
    }
   ],
   "source": [
    "print(f\"Media: {media_1}, Mediana: {mediana_1}, Moda: \\n{moda_1}\")"
   ]
  },
  {
   "cell_type": "markdown",
   "id": "3a51ec6d-8455-453d-8b13-18b0b34477d0",
   "metadata": {},
   "source": [
    "**Resultados Nota_2:**"
   ]
  },
  {
   "cell_type": "code",
   "execution_count": 67,
   "id": "eb9ff8b0-04ab-48b8-86ef-8417c5fef8d2",
   "metadata": {
    "scrolled": true
   },
   "outputs": [
    {
     "name": "stdout",
     "output_type": "stream",
     "text": [
      "Media: 16.8, Mediana: 16.0, Moda: \n",
      "0    15\n",
      "1    16\n",
      "Name: notas_2, dtype: int64\n"
     ]
    }
   ],
   "source": [
    "print(f\"Media: {media_2}, Mediana: {mediana_2}, Moda: \\n{moda_2}\")"
   ]
  },
  {
   "cell_type": "markdown",
   "id": "149602f3-b567-4181-8e38-20b01ab031fd",
   "metadata": {},
   "source": [
    "**Resultados Nota_3:**"
   ]
  },
  {
   "cell_type": "code",
   "execution_count": 68,
   "id": "d57d9a1a-8984-4879-b875-a0379a922c51",
   "metadata": {},
   "outputs": [
    {
     "name": "stdout",
     "output_type": "stream",
     "text": [
      "Media: 17.6, Mediana: 16.0, Moda: \n",
      "0    15\n",
      "Name: notas_3, dtype: int64\n"
     ]
    }
   ],
   "source": [
    "print(f\"Media: {media_3}, Mediana: {mediana_3}, Moda: \\n{moda_3}\")"
   ]
  },
  {
   "cell_type": "markdown",
   "id": "9dae5775-14ac-4de8-b0ea-a60d585b67cb",
   "metadata": {},
   "source": [
    "**Varianza**\n",
    "\n",
    "Se calcula la cuasi-varianza:"
   ]
  },
  {
   "cell_type": "markdown",
   "id": "ba7a85f0-d28a-4224-8122-f3ef6682defb",
   "metadata": {},
   "source": [
    "$$\n",
    "S^2= \\frac{∑^n_{i=1}(x_i−X)^2}{n−1}\n",
    "$$"
   ]
  },
  {
   "cell_type": "code",
   "execution_count": 69,
   "id": "7aab4528-e29a-4b43-87ad-37b683f1327c",
   "metadata": {
    "scrolled": true
   },
   "outputs": [
    {
     "data": {
      "text/plain": [
       "14.5"
      ]
     },
     "execution_count": 69,
     "metadata": {},
     "output_type": "execute_result"
    }
   ],
   "source": [
    "var_1 = df[\"notas_1\"].var()\n",
    "var_1"
   ]
  },
  {
   "cell_type": "code",
   "execution_count": 70,
   "id": "0398af6f-0ec1-4c79-8b88-3decb57aa4c0",
   "metadata": {
    "scrolled": true
   },
   "outputs": [
    {
     "data": {
      "text/plain": [
       "8.399999999999999"
      ]
     },
     "execution_count": 70,
     "metadata": {},
     "output_type": "execute_result"
    }
   ],
   "source": [
    "var_2 = df[\"notas_2\"].var()\n",
    "var_2"
   ]
  },
  {
   "cell_type": "code",
   "execution_count": 71,
   "id": "49da4e5f-aee9-427d-b269-445f881484d9",
   "metadata": {},
   "outputs": [
    {
     "data": {
      "text/plain": [
       "13.155555555555557"
      ]
     },
     "execution_count": 71,
     "metadata": {},
     "output_type": "execute_result"
    }
   ],
   "source": [
    "var_3 = df[\"notas_3\"].var()\n",
    "var_3"
   ]
  },
  {
   "cell_type": "markdown",
   "id": "aa0f3552-8811-489a-854b-54a3ce210ee9",
   "metadata": {},
   "source": [
    "Si queremos calcular la varianza, utilizamos el argumento ddof=0. El denominador en la fórmula será entonces n−ddof=0:"
   ]
  },
  {
   "cell_type": "code",
   "execution_count": 72,
   "id": "0f8aa112-9dfa-48dd-beca-014d052d6c32",
   "metadata": {
    "scrolled": true
   },
   "outputs": [
    {
     "data": {
      "text/plain": [
       "13.05"
      ]
     },
     "execution_count": 72,
     "metadata": {},
     "output_type": "execute_result"
    }
   ],
   "source": [
    "var_1 = df[\"notas_1\"].var(ddof=0)\n",
    "var_1"
   ]
  },
  {
   "cell_type": "markdown",
   "id": "bc03ef55-c9c3-46e5-ba71-99d5d10113fc",
   "metadata": {},
   "source": [
    "**Desviación típica**\n",
    "\n",
    "En python, utilizamos el método .std() para calcular la cuasi-desviación típica. Para calcular la desviación típica, nuevamente utilizamos ddof=0.\n",
    "$$\n",
    "S^=\\sqrt{S^2}\n",
    "$$"
   ]
  },
  {
   "cell_type": "code",
   "execution_count": 73,
   "id": "e73b402a-f1ed-4561-a2b3-795609b806a6",
   "metadata": {
    "scrolled": true
   },
   "outputs": [
    {
     "data": {
      "text/plain": [
       "3.8078865529319543"
      ]
     },
     "execution_count": 73,
     "metadata": {},
     "output_type": "execute_result"
    }
   ],
   "source": [
    "std_1 = df[\"notas_1\"].std()\n",
    "std_1"
   ]
  },
  {
   "cell_type": "code",
   "execution_count": 74,
   "id": "4e0f2e44-0c80-47e2-b6f7-899b4e023bea",
   "metadata": {
    "scrolled": true
   },
   "outputs": [
    {
     "data": {
      "text/plain": [
       "2.8982753492378874"
      ]
     },
     "execution_count": 74,
     "metadata": {},
     "output_type": "execute_result"
    }
   ],
   "source": [
    "std_2 = df[\"notas_2\"].std()\n",
    "std_2"
   ]
  },
  {
   "cell_type": "code",
   "execution_count": 75,
   "id": "18f97e6f-4c6e-4866-b07a-b1ee661e5815",
   "metadata": {},
   "outputs": [
    {
     "data": {
      "text/plain": [
       "3.6270588023294517"
      ]
     },
     "execution_count": 75,
     "metadata": {},
     "output_type": "execute_result"
    }
   ],
   "source": [
    "std_3 = df[\"notas_3\"].std()\n",
    "std_3"
   ]
  },
  {
   "cell_type": "markdown",
   "id": "25ffc300-3185-4ca5-84b6-0b0a91b15267",
   "metadata": {},
   "source": [
    "Si queremos calcular la varianza, utilizamos el argumento ddof=0. El denominador en la fórmula será entonces n−ddof=0:"
   ]
  },
  {
   "cell_type": "code",
   "execution_count": 76,
   "id": "45afe443-ff9b-4054-be1d-d4b31075b459",
   "metadata": {
    "scrolled": true
   },
   "outputs": [
    {
     "data": {
      "text/plain": [
       "3.6124783736376886"
      ]
     },
     "execution_count": 76,
     "metadata": {},
     "output_type": "execute_result"
    }
   ],
   "source": [
    "std_1 = df[\"notas_1\"].std(ddof=0)\n",
    "std_1"
   ]
  },
  {
   "cell_type": "markdown",
   "id": "78e4fe4e-f702-463c-a1aa-d0067f699a54",
   "metadata": {},
   "source": [
    "# RESUMEN"
   ]
  },
  {
   "cell_type": "raw",
   "id": "ab4244b4-8c5a-4b09-84c2-5d942a1246fc",
   "metadata": {},
   "source": [
    "                        Notas 1                             Notas 2                       Notas 3"
   ]
  },
  {
   "cell_type": "raw",
   "id": "f0cf3b89-7481-40ae-a2c7-05475c25c3df",
   "metadata": {},
   "source": [
    "Media                    15.5                                16.8                           17.6"
   ]
  },
  {
   "cell_type": "raw",
   "id": "3d17ff1f-3a00-4530-83a8-469cb1f3cb0b",
   "metadata": {},
   "source": [
    "Mediana                  15.0                                16.0                           16.0"
   ]
  },
  {
   "cell_type": "raw",
   "id": "81095fed-6d6e-43fe-8983-33c0f45daa4b",
   "metadata": {},
   "source": [
    "Moda                     14/15                               15/16                          15.0"
   ]
  },
  {
   "cell_type": "raw",
   "id": "96e04f05-a271-47eb-bb8a-5d4941ab3d51",
   "metadata": {},
   "source": [
    "std                      3.807                               2.90                           3.63"
   ]
  },
  {
   "cell_type": "code",
   "execution_count": 77,
   "id": "d1cbaa4a-4f32-4887-a299-c84c73f358a6",
   "metadata": {},
   "outputs": [
    {
     "data": {
      "text/html": [
       "<div>\n",
       "<style scoped>\n",
       "    .dataframe tbody tr th:only-of-type {\n",
       "        vertical-align: middle;\n",
       "    }\n",
       "\n",
       "    .dataframe tbody tr th {\n",
       "        vertical-align: top;\n",
       "    }\n",
       "\n",
       "    .dataframe thead th {\n",
       "        text-align: right;\n",
       "    }\n",
       "</style>\n",
       "<table border=\"1\" class=\"dataframe\">\n",
       "  <thead>\n",
       "    <tr style=\"text-align: right;\">\n",
       "      <th></th>\n",
       "      <th>notas_1</th>\n",
       "      <th>notas_2</th>\n",
       "      <th>notas_3</th>\n",
       "    </tr>\n",
       "  </thead>\n",
       "  <tbody>\n",
       "    <tr>\n",
       "      <th>count</th>\n",
       "      <td>10.000000</td>\n",
       "      <td>10.000000</td>\n",
       "      <td>10.000000</td>\n",
       "    </tr>\n",
       "    <tr>\n",
       "      <th>mean</th>\n",
       "      <td>15.500000</td>\n",
       "      <td>16.800000</td>\n",
       "      <td>17.600000</td>\n",
       "    </tr>\n",
       "    <tr>\n",
       "      <th>std</th>\n",
       "      <td>3.807887</td>\n",
       "      <td>2.898275</td>\n",
       "      <td>3.627059</td>\n",
       "    </tr>\n",
       "    <tr>\n",
       "      <th>min</th>\n",
       "      <td>10.000000</td>\n",
       "      <td>13.000000</td>\n",
       "      <td>14.000000</td>\n",
       "    </tr>\n",
       "    <tr>\n",
       "      <th>25%</th>\n",
       "      <td>14.000000</td>\n",
       "      <td>15.000000</td>\n",
       "      <td>15.000000</td>\n",
       "    </tr>\n",
       "    <tr>\n",
       "      <th>50%</th>\n",
       "      <td>15.000000</td>\n",
       "      <td>16.000000</td>\n",
       "      <td>16.000000</td>\n",
       "    </tr>\n",
       "    <tr>\n",
       "      <th>75%</th>\n",
       "      <td>15.750000</td>\n",
       "      <td>18.250000</td>\n",
       "      <td>20.750000</td>\n",
       "    </tr>\n",
       "    <tr>\n",
       "      <th>max</th>\n",
       "      <td>25.000000</td>\n",
       "      <td>22.000000</td>\n",
       "      <td>24.000000</td>\n",
       "    </tr>\n",
       "  </tbody>\n",
       "</table>\n",
       "</div>"
      ],
      "text/plain": [
       "         notas_1    notas_2    notas_3\n",
       "count  10.000000  10.000000  10.000000\n",
       "mean   15.500000  16.800000  17.600000\n",
       "std     3.807887   2.898275   3.627059\n",
       "min    10.000000  13.000000  14.000000\n",
       "25%    14.000000  15.000000  15.000000\n",
       "50%    15.000000  16.000000  16.000000\n",
       "75%    15.750000  18.250000  20.750000\n",
       "max    25.000000  22.000000  24.000000"
      ]
     },
     "execution_count": 77,
     "metadata": {},
     "output_type": "execute_result"
    }
   ],
   "source": [
    "df.describe()"
   ]
  },
  {
   "cell_type": "markdown",
   "id": "b8ce8811-723c-429b-ad64-a386aae95f36",
   "metadata": {},
   "source": [
    "## Union de dataframe"
   ]
  },
  {
   "cell_type": "code",
   "execution_count": 78,
   "id": "2f09eb53-f6e3-45ac-8113-4711347a961c",
   "metadata": {
    "scrolled": true
   },
   "outputs": [
    {
     "name": "stdout",
     "output_type": "stream",
     "text": [
      "The history saving thread hit an unexpected error (OperationalError('attempt to write a readonly database')).History will not be written to the database.\n"
     ]
    },
    {
     "data": {
      "text/html": [
       "<div>\n",
       "<style scoped>\n",
       "    .dataframe tbody tr th:only-of-type {\n",
       "        vertical-align: middle;\n",
       "    }\n",
       "\n",
       "    .dataframe tbody tr th {\n",
       "        vertical-align: top;\n",
       "    }\n",
       "\n",
       "    .dataframe thead th {\n",
       "        text-align: right;\n",
       "    }\n",
       "</style>\n",
       "<table border=\"1\" class=\"dataframe\">\n",
       "  <thead>\n",
       "    <tr style=\"text-align: right;\">\n",
       "      <th></th>\n",
       "      <th>SepalLengthCm</th>\n",
       "      <th>SepalWidthCm</th>\n",
       "      <th>PetalLengthCm</th>\n",
       "      <th>PetalWidthCm</th>\n",
       "      <th>Species</th>\n",
       "    </tr>\n",
       "  </thead>\n",
       "  <tbody>\n",
       "    <tr>\n",
       "      <th>0</th>\n",
       "      <td>5.1</td>\n",
       "      <td>3.5</td>\n",
       "      <td>1.4</td>\n",
       "      <td>0.2</td>\n",
       "      <td>Iris-setosa</td>\n",
       "    </tr>\n",
       "    <tr>\n",
       "      <th>1</th>\n",
       "      <td>4.9</td>\n",
       "      <td>3.0</td>\n",
       "      <td>1.4</td>\n",
       "      <td>0.2</td>\n",
       "      <td>Iris-setosa</td>\n",
       "    </tr>\n",
       "    <tr>\n",
       "      <th>2</th>\n",
       "      <td>4.7</td>\n",
       "      <td>3.2</td>\n",
       "      <td>1.3</td>\n",
       "      <td>0.2</td>\n",
       "      <td>Iris-setosa</td>\n",
       "    </tr>\n",
       "    <tr>\n",
       "      <th>3</th>\n",
       "      <td>4.6</td>\n",
       "      <td>3.1</td>\n",
       "      <td>1.5</td>\n",
       "      <td>0.2</td>\n",
       "      <td>Iris-setosa</td>\n",
       "    </tr>\n",
       "    <tr>\n",
       "      <th>4</th>\n",
       "      <td>5.0</td>\n",
       "      <td>3.6</td>\n",
       "      <td>1.4</td>\n",
       "      <td>0.2</td>\n",
       "      <td>Iris-setosa</td>\n",
       "    </tr>\n",
       "    <tr>\n",
       "      <th>5</th>\n",
       "      <td>5.4</td>\n",
       "      <td>3.9</td>\n",
       "      <td>1.7</td>\n",
       "      <td>0.4</td>\n",
       "      <td>Iris-setosa</td>\n",
       "    </tr>\n",
       "    <tr>\n",
       "      <th>6</th>\n",
       "      <td>4.6</td>\n",
       "      <td>3.4</td>\n",
       "      <td>1.4</td>\n",
       "      <td>0.3</td>\n",
       "      <td>Iris-setosa</td>\n",
       "    </tr>\n",
       "    <tr>\n",
       "      <th>7</th>\n",
       "      <td>5.0</td>\n",
       "      <td>3.4</td>\n",
       "      <td>1.5</td>\n",
       "      <td>0.2</td>\n",
       "      <td>Iris-setosa</td>\n",
       "    </tr>\n",
       "    <tr>\n",
       "      <th>8</th>\n",
       "      <td>4.4</td>\n",
       "      <td>2.9</td>\n",
       "      <td>1.4</td>\n",
       "      <td>0.2</td>\n",
       "      <td>Iris-setosa</td>\n",
       "    </tr>\n",
       "    <tr>\n",
       "      <th>9</th>\n",
       "      <td>4.9</td>\n",
       "      <td>3.1</td>\n",
       "      <td>1.5</td>\n",
       "      <td>0.1</td>\n",
       "      <td>Iris-setosa</td>\n",
       "    </tr>\n",
       "    <tr>\n",
       "      <th>10</th>\n",
       "      <td>5.4</td>\n",
       "      <td>3.7</td>\n",
       "      <td>1.5</td>\n",
       "      <td>0.2</td>\n",
       "      <td>Iris-setosa</td>\n",
       "    </tr>\n",
       "    <tr>\n",
       "      <th>11</th>\n",
       "      <td>4.8</td>\n",
       "      <td>3.4</td>\n",
       "      <td>1.6</td>\n",
       "      <td>0.2</td>\n",
       "      <td>Iris-setosa</td>\n",
       "    </tr>\n",
       "    <tr>\n",
       "      <th>12</th>\n",
       "      <td>4.8</td>\n",
       "      <td>3.0</td>\n",
       "      <td>1.4</td>\n",
       "      <td>0.1</td>\n",
       "      <td>Iris-setosa</td>\n",
       "    </tr>\n",
       "    <tr>\n",
       "      <th>13</th>\n",
       "      <td>4.3</td>\n",
       "      <td>3.0</td>\n",
       "      <td>1.1</td>\n",
       "      <td>0.1</td>\n",
       "      <td>Iris-setosa</td>\n",
       "    </tr>\n",
       "    <tr>\n",
       "      <th>14</th>\n",
       "      <td>5.8</td>\n",
       "      <td>4.0</td>\n",
       "      <td>1.2</td>\n",
       "      <td>0.2</td>\n",
       "      <td>Iris-setosa</td>\n",
       "    </tr>\n",
       "    <tr>\n",
       "      <th>15</th>\n",
       "      <td>5.7</td>\n",
       "      <td>4.4</td>\n",
       "      <td>1.5</td>\n",
       "      <td>0.4</td>\n",
       "      <td>Iris-setosa</td>\n",
       "    </tr>\n",
       "    <tr>\n",
       "      <th>16</th>\n",
       "      <td>5.4</td>\n",
       "      <td>3.9</td>\n",
       "      <td>1.3</td>\n",
       "      <td>0.4</td>\n",
       "      <td>Iris-setosa</td>\n",
       "    </tr>\n",
       "    <tr>\n",
       "      <th>17</th>\n",
       "      <td>5.1</td>\n",
       "      <td>3.5</td>\n",
       "      <td>1.4</td>\n",
       "      <td>0.3</td>\n",
       "      <td>Iris-setosa</td>\n",
       "    </tr>\n",
       "    <tr>\n",
       "      <th>18</th>\n",
       "      <td>5.7</td>\n",
       "      <td>3.8</td>\n",
       "      <td>1.7</td>\n",
       "      <td>0.3</td>\n",
       "      <td>Iris-setosa</td>\n",
       "    </tr>\n",
       "    <tr>\n",
       "      <th>19</th>\n",
       "      <td>5.1</td>\n",
       "      <td>3.8</td>\n",
       "      <td>1.5</td>\n",
       "      <td>0.3</td>\n",
       "      <td>Iris-setosa</td>\n",
       "    </tr>\n",
       "    <tr>\n",
       "      <th>20</th>\n",
       "      <td>5.4</td>\n",
       "      <td>3.4</td>\n",
       "      <td>1.7</td>\n",
       "      <td>0.2</td>\n",
       "      <td>Iris-setosa</td>\n",
       "    </tr>\n",
       "    <tr>\n",
       "      <th>21</th>\n",
       "      <td>5.1</td>\n",
       "      <td>3.7</td>\n",
       "      <td>1.5</td>\n",
       "      <td>0.4</td>\n",
       "      <td>Iris-setosa</td>\n",
       "    </tr>\n",
       "    <tr>\n",
       "      <th>22</th>\n",
       "      <td>4.6</td>\n",
       "      <td>3.6</td>\n",
       "      <td>1.0</td>\n",
       "      <td>0.2</td>\n",
       "      <td>Iris-setosa</td>\n",
       "    </tr>\n",
       "    <tr>\n",
       "      <th>23</th>\n",
       "      <td>5.1</td>\n",
       "      <td>3.3</td>\n",
       "      <td>1.7</td>\n",
       "      <td>0.5</td>\n",
       "      <td>Iris-setosa</td>\n",
       "    </tr>\n",
       "    <tr>\n",
       "      <th>24</th>\n",
       "      <td>4.8</td>\n",
       "      <td>3.4</td>\n",
       "      <td>1.9</td>\n",
       "      <td>0.2</td>\n",
       "      <td>Iris-setosa</td>\n",
       "    </tr>\n",
       "    <tr>\n",
       "      <th>25</th>\n",
       "      <td>5.0</td>\n",
       "      <td>3.0</td>\n",
       "      <td>1.6</td>\n",
       "      <td>0.2</td>\n",
       "      <td>Iris-setosa</td>\n",
       "    </tr>\n",
       "    <tr>\n",
       "      <th>26</th>\n",
       "      <td>5.0</td>\n",
       "      <td>3.4</td>\n",
       "      <td>1.6</td>\n",
       "      <td>0.4</td>\n",
       "      <td>Iris-setosa</td>\n",
       "    </tr>\n",
       "    <tr>\n",
       "      <th>27</th>\n",
       "      <td>5.2</td>\n",
       "      <td>3.5</td>\n",
       "      <td>1.5</td>\n",
       "      <td>0.2</td>\n",
       "      <td>Iris-setosa</td>\n",
       "    </tr>\n",
       "    <tr>\n",
       "      <th>28</th>\n",
       "      <td>5.2</td>\n",
       "      <td>3.4</td>\n",
       "      <td>1.4</td>\n",
       "      <td>0.2</td>\n",
       "      <td>Iris-setosa</td>\n",
       "    </tr>\n",
       "    <tr>\n",
       "      <th>29</th>\n",
       "      <td>4.7</td>\n",
       "      <td>3.2</td>\n",
       "      <td>1.6</td>\n",
       "      <td>0.2</td>\n",
       "      <td>Iris-setosa</td>\n",
       "    </tr>\n",
       "    <tr>\n",
       "      <th>30</th>\n",
       "      <td>4.8</td>\n",
       "      <td>3.1</td>\n",
       "      <td>1.6</td>\n",
       "      <td>0.2</td>\n",
       "      <td>Iris-setosa</td>\n",
       "    </tr>\n",
       "    <tr>\n",
       "      <th>31</th>\n",
       "      <td>5.4</td>\n",
       "      <td>3.4</td>\n",
       "      <td>1.5</td>\n",
       "      <td>0.4</td>\n",
       "      <td>Iris-setosa</td>\n",
       "    </tr>\n",
       "    <tr>\n",
       "      <th>32</th>\n",
       "      <td>5.2</td>\n",
       "      <td>4.1</td>\n",
       "      <td>1.5</td>\n",
       "      <td>0.1</td>\n",
       "      <td>Iris-setosa</td>\n",
       "    </tr>\n",
       "    <tr>\n",
       "      <th>33</th>\n",
       "      <td>5.5</td>\n",
       "      <td>4.2</td>\n",
       "      <td>1.4</td>\n",
       "      <td>0.2</td>\n",
       "      <td>Iris-setosa</td>\n",
       "    </tr>\n",
       "    <tr>\n",
       "      <th>34</th>\n",
       "      <td>4.9</td>\n",
       "      <td>3.1</td>\n",
       "      <td>1.5</td>\n",
       "      <td>0.1</td>\n",
       "      <td>Iris-setosa</td>\n",
       "    </tr>\n",
       "    <tr>\n",
       "      <th>35</th>\n",
       "      <td>5.0</td>\n",
       "      <td>3.2</td>\n",
       "      <td>1.2</td>\n",
       "      <td>0.2</td>\n",
       "      <td>Iris-setosa</td>\n",
       "    </tr>\n",
       "    <tr>\n",
       "      <th>36</th>\n",
       "      <td>5.5</td>\n",
       "      <td>3.5</td>\n",
       "      <td>1.3</td>\n",
       "      <td>0.2</td>\n",
       "      <td>Iris-setosa</td>\n",
       "    </tr>\n",
       "    <tr>\n",
       "      <th>37</th>\n",
       "      <td>4.9</td>\n",
       "      <td>3.1</td>\n",
       "      <td>1.5</td>\n",
       "      <td>0.1</td>\n",
       "      <td>Iris-setosa</td>\n",
       "    </tr>\n",
       "    <tr>\n",
       "      <th>38</th>\n",
       "      <td>4.4</td>\n",
       "      <td>3.0</td>\n",
       "      <td>1.3</td>\n",
       "      <td>0.2</td>\n",
       "      <td>Iris-setosa</td>\n",
       "    </tr>\n",
       "    <tr>\n",
       "      <th>39</th>\n",
       "      <td>5.1</td>\n",
       "      <td>3.4</td>\n",
       "      <td>1.5</td>\n",
       "      <td>0.2</td>\n",
       "      <td>Iris-setosa</td>\n",
       "    </tr>\n",
       "    <tr>\n",
       "      <th>40</th>\n",
       "      <td>5.0</td>\n",
       "      <td>3.5</td>\n",
       "      <td>1.3</td>\n",
       "      <td>0.3</td>\n",
       "      <td>Iris-setosa</td>\n",
       "    </tr>\n",
       "    <tr>\n",
       "      <th>41</th>\n",
       "      <td>4.5</td>\n",
       "      <td>2.3</td>\n",
       "      <td>1.3</td>\n",
       "      <td>0.3</td>\n",
       "      <td>Iris-setosa</td>\n",
       "    </tr>\n",
       "    <tr>\n",
       "      <th>42</th>\n",
       "      <td>4.4</td>\n",
       "      <td>3.2</td>\n",
       "      <td>1.3</td>\n",
       "      <td>0.2</td>\n",
       "      <td>Iris-setosa</td>\n",
       "    </tr>\n",
       "    <tr>\n",
       "      <th>43</th>\n",
       "      <td>5.0</td>\n",
       "      <td>3.5</td>\n",
       "      <td>1.6</td>\n",
       "      <td>0.6</td>\n",
       "      <td>Iris-setosa</td>\n",
       "    </tr>\n",
       "    <tr>\n",
       "      <th>44</th>\n",
       "      <td>5.1</td>\n",
       "      <td>3.8</td>\n",
       "      <td>1.9</td>\n",
       "      <td>0.4</td>\n",
       "      <td>Iris-setosa</td>\n",
       "    </tr>\n",
       "    <tr>\n",
       "      <th>45</th>\n",
       "      <td>4.8</td>\n",
       "      <td>3.0</td>\n",
       "      <td>1.4</td>\n",
       "      <td>0.3</td>\n",
       "      <td>Iris-setosa</td>\n",
       "    </tr>\n",
       "    <tr>\n",
       "      <th>46</th>\n",
       "      <td>5.1</td>\n",
       "      <td>3.8</td>\n",
       "      <td>1.6</td>\n",
       "      <td>0.2</td>\n",
       "      <td>Iris-setosa</td>\n",
       "    </tr>\n",
       "    <tr>\n",
       "      <th>47</th>\n",
       "      <td>4.6</td>\n",
       "      <td>3.2</td>\n",
       "      <td>1.4</td>\n",
       "      <td>0.2</td>\n",
       "      <td>Iris-setosa</td>\n",
       "    </tr>\n",
       "    <tr>\n",
       "      <th>48</th>\n",
       "      <td>5.3</td>\n",
       "      <td>3.7</td>\n",
       "      <td>1.5</td>\n",
       "      <td>0.2</td>\n",
       "      <td>Iris-setosa</td>\n",
       "    </tr>\n",
       "    <tr>\n",
       "      <th>49</th>\n",
       "      <td>5.0</td>\n",
       "      <td>3.3</td>\n",
       "      <td>1.4</td>\n",
       "      <td>0.2</td>\n",
       "      <td>Iris-setosa</td>\n",
       "    </tr>\n",
       "  </tbody>\n",
       "</table>\n",
       "</div>"
      ],
      "text/plain": [
       "    SepalLengthCm  SepalWidthCm  PetalLengthCm  PetalWidthCm      Species\n",
       "0             5.1           3.5            1.4           0.2  Iris-setosa\n",
       "1             4.9           3.0            1.4           0.2  Iris-setosa\n",
       "2             4.7           3.2            1.3           0.2  Iris-setosa\n",
       "3             4.6           3.1            1.5           0.2  Iris-setosa\n",
       "4             5.0           3.6            1.4           0.2  Iris-setosa\n",
       "5             5.4           3.9            1.7           0.4  Iris-setosa\n",
       "6             4.6           3.4            1.4           0.3  Iris-setosa\n",
       "7             5.0           3.4            1.5           0.2  Iris-setosa\n",
       "8             4.4           2.9            1.4           0.2  Iris-setosa\n",
       "9             4.9           3.1            1.5           0.1  Iris-setosa\n",
       "10            5.4           3.7            1.5           0.2  Iris-setosa\n",
       "11            4.8           3.4            1.6           0.2  Iris-setosa\n",
       "12            4.8           3.0            1.4           0.1  Iris-setosa\n",
       "13            4.3           3.0            1.1           0.1  Iris-setosa\n",
       "14            5.8           4.0            1.2           0.2  Iris-setosa\n",
       "15            5.7           4.4            1.5           0.4  Iris-setosa\n",
       "16            5.4           3.9            1.3           0.4  Iris-setosa\n",
       "17            5.1           3.5            1.4           0.3  Iris-setosa\n",
       "18            5.7           3.8            1.7           0.3  Iris-setosa\n",
       "19            5.1           3.8            1.5           0.3  Iris-setosa\n",
       "20            5.4           3.4            1.7           0.2  Iris-setosa\n",
       "21            5.1           3.7            1.5           0.4  Iris-setosa\n",
       "22            4.6           3.6            1.0           0.2  Iris-setosa\n",
       "23            5.1           3.3            1.7           0.5  Iris-setosa\n",
       "24            4.8           3.4            1.9           0.2  Iris-setosa\n",
       "25            5.0           3.0            1.6           0.2  Iris-setosa\n",
       "26            5.0           3.4            1.6           0.4  Iris-setosa\n",
       "27            5.2           3.5            1.5           0.2  Iris-setosa\n",
       "28            5.2           3.4            1.4           0.2  Iris-setosa\n",
       "29            4.7           3.2            1.6           0.2  Iris-setosa\n",
       "30            4.8           3.1            1.6           0.2  Iris-setosa\n",
       "31            5.4           3.4            1.5           0.4  Iris-setosa\n",
       "32            5.2           4.1            1.5           0.1  Iris-setosa\n",
       "33            5.5           4.2            1.4           0.2  Iris-setosa\n",
       "34            4.9           3.1            1.5           0.1  Iris-setosa\n",
       "35            5.0           3.2            1.2           0.2  Iris-setosa\n",
       "36            5.5           3.5            1.3           0.2  Iris-setosa\n",
       "37            4.9           3.1            1.5           0.1  Iris-setosa\n",
       "38            4.4           3.0            1.3           0.2  Iris-setosa\n",
       "39            5.1           3.4            1.5           0.2  Iris-setosa\n",
       "40            5.0           3.5            1.3           0.3  Iris-setosa\n",
       "41            4.5           2.3            1.3           0.3  Iris-setosa\n",
       "42            4.4           3.2            1.3           0.2  Iris-setosa\n",
       "43            5.0           3.5            1.6           0.6  Iris-setosa\n",
       "44            5.1           3.8            1.9           0.4  Iris-setosa\n",
       "45            4.8           3.0            1.4           0.3  Iris-setosa\n",
       "46            5.1           3.8            1.6           0.2  Iris-setosa\n",
       "47            4.6           3.2            1.4           0.2  Iris-setosa\n",
       "48            5.3           3.7            1.5           0.2  Iris-setosa\n",
       "49            5.0           3.3            1.4           0.2  Iris-setosa"
      ]
     },
     "execution_count": 78,
     "metadata": {},
     "output_type": "execute_result"
    }
   ],
   "source": [
    "iris = pd.read_csv('Iris.csv')\n",
    "iris = iris.drop(['Id'], axis=1)\n",
    "iris_setosa = iris[0:50]\n",
    "iris_setosa"
   ]
  },
  {
   "cell_type": "code",
   "execution_count": 79,
   "id": "fd5cffa3-c707-4e6e-81d3-4b0f58291315",
   "metadata": {},
   "outputs": [
    {
     "data": {
      "text/html": [
       "<div>\n",
       "<style scoped>\n",
       "    .dataframe tbody tr th:only-of-type {\n",
       "        vertical-align: middle;\n",
       "    }\n",
       "\n",
       "    .dataframe tbody tr th {\n",
       "        vertical-align: top;\n",
       "    }\n",
       "\n",
       "    .dataframe thead th {\n",
       "        text-align: right;\n",
       "    }\n",
       "</style>\n",
       "<table border=\"1\" class=\"dataframe\">\n",
       "  <thead>\n",
       "    <tr style=\"text-align: right;\">\n",
       "      <th></th>\n",
       "      <th>SepalLengthCm</th>\n",
       "      <th>SepalWidthCm</th>\n",
       "      <th>PetalLengthCm</th>\n",
       "      <th>PetalWidthCm</th>\n",
       "      <th>Species</th>\n",
       "    </tr>\n",
       "  </thead>\n",
       "  <tbody>\n",
       "    <tr>\n",
       "      <th>100</th>\n",
       "      <td>6.3</td>\n",
       "      <td>3.3</td>\n",
       "      <td>6.0</td>\n",
       "      <td>2.5</td>\n",
       "      <td>Iris-virginica</td>\n",
       "    </tr>\n",
       "    <tr>\n",
       "      <th>101</th>\n",
       "      <td>5.8</td>\n",
       "      <td>2.7</td>\n",
       "      <td>5.1</td>\n",
       "      <td>1.9</td>\n",
       "      <td>Iris-virginica</td>\n",
       "    </tr>\n",
       "    <tr>\n",
       "      <th>102</th>\n",
       "      <td>7.1</td>\n",
       "      <td>3.0</td>\n",
       "      <td>5.9</td>\n",
       "      <td>2.1</td>\n",
       "      <td>Iris-virginica</td>\n",
       "    </tr>\n",
       "    <tr>\n",
       "      <th>103</th>\n",
       "      <td>6.3</td>\n",
       "      <td>2.9</td>\n",
       "      <td>5.6</td>\n",
       "      <td>1.8</td>\n",
       "      <td>Iris-virginica</td>\n",
       "    </tr>\n",
       "    <tr>\n",
       "      <th>104</th>\n",
       "      <td>6.5</td>\n",
       "      <td>3.0</td>\n",
       "      <td>5.8</td>\n",
       "      <td>2.2</td>\n",
       "      <td>Iris-virginica</td>\n",
       "    </tr>\n",
       "    <tr>\n",
       "      <th>105</th>\n",
       "      <td>7.6</td>\n",
       "      <td>3.0</td>\n",
       "      <td>6.6</td>\n",
       "      <td>2.1</td>\n",
       "      <td>Iris-virginica</td>\n",
       "    </tr>\n",
       "    <tr>\n",
       "      <th>106</th>\n",
       "      <td>4.9</td>\n",
       "      <td>2.5</td>\n",
       "      <td>4.5</td>\n",
       "      <td>1.7</td>\n",
       "      <td>Iris-virginica</td>\n",
       "    </tr>\n",
       "    <tr>\n",
       "      <th>107</th>\n",
       "      <td>7.3</td>\n",
       "      <td>2.9</td>\n",
       "      <td>6.3</td>\n",
       "      <td>1.8</td>\n",
       "      <td>Iris-virginica</td>\n",
       "    </tr>\n",
       "    <tr>\n",
       "      <th>108</th>\n",
       "      <td>6.7</td>\n",
       "      <td>2.5</td>\n",
       "      <td>5.8</td>\n",
       "      <td>1.8</td>\n",
       "      <td>Iris-virginica</td>\n",
       "    </tr>\n",
       "    <tr>\n",
       "      <th>109</th>\n",
       "      <td>7.2</td>\n",
       "      <td>3.6</td>\n",
       "      <td>6.1</td>\n",
       "      <td>2.5</td>\n",
       "      <td>Iris-virginica</td>\n",
       "    </tr>\n",
       "    <tr>\n",
       "      <th>110</th>\n",
       "      <td>6.5</td>\n",
       "      <td>3.2</td>\n",
       "      <td>5.1</td>\n",
       "      <td>2.0</td>\n",
       "      <td>Iris-virginica</td>\n",
       "    </tr>\n",
       "    <tr>\n",
       "      <th>111</th>\n",
       "      <td>6.4</td>\n",
       "      <td>2.7</td>\n",
       "      <td>5.3</td>\n",
       "      <td>1.9</td>\n",
       "      <td>Iris-virginica</td>\n",
       "    </tr>\n",
       "    <tr>\n",
       "      <th>112</th>\n",
       "      <td>6.8</td>\n",
       "      <td>3.0</td>\n",
       "      <td>5.5</td>\n",
       "      <td>2.1</td>\n",
       "      <td>Iris-virginica</td>\n",
       "    </tr>\n",
       "    <tr>\n",
       "      <th>113</th>\n",
       "      <td>5.7</td>\n",
       "      <td>2.5</td>\n",
       "      <td>5.0</td>\n",
       "      <td>2.0</td>\n",
       "      <td>Iris-virginica</td>\n",
       "    </tr>\n",
       "    <tr>\n",
       "      <th>114</th>\n",
       "      <td>5.8</td>\n",
       "      <td>2.8</td>\n",
       "      <td>5.1</td>\n",
       "      <td>2.4</td>\n",
       "      <td>Iris-virginica</td>\n",
       "    </tr>\n",
       "    <tr>\n",
       "      <th>115</th>\n",
       "      <td>6.4</td>\n",
       "      <td>3.2</td>\n",
       "      <td>5.3</td>\n",
       "      <td>2.3</td>\n",
       "      <td>Iris-virginica</td>\n",
       "    </tr>\n",
       "    <tr>\n",
       "      <th>116</th>\n",
       "      <td>6.5</td>\n",
       "      <td>3.0</td>\n",
       "      <td>5.5</td>\n",
       "      <td>1.8</td>\n",
       "      <td>Iris-virginica</td>\n",
       "    </tr>\n",
       "    <tr>\n",
       "      <th>117</th>\n",
       "      <td>7.7</td>\n",
       "      <td>3.8</td>\n",
       "      <td>6.7</td>\n",
       "      <td>2.2</td>\n",
       "      <td>Iris-virginica</td>\n",
       "    </tr>\n",
       "    <tr>\n",
       "      <th>118</th>\n",
       "      <td>7.7</td>\n",
       "      <td>2.6</td>\n",
       "      <td>6.9</td>\n",
       "      <td>2.3</td>\n",
       "      <td>Iris-virginica</td>\n",
       "    </tr>\n",
       "    <tr>\n",
       "      <th>119</th>\n",
       "      <td>6.0</td>\n",
       "      <td>2.2</td>\n",
       "      <td>5.0</td>\n",
       "      <td>1.5</td>\n",
       "      <td>Iris-virginica</td>\n",
       "    </tr>\n",
       "    <tr>\n",
       "      <th>120</th>\n",
       "      <td>6.9</td>\n",
       "      <td>3.2</td>\n",
       "      <td>5.7</td>\n",
       "      <td>2.3</td>\n",
       "      <td>Iris-virginica</td>\n",
       "    </tr>\n",
       "    <tr>\n",
       "      <th>121</th>\n",
       "      <td>5.6</td>\n",
       "      <td>2.8</td>\n",
       "      <td>4.9</td>\n",
       "      <td>2.0</td>\n",
       "      <td>Iris-virginica</td>\n",
       "    </tr>\n",
       "    <tr>\n",
       "      <th>122</th>\n",
       "      <td>7.7</td>\n",
       "      <td>2.8</td>\n",
       "      <td>6.7</td>\n",
       "      <td>2.0</td>\n",
       "      <td>Iris-virginica</td>\n",
       "    </tr>\n",
       "    <tr>\n",
       "      <th>123</th>\n",
       "      <td>6.3</td>\n",
       "      <td>2.7</td>\n",
       "      <td>4.9</td>\n",
       "      <td>1.8</td>\n",
       "      <td>Iris-virginica</td>\n",
       "    </tr>\n",
       "    <tr>\n",
       "      <th>124</th>\n",
       "      <td>6.7</td>\n",
       "      <td>3.3</td>\n",
       "      <td>5.7</td>\n",
       "      <td>2.1</td>\n",
       "      <td>Iris-virginica</td>\n",
       "    </tr>\n",
       "    <tr>\n",
       "      <th>125</th>\n",
       "      <td>7.2</td>\n",
       "      <td>3.2</td>\n",
       "      <td>6.0</td>\n",
       "      <td>1.8</td>\n",
       "      <td>Iris-virginica</td>\n",
       "    </tr>\n",
       "    <tr>\n",
       "      <th>126</th>\n",
       "      <td>6.2</td>\n",
       "      <td>2.8</td>\n",
       "      <td>4.8</td>\n",
       "      <td>1.8</td>\n",
       "      <td>Iris-virginica</td>\n",
       "    </tr>\n",
       "    <tr>\n",
       "      <th>127</th>\n",
       "      <td>6.1</td>\n",
       "      <td>3.0</td>\n",
       "      <td>4.9</td>\n",
       "      <td>1.8</td>\n",
       "      <td>Iris-virginica</td>\n",
       "    </tr>\n",
       "    <tr>\n",
       "      <th>128</th>\n",
       "      <td>6.4</td>\n",
       "      <td>2.8</td>\n",
       "      <td>5.6</td>\n",
       "      <td>2.1</td>\n",
       "      <td>Iris-virginica</td>\n",
       "    </tr>\n",
       "    <tr>\n",
       "      <th>129</th>\n",
       "      <td>7.2</td>\n",
       "      <td>3.0</td>\n",
       "      <td>5.8</td>\n",
       "      <td>1.6</td>\n",
       "      <td>Iris-virginica</td>\n",
       "    </tr>\n",
       "    <tr>\n",
       "      <th>130</th>\n",
       "      <td>7.4</td>\n",
       "      <td>2.8</td>\n",
       "      <td>6.1</td>\n",
       "      <td>1.9</td>\n",
       "      <td>Iris-virginica</td>\n",
       "    </tr>\n",
       "    <tr>\n",
       "      <th>131</th>\n",
       "      <td>7.9</td>\n",
       "      <td>3.8</td>\n",
       "      <td>6.4</td>\n",
       "      <td>2.0</td>\n",
       "      <td>Iris-virginica</td>\n",
       "    </tr>\n",
       "    <tr>\n",
       "      <th>132</th>\n",
       "      <td>6.4</td>\n",
       "      <td>2.8</td>\n",
       "      <td>5.6</td>\n",
       "      <td>2.2</td>\n",
       "      <td>Iris-virginica</td>\n",
       "    </tr>\n",
       "    <tr>\n",
       "      <th>133</th>\n",
       "      <td>6.3</td>\n",
       "      <td>2.8</td>\n",
       "      <td>5.1</td>\n",
       "      <td>1.5</td>\n",
       "      <td>Iris-virginica</td>\n",
       "    </tr>\n",
       "    <tr>\n",
       "      <th>134</th>\n",
       "      <td>6.1</td>\n",
       "      <td>2.6</td>\n",
       "      <td>5.6</td>\n",
       "      <td>1.4</td>\n",
       "      <td>Iris-virginica</td>\n",
       "    </tr>\n",
       "    <tr>\n",
       "      <th>135</th>\n",
       "      <td>7.7</td>\n",
       "      <td>3.0</td>\n",
       "      <td>6.1</td>\n",
       "      <td>2.3</td>\n",
       "      <td>Iris-virginica</td>\n",
       "    </tr>\n",
       "    <tr>\n",
       "      <th>136</th>\n",
       "      <td>6.3</td>\n",
       "      <td>3.4</td>\n",
       "      <td>5.6</td>\n",
       "      <td>2.4</td>\n",
       "      <td>Iris-virginica</td>\n",
       "    </tr>\n",
       "    <tr>\n",
       "      <th>137</th>\n",
       "      <td>6.4</td>\n",
       "      <td>3.1</td>\n",
       "      <td>5.5</td>\n",
       "      <td>1.8</td>\n",
       "      <td>Iris-virginica</td>\n",
       "    </tr>\n",
       "    <tr>\n",
       "      <th>138</th>\n",
       "      <td>6.0</td>\n",
       "      <td>3.0</td>\n",
       "      <td>4.8</td>\n",
       "      <td>1.8</td>\n",
       "      <td>Iris-virginica</td>\n",
       "    </tr>\n",
       "    <tr>\n",
       "      <th>139</th>\n",
       "      <td>6.9</td>\n",
       "      <td>3.1</td>\n",
       "      <td>5.4</td>\n",
       "      <td>2.1</td>\n",
       "      <td>Iris-virginica</td>\n",
       "    </tr>\n",
       "    <tr>\n",
       "      <th>140</th>\n",
       "      <td>6.7</td>\n",
       "      <td>3.1</td>\n",
       "      <td>5.6</td>\n",
       "      <td>2.4</td>\n",
       "      <td>Iris-virginica</td>\n",
       "    </tr>\n",
       "    <tr>\n",
       "      <th>141</th>\n",
       "      <td>6.9</td>\n",
       "      <td>3.1</td>\n",
       "      <td>5.1</td>\n",
       "      <td>2.3</td>\n",
       "      <td>Iris-virginica</td>\n",
       "    </tr>\n",
       "    <tr>\n",
       "      <th>142</th>\n",
       "      <td>5.8</td>\n",
       "      <td>2.7</td>\n",
       "      <td>5.1</td>\n",
       "      <td>1.9</td>\n",
       "      <td>Iris-virginica</td>\n",
       "    </tr>\n",
       "    <tr>\n",
       "      <th>143</th>\n",
       "      <td>6.8</td>\n",
       "      <td>3.2</td>\n",
       "      <td>5.9</td>\n",
       "      <td>2.3</td>\n",
       "      <td>Iris-virginica</td>\n",
       "    </tr>\n",
       "    <tr>\n",
       "      <th>144</th>\n",
       "      <td>6.7</td>\n",
       "      <td>3.3</td>\n",
       "      <td>5.7</td>\n",
       "      <td>2.5</td>\n",
       "      <td>Iris-virginica</td>\n",
       "    </tr>\n",
       "    <tr>\n",
       "      <th>145</th>\n",
       "      <td>6.7</td>\n",
       "      <td>3.0</td>\n",
       "      <td>5.2</td>\n",
       "      <td>2.3</td>\n",
       "      <td>Iris-virginica</td>\n",
       "    </tr>\n",
       "    <tr>\n",
       "      <th>146</th>\n",
       "      <td>6.3</td>\n",
       "      <td>2.5</td>\n",
       "      <td>5.0</td>\n",
       "      <td>1.9</td>\n",
       "      <td>Iris-virginica</td>\n",
       "    </tr>\n",
       "    <tr>\n",
       "      <th>147</th>\n",
       "      <td>6.5</td>\n",
       "      <td>3.0</td>\n",
       "      <td>5.2</td>\n",
       "      <td>2.0</td>\n",
       "      <td>Iris-virginica</td>\n",
       "    </tr>\n",
       "    <tr>\n",
       "      <th>148</th>\n",
       "      <td>6.2</td>\n",
       "      <td>3.4</td>\n",
       "      <td>5.4</td>\n",
       "      <td>2.3</td>\n",
       "      <td>Iris-virginica</td>\n",
       "    </tr>\n",
       "    <tr>\n",
       "      <th>149</th>\n",
       "      <td>5.9</td>\n",
       "      <td>3.0</td>\n",
       "      <td>5.1</td>\n",
       "      <td>1.8</td>\n",
       "      <td>Iris-virginica</td>\n",
       "    </tr>\n",
       "  </tbody>\n",
       "</table>\n",
       "</div>"
      ],
      "text/plain": [
       "     SepalLengthCm  SepalWidthCm  PetalLengthCm  PetalWidthCm         Species\n",
       "100            6.3           3.3            6.0           2.5  Iris-virginica\n",
       "101            5.8           2.7            5.1           1.9  Iris-virginica\n",
       "102            7.1           3.0            5.9           2.1  Iris-virginica\n",
       "103            6.3           2.9            5.6           1.8  Iris-virginica\n",
       "104            6.5           3.0            5.8           2.2  Iris-virginica\n",
       "105            7.6           3.0            6.6           2.1  Iris-virginica\n",
       "106            4.9           2.5            4.5           1.7  Iris-virginica\n",
       "107            7.3           2.9            6.3           1.8  Iris-virginica\n",
       "108            6.7           2.5            5.8           1.8  Iris-virginica\n",
       "109            7.2           3.6            6.1           2.5  Iris-virginica\n",
       "110            6.5           3.2            5.1           2.0  Iris-virginica\n",
       "111            6.4           2.7            5.3           1.9  Iris-virginica\n",
       "112            6.8           3.0            5.5           2.1  Iris-virginica\n",
       "113            5.7           2.5            5.0           2.0  Iris-virginica\n",
       "114            5.8           2.8            5.1           2.4  Iris-virginica\n",
       "115            6.4           3.2            5.3           2.3  Iris-virginica\n",
       "116            6.5           3.0            5.5           1.8  Iris-virginica\n",
       "117            7.7           3.8            6.7           2.2  Iris-virginica\n",
       "118            7.7           2.6            6.9           2.3  Iris-virginica\n",
       "119            6.0           2.2            5.0           1.5  Iris-virginica\n",
       "120            6.9           3.2            5.7           2.3  Iris-virginica\n",
       "121            5.6           2.8            4.9           2.0  Iris-virginica\n",
       "122            7.7           2.8            6.7           2.0  Iris-virginica\n",
       "123            6.3           2.7            4.9           1.8  Iris-virginica\n",
       "124            6.7           3.3            5.7           2.1  Iris-virginica\n",
       "125            7.2           3.2            6.0           1.8  Iris-virginica\n",
       "126            6.2           2.8            4.8           1.8  Iris-virginica\n",
       "127            6.1           3.0            4.9           1.8  Iris-virginica\n",
       "128            6.4           2.8            5.6           2.1  Iris-virginica\n",
       "129            7.2           3.0            5.8           1.6  Iris-virginica\n",
       "130            7.4           2.8            6.1           1.9  Iris-virginica\n",
       "131            7.9           3.8            6.4           2.0  Iris-virginica\n",
       "132            6.4           2.8            5.6           2.2  Iris-virginica\n",
       "133            6.3           2.8            5.1           1.5  Iris-virginica\n",
       "134            6.1           2.6            5.6           1.4  Iris-virginica\n",
       "135            7.7           3.0            6.1           2.3  Iris-virginica\n",
       "136            6.3           3.4            5.6           2.4  Iris-virginica\n",
       "137            6.4           3.1            5.5           1.8  Iris-virginica\n",
       "138            6.0           3.0            4.8           1.8  Iris-virginica\n",
       "139            6.9           3.1            5.4           2.1  Iris-virginica\n",
       "140            6.7           3.1            5.6           2.4  Iris-virginica\n",
       "141            6.9           3.1            5.1           2.3  Iris-virginica\n",
       "142            5.8           2.7            5.1           1.9  Iris-virginica\n",
       "143            6.8           3.2            5.9           2.3  Iris-virginica\n",
       "144            6.7           3.3            5.7           2.5  Iris-virginica\n",
       "145            6.7           3.0            5.2           2.3  Iris-virginica\n",
       "146            6.3           2.5            5.0           1.9  Iris-virginica\n",
       "147            6.5           3.0            5.2           2.0  Iris-virginica\n",
       "148            6.2           3.4            5.4           2.3  Iris-virginica\n",
       "149            5.9           3.0            5.1           1.8  Iris-virginica"
      ]
     },
     "execution_count": 79,
     "metadata": {},
     "output_type": "execute_result"
    }
   ],
   "source": [
    "iris_virginica = iris[100:]\n",
    "iris_virginica"
   ]
  },
  {
   "cell_type": "code",
   "execution_count": 80,
   "id": "559f060d-6daa-4de2-b5d5-6ffc7a5ea2b7",
   "metadata": {},
   "outputs": [
    {
     "data": {
      "text/html": [
       "<div>\n",
       "<style scoped>\n",
       "    .dataframe tbody tr th:only-of-type {\n",
       "        vertical-align: middle;\n",
       "    }\n",
       "\n",
       "    .dataframe tbody tr th {\n",
       "        vertical-align: top;\n",
       "    }\n",
       "\n",
       "    .dataframe thead th {\n",
       "        text-align: right;\n",
       "    }\n",
       "</style>\n",
       "<table border=\"1\" class=\"dataframe\">\n",
       "  <thead>\n",
       "    <tr style=\"text-align: right;\">\n",
       "      <th></th>\n",
       "      <th>SepalLengthCm</th>\n",
       "      <th>SepalWidthCm</th>\n",
       "      <th>PetalLengthCm</th>\n",
       "      <th>PetalWidthCm</th>\n",
       "      <th>Species</th>\n",
       "    </tr>\n",
       "  </thead>\n",
       "  <tbody>\n",
       "    <tr>\n",
       "      <th>0</th>\n",
       "      <td>7.0</td>\n",
       "      <td>3.2</td>\n",
       "      <td>4.7</td>\n",
       "      <td>1.4</td>\n",
       "      <td>Iris-versicolor</td>\n",
       "    </tr>\n",
       "    <tr>\n",
       "      <th>1</th>\n",
       "      <td>6.4</td>\n",
       "      <td>3.2</td>\n",
       "      <td>4.5</td>\n",
       "      <td>1.5</td>\n",
       "      <td>Iris-versicolor</td>\n",
       "    </tr>\n",
       "    <tr>\n",
       "      <th>2</th>\n",
       "      <td>6.9</td>\n",
       "      <td>3.1</td>\n",
       "      <td>4.9</td>\n",
       "      <td>1.5</td>\n",
       "      <td>Iris-versicolor</td>\n",
       "    </tr>\n",
       "    <tr>\n",
       "      <th>3</th>\n",
       "      <td>5.5</td>\n",
       "      <td>2.3</td>\n",
       "      <td>4.0</td>\n",
       "      <td>1.3</td>\n",
       "      <td>Iris-versicolor</td>\n",
       "    </tr>\n",
       "    <tr>\n",
       "      <th>4</th>\n",
       "      <td>6.5</td>\n",
       "      <td>2.8</td>\n",
       "      <td>4.6</td>\n",
       "      <td>1.5</td>\n",
       "      <td>Iris-versicolor</td>\n",
       "    </tr>\n",
       "    <tr>\n",
       "      <th>5</th>\n",
       "      <td>5.7</td>\n",
       "      <td>2.8</td>\n",
       "      <td>4.5</td>\n",
       "      <td>1.3</td>\n",
       "      <td>Iris-versicolor</td>\n",
       "    </tr>\n",
       "    <tr>\n",
       "      <th>6</th>\n",
       "      <td>6.3</td>\n",
       "      <td>3.3</td>\n",
       "      <td>4.7</td>\n",
       "      <td>1.6</td>\n",
       "      <td>Iris-versicolor</td>\n",
       "    </tr>\n",
       "    <tr>\n",
       "      <th>7</th>\n",
       "      <td>4.9</td>\n",
       "      <td>2.4</td>\n",
       "      <td>3.3</td>\n",
       "      <td>1.0</td>\n",
       "      <td>Iris-versicolor</td>\n",
       "    </tr>\n",
       "    <tr>\n",
       "      <th>8</th>\n",
       "      <td>6.6</td>\n",
       "      <td>2.9</td>\n",
       "      <td>4.6</td>\n",
       "      <td>1.3</td>\n",
       "      <td>Iris-versicolor</td>\n",
       "    </tr>\n",
       "    <tr>\n",
       "      <th>9</th>\n",
       "      <td>5.2</td>\n",
       "      <td>2.7</td>\n",
       "      <td>3.9</td>\n",
       "      <td>1.4</td>\n",
       "      <td>Iris-versicolor</td>\n",
       "    </tr>\n",
       "    <tr>\n",
       "      <th>10</th>\n",
       "      <td>5.0</td>\n",
       "      <td>2.0</td>\n",
       "      <td>3.5</td>\n",
       "      <td>1.0</td>\n",
       "      <td>Iris-versicolor</td>\n",
       "    </tr>\n",
       "    <tr>\n",
       "      <th>11</th>\n",
       "      <td>5.9</td>\n",
       "      <td>3.0</td>\n",
       "      <td>4.2</td>\n",
       "      <td>1.5</td>\n",
       "      <td>Iris-versicolor</td>\n",
       "    </tr>\n",
       "    <tr>\n",
       "      <th>12</th>\n",
       "      <td>6.0</td>\n",
       "      <td>2.2</td>\n",
       "      <td>4.0</td>\n",
       "      <td>1.0</td>\n",
       "      <td>Iris-versicolor</td>\n",
       "    </tr>\n",
       "    <tr>\n",
       "      <th>13</th>\n",
       "      <td>6.1</td>\n",
       "      <td>2.9</td>\n",
       "      <td>4.7</td>\n",
       "      <td>1.4</td>\n",
       "      <td>Iris-versicolor</td>\n",
       "    </tr>\n",
       "    <tr>\n",
       "      <th>14</th>\n",
       "      <td>5.6</td>\n",
       "      <td>2.9</td>\n",
       "      <td>3.6</td>\n",
       "      <td>1.3</td>\n",
       "      <td>Iris-versicolor</td>\n",
       "    </tr>\n",
       "    <tr>\n",
       "      <th>15</th>\n",
       "      <td>6.7</td>\n",
       "      <td>3.1</td>\n",
       "      <td>4.4</td>\n",
       "      <td>1.4</td>\n",
       "      <td>Iris-versicolor</td>\n",
       "    </tr>\n",
       "    <tr>\n",
       "      <th>16</th>\n",
       "      <td>5.6</td>\n",
       "      <td>3.0</td>\n",
       "      <td>4.5</td>\n",
       "      <td>1.5</td>\n",
       "      <td>Iris-versicolor</td>\n",
       "    </tr>\n",
       "    <tr>\n",
       "      <th>17</th>\n",
       "      <td>5.8</td>\n",
       "      <td>2.7</td>\n",
       "      <td>4.1</td>\n",
       "      <td>1.0</td>\n",
       "      <td>Iris-versicolor</td>\n",
       "    </tr>\n",
       "    <tr>\n",
       "      <th>18</th>\n",
       "      <td>6.2</td>\n",
       "      <td>2.2</td>\n",
       "      <td>4.5</td>\n",
       "      <td>1.5</td>\n",
       "      <td>Iris-versicolor</td>\n",
       "    </tr>\n",
       "    <tr>\n",
       "      <th>19</th>\n",
       "      <td>5.6</td>\n",
       "      <td>2.5</td>\n",
       "      <td>3.9</td>\n",
       "      <td>1.1</td>\n",
       "      <td>Iris-versicolor</td>\n",
       "    </tr>\n",
       "    <tr>\n",
       "      <th>20</th>\n",
       "      <td>5.9</td>\n",
       "      <td>3.2</td>\n",
       "      <td>4.8</td>\n",
       "      <td>1.8</td>\n",
       "      <td>Iris-versicolor</td>\n",
       "    </tr>\n",
       "    <tr>\n",
       "      <th>21</th>\n",
       "      <td>6.1</td>\n",
       "      <td>2.8</td>\n",
       "      <td>4.0</td>\n",
       "      <td>1.3</td>\n",
       "      <td>Iris-versicolor</td>\n",
       "    </tr>\n",
       "    <tr>\n",
       "      <th>22</th>\n",
       "      <td>6.3</td>\n",
       "      <td>2.5</td>\n",
       "      <td>4.9</td>\n",
       "      <td>1.5</td>\n",
       "      <td>Iris-versicolor</td>\n",
       "    </tr>\n",
       "    <tr>\n",
       "      <th>23</th>\n",
       "      <td>6.1</td>\n",
       "      <td>2.8</td>\n",
       "      <td>4.7</td>\n",
       "      <td>1.2</td>\n",
       "      <td>Iris-versicolor</td>\n",
       "    </tr>\n",
       "    <tr>\n",
       "      <th>24</th>\n",
       "      <td>6.4</td>\n",
       "      <td>2.9</td>\n",
       "      <td>4.3</td>\n",
       "      <td>1.3</td>\n",
       "      <td>Iris-versicolor</td>\n",
       "    </tr>\n",
       "    <tr>\n",
       "      <th>25</th>\n",
       "      <td>6.6</td>\n",
       "      <td>3.0</td>\n",
       "      <td>4.4</td>\n",
       "      <td>1.4</td>\n",
       "      <td>Iris-versicolor</td>\n",
       "    </tr>\n",
       "    <tr>\n",
       "      <th>26</th>\n",
       "      <td>6.8</td>\n",
       "      <td>2.8</td>\n",
       "      <td>4.8</td>\n",
       "      <td>1.4</td>\n",
       "      <td>Iris-versicolor</td>\n",
       "    </tr>\n",
       "    <tr>\n",
       "      <th>27</th>\n",
       "      <td>6.7</td>\n",
       "      <td>3.0</td>\n",
       "      <td>5.0</td>\n",
       "      <td>1.7</td>\n",
       "      <td>Iris-versicolor</td>\n",
       "    </tr>\n",
       "    <tr>\n",
       "      <th>28</th>\n",
       "      <td>6.0</td>\n",
       "      <td>2.9</td>\n",
       "      <td>4.5</td>\n",
       "      <td>1.5</td>\n",
       "      <td>Iris-versicolor</td>\n",
       "    </tr>\n",
       "    <tr>\n",
       "      <th>29</th>\n",
       "      <td>5.7</td>\n",
       "      <td>2.6</td>\n",
       "      <td>3.5</td>\n",
       "      <td>1.0</td>\n",
       "      <td>Iris-versicolor</td>\n",
       "    </tr>\n",
       "    <tr>\n",
       "      <th>30</th>\n",
       "      <td>5.5</td>\n",
       "      <td>2.4</td>\n",
       "      <td>3.8</td>\n",
       "      <td>1.1</td>\n",
       "      <td>Iris-versicolor</td>\n",
       "    </tr>\n",
       "    <tr>\n",
       "      <th>31</th>\n",
       "      <td>5.5</td>\n",
       "      <td>2.4</td>\n",
       "      <td>3.7</td>\n",
       "      <td>1.0</td>\n",
       "      <td>Iris-versicolor</td>\n",
       "    </tr>\n",
       "    <tr>\n",
       "      <th>32</th>\n",
       "      <td>5.8</td>\n",
       "      <td>2.7</td>\n",
       "      <td>3.9</td>\n",
       "      <td>1.2</td>\n",
       "      <td>Iris-versicolor</td>\n",
       "    </tr>\n",
       "    <tr>\n",
       "      <th>33</th>\n",
       "      <td>6.0</td>\n",
       "      <td>2.7</td>\n",
       "      <td>5.1</td>\n",
       "      <td>1.6</td>\n",
       "      <td>Iris-versicolor</td>\n",
       "    </tr>\n",
       "    <tr>\n",
       "      <th>34</th>\n",
       "      <td>5.4</td>\n",
       "      <td>3.0</td>\n",
       "      <td>4.5</td>\n",
       "      <td>1.5</td>\n",
       "      <td>Iris-versicolor</td>\n",
       "    </tr>\n",
       "    <tr>\n",
       "      <th>35</th>\n",
       "      <td>6.0</td>\n",
       "      <td>3.4</td>\n",
       "      <td>4.5</td>\n",
       "      <td>1.6</td>\n",
       "      <td>Iris-versicolor</td>\n",
       "    </tr>\n",
       "    <tr>\n",
       "      <th>36</th>\n",
       "      <td>6.7</td>\n",
       "      <td>3.1</td>\n",
       "      <td>4.7</td>\n",
       "      <td>1.5</td>\n",
       "      <td>Iris-versicolor</td>\n",
       "    </tr>\n",
       "    <tr>\n",
       "      <th>37</th>\n",
       "      <td>6.3</td>\n",
       "      <td>2.3</td>\n",
       "      <td>4.4</td>\n",
       "      <td>1.3</td>\n",
       "      <td>Iris-versicolor</td>\n",
       "    </tr>\n",
       "    <tr>\n",
       "      <th>38</th>\n",
       "      <td>5.6</td>\n",
       "      <td>3.0</td>\n",
       "      <td>4.1</td>\n",
       "      <td>1.3</td>\n",
       "      <td>Iris-versicolor</td>\n",
       "    </tr>\n",
       "    <tr>\n",
       "      <th>39</th>\n",
       "      <td>5.5</td>\n",
       "      <td>2.5</td>\n",
       "      <td>4.0</td>\n",
       "      <td>1.3</td>\n",
       "      <td>Iris-versicolor</td>\n",
       "    </tr>\n",
       "    <tr>\n",
       "      <th>40</th>\n",
       "      <td>5.5</td>\n",
       "      <td>2.6</td>\n",
       "      <td>4.4</td>\n",
       "      <td>1.2</td>\n",
       "      <td>Iris-versicolor</td>\n",
       "    </tr>\n",
       "    <tr>\n",
       "      <th>41</th>\n",
       "      <td>6.1</td>\n",
       "      <td>3.0</td>\n",
       "      <td>4.6</td>\n",
       "      <td>1.4</td>\n",
       "      <td>Iris-versicolor</td>\n",
       "    </tr>\n",
       "    <tr>\n",
       "      <th>42</th>\n",
       "      <td>5.8</td>\n",
       "      <td>2.6</td>\n",
       "      <td>4.0</td>\n",
       "      <td>1.2</td>\n",
       "      <td>Iris-versicolor</td>\n",
       "    </tr>\n",
       "    <tr>\n",
       "      <th>43</th>\n",
       "      <td>5.0</td>\n",
       "      <td>2.3</td>\n",
       "      <td>3.3</td>\n",
       "      <td>1.0</td>\n",
       "      <td>Iris-versicolor</td>\n",
       "    </tr>\n",
       "    <tr>\n",
       "      <th>44</th>\n",
       "      <td>5.6</td>\n",
       "      <td>2.7</td>\n",
       "      <td>4.2</td>\n",
       "      <td>1.3</td>\n",
       "      <td>Iris-versicolor</td>\n",
       "    </tr>\n",
       "    <tr>\n",
       "      <th>45</th>\n",
       "      <td>5.7</td>\n",
       "      <td>3.0</td>\n",
       "      <td>4.2</td>\n",
       "      <td>1.2</td>\n",
       "      <td>Iris-versicolor</td>\n",
       "    </tr>\n",
       "    <tr>\n",
       "      <th>46</th>\n",
       "      <td>5.7</td>\n",
       "      <td>2.9</td>\n",
       "      <td>4.2</td>\n",
       "      <td>1.3</td>\n",
       "      <td>Iris-versicolor</td>\n",
       "    </tr>\n",
       "    <tr>\n",
       "      <th>47</th>\n",
       "      <td>6.2</td>\n",
       "      <td>2.9</td>\n",
       "      <td>4.3</td>\n",
       "      <td>1.3</td>\n",
       "      <td>Iris-versicolor</td>\n",
       "    </tr>\n",
       "    <tr>\n",
       "      <th>48</th>\n",
       "      <td>5.1</td>\n",
       "      <td>2.5</td>\n",
       "      <td>3.0</td>\n",
       "      <td>1.1</td>\n",
       "      <td>Iris-versicolor</td>\n",
       "    </tr>\n",
       "    <tr>\n",
       "      <th>49</th>\n",
       "      <td>5.7</td>\n",
       "      <td>2.8</td>\n",
       "      <td>4.1</td>\n",
       "      <td>1.3</td>\n",
       "      <td>Iris-versicolor</td>\n",
       "    </tr>\n",
       "  </tbody>\n",
       "</table>\n",
       "</div>"
      ],
      "text/plain": [
       "    SepalLengthCm  SepalWidthCm  PetalLengthCm  PetalWidthCm          Species\n",
       "0             7.0           3.2            4.7           1.4  Iris-versicolor\n",
       "1             6.4           3.2            4.5           1.5  Iris-versicolor\n",
       "2             6.9           3.1            4.9           1.5  Iris-versicolor\n",
       "3             5.5           2.3            4.0           1.3  Iris-versicolor\n",
       "4             6.5           2.8            4.6           1.5  Iris-versicolor\n",
       "5             5.7           2.8            4.5           1.3  Iris-versicolor\n",
       "6             6.3           3.3            4.7           1.6  Iris-versicolor\n",
       "7             4.9           2.4            3.3           1.0  Iris-versicolor\n",
       "8             6.6           2.9            4.6           1.3  Iris-versicolor\n",
       "9             5.2           2.7            3.9           1.4  Iris-versicolor\n",
       "10            5.0           2.0            3.5           1.0  Iris-versicolor\n",
       "11            5.9           3.0            4.2           1.5  Iris-versicolor\n",
       "12            6.0           2.2            4.0           1.0  Iris-versicolor\n",
       "13            6.1           2.9            4.7           1.4  Iris-versicolor\n",
       "14            5.6           2.9            3.6           1.3  Iris-versicolor\n",
       "15            6.7           3.1            4.4           1.4  Iris-versicolor\n",
       "16            5.6           3.0            4.5           1.5  Iris-versicolor\n",
       "17            5.8           2.7            4.1           1.0  Iris-versicolor\n",
       "18            6.2           2.2            4.5           1.5  Iris-versicolor\n",
       "19            5.6           2.5            3.9           1.1  Iris-versicolor\n",
       "20            5.9           3.2            4.8           1.8  Iris-versicolor\n",
       "21            6.1           2.8            4.0           1.3  Iris-versicolor\n",
       "22            6.3           2.5            4.9           1.5  Iris-versicolor\n",
       "23            6.1           2.8            4.7           1.2  Iris-versicolor\n",
       "24            6.4           2.9            4.3           1.3  Iris-versicolor\n",
       "25            6.6           3.0            4.4           1.4  Iris-versicolor\n",
       "26            6.8           2.8            4.8           1.4  Iris-versicolor\n",
       "27            6.7           3.0            5.0           1.7  Iris-versicolor\n",
       "28            6.0           2.9            4.5           1.5  Iris-versicolor\n",
       "29            5.7           2.6            3.5           1.0  Iris-versicolor\n",
       "30            5.5           2.4            3.8           1.1  Iris-versicolor\n",
       "31            5.5           2.4            3.7           1.0  Iris-versicolor\n",
       "32            5.8           2.7            3.9           1.2  Iris-versicolor\n",
       "33            6.0           2.7            5.1           1.6  Iris-versicolor\n",
       "34            5.4           3.0            4.5           1.5  Iris-versicolor\n",
       "35            6.0           3.4            4.5           1.6  Iris-versicolor\n",
       "36            6.7           3.1            4.7           1.5  Iris-versicolor\n",
       "37            6.3           2.3            4.4           1.3  Iris-versicolor\n",
       "38            5.6           3.0            4.1           1.3  Iris-versicolor\n",
       "39            5.5           2.5            4.0           1.3  Iris-versicolor\n",
       "40            5.5           2.6            4.4           1.2  Iris-versicolor\n",
       "41            6.1           3.0            4.6           1.4  Iris-versicolor\n",
       "42            5.8           2.6            4.0           1.2  Iris-versicolor\n",
       "43            5.0           2.3            3.3           1.0  Iris-versicolor\n",
       "44            5.6           2.7            4.2           1.3  Iris-versicolor\n",
       "45            5.7           3.0            4.2           1.2  Iris-versicolor\n",
       "46            5.7           2.9            4.2           1.3  Iris-versicolor\n",
       "47            6.2           2.9            4.3           1.3  Iris-versicolor\n",
       "48            5.1           2.5            3.0           1.1  Iris-versicolor\n",
       "49            5.7           2.8            4.1           1.3  Iris-versicolor"
      ]
     },
     "execution_count": 80,
     "metadata": {},
     "output_type": "execute_result"
    }
   ],
   "source": [
    "iris_versicolor = pd.read_json('iris_versicolor.json')\n",
    "iris_versicolor"
   ]
  },
  {
   "cell_type": "markdown",
   "id": "9d0e3b3c-8d42-4690-8d7e-4cbdba1974fd",
   "metadata": {},
   "source": [
    "## ```concat()```"
   ]
  },
  {
   "cell_type": "code",
   "execution_count": 81,
   "id": "33afcb92-587e-472f-9637-235a3ede44ca",
   "metadata": {
    "scrolled": true
   },
   "outputs": [
    {
     "data": {
      "text/html": [
       "<div>\n",
       "<style scoped>\n",
       "    .dataframe tbody tr th:only-of-type {\n",
       "        vertical-align: middle;\n",
       "    }\n",
       "\n",
       "    .dataframe tbody tr th {\n",
       "        vertical-align: top;\n",
       "    }\n",
       "\n",
       "    .dataframe thead th {\n",
       "        text-align: right;\n",
       "    }\n",
       "</style>\n",
       "<table border=\"1\" class=\"dataframe\">\n",
       "  <thead>\n",
       "    <tr style=\"text-align: right;\">\n",
       "      <th></th>\n",
       "      <th>SepalLengthCm</th>\n",
       "      <th>SepalWidthCm</th>\n",
       "      <th>PetalLengthCm</th>\n",
       "      <th>PetalWidthCm</th>\n",
       "      <th>Species</th>\n",
       "    </tr>\n",
       "  </thead>\n",
       "  <tbody>\n",
       "    <tr>\n",
       "      <th>0</th>\n",
       "      <td>5.1</td>\n",
       "      <td>3.5</td>\n",
       "      <td>1.4</td>\n",
       "      <td>0.2</td>\n",
       "      <td>Iris-setosa</td>\n",
       "    </tr>\n",
       "    <tr>\n",
       "      <th>1</th>\n",
       "      <td>4.9</td>\n",
       "      <td>3.0</td>\n",
       "      <td>1.4</td>\n",
       "      <td>0.2</td>\n",
       "      <td>Iris-setosa</td>\n",
       "    </tr>\n",
       "    <tr>\n",
       "      <th>2</th>\n",
       "      <td>4.7</td>\n",
       "      <td>3.2</td>\n",
       "      <td>1.3</td>\n",
       "      <td>0.2</td>\n",
       "      <td>Iris-setosa</td>\n",
       "    </tr>\n",
       "    <tr>\n",
       "      <th>3</th>\n",
       "      <td>4.6</td>\n",
       "      <td>3.1</td>\n",
       "      <td>1.5</td>\n",
       "      <td>0.2</td>\n",
       "      <td>Iris-setosa</td>\n",
       "    </tr>\n",
       "    <tr>\n",
       "      <th>4</th>\n",
       "      <td>5.0</td>\n",
       "      <td>3.6</td>\n",
       "      <td>1.4</td>\n",
       "      <td>0.2</td>\n",
       "      <td>Iris-setosa</td>\n",
       "    </tr>\n",
       "    <tr>\n",
       "      <th>...</th>\n",
       "      <td>...</td>\n",
       "      <td>...</td>\n",
       "      <td>...</td>\n",
       "      <td>...</td>\n",
       "      <td>...</td>\n",
       "    </tr>\n",
       "    <tr>\n",
       "      <th>45</th>\n",
       "      <td>5.7</td>\n",
       "      <td>3.0</td>\n",
       "      <td>4.2</td>\n",
       "      <td>1.2</td>\n",
       "      <td>Iris-versicolor</td>\n",
       "    </tr>\n",
       "    <tr>\n",
       "      <th>46</th>\n",
       "      <td>5.7</td>\n",
       "      <td>2.9</td>\n",
       "      <td>4.2</td>\n",
       "      <td>1.3</td>\n",
       "      <td>Iris-versicolor</td>\n",
       "    </tr>\n",
       "    <tr>\n",
       "      <th>47</th>\n",
       "      <td>6.2</td>\n",
       "      <td>2.9</td>\n",
       "      <td>4.3</td>\n",
       "      <td>1.3</td>\n",
       "      <td>Iris-versicolor</td>\n",
       "    </tr>\n",
       "    <tr>\n",
       "      <th>48</th>\n",
       "      <td>5.1</td>\n",
       "      <td>2.5</td>\n",
       "      <td>3.0</td>\n",
       "      <td>1.1</td>\n",
       "      <td>Iris-versicolor</td>\n",
       "    </tr>\n",
       "    <tr>\n",
       "      <th>49</th>\n",
       "      <td>5.7</td>\n",
       "      <td>2.8</td>\n",
       "      <td>4.1</td>\n",
       "      <td>1.3</td>\n",
       "      <td>Iris-versicolor</td>\n",
       "    </tr>\n",
       "  </tbody>\n",
       "</table>\n",
       "<p>150 rows × 5 columns</p>\n",
       "</div>"
      ],
      "text/plain": [
       "    SepalLengthCm  SepalWidthCm  PetalLengthCm  PetalWidthCm          Species\n",
       "0             5.1           3.5            1.4           0.2      Iris-setosa\n",
       "1             4.9           3.0            1.4           0.2      Iris-setosa\n",
       "2             4.7           3.2            1.3           0.2      Iris-setosa\n",
       "3             4.6           3.1            1.5           0.2      Iris-setosa\n",
       "4             5.0           3.6            1.4           0.2      Iris-setosa\n",
       "..            ...           ...            ...           ...              ...\n",
       "45            5.7           3.0            4.2           1.2  Iris-versicolor\n",
       "46            5.7           2.9            4.2           1.3  Iris-versicolor\n",
       "47            6.2           2.9            4.3           1.3  Iris-versicolor\n",
       "48            5.1           2.5            3.0           1.1  Iris-versicolor\n",
       "49            5.7           2.8            4.1           1.3  Iris-versicolor\n",
       "\n",
       "[150 rows x 5 columns]"
      ]
     },
     "execution_count": 81,
     "metadata": {},
     "output_type": "execute_result"
    }
   ],
   "source": [
    "# Unión de varios dataframe por nombre de columna, los apendiza al final:\n",
    "\n",
    "dfs = [iris_setosa, iris_virginica, iris_versicolor]\n",
    "iris_concat = pd.concat(dfs)\n",
    "iris_concat"
   ]
  },
  {
   "cell_type": "code",
   "execution_count": 82,
   "id": "ac9b9449-becb-4dca-9e5f-1c267c5bf2c0",
   "metadata": {},
   "outputs": [
    {
     "data": {
      "image/png": "[encoded data removed]",
      "text/plain": [
       "<IPython.core.display.Image object>"
      ]
     },
     "execution_count": 82,
     "metadata": {},
     "output_type": "execute_result"
    }
   ],
   "source": [
    "display.Image('./images/merging_concat_basic.png')"
   ]
  },
  {
   "cell_type": "code",
   "execution_count": 85,
   "id": "142e5927-c1d6-4ac7-8063-c2c38439d7ca",
   "metadata": {},
   "outputs": [
    {
     "data": {
      "text/html": [
       "<div>\n",
       "<style scoped>\n",
       "    .dataframe tbody tr th:only-of-type {\n",
       "        vertical-align: middle;\n",
       "    }\n",
       "\n",
       "    .dataframe tbody tr th {\n",
       "        vertical-align: top;\n",
       "    }\n",
       "\n",
       "    .dataframe thead th {\n",
       "        text-align: right;\n",
       "    }\n",
       "</style>\n",
       "<table border=\"1\" class=\"dataframe\">\n",
       "  <thead>\n",
       "    <tr style=\"text-align: right;\">\n",
       "      <th></th>\n",
       "      <th>Id</th>\n",
       "      <th>SepalLengthCm</th>\n",
       "      <th>SepalWidthCm</th>\n",
       "      <th>PetalLengthCm</th>\n",
       "      <th>PetalWidthCm</th>\n",
       "    </tr>\n",
       "  </thead>\n",
       "  <tbody>\n",
       "    <tr>\n",
       "      <th>0</th>\n",
       "      <td>1</td>\n",
       "      <td>5.1</td>\n",
       "      <td>3.5</td>\n",
       "      <td>1.4</td>\n",
       "      <td>0.2</td>\n",
       "    </tr>\n",
       "    <tr>\n",
       "      <th>1</th>\n",
       "      <td>2</td>\n",
       "      <td>4.9</td>\n",
       "      <td>3.0</td>\n",
       "      <td>1.4</td>\n",
       "      <td>0.2</td>\n",
       "    </tr>\n",
       "    <tr>\n",
       "      <th>2</th>\n",
       "      <td>3</td>\n",
       "      <td>4.7</td>\n",
       "      <td>3.2</td>\n",
       "      <td>1.3</td>\n",
       "      <td>0.2</td>\n",
       "    </tr>\n",
       "    <tr>\n",
       "      <th>3</th>\n",
       "      <td>4</td>\n",
       "      <td>4.6</td>\n",
       "      <td>3.1</td>\n",
       "      <td>1.5</td>\n",
       "      <td>0.2</td>\n",
       "    </tr>\n",
       "    <tr>\n",
       "      <th>4</th>\n",
       "      <td>5</td>\n",
       "      <td>5.0</td>\n",
       "      <td>3.6</td>\n",
       "      <td>1.4</td>\n",
       "      <td>0.2</td>\n",
       "    </tr>\n",
       "    <tr>\n",
       "      <th>...</th>\n",
       "      <td>...</td>\n",
       "      <td>...</td>\n",
       "      <td>...</td>\n",
       "      <td>...</td>\n",
       "      <td>...</td>\n",
       "    </tr>\n",
       "    <tr>\n",
       "      <th>145</th>\n",
       "      <td>146</td>\n",
       "      <td>6.7</td>\n",
       "      <td>3.0</td>\n",
       "      <td>5.2</td>\n",
       "      <td>2.3</td>\n",
       "    </tr>\n",
       "    <tr>\n",
       "      <th>146</th>\n",
       "      <td>147</td>\n",
       "      <td>6.3</td>\n",
       "      <td>2.5</td>\n",
       "      <td>5.0</td>\n",
       "      <td>1.9</td>\n",
       "    </tr>\n",
       "    <tr>\n",
       "      <th>147</th>\n",
       "      <td>148</td>\n",
       "      <td>6.5</td>\n",
       "      <td>3.0</td>\n",
       "      <td>5.2</td>\n",
       "      <td>2.0</td>\n",
       "    </tr>\n",
       "    <tr>\n",
       "      <th>148</th>\n",
       "      <td>149</td>\n",
       "      <td>6.2</td>\n",
       "      <td>3.4</td>\n",
       "      <td>5.4</td>\n",
       "      <td>2.3</td>\n",
       "    </tr>\n",
       "    <tr>\n",
       "      <th>149</th>\n",
       "      <td>150</td>\n",
       "      <td>5.9</td>\n",
       "      <td>3.0</td>\n",
       "      <td>5.1</td>\n",
       "      <td>1.8</td>\n",
       "    </tr>\n",
       "  </tbody>\n",
       "</table>\n",
       "<p>150 rows × 5 columns</p>\n",
       "</div>"
      ],
      "text/plain": [
       "      Id  SepalLengthCm  SepalWidthCm  PetalLengthCm  PetalWidthCm\n",
       "0      1            5.1           3.5            1.4           0.2\n",
       "1      2            4.9           3.0            1.4           0.2\n",
       "2      3            4.7           3.2            1.3           0.2\n",
       "3      4            4.6           3.1            1.5           0.2\n",
       "4      5            5.0           3.6            1.4           0.2\n",
       "..   ...            ...           ...            ...           ...\n",
       "145  146            6.7           3.0            5.2           2.3\n",
       "146  147            6.3           2.5            5.0           1.9\n",
       "147  148            6.5           3.0            5.2           2.0\n",
       "148  149            6.2           3.4            5.4           2.3\n",
       "149  150            5.9           3.0            5.1           1.8\n",
       "\n",
       "[150 rows x 5 columns]"
      ]
     },
     "execution_count": 85,
     "metadata": {},
     "output_type": "execute_result"
    }
   ],
   "source": [
    "iris = pd.read_csv('Iris.csv')\n",
    "iris_medidas = iris.iloc[:, 0:5]\n",
    "iris_medidas"
   ]
  },
  {
   "cell_type": "code",
   "execution_count": 86,
   "id": "86460faf-ac30-483b-a7e0-16e0cc5392d4",
   "metadata": {
    "scrolled": true
   },
   "outputs": [
    {
     "data": {
      "text/html": [
       "<div>\n",
       "<style scoped>\n",
       "    .dataframe tbody tr th:only-of-type {\n",
       "        vertical-align: middle;\n",
       "    }\n",
       "\n",
       "    .dataframe tbody tr th {\n",
       "        vertical-align: top;\n",
       "    }\n",
       "\n",
       "    .dataframe thead th {\n",
       "        text-align: right;\n",
       "    }\n",
       "</style>\n",
       "<table border=\"1\" class=\"dataframe\">\n",
       "  <thead>\n",
       "    <tr style=\"text-align: right;\">\n",
       "      <th></th>\n",
       "      <th>Species</th>\n",
       "    </tr>\n",
       "  </thead>\n",
       "  <tbody>\n",
       "    <tr>\n",
       "      <th>0</th>\n",
       "      <td>Iris-setosa</td>\n",
       "    </tr>\n",
       "    <tr>\n",
       "      <th>1</th>\n",
       "      <td>Iris-setosa</td>\n",
       "    </tr>\n",
       "    <tr>\n",
       "      <th>2</th>\n",
       "      <td>Iris-setosa</td>\n",
       "    </tr>\n",
       "    <tr>\n",
       "      <th>3</th>\n",
       "      <td>Iris-setosa</td>\n",
       "    </tr>\n",
       "    <tr>\n",
       "      <th>4</th>\n",
       "      <td>Iris-setosa</td>\n",
       "    </tr>\n",
       "    <tr>\n",
       "      <th>...</th>\n",
       "      <td>...</td>\n",
       "    </tr>\n",
       "    <tr>\n",
       "      <th>145</th>\n",
       "      <td>Iris-virginica</td>\n",
       "    </tr>\n",
       "    <tr>\n",
       "      <th>146</th>\n",
       "      <td>Iris-virginica</td>\n",
       "    </tr>\n",
       "    <tr>\n",
       "      <th>147</th>\n",
       "      <td>Iris-virginica</td>\n",
       "    </tr>\n",
       "    <tr>\n",
       "      <th>148</th>\n",
       "      <td>Iris-virginica</td>\n",
       "    </tr>\n",
       "    <tr>\n",
       "      <th>149</th>\n",
       "      <td>Iris-virginica</td>\n",
       "    </tr>\n",
       "  </tbody>\n",
       "</table>\n",
       "<p>150 rows × 1 columns</p>\n",
       "</div>"
      ],
      "text/plain": [
       "            Species\n",
       "0       Iris-setosa\n",
       "1       Iris-setosa\n",
       "2       Iris-setosa\n",
       "3       Iris-setosa\n",
       "4       Iris-setosa\n",
       "..              ...\n",
       "145  Iris-virginica\n",
       "146  Iris-virginica\n",
       "147  Iris-virginica\n",
       "148  Iris-virginica\n",
       "149  Iris-virginica\n",
       "\n",
       "[150 rows x 1 columns]"
      ]
     },
     "execution_count": 86,
     "metadata": {},
     "output_type": "execute_result"
    }
   ],
   "source": [
    "iris_especies = iris[['Species']]\n",
    "iris_especies"
   ]
  },
  {
   "cell_type": "code",
   "execution_count": 87,
   "id": "4305b280-d1ce-4e3d-8d74-0ecc18a7a234",
   "metadata": {},
   "outputs": [
    {
     "data": {
      "text/html": [
       "<div>\n",
       "<style scoped>\n",
       "    .dataframe tbody tr th:only-of-type {\n",
       "        vertical-align: middle;\n",
       "    }\n",
       "\n",
       "    .dataframe tbody tr th {\n",
       "        vertical-align: top;\n",
       "    }\n",
       "\n",
       "    .dataframe thead th {\n",
       "        text-align: right;\n",
       "    }\n",
       "</style>\n",
       "<table border=\"1\" class=\"dataframe\">\n",
       "  <thead>\n",
       "    <tr style=\"text-align: right;\">\n",
       "      <th></th>\n",
       "      <th>Id</th>\n",
       "      <th>SepalLengthCm</th>\n",
       "      <th>SepalWidthCm</th>\n",
       "      <th>PetalLengthCm</th>\n",
       "      <th>PetalWidthCm</th>\n",
       "      <th>Species</th>\n",
       "    </tr>\n",
       "  </thead>\n",
       "  <tbody>\n",
       "    <tr>\n",
       "      <th>0</th>\n",
       "      <td>1</td>\n",
       "      <td>5.1</td>\n",
       "      <td>3.5</td>\n",
       "      <td>1.4</td>\n",
       "      <td>0.2</td>\n",
       "      <td>Iris-setosa</td>\n",
       "    </tr>\n",
       "    <tr>\n",
       "      <th>1</th>\n",
       "      <td>2</td>\n",
       "      <td>4.9</td>\n",
       "      <td>3.0</td>\n",
       "      <td>1.4</td>\n",
       "      <td>0.2</td>\n",
       "      <td>Iris-setosa</td>\n",
       "    </tr>\n",
       "    <tr>\n",
       "      <th>2</th>\n",
       "      <td>3</td>\n",
       "      <td>4.7</td>\n",
       "      <td>3.2</td>\n",
       "      <td>1.3</td>\n",
       "      <td>0.2</td>\n",
       "      <td>Iris-setosa</td>\n",
       "    </tr>\n",
       "    <tr>\n",
       "      <th>3</th>\n",
       "      <td>4</td>\n",
       "      <td>4.6</td>\n",
       "      <td>3.1</td>\n",
       "      <td>1.5</td>\n",
       "      <td>0.2</td>\n",
       "      <td>Iris-setosa</td>\n",
       "    </tr>\n",
       "    <tr>\n",
       "      <th>4</th>\n",
       "      <td>5</td>\n",
       "      <td>5.0</td>\n",
       "      <td>3.6</td>\n",
       "      <td>1.4</td>\n",
       "      <td>0.2</td>\n",
       "      <td>Iris-setosa</td>\n",
       "    </tr>\n",
       "    <tr>\n",
       "      <th>...</th>\n",
       "      <td>...</td>\n",
       "      <td>...</td>\n",
       "      <td>...</td>\n",
       "      <td>...</td>\n",
       "      <td>...</td>\n",
       "      <td>...</td>\n",
       "    </tr>\n",
       "    <tr>\n",
       "      <th>145</th>\n",
       "      <td>146</td>\n",
       "      <td>6.7</td>\n",
       "      <td>3.0</td>\n",
       "      <td>5.2</td>\n",
       "      <td>2.3</td>\n",
       "      <td>Iris-virginica</td>\n",
       "    </tr>\n",
       "    <tr>\n",
       "      <th>146</th>\n",
       "      <td>147</td>\n",
       "      <td>6.3</td>\n",
       "      <td>2.5</td>\n",
       "      <td>5.0</td>\n",
       "      <td>1.9</td>\n",
       "      <td>Iris-virginica</td>\n",
       "    </tr>\n",
       "    <tr>\n",
       "      <th>147</th>\n",
       "      <td>148</td>\n",
       "      <td>6.5</td>\n",
       "      <td>3.0</td>\n",
       "      <td>5.2</td>\n",
       "      <td>2.0</td>\n",
       "      <td>Iris-virginica</td>\n",
       "    </tr>\n",
       "    <tr>\n",
       "      <th>148</th>\n",
       "      <td>149</td>\n",
       "      <td>6.2</td>\n",
       "      <td>3.4</td>\n",
       "      <td>5.4</td>\n",
       "      <td>2.3</td>\n",
       "      <td>Iris-virginica</td>\n",
       "    </tr>\n",
       "    <tr>\n",
       "      <th>149</th>\n",
       "      <td>150</td>\n",
       "      <td>5.9</td>\n",
       "      <td>3.0</td>\n",
       "      <td>5.1</td>\n",
       "      <td>1.8</td>\n",
       "      <td>Iris-virginica</td>\n",
       "    </tr>\n",
       "  </tbody>\n",
       "</table>\n",
       "<p>150 rows × 6 columns</p>\n",
       "</div>"
      ],
      "text/plain": [
       "      Id  SepalLengthCm  SepalWidthCm  PetalLengthCm  PetalWidthCm  \\\n",
       "0      1            5.1           3.5            1.4           0.2   \n",
       "1      2            4.9           3.0            1.4           0.2   \n",
       "2      3            4.7           3.2            1.3           0.2   \n",
       "3      4            4.6           3.1            1.5           0.2   \n",
       "4      5            5.0           3.6            1.4           0.2   \n",
       "..   ...            ...           ...            ...           ...   \n",
       "145  146            6.7           3.0            5.2           2.3   \n",
       "146  147            6.3           2.5            5.0           1.9   \n",
       "147  148            6.5           3.0            5.2           2.0   \n",
       "148  149            6.2           3.4            5.4           2.3   \n",
       "149  150            5.9           3.0            5.1           1.8   \n",
       "\n",
       "            Species  \n",
       "0       Iris-setosa  \n",
       "1       Iris-setosa  \n",
       "2       Iris-setosa  \n",
       "3       Iris-setosa  \n",
       "4       Iris-setosa  \n",
       "..              ...  \n",
       "145  Iris-virginica  \n",
       "146  Iris-virginica  \n",
       "147  Iris-virginica  \n",
       "148  Iris-virginica  \n",
       "149  Iris-virginica  \n",
       "\n",
       "[150 rows x 6 columns]"
      ]
     },
     "execution_count": 87,
     "metadata": {},
     "output_type": "execute_result"
    }
   ],
   "source": [
    "# Apendizar una columna nueva usando concat:\n",
    "# axis=1 elegimos el eje \n",
    "# join='inner' elegimos el tipo de unión:\n",
    "\n",
    "new_setosa = pd.concat([iris_medidas, iris_especies], axis=1, join='inner')\n",
    "new_setosa"
   ]
  },
  {
   "cell_type": "code",
   "execution_count": 88,
   "id": "325b389f-a40e-4546-b990-798357b131b4",
   "metadata": {},
   "outputs": [
    {
     "data": {
      "image/png": "[encoded data removed]",
      "text/plain": [
       "<IPython.core.display.Image object>"
      ]
     },
     "execution_count": 88,
     "metadata": {},
     "output_type": "execute_result"
    }
   ],
   "source": [
    "display.Image('./images/merging_concat_mixed.png')"
   ]
  },
  {
   "cell_type": "markdown",
   "id": "f3a636a3-f8af-4bab-905e-8cd40ee2f839",
   "metadata": {},
   "source": [
    "## ```merge()```"
   ]
  },
  {
   "cell_type": "markdown",
   "id": "74b712c2-3ffe-4f23-819c-1e942702d736",
   "metadata": {},
   "source": [
    "**many-to-many:**  El método merge une dos dataframe por el Id de cada una de las filas"
   ]
  },
  {
   "cell_type": "code",
   "execution_count": 89,
   "id": "7bef67ce-701e-4fb7-9599-c80897f1942f",
   "metadata": {},
   "outputs": [
    {
     "data": {
      "text/html": [
       "<div>\n",
       "<style scoped>\n",
       "    .dataframe tbody tr th:only-of-type {\n",
       "        vertical-align: middle;\n",
       "    }\n",
       "\n",
       "    .dataframe tbody tr th {\n",
       "        vertical-align: top;\n",
       "    }\n",
       "\n",
       "    .dataframe thead th {\n",
       "        text-align: right;\n",
       "    }\n",
       "</style>\n",
       "<table border=\"1\" class=\"dataframe\">\n",
       "  <thead>\n",
       "    <tr style=\"text-align: right;\">\n",
       "      <th></th>\n",
       "      <th>Id</th>\n",
       "      <th>Species</th>\n",
       "    </tr>\n",
       "  </thead>\n",
       "  <tbody>\n",
       "    <tr>\n",
       "      <th>0</th>\n",
       "      <td>1</td>\n",
       "      <td>Iris-setosa</td>\n",
       "    </tr>\n",
       "    <tr>\n",
       "      <th>1</th>\n",
       "      <td>2</td>\n",
       "      <td>Iris-setosa</td>\n",
       "    </tr>\n",
       "    <tr>\n",
       "      <th>2</th>\n",
       "      <td>3</td>\n",
       "      <td>Iris-setosa</td>\n",
       "    </tr>\n",
       "    <tr>\n",
       "      <th>3</th>\n",
       "      <td>4</td>\n",
       "      <td>Iris-setosa</td>\n",
       "    </tr>\n",
       "    <tr>\n",
       "      <th>4</th>\n",
       "      <td>5</td>\n",
       "      <td>Iris-setosa</td>\n",
       "    </tr>\n",
       "    <tr>\n",
       "      <th>...</th>\n",
       "      <td>...</td>\n",
       "      <td>...</td>\n",
       "    </tr>\n",
       "    <tr>\n",
       "      <th>145</th>\n",
       "      <td>146</td>\n",
       "      <td>Iris-virginica</td>\n",
       "    </tr>\n",
       "    <tr>\n",
       "      <th>146</th>\n",
       "      <td>147</td>\n",
       "      <td>Iris-virginica</td>\n",
       "    </tr>\n",
       "    <tr>\n",
       "      <th>147</th>\n",
       "      <td>148</td>\n",
       "      <td>Iris-virginica</td>\n",
       "    </tr>\n",
       "    <tr>\n",
       "      <th>148</th>\n",
       "      <td>149</td>\n",
       "      <td>Iris-virginica</td>\n",
       "    </tr>\n",
       "    <tr>\n",
       "      <th>149</th>\n",
       "      <td>150</td>\n",
       "      <td>Iris-virginica</td>\n",
       "    </tr>\n",
       "  </tbody>\n",
       "</table>\n",
       "<p>150 rows × 2 columns</p>\n",
       "</div>"
      ],
      "text/plain": [
       "      Id         Species\n",
       "0      1     Iris-setosa\n",
       "1      2     Iris-setosa\n",
       "2      3     Iris-setosa\n",
       "3      4     Iris-setosa\n",
       "4      5     Iris-setosa\n",
       "..   ...             ...\n",
       "145  146  Iris-virginica\n",
       "146  147  Iris-virginica\n",
       "147  148  Iris-virginica\n",
       "148  149  Iris-virginica\n",
       "149  150  Iris-virginica\n",
       "\n",
       "[150 rows x 2 columns]"
      ]
     },
     "execution_count": 89,
     "metadata": {},
     "output_type": "execute_result"
    }
   ],
   "source": [
    "new_species = iris.loc[:, ['Id', 'Species']]\n",
    "new_species"
   ]
  },
  {
   "cell_type": "code",
   "execution_count": 90,
   "id": "473b8dd4-6c48-4034-bc7a-ba944e8c5424",
   "metadata": {},
   "outputs": [
    {
     "data": {
      "text/html": [
       "<div>\n",
       "<style scoped>\n",
       "    .dataframe tbody tr th:only-of-type {\n",
       "        vertical-align: middle;\n",
       "    }\n",
       "\n",
       "    .dataframe tbody tr th {\n",
       "        vertical-align: top;\n",
       "    }\n",
       "\n",
       "    .dataframe thead th {\n",
       "        text-align: right;\n",
       "    }\n",
       "</style>\n",
       "<table border=\"1\" class=\"dataframe\">\n",
       "  <thead>\n",
       "    <tr style=\"text-align: right;\">\n",
       "      <th></th>\n",
       "      <th>Id</th>\n",
       "      <th>SepalLengthCm</th>\n",
       "      <th>SepalWidthCm</th>\n",
       "      <th>PetalLengthCm</th>\n",
       "      <th>PetalWidthCm</th>\n",
       "      <th>Species</th>\n",
       "    </tr>\n",
       "  </thead>\n",
       "  <tbody>\n",
       "    <tr>\n",
       "      <th>0</th>\n",
       "      <td>1</td>\n",
       "      <td>5.1</td>\n",
       "      <td>3.5</td>\n",
       "      <td>1.4</td>\n",
       "      <td>0.2</td>\n",
       "      <td>Iris-setosa</td>\n",
       "    </tr>\n",
       "    <tr>\n",
       "      <th>1</th>\n",
       "      <td>2</td>\n",
       "      <td>4.9</td>\n",
       "      <td>3.0</td>\n",
       "      <td>1.4</td>\n",
       "      <td>0.2</td>\n",
       "      <td>Iris-setosa</td>\n",
       "    </tr>\n",
       "    <tr>\n",
       "      <th>2</th>\n",
       "      <td>3</td>\n",
       "      <td>4.7</td>\n",
       "      <td>3.2</td>\n",
       "      <td>1.3</td>\n",
       "      <td>0.2</td>\n",
       "      <td>Iris-setosa</td>\n",
       "    </tr>\n",
       "    <tr>\n",
       "      <th>3</th>\n",
       "      <td>4</td>\n",
       "      <td>4.6</td>\n",
       "      <td>3.1</td>\n",
       "      <td>1.5</td>\n",
       "      <td>0.2</td>\n",
       "      <td>Iris-setosa</td>\n",
       "    </tr>\n",
       "    <tr>\n",
       "      <th>4</th>\n",
       "      <td>5</td>\n",
       "      <td>5.0</td>\n",
       "      <td>3.6</td>\n",
       "      <td>1.4</td>\n",
       "      <td>0.2</td>\n",
       "      <td>Iris-setosa</td>\n",
       "    </tr>\n",
       "    <tr>\n",
       "      <th>...</th>\n",
       "      <td>...</td>\n",
       "      <td>...</td>\n",
       "      <td>...</td>\n",
       "      <td>...</td>\n",
       "      <td>...</td>\n",
       "      <td>...</td>\n",
       "    </tr>\n",
       "    <tr>\n",
       "      <th>145</th>\n",
       "      <td>146</td>\n",
       "      <td>6.7</td>\n",
       "      <td>3.0</td>\n",
       "      <td>5.2</td>\n",
       "      <td>2.3</td>\n",
       "      <td>Iris-virginica</td>\n",
       "    </tr>\n",
       "    <tr>\n",
       "      <th>146</th>\n",
       "      <td>147</td>\n",
       "      <td>6.3</td>\n",
       "      <td>2.5</td>\n",
       "      <td>5.0</td>\n",
       "      <td>1.9</td>\n",
       "      <td>Iris-virginica</td>\n",
       "    </tr>\n",
       "    <tr>\n",
       "      <th>147</th>\n",
       "      <td>148</td>\n",
       "      <td>6.5</td>\n",
       "      <td>3.0</td>\n",
       "      <td>5.2</td>\n",
       "      <td>2.0</td>\n",
       "      <td>Iris-virginica</td>\n",
       "    </tr>\n",
       "    <tr>\n",
       "      <th>148</th>\n",
       "      <td>149</td>\n",
       "      <td>6.2</td>\n",
       "      <td>3.4</td>\n",
       "      <td>5.4</td>\n",
       "      <td>2.3</td>\n",
       "      <td>Iris-virginica</td>\n",
       "    </tr>\n",
       "    <tr>\n",
       "      <th>149</th>\n",
       "      <td>150</td>\n",
       "      <td>5.9</td>\n",
       "      <td>3.0</td>\n",
       "      <td>5.1</td>\n",
       "      <td>1.8</td>\n",
       "      <td>Iris-virginica</td>\n",
       "    </tr>\n",
       "  </tbody>\n",
       "</table>\n",
       "<p>150 rows × 6 columns</p>\n",
       "</div>"
      ],
      "text/plain": [
       "      Id  SepalLengthCm  SepalWidthCm  PetalLengthCm  PetalWidthCm  \\\n",
       "0      1            5.1           3.5            1.4           0.2   \n",
       "1      2            4.9           3.0            1.4           0.2   \n",
       "2      3            4.7           3.2            1.3           0.2   \n",
       "3      4            4.6           3.1            1.5           0.2   \n",
       "4      5            5.0           3.6            1.4           0.2   \n",
       "..   ...            ...           ...            ...           ...   \n",
       "145  146            6.7           3.0            5.2           2.3   \n",
       "146  147            6.3           2.5            5.0           1.9   \n",
       "147  148            6.5           3.0            5.2           2.0   \n",
       "148  149            6.2           3.4            5.4           2.3   \n",
       "149  150            5.9           3.0            5.1           1.8   \n",
       "\n",
       "            Species  \n",
       "0       Iris-setosa  \n",
       "1       Iris-setosa  \n",
       "2       Iris-setosa  \n",
       "3       Iris-setosa  \n",
       "4       Iris-setosa  \n",
       "..              ...  \n",
       "145  Iris-virginica  \n",
       "146  Iris-virginica  \n",
       "147  Iris-virginica  \n",
       "148  Iris-virginica  \n",
       "149  Iris-virginica  \n",
       "\n",
       "[150 rows x 6 columns]"
      ]
     },
     "execution_count": 90,
     "metadata": {},
     "output_type": "execute_result"
    }
   ],
   "source": [
    "new_setosa = pd.merge(iris_medidas, new_species, on='Id')\n",
    "new_setosa"
   ]
  },
  {
   "cell_type": "code",
   "execution_count": 91,
   "id": "40742aeb-5ecd-44c2-bb7b-e4efbef694af",
   "metadata": {},
   "outputs": [
    {
     "data": {
      "image/png": "[encoded data removed]",
      "text/plain": [
       "<IPython.core.display.Image object>"
      ]
     },
     "execution_count": 91,
     "metadata": {},
     "output_type": "execute_result"
    }
   ],
   "source": [
    "display.Image('./images/merging_merge_on_key.png')"
   ]
  },
  {
   "cell_type": "markdown",
   "id": "abf714e4-6293-49d1-9d55-528d0ef1bbe7",
   "metadata": {},
   "source": [
    "Se puede añadir un parámetro que se llama ```how```, donde se especifica el tipo de unión de los dataframes, para ello, nos basamos en la siguiente tabla para relacionarlos con los comandos SQL:\n",
    "\n",
    "| Merge method |  SQL Join Name  |                  Description                       | \n",
    "|--------------|-----------------|----------------------------------------------------|\n",
    "|     left     | LEFT OUTER JOIN | Use keys from left frame only                      | \n",
    "|    right     | RIGHT OUTER JOIN| Use keys from right frame only                     |\n",
    "|    outer     | FULL OUTER JOIN | Use union of keys from both frames                 |\n",
    "|    inner     |   INNER JOIN    | Use intersection of keys from both frames          | \n",
    "|    cross     |   CROSS JOIN    | Create the cartesian product of rows of both frames|"
   ]
  },
  {
   "cell_type": "code",
   "execution_count": 92,
   "id": "aaddc99f-af02-4d75-9512-2555642cda59",
   "metadata": {},
   "outputs": [
    {
     "data": {
      "text/html": [
       "<div>\n",
       "<style scoped>\n",
       "    .dataframe tbody tr th:only-of-type {\n",
       "        vertical-align: middle;\n",
       "    }\n",
       "\n",
       "    .dataframe tbody tr th {\n",
       "        vertical-align: top;\n",
       "    }\n",
       "\n",
       "    .dataframe thead th {\n",
       "        text-align: right;\n",
       "    }\n",
       "</style>\n",
       "<table border=\"1\" class=\"dataframe\">\n",
       "  <thead>\n",
       "    <tr style=\"text-align: right;\">\n",
       "      <th></th>\n",
       "      <th>Id</th>\n",
       "      <th>SepalLengthCm</th>\n",
       "      <th>SepalWidthCm</th>\n",
       "      <th>PetalLengthCm</th>\n",
       "      <th>PetalWidthCm</th>\n",
       "      <th>Species</th>\n",
       "    </tr>\n",
       "  </thead>\n",
       "  <tbody>\n",
       "    <tr>\n",
       "      <th>0</th>\n",
       "      <td>1</td>\n",
       "      <td>5.1</td>\n",
       "      <td>3.5</td>\n",
       "      <td>1.4</td>\n",
       "      <td>0.2</td>\n",
       "      <td>Iris-setosa</td>\n",
       "    </tr>\n",
       "    <tr>\n",
       "      <th>1</th>\n",
       "      <td>2</td>\n",
       "      <td>4.9</td>\n",
       "      <td>3.0</td>\n",
       "      <td>1.4</td>\n",
       "      <td>0.2</td>\n",
       "      <td>Iris-setosa</td>\n",
       "    </tr>\n",
       "    <tr>\n",
       "      <th>2</th>\n",
       "      <td>3</td>\n",
       "      <td>4.7</td>\n",
       "      <td>3.2</td>\n",
       "      <td>1.3</td>\n",
       "      <td>0.2</td>\n",
       "      <td>Iris-setosa</td>\n",
       "    </tr>\n",
       "    <tr>\n",
       "      <th>3</th>\n",
       "      <td>4</td>\n",
       "      <td>4.6</td>\n",
       "      <td>3.1</td>\n",
       "      <td>1.5</td>\n",
       "      <td>0.2</td>\n",
       "      <td>Iris-setosa</td>\n",
       "    </tr>\n",
       "    <tr>\n",
       "      <th>4</th>\n",
       "      <td>5</td>\n",
       "      <td>5.0</td>\n",
       "      <td>3.6</td>\n",
       "      <td>1.4</td>\n",
       "      <td>0.2</td>\n",
       "      <td>Iris-setosa</td>\n",
       "    </tr>\n",
       "    <tr>\n",
       "      <th>...</th>\n",
       "      <td>...</td>\n",
       "      <td>...</td>\n",
       "      <td>...</td>\n",
       "      <td>...</td>\n",
       "      <td>...</td>\n",
       "      <td>...</td>\n",
       "    </tr>\n",
       "    <tr>\n",
       "      <th>145</th>\n",
       "      <td>146</td>\n",
       "      <td>6.7</td>\n",
       "      <td>3.0</td>\n",
       "      <td>5.2</td>\n",
       "      <td>2.3</td>\n",
       "      <td>Iris-virginica</td>\n",
       "    </tr>\n",
       "    <tr>\n",
       "      <th>146</th>\n",
       "      <td>147</td>\n",
       "      <td>6.3</td>\n",
       "      <td>2.5</td>\n",
       "      <td>5.0</td>\n",
       "      <td>1.9</td>\n",
       "      <td>Iris-virginica</td>\n",
       "    </tr>\n",
       "    <tr>\n",
       "      <th>147</th>\n",
       "      <td>148</td>\n",
       "      <td>6.5</td>\n",
       "      <td>3.0</td>\n",
       "      <td>5.2</td>\n",
       "      <td>2.0</td>\n",
       "      <td>Iris-virginica</td>\n",
       "    </tr>\n",
       "    <tr>\n",
       "      <th>148</th>\n",
       "      <td>149</td>\n",
       "      <td>6.2</td>\n",
       "      <td>3.4</td>\n",
       "      <td>5.4</td>\n",
       "      <td>2.3</td>\n",
       "      <td>Iris-virginica</td>\n",
       "    </tr>\n",
       "    <tr>\n",
       "      <th>149</th>\n",
       "      <td>150</td>\n",
       "      <td>5.9</td>\n",
       "      <td>3.0</td>\n",
       "      <td>5.1</td>\n",
       "      <td>1.8</td>\n",
       "      <td>Iris-virginica</td>\n",
       "    </tr>\n",
       "  </tbody>\n",
       "</table>\n",
       "<p>150 rows × 6 columns</p>\n",
       "</div>"
      ],
      "text/plain": [
       "      Id  SepalLengthCm  SepalWidthCm  PetalLengthCm  PetalWidthCm  \\\n",
       "0      1            5.1           3.5            1.4           0.2   \n",
       "1      2            4.9           3.0            1.4           0.2   \n",
       "2      3            4.7           3.2            1.3           0.2   \n",
       "3      4            4.6           3.1            1.5           0.2   \n",
       "4      5            5.0           3.6            1.4           0.2   \n",
       "..   ...            ...           ...            ...           ...   \n",
       "145  146            6.7           3.0            5.2           2.3   \n",
       "146  147            6.3           2.5            5.0           1.9   \n",
       "147  148            6.5           3.0            5.2           2.0   \n",
       "148  149            6.2           3.4            5.4           2.3   \n",
       "149  150            5.9           3.0            5.1           1.8   \n",
       "\n",
       "            Species  \n",
       "0       Iris-setosa  \n",
       "1       Iris-setosa  \n",
       "2       Iris-setosa  \n",
       "3       Iris-setosa  \n",
       "4       Iris-setosa  \n",
       "..              ...  \n",
       "145  Iris-virginica  \n",
       "146  Iris-virginica  \n",
       "147  Iris-virginica  \n",
       "148  Iris-virginica  \n",
       "149  Iris-virginica  \n",
       "\n",
       "[150 rows x 6 columns]"
      ]
     },
     "execution_count": 92,
     "metadata": {},
     "output_type": "execute_result"
    }
   ],
   "source": [
    "new_setosa = pd.merge(iris_medidas, new_species, how='left', on='Id')\n",
    "new_setosa"
   ]
  },
  {
   "cell_type": "code",
   "execution_count": 93,
   "id": "f238e114-ee9d-4a06-9b95-8b66be41f4c6",
   "metadata": {},
   "outputs": [
    {
     "data": {
      "text/html": [
       "<div>\n",
       "<style scoped>\n",
       "    .dataframe tbody tr th:only-of-type {\n",
       "        vertical-align: middle;\n",
       "    }\n",
       "\n",
       "    .dataframe tbody tr th {\n",
       "        vertical-align: top;\n",
       "    }\n",
       "\n",
       "    .dataframe thead th {\n",
       "        text-align: right;\n",
       "    }\n",
       "</style>\n",
       "<table border=\"1\" class=\"dataframe\">\n",
       "  <thead>\n",
       "    <tr style=\"text-align: right;\">\n",
       "      <th></th>\n",
       "      <th>Id</th>\n",
       "      <th>SepalLengthCm</th>\n",
       "      <th>SepalWidthCm</th>\n",
       "      <th>PetalLengthCm</th>\n",
       "      <th>PetalWidthCm</th>\n",
       "      <th>Species</th>\n",
       "    </tr>\n",
       "  </thead>\n",
       "  <tbody>\n",
       "    <tr>\n",
       "      <th>0</th>\n",
       "      <td>1</td>\n",
       "      <td>5.1</td>\n",
       "      <td>3.5</td>\n",
       "      <td>1.4</td>\n",
       "      <td>0.2</td>\n",
       "      <td>Iris-setosa</td>\n",
       "    </tr>\n",
       "    <tr>\n",
       "      <th>1</th>\n",
       "      <td>2</td>\n",
       "      <td>4.9</td>\n",
       "      <td>3.0</td>\n",
       "      <td>1.4</td>\n",
       "      <td>0.2</td>\n",
       "      <td>Iris-setosa</td>\n",
       "    </tr>\n",
       "    <tr>\n",
       "      <th>2</th>\n",
       "      <td>3</td>\n",
       "      <td>4.7</td>\n",
       "      <td>3.2</td>\n",
       "      <td>1.3</td>\n",
       "      <td>0.2</td>\n",
       "      <td>Iris-setosa</td>\n",
       "    </tr>\n",
       "    <tr>\n",
       "      <th>3</th>\n",
       "      <td>4</td>\n",
       "      <td>4.6</td>\n",
       "      <td>3.1</td>\n",
       "      <td>1.5</td>\n",
       "      <td>0.2</td>\n",
       "      <td>Iris-setosa</td>\n",
       "    </tr>\n",
       "    <tr>\n",
       "      <th>4</th>\n",
       "      <td>5</td>\n",
       "      <td>5.0</td>\n",
       "      <td>3.6</td>\n",
       "      <td>1.4</td>\n",
       "      <td>0.2</td>\n",
       "      <td>Iris-setosa</td>\n",
       "    </tr>\n",
       "    <tr>\n",
       "      <th>...</th>\n",
       "      <td>...</td>\n",
       "      <td>...</td>\n",
       "      <td>...</td>\n",
       "      <td>...</td>\n",
       "      <td>...</td>\n",
       "      <td>...</td>\n",
       "    </tr>\n",
       "    <tr>\n",
       "      <th>145</th>\n",
       "      <td>146</td>\n",
       "      <td>6.7</td>\n",
       "      <td>3.0</td>\n",
       "      <td>5.2</td>\n",
       "      <td>2.3</td>\n",
       "      <td>Iris-virginica</td>\n",
       "    </tr>\n",
       "    <tr>\n",
       "      <th>146</th>\n",
       "      <td>147</td>\n",
       "      <td>6.3</td>\n",
       "      <td>2.5</td>\n",
       "      <td>5.0</td>\n",
       "      <td>1.9</td>\n",
       "      <td>Iris-virginica</td>\n",
       "    </tr>\n",
       "    <tr>\n",
       "      <th>147</th>\n",
       "      <td>148</td>\n",
       "      <td>6.5</td>\n",
       "      <td>3.0</td>\n",
       "      <td>5.2</td>\n",
       "      <td>2.0</td>\n",
       "      <td>Iris-virginica</td>\n",
       "    </tr>\n",
       "    <tr>\n",
       "      <th>148</th>\n",
       "      <td>149</td>\n",
       "      <td>6.2</td>\n",
       "      <td>3.4</td>\n",
       "      <td>5.4</td>\n",
       "      <td>2.3</td>\n",
       "      <td>Iris-virginica</td>\n",
       "    </tr>\n",
       "    <tr>\n",
       "      <th>149</th>\n",
       "      <td>150</td>\n",
       "      <td>5.9</td>\n",
       "      <td>3.0</td>\n",
       "      <td>5.1</td>\n",
       "      <td>1.8</td>\n",
       "      <td>Iris-virginica</td>\n",
       "    </tr>\n",
       "  </tbody>\n",
       "</table>\n",
       "<p>150 rows × 6 columns</p>\n",
       "</div>"
      ],
      "text/plain": [
       "      Id  SepalLengthCm  SepalWidthCm  PetalLengthCm  PetalWidthCm  \\\n",
       "0      1            5.1           3.5            1.4           0.2   \n",
       "1      2            4.9           3.0            1.4           0.2   \n",
       "2      3            4.7           3.2            1.3           0.2   \n",
       "3      4            4.6           3.1            1.5           0.2   \n",
       "4      5            5.0           3.6            1.4           0.2   \n",
       "..   ...            ...           ...            ...           ...   \n",
       "145  146            6.7           3.0            5.2           2.3   \n",
       "146  147            6.3           2.5            5.0           1.9   \n",
       "147  148            6.5           3.0            5.2           2.0   \n",
       "148  149            6.2           3.4            5.4           2.3   \n",
       "149  150            5.9           3.0            5.1           1.8   \n",
       "\n",
       "            Species  \n",
       "0       Iris-setosa  \n",
       "1       Iris-setosa  \n",
       "2       Iris-setosa  \n",
       "3       Iris-setosa  \n",
       "4       Iris-setosa  \n",
       "..              ...  \n",
       "145  Iris-virginica  \n",
       "146  Iris-virginica  \n",
       "147  Iris-virginica  \n",
       "148  Iris-virginica  \n",
       "149  Iris-virginica  \n",
       "\n",
       "[150 rows x 6 columns]"
      ]
     },
     "execution_count": 93,
     "metadata": {},
     "output_type": "execute_result"
    }
   ],
   "source": [
    "new_setosa = pd.merge(iris_medidas, new_species, how='right', on='Id')\n",
    "new_setosa"
   ]
  },
  {
   "cell_type": "code",
   "execution_count": 94,
   "id": "fe5c50ee-7d91-4330-9844-2f38eaa6cf7a",
   "metadata": {},
   "outputs": [
    {
     "data": {
      "text/html": [
       "<div>\n",
       "<style scoped>\n",
       "    .dataframe tbody tr th:only-of-type {\n",
       "        vertical-align: middle;\n",
       "    }\n",
       "\n",
       "    .dataframe tbody tr th {\n",
       "        vertical-align: top;\n",
       "    }\n",
       "\n",
       "    .dataframe thead th {\n",
       "        text-align: right;\n",
       "    }\n",
       "</style>\n",
       "<table border=\"1\" class=\"dataframe\">\n",
       "  <thead>\n",
       "    <tr style=\"text-align: right;\">\n",
       "      <th></th>\n",
       "      <th>Id</th>\n",
       "      <th>SepalLengthCm</th>\n",
       "      <th>SepalWidthCm</th>\n",
       "      <th>PetalLengthCm</th>\n",
       "      <th>PetalWidthCm</th>\n",
       "      <th>Species</th>\n",
       "    </tr>\n",
       "  </thead>\n",
       "  <tbody>\n",
       "    <tr>\n",
       "      <th>0</th>\n",
       "      <td>1</td>\n",
       "      <td>5.1</td>\n",
       "      <td>3.5</td>\n",
       "      <td>1.4</td>\n",
       "      <td>0.2</td>\n",
       "      <td>Iris-setosa</td>\n",
       "    </tr>\n",
       "    <tr>\n",
       "      <th>1</th>\n",
       "      <td>2</td>\n",
       "      <td>4.9</td>\n",
       "      <td>3.0</td>\n",
       "      <td>1.4</td>\n",
       "      <td>0.2</td>\n",
       "      <td>Iris-setosa</td>\n",
       "    </tr>\n",
       "    <tr>\n",
       "      <th>2</th>\n",
       "      <td>3</td>\n",
       "      <td>4.7</td>\n",
       "      <td>3.2</td>\n",
       "      <td>1.3</td>\n",
       "      <td>0.2</td>\n",
       "      <td>Iris-setosa</td>\n",
       "    </tr>\n",
       "    <tr>\n",
       "      <th>3</th>\n",
       "      <td>4</td>\n",
       "      <td>4.6</td>\n",
       "      <td>3.1</td>\n",
       "      <td>1.5</td>\n",
       "      <td>0.2</td>\n",
       "      <td>Iris-setosa</td>\n",
       "    </tr>\n",
       "    <tr>\n",
       "      <th>4</th>\n",
       "      <td>5</td>\n",
       "      <td>5.0</td>\n",
       "      <td>3.6</td>\n",
       "      <td>1.4</td>\n",
       "      <td>0.2</td>\n",
       "      <td>Iris-setosa</td>\n",
       "    </tr>\n",
       "    <tr>\n",
       "      <th>...</th>\n",
       "      <td>...</td>\n",
       "      <td>...</td>\n",
       "      <td>...</td>\n",
       "      <td>...</td>\n",
       "      <td>...</td>\n",
       "      <td>...</td>\n",
       "    </tr>\n",
       "    <tr>\n",
       "      <th>145</th>\n",
       "      <td>146</td>\n",
       "      <td>6.7</td>\n",
       "      <td>3.0</td>\n",
       "      <td>5.2</td>\n",
       "      <td>2.3</td>\n",
       "      <td>Iris-virginica</td>\n",
       "    </tr>\n",
       "    <tr>\n",
       "      <th>146</th>\n",
       "      <td>147</td>\n",
       "      <td>6.3</td>\n",
       "      <td>2.5</td>\n",
       "      <td>5.0</td>\n",
       "      <td>1.9</td>\n",
       "      <td>Iris-virginica</td>\n",
       "    </tr>\n",
       "    <tr>\n",
       "      <th>147</th>\n",
       "      <td>148</td>\n",
       "      <td>6.5</td>\n",
       "      <td>3.0</td>\n",
       "      <td>5.2</td>\n",
       "      <td>2.0</td>\n",
       "      <td>Iris-virginica</td>\n",
       "    </tr>\n",
       "    <tr>\n",
       "      <th>148</th>\n",
       "      <td>149</td>\n",
       "      <td>6.2</td>\n",
       "      <td>3.4</td>\n",
       "      <td>5.4</td>\n",
       "      <td>2.3</td>\n",
       "      <td>Iris-virginica</td>\n",
       "    </tr>\n",
       "    <tr>\n",
       "      <th>149</th>\n",
       "      <td>150</td>\n",
       "      <td>5.9</td>\n",
       "      <td>3.0</td>\n",
       "      <td>5.1</td>\n",
       "      <td>1.8</td>\n",
       "      <td>Iris-virginica</td>\n",
       "    </tr>\n",
       "  </tbody>\n",
       "</table>\n",
       "<p>150 rows × 6 columns</p>\n",
       "</div>"
      ],
      "text/plain": [
       "      Id  SepalLengthCm  SepalWidthCm  PetalLengthCm  PetalWidthCm  \\\n",
       "0      1            5.1           3.5            1.4           0.2   \n",
       "1      2            4.9           3.0            1.4           0.2   \n",
       "2      3            4.7           3.2            1.3           0.2   \n",
       "3      4            4.6           3.1            1.5           0.2   \n",
       "4      5            5.0           3.6            1.4           0.2   \n",
       "..   ...            ...           ...            ...           ...   \n",
       "145  146            6.7           3.0            5.2           2.3   \n",
       "146  147            6.3           2.5            5.0           1.9   \n",
       "147  148            6.5           3.0            5.2           2.0   \n",
       "148  149            6.2           3.4            5.4           2.3   \n",
       "149  150            5.9           3.0            5.1           1.8   \n",
       "\n",
       "            Species  \n",
       "0       Iris-setosa  \n",
       "1       Iris-setosa  \n",
       "2       Iris-setosa  \n",
       "3       Iris-setosa  \n",
       "4       Iris-setosa  \n",
       "..              ...  \n",
       "145  Iris-virginica  \n",
       "146  Iris-virginica  \n",
       "147  Iris-virginica  \n",
       "148  Iris-virginica  \n",
       "149  Iris-virginica  \n",
       "\n",
       "[150 rows x 6 columns]"
      ]
     },
     "execution_count": 94,
     "metadata": {},
     "output_type": "execute_result"
    }
   ],
   "source": [
    "new_setosa = pd.merge(iris_medidas, new_species, how='inner', on='Id')\n",
    "new_setosa"
   ]
  },
  {
   "cell_type": "code",
   "execution_count": 95,
   "id": "30fe292f-b81e-4004-96bd-fff2135a5f06",
   "metadata": {},
   "outputs": [
    {
     "data": {
      "text/html": [
       "<div>\n",
       "<style scoped>\n",
       "    .dataframe tbody tr th:only-of-type {\n",
       "        vertical-align: middle;\n",
       "    }\n",
       "\n",
       "    .dataframe tbody tr th {\n",
       "        vertical-align: top;\n",
       "    }\n",
       "\n",
       "    .dataframe thead th {\n",
       "        text-align: right;\n",
       "    }\n",
       "</style>\n",
       "<table border=\"1\" class=\"dataframe\">\n",
       "  <thead>\n",
       "    <tr style=\"text-align: right;\">\n",
       "      <th></th>\n",
       "      <th>Id</th>\n",
       "      <th>SepalLengthCm</th>\n",
       "      <th>SepalWidthCm</th>\n",
       "      <th>PetalLengthCm</th>\n",
       "      <th>PetalWidthCm</th>\n",
       "      <th>Species</th>\n",
       "    </tr>\n",
       "  </thead>\n",
       "  <tbody>\n",
       "    <tr>\n",
       "      <th>0</th>\n",
       "      <td>1</td>\n",
       "      <td>5.1</td>\n",
       "      <td>3.5</td>\n",
       "      <td>1.4</td>\n",
       "      <td>0.2</td>\n",
       "      <td>Iris-setosa</td>\n",
       "    </tr>\n",
       "    <tr>\n",
       "      <th>1</th>\n",
       "      <td>2</td>\n",
       "      <td>4.9</td>\n",
       "      <td>3.0</td>\n",
       "      <td>1.4</td>\n",
       "      <td>0.2</td>\n",
       "      <td>Iris-setosa</td>\n",
       "    </tr>\n",
       "    <tr>\n",
       "      <th>2</th>\n",
       "      <td>3</td>\n",
       "      <td>4.7</td>\n",
       "      <td>3.2</td>\n",
       "      <td>1.3</td>\n",
       "      <td>0.2</td>\n",
       "      <td>Iris-setosa</td>\n",
       "    </tr>\n",
       "    <tr>\n",
       "      <th>3</th>\n",
       "      <td>4</td>\n",
       "      <td>4.6</td>\n",
       "      <td>3.1</td>\n",
       "      <td>1.5</td>\n",
       "      <td>0.2</td>\n",
       "      <td>Iris-setosa</td>\n",
       "    </tr>\n",
       "    <tr>\n",
       "      <th>4</th>\n",
       "      <td>5</td>\n",
       "      <td>5.0</td>\n",
       "      <td>3.6</td>\n",
       "      <td>1.4</td>\n",
       "      <td>0.2</td>\n",
       "      <td>Iris-setosa</td>\n",
       "    </tr>\n",
       "    <tr>\n",
       "      <th>...</th>\n",
       "      <td>...</td>\n",
       "      <td>...</td>\n",
       "      <td>...</td>\n",
       "      <td>...</td>\n",
       "      <td>...</td>\n",
       "      <td>...</td>\n",
       "    </tr>\n",
       "    <tr>\n",
       "      <th>145</th>\n",
       "      <td>146</td>\n",
       "      <td>6.7</td>\n",
       "      <td>3.0</td>\n",
       "      <td>5.2</td>\n",
       "      <td>2.3</td>\n",
       "      <td>Iris-virginica</td>\n",
       "    </tr>\n",
       "    <tr>\n",
       "      <th>146</th>\n",
       "      <td>147</td>\n",
       "      <td>6.3</td>\n",
       "      <td>2.5</td>\n",
       "      <td>5.0</td>\n",
       "      <td>1.9</td>\n",
       "      <td>Iris-virginica</td>\n",
       "    </tr>\n",
       "    <tr>\n",
       "      <th>147</th>\n",
       "      <td>148</td>\n",
       "      <td>6.5</td>\n",
       "      <td>3.0</td>\n",
       "      <td>5.2</td>\n",
       "      <td>2.0</td>\n",
       "      <td>Iris-virginica</td>\n",
       "    </tr>\n",
       "    <tr>\n",
       "      <th>148</th>\n",
       "      <td>149</td>\n",
       "      <td>6.2</td>\n",
       "      <td>3.4</td>\n",
       "      <td>5.4</td>\n",
       "      <td>2.3</td>\n",
       "      <td>Iris-virginica</td>\n",
       "    </tr>\n",
       "    <tr>\n",
       "      <th>149</th>\n",
       "      <td>150</td>\n",
       "      <td>5.9</td>\n",
       "      <td>3.0</td>\n",
       "      <td>5.1</td>\n",
       "      <td>1.8</td>\n",
       "      <td>Iris-virginica</td>\n",
       "    </tr>\n",
       "  </tbody>\n",
       "</table>\n",
       "<p>150 rows × 6 columns</p>\n",
       "</div>"
      ],
      "text/plain": [
       "      Id  SepalLengthCm  SepalWidthCm  PetalLengthCm  PetalWidthCm  \\\n",
       "0      1            5.1           3.5            1.4           0.2   \n",
       "1      2            4.9           3.0            1.4           0.2   \n",
       "2      3            4.7           3.2            1.3           0.2   \n",
       "3      4            4.6           3.1            1.5           0.2   \n",
       "4      5            5.0           3.6            1.4           0.2   \n",
       "..   ...            ...           ...            ...           ...   \n",
       "145  146            6.7           3.0            5.2           2.3   \n",
       "146  147            6.3           2.5            5.0           1.9   \n",
       "147  148            6.5           3.0            5.2           2.0   \n",
       "148  149            6.2           3.4            5.4           2.3   \n",
       "149  150            5.9           3.0            5.1           1.8   \n",
       "\n",
       "            Species  \n",
       "0       Iris-setosa  \n",
       "1       Iris-setosa  \n",
       "2       Iris-setosa  \n",
       "3       Iris-setosa  \n",
       "4       Iris-setosa  \n",
       "..              ...  \n",
       "145  Iris-virginica  \n",
       "146  Iris-virginica  \n",
       "147  Iris-virginica  \n",
       "148  Iris-virginica  \n",
       "149  Iris-virginica  \n",
       "\n",
       "[150 rows x 6 columns]"
      ]
     },
     "execution_count": 95,
     "metadata": {},
     "output_type": "execute_result"
    }
   ],
   "source": [
    "new_setosa = pd.merge(iris_medidas, new_species, how='outer', on='Id')\n",
    "new_setosa"
   ]
  },
  {
   "cell_type": "code",
   "execution_count": 96,
   "id": "48c9e367-0eba-4394-9fde-f242f992ebbb",
   "metadata": {},
   "outputs": [
    {
     "data": {
      "text/html": [
       "<div>\n",
       "<style scoped>\n",
       "    .dataframe tbody tr th:only-of-type {\n",
       "        vertical-align: middle;\n",
       "    }\n",
       "\n",
       "    .dataframe tbody tr th {\n",
       "        vertical-align: top;\n",
       "    }\n",
       "\n",
       "    .dataframe thead th {\n",
       "        text-align: right;\n",
       "    }\n",
       "</style>\n",
       "<table border=\"1\" class=\"dataframe\">\n",
       "  <thead>\n",
       "    <tr style=\"text-align: right;\">\n",
       "      <th></th>\n",
       "      <th>Id_x</th>\n",
       "      <th>SepalLengthCm</th>\n",
       "      <th>SepalWidthCm</th>\n",
       "      <th>PetalLengthCm</th>\n",
       "      <th>PetalWidthCm</th>\n",
       "      <th>Id_y</th>\n",
       "      <th>Species</th>\n",
       "    </tr>\n",
       "  </thead>\n",
       "  <tbody>\n",
       "    <tr>\n",
       "      <th>0</th>\n",
       "      <td>1</td>\n",
       "      <td>5.1</td>\n",
       "      <td>3.5</td>\n",
       "      <td>1.4</td>\n",
       "      <td>0.2</td>\n",
       "      <td>1</td>\n",
       "      <td>Iris-setosa</td>\n",
       "    </tr>\n",
       "    <tr>\n",
       "      <th>1</th>\n",
       "      <td>1</td>\n",
       "      <td>5.1</td>\n",
       "      <td>3.5</td>\n",
       "      <td>1.4</td>\n",
       "      <td>0.2</td>\n",
       "      <td>2</td>\n",
       "      <td>Iris-setosa</td>\n",
       "    </tr>\n",
       "    <tr>\n",
       "      <th>2</th>\n",
       "      <td>1</td>\n",
       "      <td>5.1</td>\n",
       "      <td>3.5</td>\n",
       "      <td>1.4</td>\n",
       "      <td>0.2</td>\n",
       "      <td>3</td>\n",
       "      <td>Iris-setosa</td>\n",
       "    </tr>\n",
       "    <tr>\n",
       "      <th>3</th>\n",
       "      <td>1</td>\n",
       "      <td>5.1</td>\n",
       "      <td>3.5</td>\n",
       "      <td>1.4</td>\n",
       "      <td>0.2</td>\n",
       "      <td>4</td>\n",
       "      <td>Iris-setosa</td>\n",
       "    </tr>\n",
       "    <tr>\n",
       "      <th>4</th>\n",
       "      <td>1</td>\n",
       "      <td>5.1</td>\n",
       "      <td>3.5</td>\n",
       "      <td>1.4</td>\n",
       "      <td>0.2</td>\n",
       "      <td>5</td>\n",
       "      <td>Iris-setosa</td>\n",
       "    </tr>\n",
       "    <tr>\n",
       "      <th>...</th>\n",
       "      <td>...</td>\n",
       "      <td>...</td>\n",
       "      <td>...</td>\n",
       "      <td>...</td>\n",
       "      <td>...</td>\n",
       "      <td>...</td>\n",
       "      <td>...</td>\n",
       "    </tr>\n",
       "    <tr>\n",
       "      <th>22495</th>\n",
       "      <td>150</td>\n",
       "      <td>5.9</td>\n",
       "      <td>3.0</td>\n",
       "      <td>5.1</td>\n",
       "      <td>1.8</td>\n",
       "      <td>146</td>\n",
       "      <td>Iris-virginica</td>\n",
       "    </tr>\n",
       "    <tr>\n",
       "      <th>22496</th>\n",
       "      <td>150</td>\n",
       "      <td>5.9</td>\n",
       "      <td>3.0</td>\n",
       "      <td>5.1</td>\n",
       "      <td>1.8</td>\n",
       "      <td>147</td>\n",
       "      <td>Iris-virginica</td>\n",
       "    </tr>\n",
       "    <tr>\n",
       "      <th>22497</th>\n",
       "      <td>150</td>\n",
       "      <td>5.9</td>\n",
       "      <td>3.0</td>\n",
       "      <td>5.1</td>\n",
       "      <td>1.8</td>\n",
       "      <td>148</td>\n",
       "      <td>Iris-virginica</td>\n",
       "    </tr>\n",
       "    <tr>\n",
       "      <th>22498</th>\n",
       "      <td>150</td>\n",
       "      <td>5.9</td>\n",
       "      <td>3.0</td>\n",
       "      <td>5.1</td>\n",
       "      <td>1.8</td>\n",
       "      <td>149</td>\n",
       "      <td>Iris-virginica</td>\n",
       "    </tr>\n",
       "    <tr>\n",
       "      <th>22499</th>\n",
       "      <td>150</td>\n",
       "      <td>5.9</td>\n",
       "      <td>3.0</td>\n",
       "      <td>5.1</td>\n",
       "      <td>1.8</td>\n",
       "      <td>150</td>\n",
       "      <td>Iris-virginica</td>\n",
       "    </tr>\n",
       "  </tbody>\n",
       "</table>\n",
       "<p>22500 rows × 7 columns</p>\n",
       "</div>"
      ],
      "text/plain": [
       "       Id_x  SepalLengthCm  SepalWidthCm  PetalLengthCm  PetalWidthCm  Id_y  \\\n",
       "0         1            5.1           3.5            1.4           0.2     1   \n",
       "1         1            5.1           3.5            1.4           0.2     2   \n",
       "2         1            5.1           3.5            1.4           0.2     3   \n",
       "3         1            5.1           3.5            1.4           0.2     4   \n",
       "4         1            5.1           3.5            1.4           0.2     5   \n",
       "...     ...            ...           ...            ...           ...   ...   \n",
       "22495   150            5.9           3.0            5.1           1.8   146   \n",
       "22496   150            5.9           3.0            5.1           1.8   147   \n",
       "22497   150            5.9           3.0            5.1           1.8   148   \n",
       "22498   150            5.9           3.0            5.1           1.8   149   \n",
       "22499   150            5.9           3.0            5.1           1.8   150   \n",
       "\n",
       "              Species  \n",
       "0         Iris-setosa  \n",
       "1         Iris-setosa  \n",
       "2         Iris-setosa  \n",
       "3         Iris-setosa  \n",
       "4         Iris-setosa  \n",
       "...               ...  \n",
       "22495  Iris-virginica  \n",
       "22496  Iris-virginica  \n",
       "22497  Iris-virginica  \n",
       "22498  Iris-virginica  \n",
       "22499  Iris-virginica  \n",
       "\n",
       "[22500 rows x 7 columns]"
      ]
     },
     "execution_count": 96,
     "metadata": {},
     "output_type": "execute_result"
    }
   ],
   "source": [
    "# \n",
    "\n",
    "new_setosa = pd.merge(iris_medidas, new_species, how='cross')\n",
    "new_setosa"
   ]
  },
  {
   "cell_type": "code",
   "execution_count": 98,
   "id": "57a10339-2ad9-4363-9a15-9245dd4a4d5d",
   "metadata": {},
   "outputs": [
    {
     "data": {
      "image/png": "[encoded data removed]",
      "text/plain": [
       "<IPython.core.display.Image object>"
      ]
     },
     "execution_count": 98,
     "metadata": {},
     "output_type": "execute_result"
    }
   ],
   "source": [
    "# Si no existe la clave la duplica en el caso how=cross:\n",
    "\n",
    "display.Image('./images/merging_merge_on_key_dup.png')"
   ]
  },
  {
   "cell_type": "markdown",
   "id": "8b57b0bb-3bab-4f97-9799-22157ee29e97",
   "metadata": {},
   "source": [
    "## ```join()```"
   ]
  },
  {
   "cell_type": "code",
   "execution_count": 99,
   "id": "5e440cfe-963c-4d5d-ad9c-ee8246627a06",
   "metadata": {},
   "outputs": [
    {
     "data": {
      "text/html": [
       "<div>\n",
       "<style scoped>\n",
       "    .dataframe tbody tr th:only-of-type {\n",
       "        vertical-align: middle;\n",
       "    }\n",
       "\n",
       "    .dataframe tbody tr th {\n",
       "        vertical-align: top;\n",
       "    }\n",
       "\n",
       "    .dataframe thead th {\n",
       "        text-align: right;\n",
       "    }\n",
       "</style>\n",
       "<table border=\"1\" class=\"dataframe\">\n",
       "  <thead>\n",
       "    <tr style=\"text-align: right;\">\n",
       "      <th></th>\n",
       "      <th>Id</th>\n",
       "      <th>SepalLengthCm</th>\n",
       "      <th>SepalWidthCm</th>\n",
       "      <th>PetalLengthCm</th>\n",
       "      <th>PetalWidthCm</th>\n",
       "    </tr>\n",
       "  </thead>\n",
       "  <tbody>\n",
       "    <tr>\n",
       "      <th>0</th>\n",
       "      <td>1</td>\n",
       "      <td>5.1</td>\n",
       "      <td>3.5</td>\n",
       "      <td>1.4</td>\n",
       "      <td>0.2</td>\n",
       "    </tr>\n",
       "    <tr>\n",
       "      <th>1</th>\n",
       "      <td>2</td>\n",
       "      <td>4.9</td>\n",
       "      <td>3.0</td>\n",
       "      <td>1.4</td>\n",
       "      <td>0.2</td>\n",
       "    </tr>\n",
       "    <tr>\n",
       "      <th>2</th>\n",
       "      <td>3</td>\n",
       "      <td>4.7</td>\n",
       "      <td>3.2</td>\n",
       "      <td>1.3</td>\n",
       "      <td>0.2</td>\n",
       "    </tr>\n",
       "    <tr>\n",
       "      <th>3</th>\n",
       "      <td>4</td>\n",
       "      <td>4.6</td>\n",
       "      <td>3.1</td>\n",
       "      <td>1.5</td>\n",
       "      <td>0.2</td>\n",
       "    </tr>\n",
       "    <tr>\n",
       "      <th>4</th>\n",
       "      <td>5</td>\n",
       "      <td>5.0</td>\n",
       "      <td>3.6</td>\n",
       "      <td>1.4</td>\n",
       "      <td>0.2</td>\n",
       "    </tr>\n",
       "    <tr>\n",
       "      <th>...</th>\n",
       "      <td>...</td>\n",
       "      <td>...</td>\n",
       "      <td>...</td>\n",
       "      <td>...</td>\n",
       "      <td>...</td>\n",
       "    </tr>\n",
       "    <tr>\n",
       "      <th>145</th>\n",
       "      <td>146</td>\n",
       "      <td>6.7</td>\n",
       "      <td>3.0</td>\n",
       "      <td>5.2</td>\n",
       "      <td>2.3</td>\n",
       "    </tr>\n",
       "    <tr>\n",
       "      <th>146</th>\n",
       "      <td>147</td>\n",
       "      <td>6.3</td>\n",
       "      <td>2.5</td>\n",
       "      <td>5.0</td>\n",
       "      <td>1.9</td>\n",
       "    </tr>\n",
       "    <tr>\n",
       "      <th>147</th>\n",
       "      <td>148</td>\n",
       "      <td>6.5</td>\n",
       "      <td>3.0</td>\n",
       "      <td>5.2</td>\n",
       "      <td>2.0</td>\n",
       "    </tr>\n",
       "    <tr>\n",
       "      <th>148</th>\n",
       "      <td>149</td>\n",
       "      <td>6.2</td>\n",
       "      <td>3.4</td>\n",
       "      <td>5.4</td>\n",
       "      <td>2.3</td>\n",
       "    </tr>\n",
       "    <tr>\n",
       "      <th>149</th>\n",
       "      <td>150</td>\n",
       "      <td>5.9</td>\n",
       "      <td>3.0</td>\n",
       "      <td>5.1</td>\n",
       "      <td>1.8</td>\n",
       "    </tr>\n",
       "  </tbody>\n",
       "</table>\n",
       "<p>150 rows × 5 columns</p>\n",
       "</div>"
      ],
      "text/plain": [
       "      Id  SepalLengthCm  SepalWidthCm  PetalLengthCm  PetalWidthCm\n",
       "0      1            5.1           3.5            1.4           0.2\n",
       "1      2            4.9           3.0            1.4           0.2\n",
       "2      3            4.7           3.2            1.3           0.2\n",
       "3      4            4.6           3.1            1.5           0.2\n",
       "4      5            5.0           3.6            1.4           0.2\n",
       "..   ...            ...           ...            ...           ...\n",
       "145  146            6.7           3.0            5.2           2.3\n",
       "146  147            6.3           2.5            5.0           1.9\n",
       "147  148            6.5           3.0            5.2           2.0\n",
       "148  149            6.2           3.4            5.4           2.3\n",
       "149  150            5.9           3.0            5.1           1.8\n",
       "\n",
       "[150 rows x 5 columns]"
      ]
     },
     "execution_count": 99,
     "metadata": {},
     "output_type": "execute_result"
    }
   ],
   "source": [
    "iris_medidas"
   ]
  },
  {
   "cell_type": "code",
   "execution_count": 100,
   "id": "43bde5bd-21cd-48b7-90b0-fabb9a88fa05",
   "metadata": {},
   "outputs": [
    {
     "data": {
      "text/html": [
       "<div>\n",
       "<style scoped>\n",
       "    .dataframe tbody tr th:only-of-type {\n",
       "        vertical-align: middle;\n",
       "    }\n",
       "\n",
       "    .dataframe tbody tr th {\n",
       "        vertical-align: top;\n",
       "    }\n",
       "\n",
       "    .dataframe thead th {\n",
       "        text-align: right;\n",
       "    }\n",
       "</style>\n",
       "<table border=\"1\" class=\"dataframe\">\n",
       "  <thead>\n",
       "    <tr style=\"text-align: right;\">\n",
       "      <th></th>\n",
       "      <th>Species</th>\n",
       "    </tr>\n",
       "  </thead>\n",
       "  <tbody>\n",
       "    <tr>\n",
       "      <th>0</th>\n",
       "      <td>Iris-setosa</td>\n",
       "    </tr>\n",
       "    <tr>\n",
       "      <th>1</th>\n",
       "      <td>Iris-setosa</td>\n",
       "    </tr>\n",
       "    <tr>\n",
       "      <th>2</th>\n",
       "      <td>Iris-setosa</td>\n",
       "    </tr>\n",
       "    <tr>\n",
       "      <th>3</th>\n",
       "      <td>Iris-setosa</td>\n",
       "    </tr>\n",
       "    <tr>\n",
       "      <th>4</th>\n",
       "      <td>Iris-setosa</td>\n",
       "    </tr>\n",
       "    <tr>\n",
       "      <th>...</th>\n",
       "      <td>...</td>\n",
       "    </tr>\n",
       "    <tr>\n",
       "      <th>145</th>\n",
       "      <td>Iris-virginica</td>\n",
       "    </tr>\n",
       "    <tr>\n",
       "      <th>146</th>\n",
       "      <td>Iris-virginica</td>\n",
       "    </tr>\n",
       "    <tr>\n",
       "      <th>147</th>\n",
       "      <td>Iris-virginica</td>\n",
       "    </tr>\n",
       "    <tr>\n",
       "      <th>148</th>\n",
       "      <td>Iris-virginica</td>\n",
       "    </tr>\n",
       "    <tr>\n",
       "      <th>149</th>\n",
       "      <td>Iris-virginica</td>\n",
       "    </tr>\n",
       "  </tbody>\n",
       "</table>\n",
       "<p>150 rows × 1 columns</p>\n",
       "</div>"
      ],
      "text/plain": [
       "            Species\n",
       "0       Iris-setosa\n",
       "1       Iris-setosa\n",
       "2       Iris-setosa\n",
       "3       Iris-setosa\n",
       "4       Iris-setosa\n",
       "..              ...\n",
       "145  Iris-virginica\n",
       "146  Iris-virginica\n",
       "147  Iris-virginica\n",
       "148  Iris-virginica\n",
       "149  Iris-virginica\n",
       "\n",
       "[150 rows x 1 columns]"
      ]
     },
     "execution_count": 100,
     "metadata": {},
     "output_type": "execute_result"
    }
   ],
   "source": [
    "iris_especies"
   ]
  },
  {
   "cell_type": "code",
   "execution_count": 101,
   "id": "0c56f2a8-b8d5-4096-bd93-4181e462d1aa",
   "metadata": {},
   "outputs": [
    {
     "data": {
      "text/html": [
       "<div>\n",
       "<style scoped>\n",
       "    .dataframe tbody tr th:only-of-type {\n",
       "        vertical-align: middle;\n",
       "    }\n",
       "\n",
       "    .dataframe tbody tr th {\n",
       "        vertical-align: top;\n",
       "    }\n",
       "\n",
       "    .dataframe thead th {\n",
       "        text-align: right;\n",
       "    }\n",
       "</style>\n",
       "<table border=\"1\" class=\"dataframe\">\n",
       "  <thead>\n",
       "    <tr style=\"text-align: right;\">\n",
       "      <th></th>\n",
       "      <th>Id</th>\n",
       "      <th>SepalLengthCm</th>\n",
       "      <th>SepalWidthCm</th>\n",
       "      <th>PetalLengthCm</th>\n",
       "      <th>PetalWidthCm</th>\n",
       "      <th>Species</th>\n",
       "    </tr>\n",
       "  </thead>\n",
       "  <tbody>\n",
       "    <tr>\n",
       "      <th>0</th>\n",
       "      <td>1</td>\n",
       "      <td>5.1</td>\n",
       "      <td>3.5</td>\n",
       "      <td>1.4</td>\n",
       "      <td>0.2</td>\n",
       "      <td>Iris-setosa</td>\n",
       "    </tr>\n",
       "    <tr>\n",
       "      <th>1</th>\n",
       "      <td>2</td>\n",
       "      <td>4.9</td>\n",
       "      <td>3.0</td>\n",
       "      <td>1.4</td>\n",
       "      <td>0.2</td>\n",
       "      <td>Iris-setosa</td>\n",
       "    </tr>\n",
       "    <tr>\n",
       "      <th>2</th>\n",
       "      <td>3</td>\n",
       "      <td>4.7</td>\n",
       "      <td>3.2</td>\n",
       "      <td>1.3</td>\n",
       "      <td>0.2</td>\n",
       "      <td>Iris-setosa</td>\n",
       "    </tr>\n",
       "    <tr>\n",
       "      <th>3</th>\n",
       "      <td>4</td>\n",
       "      <td>4.6</td>\n",
       "      <td>3.1</td>\n",
       "      <td>1.5</td>\n",
       "      <td>0.2</td>\n",
       "      <td>Iris-setosa</td>\n",
       "    </tr>\n",
       "    <tr>\n",
       "      <th>4</th>\n",
       "      <td>5</td>\n",
       "      <td>5.0</td>\n",
       "      <td>3.6</td>\n",
       "      <td>1.4</td>\n",
       "      <td>0.2</td>\n",
       "      <td>Iris-setosa</td>\n",
       "    </tr>\n",
       "    <tr>\n",
       "      <th>...</th>\n",
       "      <td>...</td>\n",
       "      <td>...</td>\n",
       "      <td>...</td>\n",
       "      <td>...</td>\n",
       "      <td>...</td>\n",
       "      <td>...</td>\n",
       "    </tr>\n",
       "    <tr>\n",
       "      <th>145</th>\n",
       "      <td>146</td>\n",
       "      <td>6.7</td>\n",
       "      <td>3.0</td>\n",
       "      <td>5.2</td>\n",
       "      <td>2.3</td>\n",
       "      <td>Iris-virginica</td>\n",
       "    </tr>\n",
       "    <tr>\n",
       "      <th>146</th>\n",
       "      <td>147</td>\n",
       "      <td>6.3</td>\n",
       "      <td>2.5</td>\n",
       "      <td>5.0</td>\n",
       "      <td>1.9</td>\n",
       "      <td>Iris-virginica</td>\n",
       "    </tr>\n",
       "    <tr>\n",
       "      <th>147</th>\n",
       "      <td>148</td>\n",
       "      <td>6.5</td>\n",
       "      <td>3.0</td>\n",
       "      <td>5.2</td>\n",
       "      <td>2.0</td>\n",
       "      <td>Iris-virginica</td>\n",
       "    </tr>\n",
       "    <tr>\n",
       "      <th>148</th>\n",
       "      <td>149</td>\n",
       "      <td>6.2</td>\n",
       "      <td>3.4</td>\n",
       "      <td>5.4</td>\n",
       "      <td>2.3</td>\n",
       "      <td>Iris-virginica</td>\n",
       "    </tr>\n",
       "    <tr>\n",
       "      <th>149</th>\n",
       "      <td>150</td>\n",
       "      <td>5.9</td>\n",
       "      <td>3.0</td>\n",
       "      <td>5.1</td>\n",
       "      <td>1.8</td>\n",
       "      <td>Iris-virginica</td>\n",
       "    </tr>\n",
       "  </tbody>\n",
       "</table>\n",
       "<p>150 rows × 6 columns</p>\n",
       "</div>"
      ],
      "text/plain": [
       "      Id  SepalLengthCm  SepalWidthCm  PetalLengthCm  PetalWidthCm  \\\n",
       "0      1            5.1           3.5            1.4           0.2   \n",
       "1      2            4.9           3.0            1.4           0.2   \n",
       "2      3            4.7           3.2            1.3           0.2   \n",
       "3      4            4.6           3.1            1.5           0.2   \n",
       "4      5            5.0           3.6            1.4           0.2   \n",
       "..   ...            ...           ...            ...           ...   \n",
       "145  146            6.7           3.0            5.2           2.3   \n",
       "146  147            6.3           2.5            5.0           1.9   \n",
       "147  148            6.5           3.0            5.2           2.0   \n",
       "148  149            6.2           3.4            5.4           2.3   \n",
       "149  150            5.9           3.0            5.1           1.8   \n",
       "\n",
       "            Species  \n",
       "0       Iris-setosa  \n",
       "1       Iris-setosa  \n",
       "2       Iris-setosa  \n",
       "3       Iris-setosa  \n",
       "4       Iris-setosa  \n",
       "..              ...  \n",
       "145  Iris-virginica  \n",
       "146  Iris-virginica  \n",
       "147  Iris-virginica  \n",
       "148  Iris-virginica  \n",
       "149  Iris-virginica  \n",
       "\n",
       "[150 rows x 6 columns]"
      ]
     },
     "execution_count": 101,
     "metadata": {},
     "output_type": "execute_result"
    }
   ],
   "source": [
    "iris_2 = iris_medidas.join(iris_especies)\n",
    "iris_2"
   ]
  },
  {
   "cell_type": "markdown",
   "id": "2e174c2d-58c9-4af9-bec7-1c2e504cae76",
   "metadata": {},
   "source": [
    "También se le puede añadir los parámetros de how y on, igual que se hace con el método ```merge()```"
   ]
  },
  {
   "cell_type": "markdown",
   "id": "e063d132-e0b8-4406-8ae8-4a077819ed06",
   "metadata": {},
   "source": [
    "## Grouping"
   ]
  },
  {
   "cell_type": "markdown",
   "id": "93c3386e-bf7f-40f3-b339-ff4eff43733c",
   "metadata": {},
   "source": [
    "By “group by” we are referring to a process involving one or more of the following steps:\n",
    "\n",
    "- **Splitting** the data into groups based on some criteria\n",
    "\n",
    "- **Applying** a function to each group independently\n",
    "\n",
    "- **Combining** the results into a data structure"
   ]
  },
  {
   "cell_type": "code",
   "execution_count": 102,
   "id": "5dacd7bf-7725-416b-bfeb-ef4d54d3eca0",
   "metadata": {},
   "outputs": [
    {
     "data": {
      "text/html": [
       "<div>\n",
       "<style scoped>\n",
       "    .dataframe tbody tr th:only-of-type {\n",
       "        vertical-align: middle;\n",
       "    }\n",
       "\n",
       "    .dataframe tbody tr th {\n",
       "        vertical-align: top;\n",
       "    }\n",
       "\n",
       "    .dataframe thead th {\n",
       "        text-align: right;\n",
       "    }\n",
       "</style>\n",
       "<table border=\"1\" class=\"dataframe\">\n",
       "  <thead>\n",
       "    <tr style=\"text-align: right;\">\n",
       "      <th></th>\n",
       "      <th>Id</th>\n",
       "      <th>SepalLengthCm</th>\n",
       "      <th>SepalWidthCm</th>\n",
       "      <th>PetalLengthCm</th>\n",
       "      <th>PetalWidthCm</th>\n",
       "      <th>Species</th>\n",
       "    </tr>\n",
       "  </thead>\n",
       "  <tbody>\n",
       "    <tr>\n",
       "      <th>0</th>\n",
       "      <td>1</td>\n",
       "      <td>5.1</td>\n",
       "      <td>3.5</td>\n",
       "      <td>1.4</td>\n",
       "      <td>0.2</td>\n",
       "      <td>Iris-setosa</td>\n",
       "    </tr>\n",
       "    <tr>\n",
       "      <th>1</th>\n",
       "      <td>2</td>\n",
       "      <td>4.9</td>\n",
       "      <td>3.0</td>\n",
       "      <td>1.4</td>\n",
       "      <td>0.2</td>\n",
       "      <td>Iris-setosa</td>\n",
       "    </tr>\n",
       "    <tr>\n",
       "      <th>2</th>\n",
       "      <td>3</td>\n",
       "      <td>4.7</td>\n",
       "      <td>3.2</td>\n",
       "      <td>1.3</td>\n",
       "      <td>0.2</td>\n",
       "      <td>Iris-setosa</td>\n",
       "    </tr>\n",
       "    <tr>\n",
       "      <th>3</th>\n",
       "      <td>4</td>\n",
       "      <td>4.6</td>\n",
       "      <td>3.1</td>\n",
       "      <td>1.5</td>\n",
       "      <td>0.2</td>\n",
       "      <td>Iris-setosa</td>\n",
       "    </tr>\n",
       "    <tr>\n",
       "      <th>4</th>\n",
       "      <td>5</td>\n",
       "      <td>5.0</td>\n",
       "      <td>3.6</td>\n",
       "      <td>1.4</td>\n",
       "      <td>0.2</td>\n",
       "      <td>Iris-setosa</td>\n",
       "    </tr>\n",
       "    <tr>\n",
       "      <th>...</th>\n",
       "      <td>...</td>\n",
       "      <td>...</td>\n",
       "      <td>...</td>\n",
       "      <td>...</td>\n",
       "      <td>...</td>\n",
       "      <td>...</td>\n",
       "    </tr>\n",
       "    <tr>\n",
       "      <th>145</th>\n",
       "      <td>146</td>\n",
       "      <td>6.7</td>\n",
       "      <td>3.0</td>\n",
       "      <td>5.2</td>\n",
       "      <td>2.3</td>\n",
       "      <td>Iris-virginica</td>\n",
       "    </tr>\n",
       "    <tr>\n",
       "      <th>146</th>\n",
       "      <td>147</td>\n",
       "      <td>6.3</td>\n",
       "      <td>2.5</td>\n",
       "      <td>5.0</td>\n",
       "      <td>1.9</td>\n",
       "      <td>Iris-virginica</td>\n",
       "    </tr>\n",
       "    <tr>\n",
       "      <th>147</th>\n",
       "      <td>148</td>\n",
       "      <td>6.5</td>\n",
       "      <td>3.0</td>\n",
       "      <td>5.2</td>\n",
       "      <td>2.0</td>\n",
       "      <td>Iris-virginica</td>\n",
       "    </tr>\n",
       "    <tr>\n",
       "      <th>148</th>\n",
       "      <td>149</td>\n",
       "      <td>6.2</td>\n",
       "      <td>3.4</td>\n",
       "      <td>5.4</td>\n",
       "      <td>2.3</td>\n",
       "      <td>Iris-virginica</td>\n",
       "    </tr>\n",
       "    <tr>\n",
       "      <th>149</th>\n",
       "      <td>150</td>\n",
       "      <td>5.9</td>\n",
       "      <td>3.0</td>\n",
       "      <td>5.1</td>\n",
       "      <td>1.8</td>\n",
       "      <td>Iris-virginica</td>\n",
       "    </tr>\n",
       "  </tbody>\n",
       "</table>\n",
       "<p>150 rows × 6 columns</p>\n",
       "</div>"
      ],
      "text/plain": [
       "      Id  SepalLengthCm  SepalWidthCm  PetalLengthCm  PetalWidthCm  \\\n",
       "0      1            5.1           3.5            1.4           0.2   \n",
       "1      2            4.9           3.0            1.4           0.2   \n",
       "2      3            4.7           3.2            1.3           0.2   \n",
       "3      4            4.6           3.1            1.5           0.2   \n",
       "4      5            5.0           3.6            1.4           0.2   \n",
       "..   ...            ...           ...            ...           ...   \n",
       "145  146            6.7           3.0            5.2           2.3   \n",
       "146  147            6.3           2.5            5.0           1.9   \n",
       "147  148            6.5           3.0            5.2           2.0   \n",
       "148  149            6.2           3.4            5.4           2.3   \n",
       "149  150            5.9           3.0            5.1           1.8   \n",
       "\n",
       "            Species  \n",
       "0       Iris-setosa  \n",
       "1       Iris-setosa  \n",
       "2       Iris-setosa  \n",
       "3       Iris-setosa  \n",
       "4       Iris-setosa  \n",
       "..              ...  \n",
       "145  Iris-virginica  \n",
       "146  Iris-virginica  \n",
       "147  Iris-virginica  \n",
       "148  Iris-virginica  \n",
       "149  Iris-virginica  \n",
       "\n",
       "[150 rows x 6 columns]"
      ]
     },
     "execution_count": 102,
     "metadata": {},
     "output_type": "execute_result"
    }
   ],
   "source": [
    "iris"
   ]
  },
  {
   "cell_type": "code",
   "execution_count": 103,
   "id": "00b03b99-7cb1-47b0-8c53-dde00c0a7ce4",
   "metadata": {},
   "outputs": [
    {
     "data": {
      "text/html": [
       "<div>\n",
       "<style scoped>\n",
       "    .dataframe tbody tr th:only-of-type {\n",
       "        vertical-align: middle;\n",
       "    }\n",
       "\n",
       "    .dataframe tbody tr th {\n",
       "        vertical-align: top;\n",
       "    }\n",
       "\n",
       "    .dataframe thead th {\n",
       "        text-align: right;\n",
       "    }\n",
       "</style>\n",
       "<table border=\"1\" class=\"dataframe\">\n",
       "  <thead>\n",
       "    <tr style=\"text-align: right;\">\n",
       "      <th></th>\n",
       "      <th>SepalLengthCm</th>\n",
       "      <th>SepalWidthCm</th>\n",
       "    </tr>\n",
       "    <tr>\n",
       "      <th>Species</th>\n",
       "      <th></th>\n",
       "      <th></th>\n",
       "    </tr>\n",
       "  </thead>\n",
       "  <tbody>\n",
       "    <tr>\n",
       "      <th>Iris-setosa</th>\n",
       "      <td>5.006</td>\n",
       "      <td>3.418</td>\n",
       "    </tr>\n",
       "    <tr>\n",
       "      <th>Iris-versicolor</th>\n",
       "      <td>5.936</td>\n",
       "      <td>2.770</td>\n",
       "    </tr>\n",
       "    <tr>\n",
       "      <th>Iris-virginica</th>\n",
       "      <td>6.588</td>\n",
       "      <td>2.974</td>\n",
       "    </tr>\n",
       "  </tbody>\n",
       "</table>\n",
       "</div>"
      ],
      "text/plain": [
       "                 SepalLengthCm  SepalWidthCm\n",
       "Species                                     \n",
       "Iris-setosa              5.006         3.418\n",
       "Iris-versicolor          5.936         2.770\n",
       "Iris-virginica           6.588         2.974"
      ]
     },
     "execution_count": 103,
     "metadata": {},
     "output_type": "execute_result"
    }
   ],
   "source": [
    "iris_sepal = iris.groupby('Species')[[\"SepalLengthCm\",\\\n",
    "                                      \"SepalWidthCm\"]].mean()\n",
    "iris_sepal"
   ]
  },
  {
   "cell_type": "code",
   "execution_count": 105,
   "id": "12d12b82-befe-4033-b21e-2da3bce91361",
   "metadata": {
    "scrolled": true
   },
   "outputs": [
    {
     "data": {
      "text/html": [
       "<div>\n",
       "<style scoped>\n",
       "    .dataframe tbody tr th:only-of-type {\n",
       "        vertical-align: middle;\n",
       "    }\n",
       "\n",
       "    .dataframe tbody tr th {\n",
       "        vertical-align: top;\n",
       "    }\n",
       "\n",
       "    .dataframe thead th {\n",
       "        text-align: right;\n",
       "    }\n",
       "</style>\n",
       "<table border=\"1\" class=\"dataframe\">\n",
       "  <thead>\n",
       "    <tr style=\"text-align: right;\">\n",
       "      <th></th>\n",
       "      <th>PetalLengthCm</th>\n",
       "      <th>PetalWidthCm</th>\n",
       "    </tr>\n",
       "    <tr>\n",
       "      <th>Species</th>\n",
       "      <th></th>\n",
       "      <th></th>\n",
       "    </tr>\n",
       "  </thead>\n",
       "  <tbody>\n",
       "    <tr>\n",
       "      <th>Iris-setosa</th>\n",
       "      <td>1.464</td>\n",
       "      <td>0.244</td>\n",
       "    </tr>\n",
       "    <tr>\n",
       "      <th>Iris-versicolor</th>\n",
       "      <td>4.260</td>\n",
       "      <td>1.326</td>\n",
       "    </tr>\n",
       "    <tr>\n",
       "      <th>Iris-virginica</th>\n",
       "      <td>5.552</td>\n",
       "      <td>2.026</td>\n",
       "    </tr>\n",
       "  </tbody>\n",
       "</table>\n",
       "</div>"
      ],
      "text/plain": [
       "                 PetalLengthCm  PetalWidthCm\n",
       "Species                                     \n",
       "Iris-setosa              1.464         0.244\n",
       "Iris-versicolor          4.260         1.326\n",
       "Iris-virginica           5.552         2.026"
      ]
     },
     "execution_count": 105,
     "metadata": {},
     "output_type": "execute_result"
    }
   ],
   "source": [
    "iris_petal = iris.groupby('Species')[[\"PetalLengthCm\",\\\n",
    "                                      \"PetalWidthCm\"]].mean()\n",
    "iris_petal"
   ]
  },
  {
   "cell_type": "markdown",
   "id": "b516ce38-f0b4-47eb-84f8-5609ffbc5338",
   "metadata": {},
   "source": [
    "## Crosstab"
   ]
  },
  {
   "cell_type": "code",
   "execution_count": 146,
   "id": "9a66f0fd-a529-47ed-821c-497b204e7357",
   "metadata": {},
   "outputs": [
    {
     "data": {
      "text/plain": [
       "<Axes: xlabel='PetalWidthCm'>"
      ]
     },
     "execution_count": 146,
     "metadata": {},
     "output_type": "execute_result"
    },
    {
     "data": {
      "image/png": "[encoded data removed]",
      "text/plain": [
       "<Figure size 640x480 with 1 Axes>"
      ]
     },
     "metadata": {},
     "output_type": "display_data"
    }
   ],
   "source": [
    "pd.crosstab(iris.PetalWidthCm, iris.Species).plot(kind='bar')"
   ]
  },
  {
   "cell_type": "code",
   "execution_count": 300,
   "id": "4c7cfa68-a562-4599-91a3-9615e9e891f3",
   "metadata": {},
   "outputs": [
    {
     "data": {
      "text/html": [
       "<div>\n",
       "<style scoped>\n",
       "    .dataframe tbody tr th:only-of-type {\n",
       "        vertical-align: middle;\n",
       "    }\n",
       "\n",
       "    .dataframe tbody tr th {\n",
       "        vertical-align: top;\n",
       "    }\n",
       "\n",
       "    .dataframe thead th {\n",
       "        text-align: right;\n",
       "    }\n",
       "</style>\n",
       "<table border=\"1\" class=\"dataframe\">\n",
       "  <thead>\n",
       "    <tr style=\"text-align: right;\">\n",
       "      <th>col_0</th>\n",
       "      <th>count</th>\n",
       "    </tr>\n",
       "    <tr>\n",
       "      <th>Species</th>\n",
       "      <th></th>\n",
       "    </tr>\n",
       "  </thead>\n",
       "  <tbody>\n",
       "    <tr>\n",
       "      <th>setosa</th>\n",
       "      <td>50</td>\n",
       "    </tr>\n",
       "    <tr>\n",
       "      <th>versicolor</th>\n",
       "      <td>50</td>\n",
       "    </tr>\n",
       "    <tr>\n",
       "      <th>virginica</th>\n",
       "      <td>50</td>\n",
       "    </tr>\n",
       "  </tbody>\n",
       "</table>\n",
       "</div>"
      ],
      "text/plain": [
       "col_0       count\n",
       "Species          \n",
       "setosa         50\n",
       "versicolor     50\n",
       "virginica      50"
      ]
     },
     "execution_count": 300,
     "metadata": {},
     "output_type": "execute_result"
    }
   ],
   "source": [
    "pd.crosstab(index=iris[\"Species\"],  columns=\"count\") "
   ]
  },
  {
   "cell_type": "markdown",
   "id": "9c3202c4-49bf-4318-8cfd-0a603c022297",
   "metadata": {},
   "source": [
    "## Reshaping"
   ]
  },
  {
   "cell_type": "markdown",
   "id": "2675b302-5d3b-4fbb-b29e-610320f10660",
   "metadata": {},
   "source": [
    "## ```stack()```"
   ]
  },
  {
   "cell_type": "code",
   "execution_count": 106,
   "id": "c3a8015a-a7e2-404b-a47d-1506ea5550ea",
   "metadata": {},
   "outputs": [
    {
     "data": {
      "text/html": [
       "<div>\n",
       "<style scoped>\n",
       "    .dataframe tbody tr th:only-of-type {\n",
       "        vertical-align: middle;\n",
       "    }\n",
       "\n",
       "    .dataframe tbody tr th {\n",
       "        vertical-align: top;\n",
       "    }\n",
       "\n",
       "    .dataframe thead th {\n",
       "        text-align: right;\n",
       "    }\n",
       "</style>\n",
       "<table border=\"1\" class=\"dataframe\">\n",
       "  <thead>\n",
       "    <tr style=\"text-align: right;\">\n",
       "      <th></th>\n",
       "      <th></th>\n",
       "      <th>Id</th>\n",
       "      <th>SepalLengthCm</th>\n",
       "      <th>SepalWidthCm</th>\n",
       "      <th>PetalLengthCm</th>\n",
       "      <th>PetalWidthCm</th>\n",
       "    </tr>\n",
       "    <tr>\n",
       "      <th></th>\n",
       "      <th>Species</th>\n",
       "      <th></th>\n",
       "      <th></th>\n",
       "      <th></th>\n",
       "      <th></th>\n",
       "      <th></th>\n",
       "    </tr>\n",
       "  </thead>\n",
       "  <tbody>\n",
       "    <tr>\n",
       "      <th>0</th>\n",
       "      <th>Iris-setosa</th>\n",
       "      <td>1</td>\n",
       "      <td>5.1</td>\n",
       "      <td>3.5</td>\n",
       "      <td>1.4</td>\n",
       "      <td>0.2</td>\n",
       "    </tr>\n",
       "    <tr>\n",
       "      <th>1</th>\n",
       "      <th>Iris-setosa</th>\n",
       "      <td>2</td>\n",
       "      <td>4.9</td>\n",
       "      <td>3.0</td>\n",
       "      <td>1.4</td>\n",
       "      <td>0.2</td>\n",
       "    </tr>\n",
       "    <tr>\n",
       "      <th>2</th>\n",
       "      <th>Iris-setosa</th>\n",
       "      <td>3</td>\n",
       "      <td>4.7</td>\n",
       "      <td>3.2</td>\n",
       "      <td>1.3</td>\n",
       "      <td>0.2</td>\n",
       "    </tr>\n",
       "    <tr>\n",
       "      <th>3</th>\n",
       "      <th>Iris-setosa</th>\n",
       "      <td>4</td>\n",
       "      <td>4.6</td>\n",
       "      <td>3.1</td>\n",
       "      <td>1.5</td>\n",
       "      <td>0.2</td>\n",
       "    </tr>\n",
       "    <tr>\n",
       "      <th>4</th>\n",
       "      <th>Iris-setosa</th>\n",
       "      <td>5</td>\n",
       "      <td>5.0</td>\n",
       "      <td>3.6</td>\n",
       "      <td>1.4</td>\n",
       "      <td>0.2</td>\n",
       "    </tr>\n",
       "    <tr>\n",
       "      <th>...</th>\n",
       "      <th>...</th>\n",
       "      <td>...</td>\n",
       "      <td>...</td>\n",
       "      <td>...</td>\n",
       "      <td>...</td>\n",
       "      <td>...</td>\n",
       "    </tr>\n",
       "    <tr>\n",
       "      <th>145</th>\n",
       "      <th>Iris-virginica</th>\n",
       "      <td>146</td>\n",
       "      <td>6.7</td>\n",
       "      <td>3.0</td>\n",
       "      <td>5.2</td>\n",
       "      <td>2.3</td>\n",
       "    </tr>\n",
       "    <tr>\n",
       "      <th>146</th>\n",
       "      <th>Iris-virginica</th>\n",
       "      <td>147</td>\n",
       "      <td>6.3</td>\n",
       "      <td>2.5</td>\n",
       "      <td>5.0</td>\n",
       "      <td>1.9</td>\n",
       "    </tr>\n",
       "    <tr>\n",
       "      <th>147</th>\n",
       "      <th>Iris-virginica</th>\n",
       "      <td>148</td>\n",
       "      <td>6.5</td>\n",
       "      <td>3.0</td>\n",
       "      <td>5.2</td>\n",
       "      <td>2.0</td>\n",
       "    </tr>\n",
       "    <tr>\n",
       "      <th>148</th>\n",
       "      <th>Iris-virginica</th>\n",
       "      <td>149</td>\n",
       "      <td>6.2</td>\n",
       "      <td>3.4</td>\n",
       "      <td>5.4</td>\n",
       "      <td>2.3</td>\n",
       "    </tr>\n",
       "    <tr>\n",
       "      <th>149</th>\n",
       "      <th>Iris-virginica</th>\n",
       "      <td>150</td>\n",
       "      <td>5.9</td>\n",
       "      <td>3.0</td>\n",
       "      <td>5.1</td>\n",
       "      <td>1.8</td>\n",
       "    </tr>\n",
       "  </tbody>\n",
       "</table>\n",
       "<p>150 rows × 5 columns</p>\n",
       "</div>"
      ],
      "text/plain": [
       "                     Id  SepalLengthCm  SepalWidthCm  PetalLengthCm  \\\n",
       "    Species                                                           \n",
       "0   Iris-setosa       1            5.1           3.5            1.4   \n",
       "1   Iris-setosa       2            4.9           3.0            1.4   \n",
       "2   Iris-setosa       3            4.7           3.2            1.3   \n",
       "3   Iris-setosa       4            4.6           3.1            1.5   \n",
       "4   Iris-setosa       5            5.0           3.6            1.4   \n",
       "...                 ...            ...           ...            ...   \n",
       "145 Iris-virginica  146            6.7           3.0            5.2   \n",
       "146 Iris-virginica  147            6.3           2.5            5.0   \n",
       "147 Iris-virginica  148            6.5           3.0            5.2   \n",
       "148 Iris-virginica  149            6.2           3.4            5.4   \n",
       "149 Iris-virginica  150            5.9           3.0            5.1   \n",
       "\n",
       "                    PetalWidthCm  \n",
       "    Species                       \n",
       "0   Iris-setosa              0.2  \n",
       "1   Iris-setosa              0.2  \n",
       "2   Iris-setosa              0.2  \n",
       "3   Iris-setosa              0.2  \n",
       "4   Iris-setosa              0.2  \n",
       "...                          ...  \n",
       "145 Iris-virginica           2.3  \n",
       "146 Iris-virginica           1.9  \n",
       "147 Iris-virginica           2.0  \n",
       "148 Iris-virginica           2.3  \n",
       "149 Iris-virginica           1.8  \n",
       "\n",
       "[150 rows x 5 columns]"
      ]
     },
     "execution_count": 106,
     "metadata": {},
     "output_type": "execute_result"
    }
   ],
   "source": [
    "# Ponemos como columna de index la de especies, asi aplicaremos los datos segun de que\n",
    "# especie sean:\n",
    "\n",
    "reiris = iris.set_index('Species', append=True)\n",
    "reiris"
   ]
  },
  {
   "cell_type": "code",
   "execution_count": 107,
   "id": "25d5c70c-1c0c-47fd-af29-8550f73afff1",
   "metadata": {},
   "outputs": [
    {
     "data": {
      "text/plain": [
       "     Species                      \n",
       "0    Iris-setosa     Id                 1.0\n",
       "                     SepalLengthCm      5.1\n",
       "                     SepalWidthCm       3.5\n",
       "                     PetalLengthCm      1.4\n",
       "                     PetalWidthCm       0.2\n",
       "                                      ...  \n",
       "149  Iris-virginica  Id               150.0\n",
       "                     SepalLengthCm      5.9\n",
       "                     SepalWidthCm       3.0\n",
       "                     PetalLengthCm      5.1\n",
       "                     PetalWidthCm       1.8\n",
       "Length: 750, dtype: float64"
      ]
     },
     "execution_count": 107,
     "metadata": {},
     "output_type": "execute_result"
    }
   ],
   "source": [
    "stack_iris = reiris.stack(future_stack=True)\n",
    "stack_iris"
   ]
  },
  {
   "cell_type": "markdown",
   "id": "51456de2-f362-4f01-855a-e41dee0b24ba",
   "metadata": {},
   "source": [
    "Nos muestra los datos apilados según la especie y las longitudes de los pétalos y sépalos.\n",
    "\n",
    "Para desapilar usaremos el método ```unstack```."
   ]
  },
  {
   "cell_type": "code",
   "execution_count": 108,
   "id": "d788fd67-8f70-4808-ba88-fedd66c65a6a",
   "metadata": {},
   "outputs": [
    {
     "data": {
      "text/html": [
       "<div>\n",
       "<style scoped>\n",
       "    .dataframe tbody tr th:only-of-type {\n",
       "        vertical-align: middle;\n",
       "    }\n",
       "\n",
       "    .dataframe tbody tr th {\n",
       "        vertical-align: top;\n",
       "    }\n",
       "\n",
       "    .dataframe thead tr th {\n",
       "        text-align: left;\n",
       "    }\n",
       "</style>\n",
       "<table border=\"1\" class=\"dataframe\">\n",
       "  <thead>\n",
       "    <tr>\n",
       "      <th></th>\n",
       "      <th colspan=\"3\" halign=\"left\">Id</th>\n",
       "      <th colspan=\"3\" halign=\"left\">SepalLengthCm</th>\n",
       "      <th colspan=\"3\" halign=\"left\">SepalWidthCm</th>\n",
       "      <th colspan=\"3\" halign=\"left\">PetalLengthCm</th>\n",
       "      <th colspan=\"3\" halign=\"left\">PetalWidthCm</th>\n",
       "    </tr>\n",
       "    <tr>\n",
       "      <th>Species</th>\n",
       "      <th>Iris-setosa</th>\n",
       "      <th>Iris-versicolor</th>\n",
       "      <th>Iris-virginica</th>\n",
       "      <th>Iris-setosa</th>\n",
       "      <th>Iris-versicolor</th>\n",
       "      <th>Iris-virginica</th>\n",
       "      <th>Iris-setosa</th>\n",
       "      <th>Iris-versicolor</th>\n",
       "      <th>Iris-virginica</th>\n",
       "      <th>Iris-setosa</th>\n",
       "      <th>Iris-versicolor</th>\n",
       "      <th>Iris-virginica</th>\n",
       "      <th>Iris-setosa</th>\n",
       "      <th>Iris-versicolor</th>\n",
       "      <th>Iris-virginica</th>\n",
       "    </tr>\n",
       "  </thead>\n",
       "  <tbody>\n",
       "    <tr>\n",
       "      <th>0</th>\n",
       "      <td>1.0</td>\n",
       "      <td>NaN</td>\n",
       "      <td>NaN</td>\n",
       "      <td>5.1</td>\n",
       "      <td>NaN</td>\n",
       "      <td>NaN</td>\n",
       "      <td>3.5</td>\n",
       "      <td>NaN</td>\n",
       "      <td>NaN</td>\n",
       "      <td>1.4</td>\n",
       "      <td>NaN</td>\n",
       "      <td>NaN</td>\n",
       "      <td>0.2</td>\n",
       "      <td>NaN</td>\n",
       "      <td>NaN</td>\n",
       "    </tr>\n",
       "    <tr>\n",
       "      <th>1</th>\n",
       "      <td>2.0</td>\n",
       "      <td>NaN</td>\n",
       "      <td>NaN</td>\n",
       "      <td>4.9</td>\n",
       "      <td>NaN</td>\n",
       "      <td>NaN</td>\n",
       "      <td>3.0</td>\n",
       "      <td>NaN</td>\n",
       "      <td>NaN</td>\n",
       "      <td>1.4</td>\n",
       "      <td>NaN</td>\n",
       "      <td>NaN</td>\n",
       "      <td>0.2</td>\n",
       "      <td>NaN</td>\n",
       "      <td>NaN</td>\n",
       "    </tr>\n",
       "    <tr>\n",
       "      <th>2</th>\n",
       "      <td>3.0</td>\n",
       "      <td>NaN</td>\n",
       "      <td>NaN</td>\n",
       "      <td>4.7</td>\n",
       "      <td>NaN</td>\n",
       "      <td>NaN</td>\n",
       "      <td>3.2</td>\n",
       "      <td>NaN</td>\n",
       "      <td>NaN</td>\n",
       "      <td>1.3</td>\n",
       "      <td>NaN</td>\n",
       "      <td>NaN</td>\n",
       "      <td>0.2</td>\n",
       "      <td>NaN</td>\n",
       "      <td>NaN</td>\n",
       "    </tr>\n",
       "    <tr>\n",
       "      <th>3</th>\n",
       "      <td>4.0</td>\n",
       "      <td>NaN</td>\n",
       "      <td>NaN</td>\n",
       "      <td>4.6</td>\n",
       "      <td>NaN</td>\n",
       "      <td>NaN</td>\n",
       "      <td>3.1</td>\n",
       "      <td>NaN</td>\n",
       "      <td>NaN</td>\n",
       "      <td>1.5</td>\n",
       "      <td>NaN</td>\n",
       "      <td>NaN</td>\n",
       "      <td>0.2</td>\n",
       "      <td>NaN</td>\n",
       "      <td>NaN</td>\n",
       "    </tr>\n",
       "    <tr>\n",
       "      <th>4</th>\n",
       "      <td>5.0</td>\n",
       "      <td>NaN</td>\n",
       "      <td>NaN</td>\n",
       "      <td>5.0</td>\n",
       "      <td>NaN</td>\n",
       "      <td>NaN</td>\n",
       "      <td>3.6</td>\n",
       "      <td>NaN</td>\n",
       "      <td>NaN</td>\n",
       "      <td>1.4</td>\n",
       "      <td>NaN</td>\n",
       "      <td>NaN</td>\n",
       "      <td>0.2</td>\n",
       "      <td>NaN</td>\n",
       "      <td>NaN</td>\n",
       "    </tr>\n",
       "    <tr>\n",
       "      <th>...</th>\n",
       "      <td>...</td>\n",
       "      <td>...</td>\n",
       "      <td>...</td>\n",
       "      <td>...</td>\n",
       "      <td>...</td>\n",
       "      <td>...</td>\n",
       "      <td>...</td>\n",
       "      <td>...</td>\n",
       "      <td>...</td>\n",
       "      <td>...</td>\n",
       "      <td>...</td>\n",
       "      <td>...</td>\n",
       "      <td>...</td>\n",
       "      <td>...</td>\n",
       "      <td>...</td>\n",
       "    </tr>\n",
       "    <tr>\n",
       "      <th>145</th>\n",
       "      <td>NaN</td>\n",
       "      <td>NaN</td>\n",
       "      <td>146.0</td>\n",
       "      <td>NaN</td>\n",
       "      <td>NaN</td>\n",
       "      <td>6.7</td>\n",
       "      <td>NaN</td>\n",
       "      <td>NaN</td>\n",
       "      <td>3.0</td>\n",
       "      <td>NaN</td>\n",
       "      <td>NaN</td>\n",
       "      <td>5.2</td>\n",
       "      <td>NaN</td>\n",
       "      <td>NaN</td>\n",
       "      <td>2.3</td>\n",
       "    </tr>\n",
       "    <tr>\n",
       "      <th>146</th>\n",
       "      <td>NaN</td>\n",
       "      <td>NaN</td>\n",
       "      <td>147.0</td>\n",
       "      <td>NaN</td>\n",
       "      <td>NaN</td>\n",
       "      <td>6.3</td>\n",
       "      <td>NaN</td>\n",
       "      <td>NaN</td>\n",
       "      <td>2.5</td>\n",
       "      <td>NaN</td>\n",
       "      <td>NaN</td>\n",
       "      <td>5.0</td>\n",
       "      <td>NaN</td>\n",
       "      <td>NaN</td>\n",
       "      <td>1.9</td>\n",
       "    </tr>\n",
       "    <tr>\n",
       "      <th>147</th>\n",
       "      <td>NaN</td>\n",
       "      <td>NaN</td>\n",
       "      <td>148.0</td>\n",
       "      <td>NaN</td>\n",
       "      <td>NaN</td>\n",
       "      <td>6.5</td>\n",
       "      <td>NaN</td>\n",
       "      <td>NaN</td>\n",
       "      <td>3.0</td>\n",
       "      <td>NaN</td>\n",
       "      <td>NaN</td>\n",
       "      <td>5.2</td>\n",
       "      <td>NaN</td>\n",
       "      <td>NaN</td>\n",
       "      <td>2.0</td>\n",
       "    </tr>\n",
       "    <tr>\n",
       "      <th>148</th>\n",
       "      <td>NaN</td>\n",
       "      <td>NaN</td>\n",
       "      <td>149.0</td>\n",
       "      <td>NaN</td>\n",
       "      <td>NaN</td>\n",
       "      <td>6.2</td>\n",
       "      <td>NaN</td>\n",
       "      <td>NaN</td>\n",
       "      <td>3.4</td>\n",
       "      <td>NaN</td>\n",
       "      <td>NaN</td>\n",
       "      <td>5.4</td>\n",
       "      <td>NaN</td>\n",
       "      <td>NaN</td>\n",
       "      <td>2.3</td>\n",
       "    </tr>\n",
       "    <tr>\n",
       "      <th>149</th>\n",
       "      <td>NaN</td>\n",
       "      <td>NaN</td>\n",
       "      <td>150.0</td>\n",
       "      <td>NaN</td>\n",
       "      <td>NaN</td>\n",
       "      <td>5.9</td>\n",
       "      <td>NaN</td>\n",
       "      <td>NaN</td>\n",
       "      <td>3.0</td>\n",
       "      <td>NaN</td>\n",
       "      <td>NaN</td>\n",
       "      <td>5.1</td>\n",
       "      <td>NaN</td>\n",
       "      <td>NaN</td>\n",
       "      <td>1.8</td>\n",
       "    </tr>\n",
       "  </tbody>\n",
       "</table>\n",
       "<p>150 rows × 15 columns</p>\n",
       "</div>"
      ],
      "text/plain": [
       "                 Id                                SepalLengthCm  \\\n",
       "Species Iris-setosa Iris-versicolor Iris-virginica   Iris-setosa   \n",
       "0               1.0             NaN            NaN           5.1   \n",
       "1               2.0             NaN            NaN           4.9   \n",
       "2               3.0             NaN            NaN           4.7   \n",
       "3               4.0             NaN            NaN           4.6   \n",
       "4               5.0             NaN            NaN           5.0   \n",
       "..              ...             ...            ...           ...   \n",
       "145             NaN             NaN          146.0           NaN   \n",
       "146             NaN             NaN          147.0           NaN   \n",
       "147             NaN             NaN          148.0           NaN   \n",
       "148             NaN             NaN          149.0           NaN   \n",
       "149             NaN             NaN          150.0           NaN   \n",
       "\n",
       "                                       SepalWidthCm                  \\\n",
       "Species Iris-versicolor Iris-virginica  Iris-setosa Iris-versicolor   \n",
       "0                   NaN            NaN          3.5             NaN   \n",
       "1                   NaN            NaN          3.0             NaN   \n",
       "2                   NaN            NaN          3.2             NaN   \n",
       "3                   NaN            NaN          3.1             NaN   \n",
       "4                   NaN            NaN          3.6             NaN   \n",
       "..                  ...            ...          ...             ...   \n",
       "145                 NaN            6.7          NaN             NaN   \n",
       "146                 NaN            6.3          NaN             NaN   \n",
       "147                 NaN            6.5          NaN             NaN   \n",
       "148                 NaN            6.2          NaN             NaN   \n",
       "149                 NaN            5.9          NaN             NaN   \n",
       "\n",
       "                       PetalLengthCm                                 \\\n",
       "Species Iris-virginica   Iris-setosa Iris-versicolor Iris-virginica   \n",
       "0                  NaN           1.4             NaN            NaN   \n",
       "1                  NaN           1.4             NaN            NaN   \n",
       "2                  NaN           1.3             NaN            NaN   \n",
       "3                  NaN           1.5             NaN            NaN   \n",
       "4                  NaN           1.4             NaN            NaN   \n",
       "..                 ...           ...             ...            ...   \n",
       "145                3.0           NaN             NaN            5.2   \n",
       "146                2.5           NaN             NaN            5.0   \n",
       "147                3.0           NaN             NaN            5.2   \n",
       "148                3.4           NaN             NaN            5.4   \n",
       "149                3.0           NaN             NaN            5.1   \n",
       "\n",
       "        PetalWidthCm                                 \n",
       "Species  Iris-setosa Iris-versicolor Iris-virginica  \n",
       "0                0.2             NaN            NaN  \n",
       "1                0.2             NaN            NaN  \n",
       "2                0.2             NaN            NaN  \n",
       "3                0.2             NaN            NaN  \n",
       "4                0.2             NaN            NaN  \n",
       "..               ...             ...            ...  \n",
       "145              NaN             NaN            2.3  \n",
       "146              NaN             NaN            1.9  \n",
       "147              NaN             NaN            2.0  \n",
       "148              NaN             NaN            2.3  \n",
       "149              NaN             NaN            1.8  \n",
       "\n",
       "[150 rows x 15 columns]"
      ]
     },
     "execution_count": 108,
     "metadata": {},
     "output_type": "execute_result"
    }
   ],
   "source": [
    "unstack_iris = reiris.unstack()\n",
    "unstack_iris"
   ]
  },
  {
   "cell_type": "markdown",
   "id": "dca97102-9681-4ad9-a776-5d60cd2f989b",
   "metadata": {},
   "source": [
    "## ```pivot_table()```"
   ]
  },
  {
   "cell_type": "code",
   "execution_count": 109,
   "id": "5190b83c-97b1-4e7a-b393-7e269ede5f89",
   "metadata": {},
   "outputs": [
    {
     "data": {
      "text/html": [
       "<div>\n",
       "<style scoped>\n",
       "    .dataframe tbody tr th:only-of-type {\n",
       "        vertical-align: middle;\n",
       "    }\n",
       "\n",
       "    .dataframe tbody tr th {\n",
       "        vertical-align: top;\n",
       "    }\n",
       "\n",
       "    .dataframe thead th {\n",
       "        text-align: right;\n",
       "    }\n",
       "</style>\n",
       "<table border=\"1\" class=\"dataframe\">\n",
       "  <thead>\n",
       "    <tr style=\"text-align: right;\">\n",
       "      <th></th>\n",
       "      <th>Id</th>\n",
       "      <th>PetalLengthCm</th>\n",
       "      <th>PetalWidthCm</th>\n",
       "      <th>SepalLengthCm</th>\n",
       "      <th>SepalWidthCm</th>\n",
       "    </tr>\n",
       "    <tr>\n",
       "      <th>Species</th>\n",
       "      <th></th>\n",
       "      <th></th>\n",
       "      <th></th>\n",
       "      <th></th>\n",
       "      <th></th>\n",
       "    </tr>\n",
       "  </thead>\n",
       "  <tbody>\n",
       "    <tr>\n",
       "      <th>Iris-setosa</th>\n",
       "      <td>25.5</td>\n",
       "      <td>1.464</td>\n",
       "      <td>0.244</td>\n",
       "      <td>5.006</td>\n",
       "      <td>3.418</td>\n",
       "    </tr>\n",
       "    <tr>\n",
       "      <th>Iris-versicolor</th>\n",
       "      <td>75.5</td>\n",
       "      <td>4.260</td>\n",
       "      <td>1.326</td>\n",
       "      <td>5.936</td>\n",
       "      <td>2.770</td>\n",
       "    </tr>\n",
       "    <tr>\n",
       "      <th>Iris-virginica</th>\n",
       "      <td>125.5</td>\n",
       "      <td>5.552</td>\n",
       "      <td>2.026</td>\n",
       "      <td>6.588</td>\n",
       "      <td>2.974</td>\n",
       "    </tr>\n",
       "  </tbody>\n",
       "</table>\n",
       "</div>"
      ],
      "text/plain": [
       "                    Id  PetalLengthCm  PetalWidthCm  SepalLengthCm  \\\n",
       "Species                                                              \n",
       "Iris-setosa       25.5          1.464         0.244          5.006   \n",
       "Iris-versicolor   75.5          4.260         1.326          5.936   \n",
       "Iris-virginica   125.5          5.552         2.026          6.588   \n",
       "\n",
       "                 SepalWidthCm  \n",
       "Species                        \n",
       "Iris-setosa             3.418  \n",
       "Iris-versicolor         2.770  \n",
       "Iris-virginica          2.974  "
      ]
     },
     "execution_count": 109,
     "metadata": {},
     "output_type": "execute_result"
    }
   ],
   "source": [
    "# Agrupación de datos de especie por media:\n",
    "# Podemos añadir: df, values=\"D\", index=[\"A\", \"B\"], columns=[\"C\"]\n",
    "\n",
    "iris_pivot = pd.pivot_table(iris, index='Species')\n",
    "iris_pivot"
   ]
  },
  {
   "cell_type": "code",
   "execution_count": 110,
   "id": "47a72781-bd02-4e80-be98-7ac2f1d297b6",
   "metadata": {},
   "outputs": [
    {
     "data": {
      "text/html": [
       "<div>\n",
       "<style scoped>\n",
       "    .dataframe tbody tr th:only-of-type {\n",
       "        vertical-align: middle;\n",
       "    }\n",
       "\n",
       "    .dataframe tbody tr th {\n",
       "        vertical-align: top;\n",
       "    }\n",
       "\n",
       "    .dataframe thead th {\n",
       "        text-align: right;\n",
       "    }\n",
       "</style>\n",
       "<table border=\"1\" class=\"dataframe\">\n",
       "  <thead>\n",
       "    <tr style=\"text-align: right;\">\n",
       "      <th></th>\n",
       "      <th>Id</th>\n",
       "      <th>PetalLengthCm</th>\n",
       "      <th>PetalWidthCm</th>\n",
       "      <th>SepalLengthCm</th>\n",
       "      <th>SepalWidthCm</th>\n",
       "    </tr>\n",
       "    <tr>\n",
       "      <th>Species</th>\n",
       "      <th></th>\n",
       "      <th></th>\n",
       "      <th></th>\n",
       "      <th></th>\n",
       "      <th></th>\n",
       "    </tr>\n",
       "  </thead>\n",
       "  <tbody>\n",
       "    <tr>\n",
       "      <th>Iris-setosa</th>\n",
       "      <td>1275</td>\n",
       "      <td>73.2</td>\n",
       "      <td>12.2</td>\n",
       "      <td>250.3</td>\n",
       "      <td>170.9</td>\n",
       "    </tr>\n",
       "    <tr>\n",
       "      <th>Iris-versicolor</th>\n",
       "      <td>3775</td>\n",
       "      <td>213.0</td>\n",
       "      <td>66.3</td>\n",
       "      <td>296.8</td>\n",
       "      <td>138.5</td>\n",
       "    </tr>\n",
       "    <tr>\n",
       "      <th>Iris-virginica</th>\n",
       "      <td>6275</td>\n",
       "      <td>277.6</td>\n",
       "      <td>101.3</td>\n",
       "      <td>329.4</td>\n",
       "      <td>148.7</td>\n",
       "    </tr>\n",
       "  </tbody>\n",
       "</table>\n",
       "</div>"
      ],
      "text/plain": [
       "                   Id  PetalLengthCm  PetalWidthCm  SepalLengthCm  \\\n",
       "Species                                                             \n",
       "Iris-setosa      1275           73.2          12.2          250.3   \n",
       "Iris-versicolor  3775          213.0          66.3          296.8   \n",
       "Iris-virginica   6275          277.6         101.3          329.4   \n",
       "\n",
       "                 SepalWidthCm  \n",
       "Species                        \n",
       "Iris-setosa             170.9  \n",
       "Iris-versicolor         138.5  \n",
       "Iris-virginica          148.7  "
      ]
     },
     "execution_count": 110,
     "metadata": {},
     "output_type": "execute_result"
    }
   ],
   "source": [
    "# Agrupación de datos de especie por media:\n",
    "\n",
    "iris_pivot2 = pd.pivot_table(iris, index='Species', aggfunc=\"sum\")\n",
    "iris_pivot2"
   ]
  },
  {
   "cell_type": "code",
   "execution_count": 111,
   "id": "bcd9303c-fa9a-4041-9143-33e8b7c01be7",
   "metadata": {},
   "outputs": [
    {
     "data": {
      "text/html": [
       "<div>\n",
       "<style scoped>\n",
       "    .dataframe tbody tr th:only-of-type {\n",
       "        vertical-align: middle;\n",
       "    }\n",
       "\n",
       "    .dataframe tbody tr th {\n",
       "        vertical-align: top;\n",
       "    }\n",
       "\n",
       "    .dataframe thead th {\n",
       "        text-align: right;\n",
       "    }\n",
       "</style>\n",
       "<table border=\"1\" class=\"dataframe\">\n",
       "  <thead>\n",
       "    <tr style=\"text-align: right;\">\n",
       "      <th></th>\n",
       "      <th>PetalLengthCm</th>\n",
       "    </tr>\n",
       "    <tr>\n",
       "      <th>Species</th>\n",
       "      <th></th>\n",
       "    </tr>\n",
       "  </thead>\n",
       "  <tbody>\n",
       "    <tr>\n",
       "      <th>Iris-setosa</th>\n",
       "      <td>1.464</td>\n",
       "    </tr>\n",
       "    <tr>\n",
       "      <th>Iris-versicolor</th>\n",
       "      <td>4.260</td>\n",
       "    </tr>\n",
       "    <tr>\n",
       "      <th>Iris-virginica</th>\n",
       "      <td>5.552</td>\n",
       "    </tr>\n",
       "  </tbody>\n",
       "</table>\n",
       "</div>"
      ],
      "text/plain": [
       "                 PetalLengthCm\n",
       "Species                       \n",
       "Iris-setosa              1.464\n",
       "Iris-versicolor          4.260\n",
       "Iris-virginica           5.552"
      ]
     },
     "execution_count": 111,
     "metadata": {},
     "output_type": "execute_result"
    }
   ],
   "source": [
    "# el parametro values nos ayuda a seleccionar las columnas concretas:\n",
    "\n",
    "\n",
    "iris_pivot = pd.pivot_table(iris, values=\"PetalLengthCm\", index='Species')\n",
    "iris_pivot"
   ]
  },
  {
   "cell_type": "markdown",
   "id": "7d56da94-aa4a-4e1e-bb7a-e3f442eafc61",
   "metadata": {},
   "source": [
    "## Time Series"
   ]
  },
  {
   "cell_type": "code",
   "execution_count": 112,
   "id": "94d60c64-b189-42e6-ab11-eeb9abfe8aff",
   "metadata": {},
   "outputs": [
    {
     "data": {
      "text/plain": [
       "2024-06-01    0.346906\n",
       "2024-06-02    0.288451\n",
       "2024-06-03    0.031042\n",
       "2024-06-04    1.270237\n",
       "2024-06-05    1.052303\n",
       "2024-06-06    0.919944\n",
       "2024-06-07   -0.463178\n",
       "2024-06-08    0.521568\n",
       "2024-06-09   -1.929001\n",
       "2024-06-10   -1.912312\n",
       "2024-06-11   -0.139794\n",
       "2024-06-12    0.263261\n",
       "2024-06-13   -1.394229\n",
       "2024-06-14    1.274259\n",
       "2024-06-15    0.174525\n",
       "Freq: D, dtype: float64"
      ]
     },
     "execution_count": 112,
     "metadata": {},
     "output_type": "execute_result"
    }
   ],
   "source": [
    "# Generamos una serie temporal primero generamos los valores de la fecha de la que quieres partir, creando 15 días consecutivos:\n",
    "# Una vez creados ponemos valores aleatorios a esas fechas:\n",
    "\n",
    "rng = pd.date_range(\"6/1/2024 00:00\", periods=15, freq=\"D\")\n",
    "ts = pd.Series(np.random.randn(len(rng)), rng)\n",
    "ts"
   ]
  },
  {
   "cell_type": "markdown",
   "id": "5cafedb2-5357-44ca-9935-a577da4ba099",
   "metadata": {},
   "source": [
    "## ```tz_localize()```"
   ]
  },
  {
   "cell_type": "code",
   "execution_count": 113,
   "id": "1e175a76-5402-4a8d-943d-6e7e1500f1b7",
   "metadata": {
    "scrolled": true
   },
   "outputs": [
    {
     "data": {
      "text/plain": [
       "2024-06-01 00:00:00+00:00    0.346906\n",
       "2024-06-02 00:00:00+00:00    0.288451\n",
       "2024-06-03 00:00:00+00:00    0.031042\n",
       "2024-06-04 00:00:00+00:00    1.270237\n",
       "2024-06-05 00:00:00+00:00    1.052303\n",
       "2024-06-06 00:00:00+00:00    0.919944\n",
       "2024-06-07 00:00:00+00:00   -0.463178\n",
       "2024-06-08 00:00:00+00:00    0.521568\n",
       "2024-06-09 00:00:00+00:00   -1.929001\n",
       "2024-06-10 00:00:00+00:00   -1.912312\n",
       "2024-06-11 00:00:00+00:00   -0.139794\n",
       "2024-06-12 00:00:00+00:00    0.263261\n",
       "2024-06-13 00:00:00+00:00   -1.394229\n",
       "2024-06-14 00:00:00+00:00    1.274259\n",
       "2024-06-15 00:00:00+00:00    0.174525\n",
       "Freq: D, dtype: float64"
      ]
     },
     "execution_count": 113,
     "metadata": {},
     "output_type": "execute_result"
    }
   ],
   "source": [
    "# añadimos la hora al dataframe creado:\n",
    "\n",
    "ts_utc = ts.tz_localize(\"UTC\")\n",
    "ts_utc"
   ]
  },
  {
   "cell_type": "markdown",
   "id": "a943a1d2-e5bb-46d1-b287-da73522ed4b2",
   "metadata": {},
   "source": [
    "## ```tz_convert()```"
   ]
  },
  {
   "cell_type": "code",
   "execution_count": 114,
   "id": "85da9607-9f06-4414-8541-fcfa87529e7e",
   "metadata": {},
   "outputs": [
    {
     "data": {
      "text/plain": [
       "2024-06-01 02:00:00+02:00    0.346906\n",
       "2024-06-02 02:00:00+02:00    0.288451\n",
       "2024-06-03 02:00:00+02:00    0.031042\n",
       "2024-06-04 02:00:00+02:00    1.270237\n",
       "2024-06-05 02:00:00+02:00    1.052303\n",
       "2024-06-06 02:00:00+02:00    0.919944\n",
       "2024-06-07 02:00:00+02:00   -0.463178\n",
       "2024-06-08 02:00:00+02:00    0.521568\n",
       "2024-06-09 02:00:00+02:00   -1.929001\n",
       "2024-06-10 02:00:00+02:00   -1.912312\n",
       "2024-06-11 02:00:00+02:00   -0.139794\n",
       "2024-06-12 02:00:00+02:00    0.263261\n",
       "2024-06-13 02:00:00+02:00   -1.394229\n",
       "2024-06-14 02:00:00+02:00    1.274259\n",
       "2024-06-15 02:00:00+02:00    0.174525\n",
       "Freq: D, dtype: float64"
      ]
     },
     "execution_count": 114,
     "metadata": {},
     "output_type": "execute_result"
    }
   ],
   "source": [
    "# Ponemos la franja horaria a la cual nos encontramos:\n",
    "\n",
    "ts_utc.tz_convert(\"Europe/Madrid\")"
   ]
  },
  {
   "cell_type": "markdown",
   "id": "ecf40b04-a2b6-4dc3-b519-8c5c45efd404",
   "metadata": {},
   "source": [
    "## ```offsets.BusinessDay()```"
   ]
  },
  {
   "cell_type": "markdown",
   "id": "fc47b2b7-b203-4f5d-8cd6-3de20720ea4a",
   "metadata": {},
   "source": [
    "Escogemos de ese periodo de tiempo los que sean laborables, ayuda de offset.BusinnesDay():"
   ]
  },
  {
   "cell_type": "code",
   "execution_count": 115,
   "id": "4575a92f-ad06-438f-aa43-8478e20fbc2c",
   "metadata": {},
   "outputs": [
    {
     "data": {
      "text/plain": [
       "DatetimeIndex(['2024-06-01', '2024-06-02', '2024-06-03', '2024-06-04',\n",
       "               '2024-06-05', '2024-06-06', '2024-06-07', '2024-06-08',\n",
       "               '2024-06-09', '2024-06-10', '2024-06-11', '2024-06-12',\n",
       "               '2024-06-13', '2024-06-14', '2024-06-15'],\n",
       "              dtype='datetime64[ns]', freq='D')"
      ]
     },
     "execution_count": 115,
     "metadata": {},
     "output_type": "execute_result"
    }
   ],
   "source": [
    "rng"
   ]
  },
  {
   "cell_type": "code",
   "execution_count": 116,
   "id": "58898cec-def8-404c-94ec-3fa6d2e3f62b",
   "metadata": {},
   "outputs": [
    {
     "data": {
      "text/plain": [
       "DatetimeIndex(['2024-06-07', '2024-06-07', '2024-06-10', '2024-06-11',\n",
       "               '2024-06-12', '2024-06-13', '2024-06-14', '2024-06-14',\n",
       "               '2024-06-14', '2024-06-17', '2024-06-18', '2024-06-19',\n",
       "               '2024-06-20', '2024-06-21', '2024-06-21'],\n",
       "              dtype='datetime64[ns]', freq=None)"
      ]
     },
     "execution_count": 116,
     "metadata": {},
     "output_type": "execute_result"
    }
   ],
   "source": [
    "# se añade 5 como número de días a representar:\n",
    "rng = rng + pd.offsets.BusinessDay(5)\n",
    "rng"
   ]
  },
  {
   "cell_type": "code",
   "execution_count": 117,
   "id": "4cf4b1c1-342f-4220-96e6-886bfc2d8e85",
   "metadata": {},
   "outputs": [
    {
     "data": {
      "text/plain": [
       "2024-06-07 00:00:00+00:00   -0.495060\n",
       "2024-06-07 00:00:00+00:00    0.788531\n",
       "2024-06-10 00:00:00+00:00   -1.938738\n",
       "2024-06-11 00:00:00+00:00   -1.249571\n",
       "2024-06-12 00:00:00+00:00    1.566901\n",
       "2024-06-13 00:00:00+00:00   -0.111340\n",
       "2024-06-14 00:00:00+00:00    1.495749\n",
       "2024-06-14 00:00:00+00:00    0.437409\n",
       "2024-06-14 00:00:00+00:00    0.052301\n",
       "2024-06-17 00:00:00+00:00    0.477631\n",
       "2024-06-18 00:00:00+00:00    0.497986\n",
       "2024-06-19 00:00:00+00:00    0.068289\n",
       "2024-06-20 00:00:00+00:00    0.649090\n",
       "2024-06-21 00:00:00+00:00   -0.799040\n",
       "2024-06-21 00:00:00+00:00   -0.434084\n",
       "dtype: float64"
      ]
     },
     "execution_count": 117,
     "metadata": {},
     "output_type": "execute_result"
    }
   ],
   "source": [
    "ts = pd.Series(np.random.randn(len(rng)), rng).tz_localize(\"UTC\")\n",
    "ts"
   ]
  },
  {
   "cell_type": "code",
   "execution_count": 118,
   "id": "94b9f2e7-0008-4698-b49b-3c638d1c92b0",
   "metadata": {},
   "outputs": [
    {
     "data": {
      "text/plain": [
       "2024-06-07 02:00:00+02:00   -0.495060\n",
       "2024-06-07 02:00:00+02:00    0.788531\n",
       "2024-06-10 02:00:00+02:00   -1.938738\n",
       "2024-06-11 02:00:00+02:00   -1.249571\n",
       "2024-06-12 02:00:00+02:00    1.566901\n",
       "2024-06-13 02:00:00+02:00   -0.111340\n",
       "2024-06-14 02:00:00+02:00    1.495749\n",
       "2024-06-14 02:00:00+02:00    0.437409\n",
       "2024-06-14 02:00:00+02:00    0.052301\n",
       "2024-06-17 02:00:00+02:00    0.477631\n",
       "2024-06-18 02:00:00+02:00    0.497986\n",
       "2024-06-19 02:00:00+02:00    0.068289\n",
       "2024-06-20 02:00:00+02:00    0.649090\n",
       "2024-06-21 02:00:00+02:00   -0.799040\n",
       "2024-06-21 02:00:00+02:00   -0.434084\n",
       "dtype: float64"
      ]
     },
     "execution_count": 118,
     "metadata": {},
     "output_type": "execute_result"
    }
   ],
   "source": [
    "ts.tz_convert(\"Europe/Madrid\")"
   ]
  },
  {
   "cell_type": "code",
   "execution_count": 120,
   "id": "6ae86229-53c5-4126-922a-6fb272e2ba88",
   "metadata": {},
   "outputs": [],
   "source": [
    "# pip install matplotlib"
   ]
  },
  {
   "cell_type": "code",
   "execution_count": 121,
   "id": "eece75e1-c381-4c52-ba14-c1400abb3d3f",
   "metadata": {},
   "outputs": [],
   "source": [
    "import matplotlib.pyplot as plt"
   ]
  },
  {
   "cell_type": "code",
   "execution_count": 122,
   "id": "c7ad08b5-ad77-46be-9b39-51732e046f0d",
   "metadata": {},
   "outputs": [
    {
     "data": {
      "text/plain": [
       "<Axes: >"
      ]
     },
     "execution_count": 122,
     "metadata": {},
     "output_type": "execute_result"
    },
    {
     "data": {
      "image/png": "[encoded data removed]",
      "text/plain": [
       "<Figure size 640x480 with 1 Axes>"
      ]
     },
     "metadata": {},
     "output_type": "display_data"
    }
   ],
   "source": [
    "ts.plot()"
   ]
  },
  {
   "cell_type": "markdown",
   "id": "5c399c17-a391-4ec6-a2a7-dae04d4e952e",
   "metadata": {},
   "source": [
    "## Categoricals"
   ]
  },
  {
   "cell_type": "code",
   "execution_count": 123,
   "id": "c314fbca-f63f-4ba9-84cf-978b62192d6b",
   "metadata": {},
   "outputs": [
    {
     "data": {
      "text/html": [
       "<div>\n",
       "<style scoped>\n",
       "    .dataframe tbody tr th:only-of-type {\n",
       "        vertical-align: middle;\n",
       "    }\n",
       "\n",
       "    .dataframe tbody tr th {\n",
       "        vertical-align: top;\n",
       "    }\n",
       "\n",
       "    .dataframe thead th {\n",
       "        text-align: right;\n",
       "    }\n",
       "</style>\n",
       "<table border=\"1\" class=\"dataframe\">\n",
       "  <thead>\n",
       "    <tr style=\"text-align: right;\">\n",
       "      <th></th>\n",
       "      <th>Id</th>\n",
       "      <th>SepalLengthCm</th>\n",
       "      <th>SepalWidthCm</th>\n",
       "      <th>PetalLengthCm</th>\n",
       "      <th>PetalWidthCm</th>\n",
       "      <th>Species</th>\n",
       "    </tr>\n",
       "  </thead>\n",
       "  <tbody>\n",
       "    <tr>\n",
       "      <th>0</th>\n",
       "      <td>1</td>\n",
       "      <td>5.1</td>\n",
       "      <td>3.5</td>\n",
       "      <td>1.4</td>\n",
       "      <td>0.2</td>\n",
       "      <td>Iris-setosa</td>\n",
       "    </tr>\n",
       "    <tr>\n",
       "      <th>1</th>\n",
       "      <td>2</td>\n",
       "      <td>4.9</td>\n",
       "      <td>3.0</td>\n",
       "      <td>1.4</td>\n",
       "      <td>0.2</td>\n",
       "      <td>Iris-setosa</td>\n",
       "    </tr>\n",
       "    <tr>\n",
       "      <th>2</th>\n",
       "      <td>3</td>\n",
       "      <td>4.7</td>\n",
       "      <td>3.2</td>\n",
       "      <td>1.3</td>\n",
       "      <td>0.2</td>\n",
       "      <td>Iris-setosa</td>\n",
       "    </tr>\n",
       "    <tr>\n",
       "      <th>3</th>\n",
       "      <td>4</td>\n",
       "      <td>4.6</td>\n",
       "      <td>3.1</td>\n",
       "      <td>1.5</td>\n",
       "      <td>0.2</td>\n",
       "      <td>Iris-setosa</td>\n",
       "    </tr>\n",
       "    <tr>\n",
       "      <th>4</th>\n",
       "      <td>5</td>\n",
       "      <td>5.0</td>\n",
       "      <td>3.6</td>\n",
       "      <td>1.4</td>\n",
       "      <td>0.2</td>\n",
       "      <td>Iris-setosa</td>\n",
       "    </tr>\n",
       "    <tr>\n",
       "      <th>...</th>\n",
       "      <td>...</td>\n",
       "      <td>...</td>\n",
       "      <td>...</td>\n",
       "      <td>...</td>\n",
       "      <td>...</td>\n",
       "      <td>...</td>\n",
       "    </tr>\n",
       "    <tr>\n",
       "      <th>145</th>\n",
       "      <td>146</td>\n",
       "      <td>6.7</td>\n",
       "      <td>3.0</td>\n",
       "      <td>5.2</td>\n",
       "      <td>2.3</td>\n",
       "      <td>Iris-virginica</td>\n",
       "    </tr>\n",
       "    <tr>\n",
       "      <th>146</th>\n",
       "      <td>147</td>\n",
       "      <td>6.3</td>\n",
       "      <td>2.5</td>\n",
       "      <td>5.0</td>\n",
       "      <td>1.9</td>\n",
       "      <td>Iris-virginica</td>\n",
       "    </tr>\n",
       "    <tr>\n",
       "      <th>147</th>\n",
       "      <td>148</td>\n",
       "      <td>6.5</td>\n",
       "      <td>3.0</td>\n",
       "      <td>5.2</td>\n",
       "      <td>2.0</td>\n",
       "      <td>Iris-virginica</td>\n",
       "    </tr>\n",
       "    <tr>\n",
       "      <th>148</th>\n",
       "      <td>149</td>\n",
       "      <td>6.2</td>\n",
       "      <td>3.4</td>\n",
       "      <td>5.4</td>\n",
       "      <td>2.3</td>\n",
       "      <td>Iris-virginica</td>\n",
       "    </tr>\n",
       "    <tr>\n",
       "      <th>149</th>\n",
       "      <td>150</td>\n",
       "      <td>5.9</td>\n",
       "      <td>3.0</td>\n",
       "      <td>5.1</td>\n",
       "      <td>1.8</td>\n",
       "      <td>Iris-virginica</td>\n",
       "    </tr>\n",
       "  </tbody>\n",
       "</table>\n",
       "<p>150 rows × 6 columns</p>\n",
       "</div>"
      ],
      "text/plain": [
       "      Id  SepalLengthCm  SepalWidthCm  PetalLengthCm  PetalWidthCm  \\\n",
       "0      1            5.1           3.5            1.4           0.2   \n",
       "1      2            4.9           3.0            1.4           0.2   \n",
       "2      3            4.7           3.2            1.3           0.2   \n",
       "3      4            4.6           3.1            1.5           0.2   \n",
       "4      5            5.0           3.6            1.4           0.2   \n",
       "..   ...            ...           ...            ...           ...   \n",
       "145  146            6.7           3.0            5.2           2.3   \n",
       "146  147            6.3           2.5            5.0           1.9   \n",
       "147  148            6.5           3.0            5.2           2.0   \n",
       "148  149            6.2           3.4            5.4           2.3   \n",
       "149  150            5.9           3.0            5.1           1.8   \n",
       "\n",
       "            Species  \n",
       "0       Iris-setosa  \n",
       "1       Iris-setosa  \n",
       "2       Iris-setosa  \n",
       "3       Iris-setosa  \n",
       "4       Iris-setosa  \n",
       "..              ...  \n",
       "145  Iris-virginica  \n",
       "146  Iris-virginica  \n",
       "147  Iris-virginica  \n",
       "148  Iris-virginica  \n",
       "149  Iris-virginica  \n",
       "\n",
       "[150 rows x 6 columns]"
      ]
     },
     "execution_count": 123,
     "metadata": {},
     "output_type": "execute_result"
    }
   ],
   "source": [
    "iris"
   ]
  },
  {
   "cell_type": "code",
   "execution_count": 124,
   "id": "5991c7c8-9a39-4aab-8791-e994d0370537",
   "metadata": {},
   "outputs": [
    {
     "data": {
      "text/plain": [
       "Id                 int64\n",
       "SepalLengthCm    float64\n",
       "SepalWidthCm     float64\n",
       "PetalLengthCm    float64\n",
       "PetalWidthCm     float64\n",
       "Species           object\n",
       "dtype: object"
      ]
     },
     "execution_count": 124,
     "metadata": {},
     "output_type": "execute_result"
    }
   ],
   "source": [
    "iris.dtypes"
   ]
  },
  {
   "cell_type": "code",
   "execution_count": 125,
   "id": "24c62d6c-3030-45b9-8a76-c1602bcc16fc",
   "metadata": {},
   "outputs": [
    {
     "data": {
      "text/plain": [
       "Id                  int64\n",
       "SepalLengthCm     float64\n",
       "SepalWidthCm      float64\n",
       "PetalLengthCm     float64\n",
       "PetalWidthCm      float64\n",
       "Species          category\n",
       "dtype: object"
      ]
     },
     "execution_count": 125,
     "metadata": {},
     "output_type": "execute_result"
    }
   ],
   "source": [
    "# Convertimos la columna Species en categoricas:\n",
    "iris[\"Species\"] = iris[\"Species\"].astype(\"category\")\n",
    "iris.dtypes"
   ]
  },
  {
   "cell_type": "markdown",
   "id": "ff8d2229-1b99-45bf-87db-05cf55aa75a0",
   "metadata": {},
   "source": [
    "## ```rename_categories()```"
   ]
  },
  {
   "cell_type": "code",
   "execution_count": 126,
   "id": "7a709194-995a-42df-a6cf-a3425e4c64eb",
   "metadata": {},
   "outputs": [
    {
     "data": {
      "text/html": [
       "<div>\n",
       "<style scoped>\n",
       "    .dataframe tbody tr th:only-of-type {\n",
       "        vertical-align: middle;\n",
       "    }\n",
       "\n",
       "    .dataframe tbody tr th {\n",
       "        vertical-align: top;\n",
       "    }\n",
       "\n",
       "    .dataframe thead th {\n",
       "        text-align: right;\n",
       "    }\n",
       "</style>\n",
       "<table border=\"1\" class=\"dataframe\">\n",
       "  <thead>\n",
       "    <tr style=\"text-align: right;\">\n",
       "      <th></th>\n",
       "      <th>Id</th>\n",
       "      <th>SepalLengthCm</th>\n",
       "      <th>SepalWidthCm</th>\n",
       "      <th>PetalLengthCm</th>\n",
       "      <th>PetalWidthCm</th>\n",
       "      <th>Species</th>\n",
       "    </tr>\n",
       "  </thead>\n",
       "  <tbody>\n",
       "    <tr>\n",
       "      <th>0</th>\n",
       "      <td>1</td>\n",
       "      <td>5.1</td>\n",
       "      <td>3.5</td>\n",
       "      <td>1.4</td>\n",
       "      <td>0.2</td>\n",
       "      <td>setosa</td>\n",
       "    </tr>\n",
       "    <tr>\n",
       "      <th>1</th>\n",
       "      <td>2</td>\n",
       "      <td>4.9</td>\n",
       "      <td>3.0</td>\n",
       "      <td>1.4</td>\n",
       "      <td>0.2</td>\n",
       "      <td>setosa</td>\n",
       "    </tr>\n",
       "    <tr>\n",
       "      <th>2</th>\n",
       "      <td>3</td>\n",
       "      <td>4.7</td>\n",
       "      <td>3.2</td>\n",
       "      <td>1.3</td>\n",
       "      <td>0.2</td>\n",
       "      <td>setosa</td>\n",
       "    </tr>\n",
       "    <tr>\n",
       "      <th>3</th>\n",
       "      <td>4</td>\n",
       "      <td>4.6</td>\n",
       "      <td>3.1</td>\n",
       "      <td>1.5</td>\n",
       "      <td>0.2</td>\n",
       "      <td>setosa</td>\n",
       "    </tr>\n",
       "    <tr>\n",
       "      <th>4</th>\n",
       "      <td>5</td>\n",
       "      <td>5.0</td>\n",
       "      <td>3.6</td>\n",
       "      <td>1.4</td>\n",
       "      <td>0.2</td>\n",
       "      <td>setosa</td>\n",
       "    </tr>\n",
       "    <tr>\n",
       "      <th>...</th>\n",
       "      <td>...</td>\n",
       "      <td>...</td>\n",
       "      <td>...</td>\n",
       "      <td>...</td>\n",
       "      <td>...</td>\n",
       "      <td>...</td>\n",
       "    </tr>\n",
       "    <tr>\n",
       "      <th>145</th>\n",
       "      <td>146</td>\n",
       "      <td>6.7</td>\n",
       "      <td>3.0</td>\n",
       "      <td>5.2</td>\n",
       "      <td>2.3</td>\n",
       "      <td>virginica</td>\n",
       "    </tr>\n",
       "    <tr>\n",
       "      <th>146</th>\n",
       "      <td>147</td>\n",
       "      <td>6.3</td>\n",
       "      <td>2.5</td>\n",
       "      <td>5.0</td>\n",
       "      <td>1.9</td>\n",
       "      <td>virginica</td>\n",
       "    </tr>\n",
       "    <tr>\n",
       "      <th>147</th>\n",
       "      <td>148</td>\n",
       "      <td>6.5</td>\n",
       "      <td>3.0</td>\n",
       "      <td>5.2</td>\n",
       "      <td>2.0</td>\n",
       "      <td>virginica</td>\n",
       "    </tr>\n",
       "    <tr>\n",
       "      <th>148</th>\n",
       "      <td>149</td>\n",
       "      <td>6.2</td>\n",
       "      <td>3.4</td>\n",
       "      <td>5.4</td>\n",
       "      <td>2.3</td>\n",
       "      <td>virginica</td>\n",
       "    </tr>\n",
       "    <tr>\n",
       "      <th>149</th>\n",
       "      <td>150</td>\n",
       "      <td>5.9</td>\n",
       "      <td>3.0</td>\n",
       "      <td>5.1</td>\n",
       "      <td>1.8</td>\n",
       "      <td>virginica</td>\n",
       "    </tr>\n",
       "  </tbody>\n",
       "</table>\n",
       "<p>150 rows × 6 columns</p>\n",
       "</div>"
      ],
      "text/plain": [
       "      Id  SepalLengthCm  SepalWidthCm  PetalLengthCm  PetalWidthCm    Species\n",
       "0      1            5.1           3.5            1.4           0.2     setosa\n",
       "1      2            4.9           3.0            1.4           0.2     setosa\n",
       "2      3            4.7           3.2            1.3           0.2     setosa\n",
       "3      4            4.6           3.1            1.5           0.2     setosa\n",
       "4      5            5.0           3.6            1.4           0.2     setosa\n",
       "..   ...            ...           ...            ...           ...        ...\n",
       "145  146            6.7           3.0            5.2           2.3  virginica\n",
       "146  147            6.3           2.5            5.0           1.9  virginica\n",
       "147  148            6.5           3.0            5.2           2.0  virginica\n",
       "148  149            6.2           3.4            5.4           2.3  virginica\n",
       "149  150            5.9           3.0            5.1           1.8  virginica\n",
       "\n",
       "[150 rows x 6 columns]"
      ]
     },
     "execution_count": 126,
     "metadata": {},
     "output_type": "execute_result"
    }
   ],
   "source": [
    "# Renombrar la columna especie con solo la especie que es:\n",
    "\n",
    "new_categories = [\"setosa\", \"versicolor\", \"virginica\"]\n",
    "\n",
    "iris[\"Species\"] = iris[\"Species\"].cat.rename_categories(new_categories)\n",
    "iris"
   ]
  },
  {
   "cell_type": "markdown",
   "id": "54c519d5-4287-46e2-8a8d-53558af23e30",
   "metadata": {},
   "source": [
    "## ```set_categories()```"
   ]
  },
  {
   "cell_type": "code",
   "execution_count": 127,
   "id": "3a42502c-3846-4594-b94c-6f47369536eb",
   "metadata": {},
   "outputs": [
    {
     "data": {
      "text/html": [
       "<div>\n",
       "<style scoped>\n",
       "    .dataframe tbody tr th:only-of-type {\n",
       "        vertical-align: middle;\n",
       "    }\n",
       "\n",
       "    .dataframe tbody tr th {\n",
       "        vertical-align: top;\n",
       "    }\n",
       "\n",
       "    .dataframe thead th {\n",
       "        text-align: right;\n",
       "    }\n",
       "</style>\n",
       "<table border=\"1\" class=\"dataframe\">\n",
       "  <thead>\n",
       "    <tr style=\"text-align: right;\">\n",
       "      <th></th>\n",
       "      <th>Id</th>\n",
       "      <th>SepalLengthCm</th>\n",
       "      <th>SepalWidthCm</th>\n",
       "      <th>PetalLengthCm</th>\n",
       "      <th>PetalWidthCm</th>\n",
       "      <th>Species</th>\n",
       "      <th>spc</th>\n",
       "    </tr>\n",
       "  </thead>\n",
       "  <tbody>\n",
       "    <tr>\n",
       "      <th>0</th>\n",
       "      <td>1</td>\n",
       "      <td>5.1</td>\n",
       "      <td>3.5</td>\n",
       "      <td>1.4</td>\n",
       "      <td>0.2</td>\n",
       "      <td>setosa</td>\n",
       "      <td>0</td>\n",
       "    </tr>\n",
       "    <tr>\n",
       "      <th>1</th>\n",
       "      <td>2</td>\n",
       "      <td>4.9</td>\n",
       "      <td>3.0</td>\n",
       "      <td>1.4</td>\n",
       "      <td>0.2</td>\n",
       "      <td>setosa</td>\n",
       "      <td>0</td>\n",
       "    </tr>\n",
       "    <tr>\n",
       "      <th>2</th>\n",
       "      <td>3</td>\n",
       "      <td>4.7</td>\n",
       "      <td>3.2</td>\n",
       "      <td>1.3</td>\n",
       "      <td>0.2</td>\n",
       "      <td>setosa</td>\n",
       "      <td>0</td>\n",
       "    </tr>\n",
       "    <tr>\n",
       "      <th>3</th>\n",
       "      <td>4</td>\n",
       "      <td>4.6</td>\n",
       "      <td>3.1</td>\n",
       "      <td>1.5</td>\n",
       "      <td>0.2</td>\n",
       "      <td>setosa</td>\n",
       "      <td>0</td>\n",
       "    </tr>\n",
       "    <tr>\n",
       "      <th>4</th>\n",
       "      <td>5</td>\n",
       "      <td>5.0</td>\n",
       "      <td>3.6</td>\n",
       "      <td>1.4</td>\n",
       "      <td>0.2</td>\n",
       "      <td>setosa</td>\n",
       "      <td>0</td>\n",
       "    </tr>\n",
       "    <tr>\n",
       "      <th>...</th>\n",
       "      <td>...</td>\n",
       "      <td>...</td>\n",
       "      <td>...</td>\n",
       "      <td>...</td>\n",
       "      <td>...</td>\n",
       "      <td>...</td>\n",
       "      <td>...</td>\n",
       "    </tr>\n",
       "    <tr>\n",
       "      <th>145</th>\n",
       "      <td>146</td>\n",
       "      <td>6.7</td>\n",
       "      <td>3.0</td>\n",
       "      <td>5.2</td>\n",
       "      <td>2.3</td>\n",
       "      <td>virginica</td>\n",
       "      <td>2</td>\n",
       "    </tr>\n",
       "    <tr>\n",
       "      <th>146</th>\n",
       "      <td>147</td>\n",
       "      <td>6.3</td>\n",
       "      <td>2.5</td>\n",
       "      <td>5.0</td>\n",
       "      <td>1.9</td>\n",
       "      <td>virginica</td>\n",
       "      <td>2</td>\n",
       "    </tr>\n",
       "    <tr>\n",
       "      <th>147</th>\n",
       "      <td>148</td>\n",
       "      <td>6.5</td>\n",
       "      <td>3.0</td>\n",
       "      <td>5.2</td>\n",
       "      <td>2.0</td>\n",
       "      <td>virginica</td>\n",
       "      <td>2</td>\n",
       "    </tr>\n",
       "    <tr>\n",
       "      <th>148</th>\n",
       "      <td>149</td>\n",
       "      <td>6.2</td>\n",
       "      <td>3.4</td>\n",
       "      <td>5.4</td>\n",
       "      <td>2.3</td>\n",
       "      <td>virginica</td>\n",
       "      <td>2</td>\n",
       "    </tr>\n",
       "    <tr>\n",
       "      <th>149</th>\n",
       "      <td>150</td>\n",
       "      <td>5.9</td>\n",
       "      <td>3.0</td>\n",
       "      <td>5.1</td>\n",
       "      <td>1.8</td>\n",
       "      <td>virginica</td>\n",
       "      <td>2</td>\n",
       "    </tr>\n",
       "  </tbody>\n",
       "</table>\n",
       "<p>150 rows × 7 columns</p>\n",
       "</div>"
      ],
      "text/plain": [
       "      Id  SepalLengthCm  SepalWidthCm  PetalLengthCm  PetalWidthCm    Species  \\\n",
       "0      1            5.1           3.5            1.4           0.2     setosa   \n",
       "1      2            4.9           3.0            1.4           0.2     setosa   \n",
       "2      3            4.7           3.2            1.3           0.2     setosa   \n",
       "3      4            4.6           3.1            1.5           0.2     setosa   \n",
       "4      5            5.0           3.6            1.4           0.2     setosa   \n",
       "..   ...            ...           ...            ...           ...        ...   \n",
       "145  146            6.7           3.0            5.2           2.3  virginica   \n",
       "146  147            6.3           2.5            5.0           1.9  virginica   \n",
       "147  148            6.5           3.0            5.2           2.0  virginica   \n",
       "148  149            6.2           3.4            5.4           2.3  virginica   \n",
       "149  150            5.9           3.0            5.1           1.8  virginica   \n",
       "\n",
       "    spc  \n",
       "0     0  \n",
       "1     0  \n",
       "2     0  \n",
       "3     0  \n",
       "4     0  \n",
       "..   ..  \n",
       "145   2  \n",
       "146   2  \n",
       "147   2  \n",
       "148   2  \n",
       "149   2  \n",
       "\n",
       "[150 rows x 7 columns]"
      ]
     },
     "execution_count": 127,
     "metadata": {},
     "output_type": "execute_result"
    }
   ],
   "source": [
    "# Renombrar la columna sustituyendo por los valores por ejemplo,\n",
    "# renombrar las viejas categorias ponemos rename=True:\n",
    "\n",
    "new_categories = [0, 1, 2]\n",
    "\n",
    "iris[\"spc\"] = iris[\"Species\"].cat.set_categories(new_categories, \n",
    "                                                 rename=True)\n",
    "iris"
   ]
  },
  {
   "cell_type": "markdown",
   "id": "3fe157b3-d9ba-4ac7-86c2-5de1cdc2b5d2",
   "metadata": {},
   "source": [
    "## ```sort_values()```"
   ]
  },
  {
   "cell_type": "code",
   "execution_count": 129,
   "id": "1c3f77ba-90f1-434f-b1f5-b686fa83f792",
   "metadata": {},
   "outputs": [
    {
     "data": {
      "text/html": [
       "<div>\n",
       "<style scoped>\n",
       "    .dataframe tbody tr th:only-of-type {\n",
       "        vertical-align: middle;\n",
       "    }\n",
       "\n",
       "    .dataframe tbody tr th {\n",
       "        vertical-align: top;\n",
       "    }\n",
       "\n",
       "    .dataframe thead th {\n",
       "        text-align: right;\n",
       "    }\n",
       "</style>\n",
       "<table border=\"1\" class=\"dataframe\">\n",
       "  <thead>\n",
       "    <tr style=\"text-align: right;\">\n",
       "      <th></th>\n",
       "      <th>Id</th>\n",
       "      <th>SepalLengthCm</th>\n",
       "      <th>SepalWidthCm</th>\n",
       "      <th>PetalLengthCm</th>\n",
       "      <th>PetalWidthCm</th>\n",
       "      <th>Species</th>\n",
       "      <th>spc</th>\n",
       "    </tr>\n",
       "  </thead>\n",
       "  <tbody>\n",
       "    <tr>\n",
       "      <th>149</th>\n",
       "      <td>150</td>\n",
       "      <td>5.9</td>\n",
       "      <td>3.0</td>\n",
       "      <td>5.1</td>\n",
       "      <td>1.8</td>\n",
       "      <td>virginica</td>\n",
       "      <td>2</td>\n",
       "    </tr>\n",
       "    <tr>\n",
       "      <th>111</th>\n",
       "      <td>112</td>\n",
       "      <td>6.4</td>\n",
       "      <td>2.7</td>\n",
       "      <td>5.3</td>\n",
       "      <td>1.9</td>\n",
       "      <td>virginica</td>\n",
       "      <td>2</td>\n",
       "    </tr>\n",
       "    <tr>\n",
       "      <th>122</th>\n",
       "      <td>123</td>\n",
       "      <td>7.7</td>\n",
       "      <td>2.8</td>\n",
       "      <td>6.7</td>\n",
       "      <td>2.0</td>\n",
       "      <td>virginica</td>\n",
       "      <td>2</td>\n",
       "    </tr>\n",
       "    <tr>\n",
       "      <th>121</th>\n",
       "      <td>122</td>\n",
       "      <td>5.6</td>\n",
       "      <td>2.8</td>\n",
       "      <td>4.9</td>\n",
       "      <td>2.0</td>\n",
       "      <td>virginica</td>\n",
       "      <td>2</td>\n",
       "    </tr>\n",
       "    <tr>\n",
       "      <th>120</th>\n",
       "      <td>121</td>\n",
       "      <td>6.9</td>\n",
       "      <td>3.2</td>\n",
       "      <td>5.7</td>\n",
       "      <td>2.3</td>\n",
       "      <td>virginica</td>\n",
       "      <td>2</td>\n",
       "    </tr>\n",
       "    <tr>\n",
       "      <th>...</th>\n",
       "      <td>...</td>\n",
       "      <td>...</td>\n",
       "      <td>...</td>\n",
       "      <td>...</td>\n",
       "      <td>...</td>\n",
       "      <td>...</td>\n",
       "      <td>...</td>\n",
       "    </tr>\n",
       "    <tr>\n",
       "      <th>31</th>\n",
       "      <td>32</td>\n",
       "      <td>5.4</td>\n",
       "      <td>3.4</td>\n",
       "      <td>1.5</td>\n",
       "      <td>0.4</td>\n",
       "      <td>setosa</td>\n",
       "      <td>0</td>\n",
       "    </tr>\n",
       "    <tr>\n",
       "      <th>30</th>\n",
       "      <td>31</td>\n",
       "      <td>4.8</td>\n",
       "      <td>3.1</td>\n",
       "      <td>1.6</td>\n",
       "      <td>0.2</td>\n",
       "      <td>setosa</td>\n",
       "      <td>0</td>\n",
       "    </tr>\n",
       "    <tr>\n",
       "      <th>29</th>\n",
       "      <td>30</td>\n",
       "      <td>4.7</td>\n",
       "      <td>3.2</td>\n",
       "      <td>1.6</td>\n",
       "      <td>0.2</td>\n",
       "      <td>setosa</td>\n",
       "      <td>0</td>\n",
       "    </tr>\n",
       "    <tr>\n",
       "      <th>28</th>\n",
       "      <td>29</td>\n",
       "      <td>5.2</td>\n",
       "      <td>3.4</td>\n",
       "      <td>1.4</td>\n",
       "      <td>0.2</td>\n",
       "      <td>setosa</td>\n",
       "      <td>0</td>\n",
       "    </tr>\n",
       "    <tr>\n",
       "      <th>0</th>\n",
       "      <td>1</td>\n",
       "      <td>5.1</td>\n",
       "      <td>3.5</td>\n",
       "      <td>1.4</td>\n",
       "      <td>0.2</td>\n",
       "      <td>setosa</td>\n",
       "      <td>0</td>\n",
       "    </tr>\n",
       "  </tbody>\n",
       "</table>\n",
       "<p>150 rows × 7 columns</p>\n",
       "</div>"
      ],
      "text/plain": [
       "      Id  SepalLengthCm  SepalWidthCm  PetalLengthCm  PetalWidthCm    Species  \\\n",
       "149  150            5.9           3.0            5.1           1.8  virginica   \n",
       "111  112            6.4           2.7            5.3           1.9  virginica   \n",
       "122  123            7.7           2.8            6.7           2.0  virginica   \n",
       "121  122            5.6           2.8            4.9           2.0  virginica   \n",
       "120  121            6.9           3.2            5.7           2.3  virginica   \n",
       "..   ...            ...           ...            ...           ...        ...   \n",
       "31    32            5.4           3.4            1.5           0.4     setosa   \n",
       "30    31            4.8           3.1            1.6           0.2     setosa   \n",
       "29    30            4.7           3.2            1.6           0.2     setosa   \n",
       "28    29            5.2           3.4            1.4           0.2     setosa   \n",
       "0      1            5.1           3.5            1.4           0.2     setosa   \n",
       "\n",
       "    spc  \n",
       "149   2  \n",
       "111   2  \n",
       "122   2  \n",
       "121   2  \n",
       "120   2  \n",
       "..   ..  \n",
       "31    0  \n",
       "30    0  \n",
       "29    0  \n",
       "28    0  \n",
       "0     0  \n",
       "\n",
       "[150 rows x 7 columns]"
      ]
     },
     "execution_count": 129,
     "metadata": {},
     "output_type": "execute_result"
    }
   ],
   "source": [
    "# Colocar las filas según los valores de una columna, en este caso ordenamos por la especie (spc):\n",
    "\n",
    "iris.sort_values(by=\"spc\", ascending=False)"
   ]
  },
  {
   "cell_type": "code",
   "execution_count": 130,
   "id": "98b9d319-30fb-4315-85d6-5c9ed833c5d9",
   "metadata": {},
   "outputs": [
    {
     "data": {
      "text/plain": [
       "spc\n",
       "0    50\n",
       "1    50\n",
       "2    50\n",
       "dtype: int64"
      ]
     },
     "execution_count": 130,
     "metadata": {},
     "output_type": "execute_result"
    }
   ],
   "source": [
    "# Agrupamos para que nos muestre cuantos valores tenemos de cada uno, para ello usamos observed=False en groupby,\n",
    "# Incluyen categorias vacias si las hubiera:\n",
    "\n",
    "iris.groupby(\"spc\", observed=False).size()"
   ]
  },
  {
   "cell_type": "markdown",
   "id": "4f296820-fd50-42cf-a323-b2e7811c730a",
   "metadata": {},
   "source": [
    "## Plotting"
   ]
  },
  {
   "cell_type": "markdown",
   "id": "f645996c-8772-4c18-9c56-ed4fdaae0028",
   "metadata": {},
   "source": [
    "Pandas usa de manera interna matplotlib, simplemente importando la librería y pasando el dataframe a .plot() te genera el gráfico:"
   ]
  },
  {
   "cell_type": "code",
   "execution_count": 131,
   "id": "ffb4d48e-0359-46f3-b149-99697e1819fc",
   "metadata": {},
   "outputs": [
    {
     "data": {
      "text/plain": [
       "<Axes: >"
      ]
     },
     "execution_count": 131,
     "metadata": {},
     "output_type": "execute_result"
    },
    {
     "data": {
      "image/png": "[encoded data removed]",
      "text/plain": [
       "<Figure size 640x480 with 1 Axes>"
      ]
     },
     "metadata": {},
     "output_type": "display_data"
    }
   ],
   "source": [
    "ts = pd.Series(np.random.randn(1000), index=pd.date_range(\"5/1/2020\",\n",
    "                                                          periods=1000))\n",
    "\n",
    "ts = ts.cumsum()\n",
    "\n",
    "ts.plot()"
   ]
  },
  {
   "cell_type": "code",
   "execution_count": 134,
   "id": "41f6c7af-75fb-46e0-9fe0-7d0be937c224",
   "metadata": {},
   "outputs": [
    {
     "data": {
      "text/plain": [
       "<Axes: xlabel='SepalLengthCm', ylabel='SepalWidthCm'>"
      ]
     },
     "execution_count": 134,
     "metadata": {},
     "output_type": "execute_result"
    },
    {
     "data": {
      "image/png": "[encoded data removed]",
      "text/plain": [
       "<Figure size 640x480 with 2 Axes>"
      ]
     },
     "metadata": {},
     "output_type": "display_data"
    }
   ],
   "source": [
    "# c: variable categorica\n",
    "# cmap: escala de color\n",
    "# s: tamaño de los puntos\n",
    "\n",
    "iris.plot.scatter(x='SepalLengthCm', y='SepalWidthCm', c='Species', cmap=\"viridis\", s=50)"
   ]
  },
  {
   "cell_type": "code",
   "execution_count": 135,
   "id": "6e94790c-0355-43a6-ac42-06ecae2fb95d",
   "metadata": {
    "scrolled": true
   },
   "outputs": [
    {
     "data": {
      "text/plain": [
       "<matplotlib.legend.Legend at 0x7feec83fb610>"
      ]
     },
     "execution_count": 135,
     "metadata": {},
     "output_type": "execute_result"
    },
    {
     "data": {
      "text/plain": [
       "<Figure size 640x480 with 0 Axes>"
      ]
     },
     "metadata": {},
     "output_type": "display_data"
    },
    {
     "data": {
      "image/png": "[encoded data removed]",
      "text/plain": [
       "<Figure size 640x480 with 1 Axes>"
      ]
     },
     "metadata": {},
     "output_type": "display_data"
    }
   ],
   "source": [
    "# Usando matplotlib ampliando pandas:\n",
    "\n",
    "df = pd.DataFrame(\n",
    "    np.random.randn(1000, 4), \n",
    "    index=ts.index, \n",
    "    columns=[\"A\", \"B\", \"C\", \"D\"]\n",
    ")\n",
    "\n",
    "\n",
    "df = df.cumsum()\n",
    "\n",
    "plt.figure()\n",
    "\n",
    "df.plot()\n",
    "\n",
    "plt.legend(loc='best')"
   ]
  },
  {
   "cell_type": "markdown",
   "id": "e2b56aba-1624-45b5-9abc-6b4b698a69f7",
   "metadata": {},
   "source": [
    "# Numpy\n",
    "\n",
    "1. [Método array() (4.1.3)](#Método-array())\n",
    "2. [Método arange()](#Método-arange())\n",
    "3. [Matrices básicas en numpy](#Matrices-basicas-en-numpy)\n",
    "4. [Métodos random() / indices()](#Metodos-random()-/-indices())\n",
    "5. [Réplicas o copias con numpy](#Replicas-o-copias-con-numpy)\n",
    "6. [Leer un archivo csv con el método loadtxt()](#Leer-un-archivo-csv-con-el-metodo-loadtxt())\n",
    "7. [Modificación de matrices](#Modificacion-de-matrices)\n",
    "8. [Slicing](#Slicing)\n",
    "9. [Comparacion entre Arrays](#Comparacion-entre-Arrays)\n",
    "10. [Operaciones (4.1.3)](#Operaciones)\n",
    "11. [Matematical functions(4.1.3)](#Matematical-functions)"
   ]
  },
  {
   "cell_type": "code",
   "execution_count": 155,
   "id": "3a4a8392-6e45-43fa-87b1-73c59484b5ae",
   "metadata": {},
   "outputs": [],
   "source": [
    "# pip install numpy"
   ]
  },
  {
   "cell_type": "code",
   "execution_count": 156,
   "id": "5f6c14f7-a23c-4439-968a-6717fc1926b1",
   "metadata": {},
   "outputs": [],
   "source": [
    "import numpy as np"
   ]
  },
  {
   "cell_type": "markdown",
   "id": "80934c8d-72c0-47df-ad07-2671b79d7cbe",
   "metadata": {},
   "source": [
    "## Método ```array()```"
   ]
  },
  {
   "cell_type": "markdown",
   "id": "ef4a6a00-7344-451f-b935-4b13598f36db",
   "metadata": {},
   "source": [
    "Un array puede formarse apartir de otras estructuras de Python como son listas o tuplas:"
   ]
  },
  {
   "cell_type": "code",
   "execution_count": 157,
   "id": "6555ba0b-36d4-4d92-9544-7c47838c080e",
   "metadata": {},
   "outputs": [
    {
     "data": {
      "text/plain": [
       "array([[1, 2],\n",
       "       [3, 4],\n",
       "       [5, 6]])"
      ]
     },
     "execution_count": 157,
     "metadata": {},
     "output_type": "execute_result"
    }
   ],
   "source": [
    "e = np.array([\n",
    "    [1, 2],\n",
    "    [3, 4],\n",
    "    [5, 6]\n",
    "])\n",
    "e"
   ]
  },
  {
   "cell_type": "code",
   "execution_count": 158,
   "id": "a5f06a11-be31-4d00-b62d-9f4f459c99ba",
   "metadata": {},
   "outputs": [
    {
     "data": {
      "text/plain": [
       "3"
      ]
     },
     "execution_count": 158,
     "metadata": {},
     "output_type": "execute_result"
    }
   ],
   "source": [
    "len(e)"
   ]
  },
  {
   "cell_type": "code",
   "execution_count": 159,
   "id": "17c543c8-e3b3-48cb-bba0-373a7d6394ac",
   "metadata": {},
   "outputs": [
    {
     "data": {
      "text/plain": [
       "(3, 2)"
      ]
     },
     "execution_count": 159,
     "metadata": {},
     "output_type": "execute_result"
    }
   ],
   "source": [
    "e.shape"
   ]
  },
  {
   "cell_type": "code",
   "execution_count": 160,
   "id": "cd374be8-9956-4452-bc41-34385952efd9",
   "metadata": {},
   "outputs": [
    {
     "data": {
      "text/plain": [
       "6"
      ]
     },
     "execution_count": 160,
     "metadata": {},
     "output_type": "execute_result"
    }
   ],
   "source": [
    "e.size"
   ]
  },
  {
   "cell_type": "code",
   "execution_count": 164,
   "id": "c97382e0-4102-4afd-a03a-4561619dbc5d",
   "metadata": {},
   "outputs": [
    {
     "data": {
      "text/plain": [
       "array([1, 2])"
      ]
     },
     "execution_count": 164,
     "metadata": {},
     "output_type": "execute_result"
    }
   ],
   "source": [
    "e[0]"
   ]
  },
  {
   "cell_type": "code",
   "execution_count": 165,
   "id": "1334e24c-c1df-4c24-9424-b1e3ecfd7fc4",
   "metadata": {},
   "outputs": [
    {
     "name": "stdout",
     "output_type": "stream",
     "text": [
      "1\n",
      "2\n",
      "3\n",
      "4\n",
      "5\n",
      "6\n"
     ]
    }
   ],
   "source": [
    "for i in range(len(e)):\n",
    "    # print(e[i])\n",
    "    for j in range(len(e[i])):\n",
    "        print(e[i][j])"
   ]
  },
  {
   "cell_type": "code",
   "execution_count": 166,
   "id": "995f82e9-d610-425b-ac86-98f64355b4ba",
   "metadata": {},
   "outputs": [
    {
     "data": {
      "text/plain": [
       "array([1, 5, 6])"
      ]
     },
     "execution_count": 166,
     "metadata": {},
     "output_type": "execute_result"
    }
   ],
   "source": [
    "a1d = np.array((1, 5, 6))\n",
    "a1d"
   ]
  },
  {
   "cell_type": "markdown",
   "id": "ed2cdf73-865c-49be-ad05-f3b68b01fe21",
   "metadata": {},
   "source": [
    "Se puede añadir otro atributo que es ```dtype``` indicando de cuantos bytes consta el array:"
   ]
  },
  {
   "cell_type": "code",
   "execution_count": 167,
   "id": "3ae65dc6-cbf8-4f78-a4ad-f3a8a1a3dbe2",
   "metadata": {},
   "outputs": [
    {
     "name": "stderr",
     "output_type": "stream",
     "text": [
      "/tmp/ipykernel_7159/2745257341.py:1: DeprecationWarning: NumPy will stop allowing conversion of out-of-bound Python integers to integer arrays.  The conversion of 128 to int8 will fail in the future.\n",
      "For the old behavior, usually:\n",
      "    np.array(value).astype(dtype)\n",
      "will give the desired result (the cast overflows).\n",
      "  np.array([127, 128, 129], dtype=np.int8)\n",
      "/tmp/ipykernel_7159/2745257341.py:1: DeprecationWarning: NumPy will stop allowing conversion of out-of-bound Python integers to integer arrays.  The conversion of 129 to int8 will fail in the future.\n",
      "For the old behavior, usually:\n",
      "    np.array(value).astype(dtype)\n",
      "will give the desired result (the cast overflows).\n",
      "  np.array([127, 128, 129], dtype=np.int8)\n"
     ]
    },
    {
     "data": {
      "text/plain": [
       "array([ 127, -128, -127], dtype=int8)"
      ]
     },
     "execution_count": 167,
     "metadata": {},
     "output_type": "execute_result"
    }
   ],
   "source": [
    "np.array([127, 128, 129], dtype=np.int8)"
   ]
  },
  {
   "cell_type": "markdown",
   "id": "c09634ca-ac29-412c-a7e6-bd62e0067349",
   "metadata": {},
   "source": [
    "Representa enteros desde -128 a 127, arroja un error de fuera de rango.\n",
    "\n",
    "Lo normal es que se formen arrays entre 32 o 64-bit de valores enteros o decimales:"
   ]
  },
  {
   "cell_type": "code",
   "execution_count": 168,
   "id": "af1789bc-f59f-42d7-8a77-d5a9d965c537",
   "metadata": {},
   "outputs": [
    {
     "name": "stdout",
     "output_type": "stream",
     "text": [
      "[2 3 4]\n",
      "[5 6 7]\n",
      "[4294967293 4294967293 4294967293]\n"
     ]
    }
   ],
   "source": [
    "a = np.array([2, 3, 4], dtype=np.uint32)\n",
    "print(a)\n",
    "b = np.array([5, 6, 7], dtype=np.uint32)\n",
    "print(b)\n",
    "c = a - b\n",
    "print(c)"
   ]
  },
  {
   "cell_type": "code",
   "execution_count": 169,
   "id": "72977588-b559-4483-90ac-b8a52af0e24d",
   "metadata": {},
   "outputs": [
    {
     "data": {
      "text/plain": [
       "array([-3, -3, -3])"
      ]
     },
     "execution_count": 169,
     "metadata": {},
     "output_type": "execute_result"
    }
   ],
   "source": [
    "c_32 = a - b.astype(np.int32)\n",
    "c_32"
   ]
  },
  {
   "cell_type": "markdown",
   "id": "0f19a81a-1073-4bda-b6a4-07b145b5caa8",
   "metadata": {},
   "source": [
    "El método ```.astype()``` convierte el array b en ```int32```, en vez en ```uint32```.\n",
    "\n",
    "Podemos saber de que tipo de datos son mediante la función ```issubdtype()```:"
   ]
  },
  {
   "cell_type": "code",
   "execution_count": 170,
   "id": "f580cb31-6f3c-4ffc-96e2-a574afc80231",
   "metadata": {},
   "outputs": [
    {
     "name": "stdout",
     "output_type": "stream",
     "text": [
      "int64\n",
      "True\n",
      "False\n"
     ]
    }
   ],
   "source": [
    "d = np.dtype(np.int64)\n",
    "print(d)\n",
    "\n",
    "# 1º Atributo es el array a testear y 2º Atributo el tipo que queremos comparar (entero, decimal, etc):\n",
    "\n",
    "print(np.issubdtype(d, np.integer))\n",
    "print(np.issubdtype(d, np.floating))"
   ]
  },
  {
   "cell_type": "markdown",
   "id": "5ea39372-1e05-4e4e-a75a-e82cda27cd87",
   "metadata": {},
   "source": [
    "Los tipos de datos pueden ser: boleanos (bool), enteros (int), enteros sin signo (uint), decimales (float) y complejos (complex).\n",
    "\n",
    "También pueden ser: string numpy.str_ dtype (U character code), secuencia de bytes numpy.bytes_ (S character code), and arbitrary byte sequences, via numpy.void (V character code)."
   ]
  },
  {
   "cell_type": "code",
   "execution_count": 171,
   "id": "fc5f5d5d-e308-4870-90b3-024c2ea4304f",
   "metadata": {},
   "outputs": [
    {
     "data": {
      "text/plain": [
       "b'hello\\x00\\x00world\\x00\\x00'"
      ]
     },
     "execution_count": 171,
     "metadata": {},
     "output_type": "execute_result"
    }
   ],
   "source": [
    "np.array([\"hello\", \"world\"], dtype=\"S7\").tobytes()"
   ]
  },
  {
   "cell_type": "markdown",
   "id": "ab141f7a-bd85-4672-b9f0-8b57f56c7caa",
   "metadata": {},
   "source": [
    "## Método ```arange()```. \n",
    "## Numeros dentro de un rango:"
   ]
  },
  {
   "cell_type": "markdown",
   "id": "fc8a5614-80da-4ecc-aad7-687f7553721d",
   "metadata": {},
   "source": [
    "**Generación de números con numpy en un rango**"
   ]
  },
  {
   "cell_type": "code",
   "execution_count": 172,
   "id": "6e5b6f21-2516-4474-b632-74fd2fdd1249",
   "metadata": {},
   "outputs": [
    {
     "data": {
      "text/plain": [
       "array([0, 1, 2, 3, 4, 5])"
      ]
     },
     "execution_count": 172,
     "metadata": {},
     "output_type": "execute_result"
    }
   ],
   "source": [
    "a = np.arange(6)\n",
    "a"
   ]
  },
  {
   "cell_type": "code",
   "execution_count": 173,
   "id": "25809504-f82a-424d-b47b-ff8c6354b4cd",
   "metadata": {},
   "outputs": [
    {
     "data": {
      "text/plain": [
       "numpy.ndarray"
      ]
     },
     "execution_count": 173,
     "metadata": {},
     "output_type": "execute_result"
    }
   ],
   "source": [
    "type(a)"
   ]
  },
  {
   "cell_type": "markdown",
   "id": "134d064a-de3c-48a5-bef2-28eac4c455b3",
   "metadata": {},
   "source": [
    "**Formas de imprimir la información**"
   ]
  },
  {
   "cell_type": "code",
   "execution_count": 174,
   "id": "b9f7740a-490f-4d03-93ee-aad69bc8a07f",
   "metadata": {},
   "outputs": [
    {
     "name": "stdout",
     "output_type": "stream",
     "text": [
      "[0 1 2 3 4 5]\n"
     ]
    }
   ],
   "source": [
    "print(a)"
   ]
  },
  {
   "cell_type": "code",
   "execution_count": 175,
   "id": "050739d6-c992-4cb3-9f9f-e02154eabcac",
   "metadata": {},
   "outputs": [
    {
     "name": "stdout",
     "output_type": "stream",
     "text": [
      "0\n",
      "1\n",
      "2\n",
      "3\n",
      "4\n",
      "5\n"
     ]
    }
   ],
   "source": [
    "for i in a:\n",
    "    print(i)"
   ]
  },
  {
   "cell_type": "markdown",
   "id": "8f665a4c-c60e-4849-b819-9b27d66453fe",
   "metadata": {},
   "source": [
    "**Longitud, forma, tamaño**"
   ]
  },
  {
   "cell_type": "code",
   "execution_count": 176,
   "id": "cae580d0-cc57-4b2c-b892-b39a30bc838b",
   "metadata": {},
   "outputs": [
    {
     "data": {
      "text/plain": [
       "array([0, 1, 2, 3, 4, 5])"
      ]
     },
     "execution_count": 176,
     "metadata": {},
     "output_type": "execute_result"
    }
   ],
   "source": [
    "a"
   ]
  },
  {
   "cell_type": "code",
   "execution_count": 177,
   "id": "7a563f4d-0e6b-48aa-a490-fb8cbb9cf517",
   "metadata": {},
   "outputs": [
    {
     "data": {
      "text/plain": [
       "6"
      ]
     },
     "execution_count": 177,
     "metadata": {},
     "output_type": "execute_result"
    }
   ],
   "source": [
    "len(a)"
   ]
  },
  {
   "cell_type": "code",
   "execution_count": 178,
   "id": "a99b493e-7362-4fbd-81fc-20cf187065ee",
   "metadata": {},
   "outputs": [
    {
     "data": {
      "text/plain": [
       "(6,)"
      ]
     },
     "execution_count": 178,
     "metadata": {},
     "output_type": "execute_result"
    }
   ],
   "source": [
    "a.shape"
   ]
  },
  {
   "cell_type": "code",
   "execution_count": 179,
   "id": "0f1fc59d-a311-4966-b39c-1973b41f2015",
   "metadata": {},
   "outputs": [
    {
     "data": {
      "text/plain": [
       "6"
      ]
     },
     "execution_count": 179,
     "metadata": {},
     "output_type": "execute_result"
    }
   ],
   "source": [
    "a.size"
   ]
  },
  {
   "cell_type": "markdown",
   "id": "f4b58e25-d74a-4766-8a3e-0831995063b9",
   "metadata": {},
   "source": [
    "**Máximos y mínimos**"
   ]
  },
  {
   "cell_type": "code",
   "execution_count": 180,
   "id": "79520cfe-240b-42eb-8f98-d2414458a4cc",
   "metadata": {},
   "outputs": [
    {
     "data": {
      "text/plain": [
       "array([0, 1, 2, 3, 4, 5])"
      ]
     },
     "execution_count": 180,
     "metadata": {},
     "output_type": "execute_result"
    }
   ],
   "source": [
    "a"
   ]
  },
  {
   "cell_type": "code",
   "execution_count": 181,
   "id": "dd08ff76-db32-4920-821d-da023273e46f",
   "metadata": {},
   "outputs": [
    {
     "data": {
      "text/plain": [
       "5"
      ]
     },
     "execution_count": 181,
     "metadata": {},
     "output_type": "execute_result"
    }
   ],
   "source": [
    "max(a)"
   ]
  },
  {
   "cell_type": "code",
   "execution_count": 182,
   "id": "b7958e51-1c97-4ea1-8749-21e8b31b6451",
   "metadata": {},
   "outputs": [
    {
     "data": {
      "text/plain": [
       "0"
      ]
     },
     "execution_count": 182,
     "metadata": {},
     "output_type": "execute_result"
    }
   ],
   "source": [
    "min(a)"
   ]
  },
  {
   "cell_type": "markdown",
   "id": "0db93b99-1319-49e7-a8d1-6c46984e31dc",
   "metadata": {},
   "source": [
    "**Comprobación de elementos en el array**"
   ]
  },
  {
   "cell_type": "code",
   "execution_count": 183,
   "id": "e941816b-ccf1-44e3-aadb-62ddbcf0531d",
   "metadata": {},
   "outputs": [
    {
     "data": {
      "text/plain": [
       "array([0, 1, 2, 3, 4, 5])"
      ]
     },
     "execution_count": 183,
     "metadata": {},
     "output_type": "execute_result"
    }
   ],
   "source": [
    "a"
   ]
  },
  {
   "cell_type": "code",
   "execution_count": 184,
   "id": "f215ea55-6fad-456d-b86d-69daffdd2513",
   "metadata": {},
   "outputs": [
    {
     "data": {
      "text/plain": [
       "False"
      ]
     },
     "execution_count": 184,
     "metadata": {},
     "output_type": "execute_result"
    }
   ],
   "source": [
    "25 in a"
   ]
  },
  {
   "cell_type": "code",
   "execution_count": 185,
   "id": "939c7d14-63c8-4d74-94a7-a8d8583ace52",
   "metadata": {},
   "outputs": [
    {
     "data": {
      "text/plain": [
       "True"
      ]
     },
     "execution_count": 185,
     "metadata": {},
     "output_type": "execute_result"
    }
   ],
   "source": [
    "0 in a"
   ]
  },
  {
   "cell_type": "code",
   "execution_count": 186,
   "id": "d6e095b5-a0fc-4ec2-bc28-92c63f0c9dda",
   "metadata": {},
   "outputs": [
    {
     "data": {
      "text/plain": [
       "True"
      ]
     },
     "execution_count": 186,
     "metadata": {},
     "output_type": "execute_result"
    }
   ],
   "source": [
    "25 not in a"
   ]
  },
  {
   "cell_type": "code",
   "execution_count": 187,
   "id": "c28f2f02-3ef0-4b18-a941-8537b4b4e493",
   "metadata": {},
   "outputs": [
    {
     "data": {
      "text/plain": [
       "False"
      ]
     },
     "execution_count": 187,
     "metadata": {},
     "output_type": "execute_result"
    }
   ],
   "source": [
    "0 not in a"
   ]
  },
  {
   "cell_type": "markdown",
   "id": "7d31d915-821a-4bcc-834d-4cf3b3a2408a",
   "metadata": {},
   "source": [
    "**Redefinir el tamaño**"
   ]
  },
  {
   "cell_type": "code",
   "execution_count": 188,
   "id": "06b7332a-7baf-4c01-afec-5fb67b9af7b5",
   "metadata": {},
   "outputs": [
    {
     "data": {
      "text/plain": [
       "array([0, 1, 2, 3, 4, 5])"
      ]
     },
     "execution_count": 188,
     "metadata": {},
     "output_type": "execute_result"
    }
   ],
   "source": [
    "a"
   ]
  },
  {
   "cell_type": "code",
   "execution_count": 189,
   "id": "1dde416f-a22e-4ccc-b82b-ced3bcb047a5",
   "metadata": {},
   "outputs": [
    {
     "data": {
      "text/plain": [
       "array([[0, 1, 2],\n",
       "       [3, 4, 5]])"
      ]
     },
     "execution_count": 189,
     "metadata": {},
     "output_type": "execute_result"
    }
   ],
   "source": [
    "a1 = a.reshape(2, 3)\n",
    "a1"
   ]
  },
  {
   "cell_type": "markdown",
   "id": "86d6c777-baa5-4cc3-a998-f8736078eebc",
   "metadata": {},
   "source": [
    "**Generar números en un intervalo**"
   ]
  },
  {
   "cell_type": "code",
   "execution_count": 190,
   "id": "528aca1f-483f-46c1-b2f6-9c6d288218f4",
   "metadata": {},
   "outputs": [
    {
     "data": {
      "text/plain": [
       "array([2, 3, 4, 5, 6])"
      ]
     },
     "execution_count": 190,
     "metadata": {},
     "output_type": "execute_result"
    }
   ],
   "source": [
    "# sin especificar va de 1 en 1\n",
    "b = np.arange(2,7) # 2, 3, 4, 5, 6\n",
    "b"
   ]
  },
  {
   "cell_type": "markdown",
   "id": "7e831f0a-22d9-40dd-85c3-0e587e1375c3",
   "metadata": {},
   "source": [
    "**Generar números en un intervalo con salto**"
   ]
  },
  {
   "cell_type": "code",
   "execution_count": 191,
   "id": "7e4bfb70-a344-46be-89b9-46147559ccb6",
   "metadata": {},
   "outputs": [
    {
     "data": {
      "text/plain": [
       "array([10, 15, 20, 25, 30, 35])"
      ]
     },
     "execution_count": 191,
     "metadata": {},
     "output_type": "execute_result"
    }
   ],
   "source": [
    "c = np.arange(10, 40, 5)\n",
    "c"
   ]
  },
  {
   "cell_type": "code",
   "execution_count": 192,
   "id": "765e4a40-a754-468f-ad69-e10dbb92608e",
   "metadata": {},
   "outputs": [
    {
     "data": {
      "text/plain": [
       "array([10, 15, 20, 25, 30, 35, 40])"
      ]
     },
     "execution_count": 192,
     "metadata": {},
     "output_type": "execute_result"
    }
   ],
   "source": [
    "d = np.arange(10, 41, 5)\n",
    "d"
   ]
  },
  {
   "cell_type": "markdown",
   "id": "76fe7d49-e3e7-40de-a6fa-41901e7bf753",
   "metadata": {},
   "source": [
    "También tenemos el atributo ```dtype```para definir de que tipo son los valores que forman el array:"
   ]
  },
  {
   "cell_type": "code",
   "execution_count": 193,
   "id": "c7a46d58-4f11-4b75-b99f-e3e57d129630",
   "metadata": {},
   "outputs": [
    {
     "data": {
      "text/plain": [
       "array([2., 3., 4., 5., 6., 7., 8., 9.])"
      ]
     },
     "execution_count": 193,
     "metadata": {},
     "output_type": "execute_result"
    }
   ],
   "source": [
    "# Definimos un array que empice en 2 y acabe en 9 y sean decimales:\n",
    "\n",
    "np.arange(2, 10, dtype=float)"
   ]
  },
  {
   "cell_type": "markdown",
   "id": "404dad6f-586b-4b52-8886-eb19edd43635",
   "metadata": {},
   "source": [
    "## ```linspace()```"
   ]
  },
  {
   "cell_type": "code",
   "execution_count": null,
   "id": "d4a29294-c2de-4caf-bd55-197fa5ed029c",
   "metadata": {},
   "outputs": [],
   "source": [
    "# Recogemos una muestra de los datos, especificamos: min, max, y cada tantos recoja un valor"
   ]
  },
  {
   "cell_type": "code",
   "execution_count": 194,
   "id": "1964f30e-c82c-409f-b650-c0cd67884df5",
   "metadata": {},
   "outputs": [
    {
     "data": {
      "text/plain": [
       "array([10., 20.])"
      ]
     },
     "execution_count": 194,
     "metadata": {},
     "output_type": "execute_result"
    }
   ],
   "source": [
    "f = np.linspace(10, 20, 2) # de 10 a 20 con 2 elementos\n",
    "f"
   ]
  },
  {
   "cell_type": "code",
   "execution_count": 195,
   "id": "3b7b18c3-2d50-4202-ac41-13a38181f9e2",
   "metadata": {},
   "outputs": [
    {
     "data": {
      "text/plain": [
       "array([10. , 12.5, 15. , 17.5, 20. ])"
      ]
     },
     "execution_count": 195,
     "metadata": {},
     "output_type": "execute_result"
    }
   ],
   "source": [
    "g = np.linspace(10, 20, 5) # de 10 a 20 muestra 5\n",
    "g"
   ]
  },
  {
   "cell_type": "code",
   "execution_count": 196,
   "id": "76bcba6e-6b1c-4d4d-9bd8-b53995fceabc",
   "metadata": {},
   "outputs": [
    {
     "data": {
      "text/plain": [
       "array([10., 15., 20.])"
      ]
     },
     "execution_count": 196,
     "metadata": {},
     "output_type": "execute_result"
    }
   ],
   "source": [
    "g1 = np.linspace(10, 20, 3) # de 10 a 20 muestra 3\n",
    "g1"
   ]
  },
  {
   "cell_type": "markdown",
   "id": "3a45b766-9616-405f-82f0-c48430e1cbf8",
   "metadata": {},
   "source": [
    "## Matrices basicas en numpy"
   ]
  },
  {
   "cell_type": "markdown",
   "id": "f25c67b6-6280-46bf-a5f9-2c005da817c3",
   "metadata": {},
   "source": [
    "## 2D: Método ```eye()```,  ```diag()``` / ```vander()```"
   ]
  },
  {
   "cell_type": "markdown",
   "id": "6a742718-54b0-40a2-b871-84f17dff8209",
   "metadata": {},
   "source": [
    "### Matriz Identidad: Diagonal principal llena de 1, resto 0"
   ]
  },
  {
   "cell_type": "markdown",
   "id": "0bb9e740-e495-441d-8864-63e9dc2565eb",
   "metadata": {},
   "source": [
    "**```eye(n, m)```**"
   ]
  },
  {
   "cell_type": "code",
   "execution_count": 197,
   "id": "85db80e5-44eb-44a2-80c9-018d055f1648",
   "metadata": {},
   "outputs": [
    {
     "data": {
      "text/plain": [
       "array([[1., 0., 0.],\n",
       "       [0., 1., 0.],\n",
       "       [0., 0., 1.]])"
      ]
     },
     "execution_count": 197,
     "metadata": {},
     "output_type": "execute_result"
    }
   ],
   "source": [
    "h = np.eye(3) # de 3 filas y 3 columnas --> matriz identidad\n",
    "h"
   ]
  },
  {
   "cell_type": "code",
   "execution_count": 198,
   "id": "fde27fae-089d-4734-a623-a59fa4af889c",
   "metadata": {
    "scrolled": true
   },
   "outputs": [
    {
     "data": {
      "text/plain": [
       "array([[1., 0., 0., 0., 0.],\n",
       "       [0., 1., 0., 0., 0.],\n",
       "       [0., 0., 1., 0., 0.],\n",
       "       [0., 0., 0., 1., 0.],\n",
       "       [0., 0., 0., 0., 1.]])"
      ]
     },
     "execution_count": 198,
     "metadata": {},
     "output_type": "execute_result"
    }
   ],
   "source": [
    "i = np.eye(5) # Matriz de 5 filas y 5 columnas \n",
    "i"
   ]
  },
  {
   "cell_type": "code",
   "execution_count": 199,
   "id": "4e647bf7-a571-4735-b163-90b93fa04dea",
   "metadata": {},
   "outputs": [
    {
     "data": {
      "text/plain": [
       "array([[1., 0., 0., 0., 0.],\n",
       "       [0., 1., 0., 0., 0.],\n",
       "       [0., 0., 1., 0., 0.]])"
      ]
     },
     "execution_count": 199,
     "metadata": {},
     "output_type": "execute_result"
    }
   ],
   "source": [
    "# n = filas, m = columnas, el resto que no son de la diagonal las rellena con 0:\n",
    "\n",
    "np.eye(3, 5)"
   ]
  },
  {
   "cell_type": "markdown",
   "id": "f045d93b-5f37-46ba-ae8b-99ab8b0dde9a",
   "metadata": {},
   "source": [
    "**```diag()```**"
   ]
  },
  {
   "cell_type": "code",
   "execution_count": 200,
   "id": "f8fc0039-6448-41c1-b690-807a31e42a64",
   "metadata": {},
   "outputs": [
    {
     "data": {
      "text/plain": [
       "array([[1, 0, 0],\n",
       "       [0, 2, 0],\n",
       "       [0, 0, 3]])"
      ]
     },
     "execution_count": 200,
     "metadata": {},
     "output_type": "execute_result"
    }
   ],
   "source": [
    "# Los elementos estan en la diagonal principal:\n",
    "\n",
    "a2D = np.diag([1, 2, 3]) \n",
    "a2D"
   ]
  },
  {
   "cell_type": "code",
   "execution_count": 201,
   "id": "43c1cc86-edf7-4022-8827-e3d4d8f26f21",
   "metadata": {},
   "outputs": [
    {
     "data": {
      "text/plain": [
       "array([[0, 1, 0, 0],\n",
       "       [0, 0, 2, 0],\n",
       "       [0, 0, 0, 3],\n",
       "       [0, 0, 0, 0]])"
      ]
     },
     "execution_count": 201,
     "metadata": {},
     "output_type": "execute_result"
    }
   ],
   "source": [
    "# El segundo parámetro es agregar un fila y columna de 0:\n",
    "\n",
    "np.diag([1, 2, 3], 1)"
   ]
  },
  {
   "cell_type": "markdown",
   "id": "d44596b8-2904-45ef-8a51-41a627949b71",
   "metadata": {},
   "source": [
    "**```vander(x, n)```**"
   ]
  },
  {
   "cell_type": "code",
   "execution_count": 202,
   "id": "3b3e2de4-1517-4685-8410-6ba26e8416c0",
   "metadata": {},
   "outputs": [
    {
     "data": {
      "text/plain": [
       "array([[1, 1],\n",
       "       [2, 1],\n",
       "       [3, 1],\n",
       "       [4, 1]])"
      ]
     },
     "execution_count": 202,
     "metadata": {},
     "output_type": "execute_result"
    }
   ],
   "source": [
    "# x = array 1d, la lista o tupla de valores, n = al número de columnas:\n",
    "np.vander([1, 2, 3, 4], 2)"
   ]
  },
  {
   "cell_type": "code",
   "execution_count": 203,
   "id": "2c6aa4ef-9421-4022-aeff-a484e946e0c2",
   "metadata": {},
   "outputs": [
    {
     "data": {
      "text/plain": [
       "array([[ 1,  1,  1,  1],\n",
       "       [ 8,  4,  2,  1],\n",
       "       [27,  9,  3,  1],\n",
       "       [64, 16,  4,  1]])"
      ]
     },
     "execution_count": 203,
     "metadata": {},
     "output_type": "execute_result"
    }
   ],
   "source": [
    "# Se crea una matriz decreciente de los valores 1, 2, 3, 4, que contiene 4 columnas:\n",
    "# así, la primera columna decrece 64, 27, 8, 1\n",
    "# segunda columna: 16, 9, 4, 1.\n",
    "\n",
    "np.vander((1, 2, 3, 4), 4)"
   ]
  },
  {
   "cell_type": "markdown",
   "id": "bc3b81d6-8d59-41f6-9050-7de9513607f2",
   "metadata": {},
   "source": [
    "### Matriz identidad multiplicada por un valor"
   ]
  },
  {
   "cell_type": "code",
   "execution_count": 204,
   "id": "e3b63f69-01bf-4976-8ef0-a2d6b4b1949e",
   "metadata": {},
   "outputs": [
    {
     "data": {
      "text/plain": [
       "array([[1., 0., 0., 0., 0.],\n",
       "       [0., 1., 0., 0., 0.],\n",
       "       [0., 0., 1., 0., 0.],\n",
       "       [0., 0., 0., 1., 0.],\n",
       "       [0., 0., 0., 0., 1.]])"
      ]
     },
     "execution_count": 204,
     "metadata": {},
     "output_type": "execute_result"
    }
   ],
   "source": [
    "i"
   ]
  },
  {
   "cell_type": "code",
   "execution_count": 205,
   "id": "ed9c3382-7b7c-4246-9520-6dc4d82b1cb6",
   "metadata": {},
   "outputs": [
    {
     "data": {
      "text/plain": [
       "array([[5., 0., 0., 0., 0.],\n",
       "       [0., 5., 0., 0., 0.],\n",
       "       [0., 0., 5., 0., 0.],\n",
       "       [0., 0., 0., 5., 0.],\n",
       "       [0., 0., 0., 0., 5.]])"
      ]
     },
     "execution_count": 205,
     "metadata": {},
     "output_type": "execute_result"
    }
   ],
   "source": [
    "j = 5 * i\n",
    "j"
   ]
  },
  {
   "cell_type": "markdown",
   "id": "428721e2-bb34-4199-98a1-1e73037eacd8",
   "metadata": {},
   "source": [
    "## Métodos ```zeros()``` / ```ones()```"
   ]
  },
  {
   "cell_type": "markdown",
   "id": "79a6cc78-7591-4d13-a8a2-e48d5d13ded9",
   "metadata": {},
   "source": [
    "### Matriz de todo 1"
   ]
  },
  {
   "cell_type": "code",
   "execution_count": 206,
   "id": "5f851ea5-8396-4c21-93ed-afd5e5b77661",
   "metadata": {},
   "outputs": [
    {
     "data": {
      "text/plain": [
       "array([[1., 1., 1., 1.],\n",
       "       [1., 1., 1., 1.],\n",
       "       [1., 1., 1., 1.]])"
      ]
     },
     "execution_count": 206,
     "metadata": {},
     "output_type": "execute_result"
    }
   ],
   "source": [
    "k = np.ones((3, 4)) # Matriz de 3 filas por 4 columnas --> valores 1\n",
    "k"
   ]
  },
  {
   "cell_type": "code",
   "execution_count": 207,
   "id": "8ed7cae5-5df0-4515-b188-5444b079eec4",
   "metadata": {},
   "outputs": [
    {
     "data": {
      "text/plain": [
       "array([[[1., 1.],\n",
       "        [1., 1.],\n",
       "        [1., 1.]],\n",
       "\n",
       "       [[1., 1.],\n",
       "        [1., 1.],\n",
       "        [1., 1.]]])"
      ]
     },
     "execution_count": 207,
     "metadata": {},
     "output_type": "execute_result"
    }
   ],
   "source": [
    "# se puede añadir un tercer parámetro que es el numero de arrays:\n",
    "\n",
    "np.ones((2, 3, 2))"
   ]
  },
  {
   "cell_type": "markdown",
   "id": "5cddd15b-e3f5-4692-b457-a01327e7d312",
   "metadata": {},
   "source": [
    "### Matriz de todo 0"
   ]
  },
  {
   "cell_type": "code",
   "execution_count": 208,
   "id": "4b8b5940-ae65-4064-9f09-88e0c1cebefc",
   "metadata": {},
   "outputs": [
    {
     "data": {
      "text/plain": [
       "array([[0., 0., 0., 0.],\n",
       "       [0., 0., 0., 0.],\n",
       "       [0., 0., 0., 0.]])"
      ]
     },
     "execution_count": 208,
     "metadata": {},
     "output_type": "execute_result"
    }
   ],
   "source": [
    "l = np.zeros((3, 4)) # Matriz de 0s --> 3 filas por 4 columnas\n",
    "l"
   ]
  },
  {
   "cell_type": "code",
   "execution_count": 209,
   "id": "f9ef1c2f-bd98-4fbc-8b3f-d0177a70464d",
   "metadata": {},
   "outputs": [
    {
     "data": {
      "text/plain": [
       "array([[0., 0.],\n",
       "       [0., 0.],\n",
       "       [0., 0.],\n",
       "       [0., 0.],\n",
       "       [0., 0.],\n",
       "       [0., 0.]])"
      ]
     },
     "execution_count": 209,
     "metadata": {},
     "output_type": "execute_result"
    }
   ],
   "source": [
    "l2 = np.zeros((6, 2))\n",
    "l2"
   ]
  },
  {
   "cell_type": "code",
   "execution_count": 210,
   "id": "9901760b-a2b3-4d5b-b940-136bf2988625",
   "metadata": {},
   "outputs": [
    {
     "data": {
      "text/plain": [
       "array([[[0., 0.],\n",
       "        [0., 0.],\n",
       "        [0., 0.]],\n",
       "\n",
       "       [[0., 0.],\n",
       "        [0., 0.],\n",
       "        [0., 0.]]])"
      ]
     },
     "execution_count": 210,
     "metadata": {},
     "output_type": "execute_result"
    }
   ],
   "source": [
    "np.zeros((2, 3, 2))  # Idem: a ones()"
   ]
  },
  {
   "cell_type": "markdown",
   "id": "257e6ebb-a22e-4a98-9ab6-5c9f87c71c83",
   "metadata": {},
   "source": [
    "## Metodos ```random()``` / ```indices()```"
   ]
  },
  {
   "cell_type": "markdown",
   "id": "833a454c-bf22-4fdb-ae69-484369c751a9",
   "metadata": {},
   "source": [
    "```random()``` genera valores pseudoaletarios entre 0 y 1:"
   ]
  },
  {
   "cell_type": "code",
   "execution_count": 211,
   "id": "6ee9426c-2caa-4fb7-9379-44d9fa974348",
   "metadata": {},
   "outputs": [
    {
     "data": {
      "text/plain": [
       "array([[0.77395605, 0.43887844, 0.85859792],\n",
       "       [0.69736803, 0.09417735, 0.97562235]])"
      ]
     },
     "execution_count": 211,
     "metadata": {},
     "output_type": "execute_result"
    }
   ],
   "source": [
    "from numpy.random import default_rng\n",
    "\n",
    "# 42: corresponde a seed\n",
    "# array de 2 filas x 3 columnas\n",
    "\n",
    "default_rng(42).random((2,3))"
   ]
  },
  {
   "cell_type": "code",
   "execution_count": 212,
   "id": "26b749e2-8d36-423d-8f16-7512bf88b1b3",
   "metadata": {},
   "outputs": [
    {
     "data": {
      "text/plain": [
       "array([[[0.77395605, 0.43887844],\n",
       "        [0.85859792, 0.69736803],\n",
       "        [0.09417735, 0.97562235]],\n",
       "\n",
       "       [[0.7611397 , 0.78606431],\n",
       "        [0.12811363, 0.45038594],\n",
       "        [0.37079802, 0.92676499]]])"
      ]
     },
     "execution_count": 212,
     "metadata": {},
     "output_type": "execute_result"
    }
   ],
   "source": [
    "default_rng(42).random((2,3,2))  # idem a ones()"
   ]
  },
  {
   "cell_type": "markdown",
   "id": "47457f99-f775-443e-af4c-d9f3dc8872f0",
   "metadata": {},
   "source": [
    "```indices()```: genera una matriz de un conjunto de matrices:"
   ]
  },
  {
   "cell_type": "code",
   "execution_count": 213,
   "id": "02376793-be1f-4272-bbd3-440e396b447b",
   "metadata": {},
   "outputs": [
    {
     "data": {
      "text/plain": [
       "array([[[0, 0, 0],\n",
       "        [1, 1, 1],\n",
       "        [2, 2, 2]],\n",
       "\n",
       "       [[0, 1, 2],\n",
       "        [0, 1, 2],\n",
       "        [0, 1, 2]]])"
      ]
     },
     "execution_count": 213,
     "metadata": {},
     "output_type": "execute_result"
    }
   ],
   "source": [
    "# Matriz de 3 filas por 3 columnas:\n",
    "\n",
    "np.indices((3,3))"
   ]
  },
  {
   "cell_type": "markdown",
   "id": "4bee1fcf-bdf1-4191-98a1-02aaf2bd626c",
   "metadata": {},
   "source": [
    "# Replicas o copias con numpy"
   ]
  },
  {
   "cell_type": "code",
   "execution_count": 214,
   "id": "f2a8680a-a912-4735-b9cb-53f9a46a8703",
   "metadata": {},
   "outputs": [
    {
     "name": "stdout",
     "output_type": "stream",
     "text": [
      "a = [2 3 3 4 5 6] ; b = [2 3]\n"
     ]
    }
   ],
   "source": [
    "a = np.array([1, 2, 3, 4, 5, 6])\n",
    "b = a[:2]\n",
    "b += 1\n",
    "print('a =', a, '; b =', b)"
   ]
  },
  {
   "cell_type": "markdown",
   "id": "417e1a1e-14db-4b39-9ad7-024a6d551a2c",
   "metadata": {},
   "source": [
    "El cambio realizado a b afecta en a en este caso es una réplica de a, pero b sólo escoge valortes de de 0 has 2 no incluido\n",
    "\n",
    "Ahora veamos que ocurre si usamos ```numpy.copy()```"
   ]
  },
  {
   "cell_type": "code",
   "execution_count": 215,
   "id": "0e7598b9-e56e-46e4-a50b-f0764ef31884",
   "metadata": {},
   "outputs": [
    {
     "name": "stdout",
     "output_type": "stream",
     "text": [
      "a =  [1 2 3 4] b =  [2 3]\n"
     ]
    }
   ],
   "source": [
    "a = np.array([1, 2, 3, 4])\n",
    "b = a[:2].copy()\n",
    "b += 1\n",
    "print('a = ', a, 'b = ', b)"
   ]
  },
  {
   "cell_type": "markdown",
   "id": "21d4ef7f-7e26-4633-948b-50204aaafc31",
   "metadata": {},
   "source": [
    "En este caso, a no se ve afectado por los cambios de b, ya que b es una copia de a."
   ]
  },
  {
   "cell_type": "code",
   "execution_count": 216,
   "id": "ba2a268f-1287-41f4-adb7-28ee49eaa181",
   "metadata": {},
   "outputs": [
    {
     "name": "stdout",
     "output_type": "stream",
     "text": [
      "A: \n",
      " [[1. 1.]\n",
      " [1. 1.]]\n",
      "B: \n",
      " [[1. 0.]\n",
      " [0. 1.]]\n",
      "C: \n",
      " [[0. 0.]\n",
      " [0. 0.]]\n",
      "D: \n",
      " [[-3  0]\n",
      " [ 0 -4]]\n",
      "4D: \n",
      " [[ 1.  1.  1.  0.]\n",
      " [ 1.  1.  0.  1.]\n",
      " [ 0.  0. -3.  0.]\n",
      " [ 0.  0.  0. -4.]]\n"
     ]
    }
   ],
   "source": [
    "A = np.ones((2, 2))\n",
    "print('A: \\n', A)\n",
    "\n",
    "B = np.eye(2, 2)\n",
    "print('B: \\n', B)\n",
    "\n",
    "C = np.zeros((2, 2))\n",
    "print('C: \\n', C)\n",
    "\n",
    "D = np.diag((-3, -4))\n",
    "print('D: \\n', D)\n",
    "\n",
    "a4d = np.block([[A, B], [C, D]])\n",
    "print('4D: \\n', a4d)"
   ]
  },
  {
   "cell_type": "markdown",
   "id": "285411a8-9568-42b5-9ee6-f669f427bdfc",
   "metadata": {},
   "source": [
    "```np.block```: crea la matriz resultante de:\n",
    "[ \n",
    "    [A, B],\n",
    "    [C, D]\n",
    "]\n"
   ]
  },
  {
   "cell_type": "markdown",
   "id": "2d7d42cd-c87c-4c52-b24e-f488b3422d50",
   "metadata": {},
   "source": [
    "## Leer un archivo csv con el metodo ```loadtxt()```"
   ]
  },
  {
   "cell_type": "code",
   "execution_count": 217,
   "id": "d0d160d6-2543-4625-ade0-b6c9ddda6c10",
   "metadata": {
    "scrolled": true
   },
   "outputs": [
    {
     "data": {
      "text/plain": [
       "array([[0., 0.],\n",
       "       [1., 1.],\n",
       "       [2., 4.],\n",
       "       [3., 9.]])"
      ]
     },
     "execution_count": 217,
     "metadata": {},
     "output_type": "execute_result"
    }
   ],
   "source": [
    "# Poner nombre del archivo, seleccionar el delimitador que en este ejemplo es (,) y escapar la cabecera del documento (skiprows):\n",
    "\n",
    "np.loadtxt('simple.csv', delimiter = ',', skiprows = 1) "
   ]
  },
  {
   "cell_type": "markdown",
   "id": "1b108434-d646-4225-bcea-a5f1713785a4",
   "metadata": {},
   "source": [
    "## Modificacion de matrices"
   ]
  },
  {
   "cell_type": "markdown",
   "id": "ef301ce5-0bd4-4dce-bc26-53580c82d4b5",
   "metadata": {},
   "source": [
    "### Transpuesta de una matriz: ```transpose()``` & ```.T```"
   ]
  },
  {
   "cell_type": "markdown",
   "id": "a175c832-1e8b-4821-85dd-2f9a253b6ef3",
   "metadata": {},
   "source": [
    "**Intercambio de filas por columnas**"
   ]
  },
  {
   "cell_type": "code",
   "execution_count": 218,
   "id": "fb92ef8f-c654-4f09-aa6a-57b311e0bb2f",
   "metadata": {},
   "outputs": [
    {
     "data": {
      "text/plain": [
       "array([[1, 2, 3],\n",
       "       [4, 5, 6]])"
      ]
     },
     "execution_count": 218,
     "metadata": {},
     "output_type": "execute_result"
    }
   ],
   "source": [
    "m = np.array([[1, 2, 3],\n",
    "             [4, 5, 6]])\n",
    "m"
   ]
  },
  {
   "cell_type": "code",
   "execution_count": 219,
   "id": "2a265d67-3fd0-4c7e-9096-af749edc4410",
   "metadata": {},
   "outputs": [
    {
     "data": {
      "text/plain": [
       "array([[1, 4],\n",
       "       [2, 5],\n",
       "       [3, 6]])"
      ]
     },
     "execution_count": 219,
     "metadata": {},
     "output_type": "execute_result"
    }
   ],
   "source": [
    "# Opción 1\n",
    "m.transpose()"
   ]
  },
  {
   "cell_type": "code",
   "execution_count": 220,
   "id": "dcd92161-5ce1-495f-b5a5-f28d877a229b",
   "metadata": {},
   "outputs": [
    {
     "data": {
      "text/plain": [
       "array([[1, 4],\n",
       "       [2, 5],\n",
       "       [3, 6]])"
      ]
     },
     "execution_count": 220,
     "metadata": {},
     "output_type": "execute_result"
    }
   ],
   "source": [
    "# Opción 2\n",
    "m.T"
   ]
  },
  {
   "cell_type": "markdown",
   "id": "c82f2ff4-46bb-465e-a3c0-db3b63981fff",
   "metadata": {},
   "source": [
    "### Logic functions: Metodos ```all()``` & ```any()```"
   ]
  },
  {
   "cell_type": "code",
   "execution_count": 221,
   "id": "8e5cba9b-72c2-4880-a7d8-b9403e944ea6",
   "metadata": {},
   "outputs": [
    {
     "data": {
      "text/plain": [
       "array([[1, 2, 3],\n",
       "       [4, 5, 6]])"
      ]
     },
     "execution_count": 221,
     "metadata": {},
     "output_type": "execute_result"
    }
   ],
   "source": [
    "n = np.array([[1, 2, 3],\n",
    "             [4, 5, 6]])\n",
    "n"
   ]
  },
  {
   "cell_type": "code",
   "execution_count": 222,
   "id": "f3279b35-6758-4c02-88fa-9e57248aa455",
   "metadata": {},
   "outputs": [
    {
     "data": {
      "text/plain": [
       "True"
      ]
     },
     "execution_count": 222,
     "metadata": {},
     "output_type": "execute_result"
    }
   ],
   "source": [
    "# ALL --> ¿Todos los elementos son mayores de 0? --> True/False\n",
    "np.all(n>0)"
   ]
  },
  {
   "cell_type": "code",
   "execution_count": 223,
   "id": "c6232f39-073f-464d-8b83-2a97d289700a",
   "metadata": {},
   "outputs": [
    {
     "data": {
      "text/plain": [
       "False"
      ]
     },
     "execution_count": 223,
     "metadata": {},
     "output_type": "execute_result"
    }
   ],
   "source": [
    "np.all(n>2)"
   ]
  },
  {
   "cell_type": "code",
   "execution_count": 224,
   "id": "3afb35ed-9509-4f0d-a2b7-d3e752279c2c",
   "metadata": {},
   "outputs": [
    {
     "data": {
      "text/plain": [
       "True"
      ]
     },
     "execution_count": 224,
     "metadata": {},
     "output_type": "execute_result"
    }
   ],
   "source": [
    "# ANY --> ¿Algún elemento son mayores de 2?\n",
    "np.any(n>2)"
   ]
  },
  {
   "cell_type": "markdown",
   "id": "08232920-0c5f-4ebe-9e33-f6d83c5312c9",
   "metadata": {},
   "source": [
    "Si queremos declarar un array con valores nulos usaremos: ```np.nan``` y lo comprobaremos mediante la función ```np.isnan()```"
   ]
  },
  {
   "cell_type": "code",
   "execution_count": 225,
   "id": "2397de10-0777-4ef3-bdca-39db640d96ef",
   "metadata": {},
   "outputs": [
    {
     "data": {
      "text/plain": [
       "array([[ 1.,  2.],\n",
       "       [nan,  3.],\n",
       "       [nan, nan]])"
      ]
     },
     "execution_count": 225,
     "metadata": {},
     "output_type": "execute_result"
    }
   ],
   "source": [
    "x = np.array([[1., 2.], [np.nan, 3.], [np.nan, np.nan]])\n",
    "x"
   ]
  },
  {
   "cell_type": "code",
   "execution_count": 226,
   "id": "e659b295-0f0c-4339-ab23-a5c950b472a2",
   "metadata": {},
   "outputs": [
    {
     "data": {
      "text/plain": [
       "array([[False, False],\n",
       "       [ True, False],\n",
       "       [ True,  True]])"
      ]
     },
     "execution_count": 226,
     "metadata": {},
     "output_type": "execute_result"
    }
   ],
   "source": [
    "# isnan nos muestra el array resultante con salida de True si es un valor nulo o False si no es un valor nulo:\n",
    "\n",
    "np.isnan(x)"
   ]
  },
  {
   "cell_type": "markdown",
   "id": "773b115f-eb40-4e2b-9511-fc64fcd02859",
   "metadata": {},
   "source": [
    "### Función ```ravel()```"
   ]
  },
  {
   "cell_type": "code",
   "execution_count": null,
   "id": "20eb6a97-d3ac-46e1-9ded-dd81f687df80",
   "metadata": {},
   "outputs": [],
   "source": [
    "# Pone en una sola dimensión una matriz"
   ]
  },
  {
   "cell_type": "code",
   "execution_count": 227,
   "id": "6955fd04-ffc9-4e3a-ad45-7c5bb6f040bf",
   "metadata": {},
   "outputs": [
    {
     "data": {
      "text/plain": [
       "array([[1, 2, 3],\n",
       "       [4, 5, 6]])"
      ]
     },
     "execution_count": 227,
     "metadata": {},
     "output_type": "execute_result"
    }
   ],
   "source": [
    "p = np.array([[1, 2, 3],\n",
    "             [4, 5, 6]])\n",
    "p"
   ]
  },
  {
   "cell_type": "code",
   "execution_count": 228,
   "id": "10de031c-af32-4537-88b5-ee5b2caefc5f",
   "metadata": {},
   "outputs": [
    {
     "data": {
      "text/plain": [
       "array([1, 2, 3, 4, 5, 6])"
      ]
     },
     "execution_count": 228,
     "metadata": {},
     "output_type": "execute_result"
    }
   ],
   "source": [
    "# np.ravel(matriz a modificar)\n",
    "np.ravel(p)"
   ]
  },
  {
   "cell_type": "code",
   "execution_count": 229,
   "id": "87b71664-3c26-4fe3-af84-89740daf63eb",
   "metadata": {},
   "outputs": [
    {
     "data": {
      "text/plain": [
       "array([[1, 2, 3],\n",
       "       [4, 5, 6],\n",
       "       [7, 8, 9]])"
      ]
     },
     "execution_count": 229,
     "metadata": {},
     "output_type": "execute_result"
    }
   ],
   "source": [
    "p1 = np.array([[1, 2, 3],\n",
    "               [4, 5, 6],\n",
    "               [7, 8, 9]])\n",
    "p1"
   ]
  },
  {
   "cell_type": "code",
   "execution_count": 230,
   "id": "09a62414-4842-43f4-88f3-82ed8ad252d4",
   "metadata": {},
   "outputs": [
    {
     "data": {
      "text/plain": [
       "array([1, 2, 3, 4, 5, 6, 7, 8, 9])"
      ]
     },
     "execution_count": 230,
     "metadata": {},
     "output_type": "execute_result"
    }
   ],
   "source": [
    "np.ravel(p1)"
   ]
  },
  {
   "cell_type": "markdown",
   "id": "88ecc3c7-c261-410e-9add-1a694d2415f9",
   "metadata": {},
   "source": [
    "### ```flatten()```"
   ]
  },
  {
   "cell_type": "code",
   "execution_count": null,
   "id": "97014c2c-dac2-49ac-8d13-3b1adfd34d82",
   "metadata": {},
   "outputs": [],
   "source": [
    "# Es una copia del array pero en 1 sola dimensión"
   ]
  },
  {
   "cell_type": "code",
   "execution_count": 231,
   "id": "cfba1d3c-b56e-4d28-bf6c-e7590b243f5f",
   "metadata": {},
   "outputs": [
    {
     "data": {
      "text/plain": [
       "array([[1, 2, 3],\n",
       "       [4, 5, 6],\n",
       "       [7, 8, 9]])"
      ]
     },
     "execution_count": 231,
     "metadata": {},
     "output_type": "execute_result"
    }
   ],
   "source": [
    "matriz = np.array([[1, 2, 3],\n",
    "                  [4, 5, 6],\n",
    "                  [7, 8, 9]])\n",
    "matriz"
   ]
  },
  {
   "cell_type": "code",
   "execution_count": 232,
   "id": "81c5c76f-189c-4012-be24-ee760e186b0a",
   "metadata": {},
   "outputs": [
    {
     "data": {
      "text/plain": [
       "array([1, 2, 3, 4, 5, 6, 7, 8, 9])"
      ]
     },
     "execution_count": 232,
     "metadata": {},
     "output_type": "execute_result"
    }
   ],
   "source": [
    "# nombre matriz + flatten()\n",
    "matriz.flatten()"
   ]
  },
  {
   "cell_type": "code",
   "execution_count": 233,
   "id": "99594870-5477-4c91-a9af-480e2e84a7db",
   "metadata": {},
   "outputs": [],
   "source": [
    "m = matriz.flatten()"
   ]
  },
  {
   "cell_type": "code",
   "execution_count": 234,
   "id": "396e0239-6344-4c93-a036-5c2e44d3fe18",
   "metadata": {},
   "outputs": [
    {
     "data": {
      "text/plain": [
       "(9,)"
      ]
     },
     "execution_count": 234,
     "metadata": {},
     "output_type": "execute_result"
    }
   ],
   "source": [
    "m.shape"
   ]
  },
  {
   "cell_type": "markdown",
   "id": "1214444d-c8d2-4388-84ef-8d35c3074fc9",
   "metadata": {},
   "source": [
    "### ```roll()```"
   ]
  },
  {
   "cell_type": "code",
   "execution_count": null,
   "id": "8fb88142-4fa7-4bbb-b9ff-cff25ab1c478",
   "metadata": {},
   "outputs": [],
   "source": [
    "# np.roll(array, desplazamiento, eje)\n",
    "# Desplaza los elementos de manera circular a través de una dimensión"
   ]
  },
  {
   "cell_type": "code",
   "execution_count": 235,
   "id": "059b40a8-d8b8-4349-8d82-1e581ea0640b",
   "metadata": {},
   "outputs": [
    {
     "data": {
      "text/plain": [
       "array([[ 1,  2,  3,  4],\n",
       "       [ 5,  6,  7,  8],\n",
       "       [ 9, 10, 11, 12]])"
      ]
     },
     "execution_count": 235,
     "metadata": {},
     "output_type": "execute_result"
    }
   ],
   "source": [
    "b = np.array([[1, 2, 3, 4],\n",
    "              [5, 6, 7, 8],\n",
    "              [9, 10, 11, 12]])\n",
    "b"
   ]
  },
  {
   "cell_type": "code",
   "execution_count": 236,
   "id": "79b8a8f0-afe6-48eb-b1ab-8a21bd9daf14",
   "metadata": {},
   "outputs": [
    {
     "data": {
      "text/plain": [
       "array([[ 9, 10, 11, 12],\n",
       "       [ 1,  2,  3,  4],\n",
       "       [ 5,  6,  7,  8]])"
      ]
     },
     "execution_count": 236,
     "metadata": {},
     "output_type": "execute_result"
    }
   ],
   "source": [
    "# Desplazamiento= 1 y eje horizontal\n",
    "np.roll(b, 1, axis=0)"
   ]
  },
  {
   "cell_type": "code",
   "execution_count": 237,
   "id": "ab82920d-4a48-4beb-829e-2c7f41aa8a2f",
   "metadata": {},
   "outputs": [
    {
     "data": {
      "text/plain": [
       "array([[ 4,  1,  2,  3],\n",
       "       [ 8,  5,  6,  7],\n",
       "       [12,  9, 10, 11]])"
      ]
     },
     "execution_count": 237,
     "metadata": {},
     "output_type": "execute_result"
    }
   ],
   "source": [
    "# Desplazamiento = 1 y eje vertical\n",
    "np.roll(b, 1, axis=1)"
   ]
  },
  {
   "cell_type": "code",
   "execution_count": 238,
   "id": "2ec1526a-ae8f-4573-b0b8-d288a30942d2",
   "metadata": {},
   "outputs": [
    {
     "data": {
      "text/plain": [
       "array([[ 5,  6,  7,  8],\n",
       "       [ 9, 10, 11, 12],\n",
       "       [ 1,  2,  3,  4]])"
      ]
     },
     "execution_count": 238,
     "metadata": {},
     "output_type": "execute_result"
    }
   ],
   "source": [
    "# Desplazamiento= -1 y eje horizontal\n",
    "np.roll(b, -1, axis=0)"
   ]
  },
  {
   "cell_type": "code",
   "execution_count": 239,
   "id": "042f7922-acdb-44d8-b8cc-22cab7ef250f",
   "metadata": {},
   "outputs": [
    {
     "data": {
      "text/plain": [
       "array([[ 2,  3,  4,  1],\n",
       "       [ 6,  7,  8,  5],\n",
       "       [10, 11, 12,  9]])"
      ]
     },
     "execution_count": 239,
     "metadata": {},
     "output_type": "execute_result"
    }
   ],
   "source": [
    "# Desplazamiento = -1 y eje vertical\n",
    "np.roll(b, -1, axis=1)"
   ]
  },
  {
   "cell_type": "markdown",
   "id": "d46f0c4e-797c-42c2-8c53-b32a744da79b",
   "metadata": {},
   "source": [
    "### ```logspace()```"
   ]
  },
  {
   "cell_type": "code",
   "execution_count": null,
   "id": "3105ee96-f730-4156-be68-f68d0b582fb7",
   "metadata": {},
   "outputs": [],
   "source": [
    "# Array de elementos logarítmicos espaciados"
   ]
  },
  {
   "cell_type": "code",
   "execution_count": 240,
   "id": "18ad361d-003a-463c-9ee4-96df277d8788",
   "metadata": {},
   "outputs": [
    {
     "data": {
      "text/plain": [
       "array([ 1.        ,  3.16227766, 10.        ])"
      ]
     },
     "execution_count": 240,
     "metadata": {},
     "output_type": "execute_result"
    }
   ],
   "source": [
    "# np.logspace(10^inicio, 10^fin, divisiones(elementos))\n",
    "# como en linspace se incluye los extremos (inicios-->fin)\n",
    "c = np.logspace(0, 1, 3)\n",
    "c"
   ]
  },
  {
   "cell_type": "code",
   "execution_count": null,
   "id": "eb622bf6-6e26-43f7-9166-67aabcb5789b",
   "metadata": {},
   "outputs": [],
   "source": [
    "# 10^0 = 1 ; 10^1 = 1; 3 divisiones(elementos)"
   ]
  },
  {
   "cell_type": "markdown",
   "id": "29907259-a47b-4897-ad01-b047f425e907",
   "metadata": {},
   "source": [
    "$$ 10^0 = 1\\,\\,\\,\\,y\\,\\,\\,\\, 10^1=1\\,\\,\\,\\,3 divisiones(elementos) $$"
   ]
  },
  {
   "cell_type": "markdown",
   "id": "8448e994-2baf-4b6d-be56-f17404cea453",
   "metadata": {},
   "source": [
    "## Slicing \n",
    "### Acceso a un elemento de un array:"
   ]
  },
  {
   "cell_type": "code",
   "execution_count": 241,
   "id": "763c670c-d821-459a-8ccb-7065b4405c39",
   "metadata": {},
   "outputs": [
    {
     "data": {
      "text/plain": [
       "array([[10, 20],\n",
       "       [30, 40]])"
      ]
     },
     "execution_count": 241,
     "metadata": {},
     "output_type": "execute_result"
    }
   ],
   "source": [
    "matriz = np.array([\n",
    "    [10, 20],\n",
    "    [30, 40]\n",
    "])\n",
    "matriz"
   ]
  },
  {
   "cell_type": "code",
   "execution_count": 242,
   "id": "c4ef0ce4-cd75-44d3-9d4b-8e9fa1ce4cb6",
   "metadata": {},
   "outputs": [
    {
     "data": {
      "text/plain": [
       "10"
      ]
     },
     "execution_count": 242,
     "metadata": {},
     "output_type": "execute_result"
    }
   ],
   "source": [
    "matriz[0][0] # fila 0 columna 0"
   ]
  },
  {
   "cell_type": "code",
   "execution_count": 243,
   "id": "c8e129d2-1051-4ed6-95e5-6a6584994b4d",
   "metadata": {},
   "outputs": [
    {
     "data": {
      "text/plain": [
       "20"
      ]
     },
     "execution_count": 243,
     "metadata": {},
     "output_type": "execute_result"
    }
   ],
   "source": [
    "matriz[0][1] # fila 0 columna 1"
   ]
  },
  {
   "cell_type": "markdown",
   "id": "8bf43b04-a324-4342-99b0-c15309449633",
   "metadata": {},
   "source": [
    "**Otro ejemplo...**"
   ]
  },
  {
   "cell_type": "code",
   "execution_count": 244,
   "id": "0a08c159-e8e6-411e-9430-1761aa3f8c50",
   "metadata": {},
   "outputs": [
    {
     "data": {
      "text/plain": [
       "array([[1, 2, 3],\n",
       "       [4, 5, 6],\n",
       "       [7, 8, 9]])"
      ]
     },
     "execution_count": 244,
     "metadata": {},
     "output_type": "execute_result"
    }
   ],
   "source": [
    "q = np.array([[1, 2, 3],\n",
    "              [4, 5, 6],\n",
    "              [7, 8, 9]])\n",
    "q"
   ]
  },
  {
   "cell_type": "code",
   "execution_count": 245,
   "id": "92619b96-7248-485e-9e6d-9014750d90d6",
   "metadata": {},
   "outputs": [
    {
     "data": {
      "text/plain": [
       "8"
      ]
     },
     "execution_count": 245,
     "metadata": {},
     "output_type": "execute_result"
    }
   ],
   "source": [
    "# Opción 1\n",
    "q[2][1] # --> fila 2 y columna 1 (listas 0, 1, 2)"
   ]
  },
  {
   "cell_type": "code",
   "execution_count": 246,
   "id": "578c1502-b53c-4685-9e38-afe9ea8f5acc",
   "metadata": {},
   "outputs": [
    {
     "data": {
      "text/plain": [
       "3"
      ]
     },
     "execution_count": 246,
     "metadata": {},
     "output_type": "execute_result"
    }
   ],
   "source": [
    "q[0][2]"
   ]
  },
  {
   "cell_type": "code",
   "execution_count": 247,
   "id": "3daf2b75-cd76-40ea-88d0-03bd5683662c",
   "metadata": {},
   "outputs": [
    {
     "data": {
      "text/plain": [
       "8"
      ]
     },
     "execution_count": 247,
     "metadata": {},
     "output_type": "execute_result"
    }
   ],
   "source": [
    "# Opción 2\n",
    "q[2, 1]"
   ]
  },
  {
   "cell_type": "code",
   "execution_count": 248,
   "id": "6ca0cbf0-1a1f-4dd1-a55f-5110e2f056f0",
   "metadata": {},
   "outputs": [
    {
     "data": {
      "text/plain": [
       "array([[1, 2, 3],\n",
       "       [4, 5, 6]])"
      ]
     },
     "execution_count": 248,
     "metadata": {},
     "output_type": "execute_result"
    }
   ],
   "source": [
    "# dos primeras filas (: --> todas)\n",
    "q[:2]"
   ]
  },
  {
   "cell_type": "code",
   "execution_count": 249,
   "id": "b21cfc1f-edf3-41fe-b9ca-b9f354558f6f",
   "metadata": {},
   "outputs": [
    {
     "data": {
      "text/plain": [
       "array([[7, 8, 9]])"
      ]
     },
     "execution_count": 249,
     "metadata": {},
     "output_type": "execute_result"
    }
   ],
   "source": [
    "q[2:]"
   ]
  },
  {
   "cell_type": "code",
   "execution_count": 250,
   "id": "483a6e92-5fc5-4e9e-8b15-a29b46000818",
   "metadata": {},
   "outputs": [
    {
     "data": {
      "text/plain": [
       "array([[1],\n",
       "       [4],\n",
       "       [7]])"
      ]
     },
     "execution_count": 250,
     "metadata": {},
     "output_type": "execute_result"
    }
   ],
   "source": [
    "# Filtrar por columnas\n",
    "q[:,[0]]"
   ]
  },
  {
   "cell_type": "code",
   "execution_count": 251,
   "id": "da1d8794-f6d9-437f-b932-386d7b57f186",
   "metadata": {},
   "outputs": [
    {
     "data": {
      "text/plain": [
       "array([[1, 2],\n",
       "       [4, 5],\n",
       "       [7, 8]])"
      ]
     },
     "execution_count": 251,
     "metadata": {},
     "output_type": "execute_result"
    }
   ],
   "source": [
    "# Filtrar por columnas\n",
    "q[:,[0,1]]"
   ]
  },
  {
   "cell_type": "code",
   "execution_count": 252,
   "id": "147a3b62-a7fb-429e-b8f2-35d62b7dac6e",
   "metadata": {},
   "outputs": [
    {
     "data": {
      "text/plain": [
       "array([1, 3, 5, 7, 9])"
      ]
     },
     "execution_count": 252,
     "metadata": {},
     "output_type": "execute_result"
    }
   ],
   "source": [
    "# También sigue como las listas [start:stop:step]\n",
    "\n",
    "x = np.array([0, 1, 2, 3, 4, 5, 6, 7, 8, 9])\n",
    "x[1:12:2]"
   ]
  },
  {
   "cell_type": "markdown",
   "id": "d0fac992-9b67-4c3c-8028-063458595f95",
   "metadata": {},
   "source": [
    "### Array de 5 x 5"
   ]
  },
  {
   "cell_type": "code",
   "execution_count": 253,
   "id": "a1d0de0b-a7c1-47b7-9905-458d171f3f76",
   "metadata": {},
   "outputs": [
    {
     "data": {
      "text/plain": [
       "array([[ 1,  2,  3,  4,  5],\n",
       "       [ 6,  7,  8,  9, 10],\n",
       "       [11, 12, 13, 14, 15],\n",
       "       [16, 17, 18, 19, 20],\n",
       "       [21, 22, 23, 24, 25]])"
      ]
     },
     "execution_count": 253,
     "metadata": {},
     "output_type": "execute_result"
    }
   ],
   "source": [
    "a = np.array([\n",
    "    [1, 2, 3, 4, 5],\n",
    "    [6, 7, 8, 9, 10],\n",
    "    [11, 12, 13, 14, 15],\n",
    "    [16, 17, 18, 19, 20],\n",
    "    [21, 22, 23, 24, 25]\n",
    "])\n",
    "a"
   ]
  },
  {
   "cell_type": "markdown",
   "id": "b864ee17-55dc-4e65-8419-9941a52587c9",
   "metadata": {},
   "source": [
    "### Imprimir desde la 3ª columna hasta el final"
   ]
  },
  {
   "cell_type": "code",
   "execution_count": 254,
   "id": "95baa74f-5a65-4eec-a116-d137924a7849",
   "metadata": {},
   "outputs": [
    {
     "name": "stdout",
     "output_type": "stream",
     "text": [
      "[[ 1  2  3  4  5]\n",
      " [ 6  7  8  9 10]\n",
      " [11 12 13 14 15]\n",
      " [16 17 18 19 20]\n",
      " [21 22 23 24 25]]\n"
     ]
    }
   ],
   "source": [
    "print(a) # mostrar la información de la matriz"
   ]
  },
  {
   "cell_type": "code",
   "execution_count": 255,
   "id": "3e5ca87d-f22a-403c-88ad-09b1bfa69825",
   "metadata": {},
   "outputs": [
    {
     "data": {
      "text/plain": [
       "array([[ 1,  2],\n",
       "       [ 6,  7],\n",
       "       [11, 12],\n",
       "       [16, 17],\n",
       "       [21, 22]])"
      ]
     },
     "execution_count": 255,
     "metadata": {},
     "output_type": "execute_result"
    }
   ],
   "source": [
    "# ojo, empezamos contando 0...(0-1-2) hasta la columna 2 (la tercera)\n",
    "# : antes del igual indica todas las filas\n",
    "# todas las filas, las columnas de 0 hasta 2 (2 no incluída)\n",
    "a[:, :2]"
   ]
  },
  {
   "cell_type": "code",
   "execution_count": 256,
   "id": "373b9922-e1e8-4f27-8c69-84ad98309dfb",
   "metadata": {},
   "outputs": [
    {
     "data": {
      "text/plain": [
       "array([[ 1,  2,  3,  4,  5],\n",
       "       [ 6,  7,  8,  9, 10]])"
      ]
     },
     "execution_count": 256,
     "metadata": {},
     "output_type": "execute_result"
    }
   ],
   "source": [
    "# todas las columnas de las 2 primeras filas\n",
    "a[:2]"
   ]
  },
  {
   "cell_type": "code",
   "execution_count": 257,
   "id": "25acbc63-6215-47e0-9f07-4e512a606e64",
   "metadata": {},
   "outputs": [
    {
     "data": {
      "text/plain": [
       "array([[ 1,  2,  3,  4,  5],\n",
       "       [ 6,  7,  8,  9, 10]])"
      ]
     },
     "execution_count": 257,
     "metadata": {},
     "output_type": "execute_result"
    }
   ],
   "source": [
    "a[:2, :]"
   ]
  },
  {
   "cell_type": "code",
   "execution_count": 258,
   "id": "bfcb3654-e58e-4052-9a81-e9515dd2b9ae",
   "metadata": {},
   "outputs": [
    {
     "data": {
      "text/plain": [
       "array([[ 2],\n",
       "       [ 7],\n",
       "       [12],\n",
       "       [17],\n",
       "       [22]])"
      ]
     },
     "execution_count": 258,
     "metadata": {},
     "output_type": "execute_result"
    }
   ],
   "source": [
    "a[:, 1:2]"
   ]
  },
  {
   "cell_type": "code",
   "execution_count": null,
   "id": "334ebdca-57d6-411b-8d73-0498356a2615",
   "metadata": {},
   "outputs": [],
   "source": [
    "# NOTA: esta parte será importante para el tema de visualización de los datos en dataframe,\n",
    "# ver el tema de df.loc o df.iloc"
   ]
  },
  {
   "cell_type": "markdown",
   "id": "c4c951d8-546d-45a1-803e-c30530d9b108",
   "metadata": {},
   "source": [
    "**Type...**"
   ]
  },
  {
   "cell_type": "code",
   "execution_count": 259,
   "id": "ec59c596-b171-437c-a08b-7959866bf299",
   "metadata": {},
   "outputs": [
    {
     "data": {
      "text/plain": [
       "numpy.ndarray"
      ]
     },
     "execution_count": 259,
     "metadata": {},
     "output_type": "execute_result"
    }
   ],
   "source": [
    "type(a[:,2:])"
   ]
  },
  {
   "cell_type": "markdown",
   "id": "edcf02d0-bef6-4860-8046-82fe235789b8",
   "metadata": {},
   "source": [
    "### Imprimo desde la primera hasta la 2ª columna (incluida)"
   ]
  },
  {
   "cell_type": "code",
   "execution_count": 260,
   "id": "a75fe67e-30c0-4b90-b55c-b85f670e249e",
   "metadata": {},
   "outputs": [
    {
     "data": {
      "text/plain": [
       "array([[ 1,  2,  3,  4,  5],\n",
       "       [ 6,  7,  8,  9, 10],\n",
       "       [11, 12, 13, 14, 15],\n",
       "       [16, 17, 18, 19, 20],\n",
       "       [21, 22, 23, 24, 25]])"
      ]
     },
     "execution_count": 260,
     "metadata": {},
     "output_type": "execute_result"
    }
   ],
   "source": [
    "a"
   ]
  },
  {
   "cell_type": "code",
   "execution_count": 261,
   "id": "d7088434-a992-442a-9549-a0eb7523edf5",
   "metadata": {},
   "outputs": [
    {
     "data": {
      "text/plain": [
       "array([[ 1,  2],\n",
       "       [ 6,  7],\n",
       "       [11, 12],\n",
       "       [16, 17],\n",
       "       [21, 22]])"
      ]
     },
     "execution_count": 261,
     "metadata": {},
     "output_type": "execute_result"
    }
   ],
   "source": [
    "# Opción 1\n",
    "\n",
    "a[:, :2]"
   ]
  },
  {
   "cell_type": "code",
   "execution_count": 262,
   "id": "40024a6c-25e0-41ad-b750-18717b943cc5",
   "metadata": {},
   "outputs": [
    {
     "data": {
      "text/plain": [
       "array([[ 1,  2],\n",
       "       [ 6,  7],\n",
       "       [11, 12],\n",
       "       [16, 17],\n",
       "       [21, 22]])"
      ]
     },
     "execution_count": 262,
     "metadata": {},
     "output_type": "execute_result"
    }
   ],
   "source": [
    "# Opción 2\n",
    "\n",
    "a[:, 0:2]"
   ]
  },
  {
   "cell_type": "markdown",
   "id": "d2baa06f-3722-4a1e-b930-33178242105a",
   "metadata": {},
   "source": [
    "### Imprimo las pares"
   ]
  },
  {
   "cell_type": "code",
   "execution_count": 263,
   "id": "8e7b9e89-3c59-4202-9b2b-a02e8b45ebdc",
   "metadata": {},
   "outputs": [
    {
     "data": {
      "text/plain": [
       "array([[ 1,  2,  3,  4,  5],\n",
       "       [ 6,  7,  8,  9, 10],\n",
       "       [11, 12, 13, 14, 15],\n",
       "       [16, 17, 18, 19, 20],\n",
       "       [21, 22, 23, 24, 25]])"
      ]
     },
     "execution_count": 263,
     "metadata": {},
     "output_type": "execute_result"
    }
   ],
   "source": [
    "a"
   ]
  },
  {
   "cell_type": "code",
   "execution_count": null,
   "id": "cf643a83-7746-4aba-90d4-d8b0aa37dff7",
   "metadata": {},
   "outputs": [],
   "source": [
    "# \":\" antes de la coma equivale a todas las filas\n",
    "# inicio:final:incremento (si añades un segundo \":\" es poner el incremento)\n",
    "# en el final si no ponemos nada es el final"
   ]
  },
  {
   "cell_type": "code",
   "execution_count": 264,
   "id": "2f4f17f3-009d-4dc4-8eee-195d7f509a78",
   "metadata": {},
   "outputs": [
    {
     "data": {
      "text/plain": [
       "array([[ 2,  4],\n",
       "       [ 7,  9],\n",
       "       [12, 14],\n",
       "       [17, 19],\n",
       "       [22, 24]])"
      ]
     },
     "execution_count": 264,
     "metadata": {},
     "output_type": "execute_result"
    }
   ],
   "source": [
    "a[:, 1::2]"
   ]
  },
  {
   "cell_type": "code",
   "execution_count": 265,
   "id": "f7da28fa-6141-4d7a-9966-60eb8556e25f",
   "metadata": {},
   "outputs": [
    {
     "data": {
      "text/plain": [
       "array([[ 2,  5],\n",
       "       [ 7, 10],\n",
       "       [12, 15],\n",
       "       [17, 20],\n",
       "       [22, 25]])"
      ]
     },
     "execution_count": 265,
     "metadata": {},
     "output_type": "execute_result"
    }
   ],
   "source": [
    "a[:, 1::3]"
   ]
  },
  {
   "cell_type": "markdown",
   "id": "f8e63be7-6b59-4ae0-863f-d29dbfbc243d",
   "metadata": {},
   "source": [
    "### Imprimir las impares"
   ]
  },
  {
   "cell_type": "code",
   "execution_count": 266,
   "id": "28e3967a-a7b7-4d77-9248-79f3f1b8204b",
   "metadata": {},
   "outputs": [
    {
     "data": {
      "text/plain": [
       "array([[ 1,  2,  3,  4,  5],\n",
       "       [ 6,  7,  8,  9, 10],\n",
       "       [11, 12, 13, 14, 15],\n",
       "       [16, 17, 18, 19, 20],\n",
       "       [21, 22, 23, 24, 25]])"
      ]
     },
     "execution_count": 266,
     "metadata": {},
     "output_type": "execute_result"
    }
   ],
   "source": [
    "a"
   ]
  },
  {
   "cell_type": "code",
   "execution_count": 267,
   "id": "8e443ec0-f9c5-4aba-a914-a50a5fa05b7b",
   "metadata": {},
   "outputs": [
    {
     "data": {
      "text/plain": [
       "array([[ 1,  3,  5],\n",
       "       [ 6,  8, 10],\n",
       "       [11, 13, 15],\n",
       "       [16, 18, 20],\n",
       "       [21, 23, 25]])"
      ]
     },
     "execution_count": 267,
     "metadata": {},
     "output_type": "execute_result"
    }
   ],
   "source": [
    "a[:, 0::2]"
   ]
  },
  {
   "cell_type": "code",
   "execution_count": 268,
   "id": "524abbbd-c6da-410d-b960-94babe233f20",
   "metadata": {},
   "outputs": [
    {
     "data": {
      "text/plain": [
       "array([[ 1],\n",
       "       [ 6],\n",
       "       [11],\n",
       "       [16],\n",
       "       [21]])"
      ]
     },
     "execution_count": 268,
     "metadata": {},
     "output_type": "execute_result"
    }
   ],
   "source": [
    "a[:, 0:2:2]"
   ]
  },
  {
   "cell_type": "code",
   "execution_count": 269,
   "id": "01a765e3-f3e6-4cc8-aa98-6d22de9b9d62",
   "metadata": {},
   "outputs": [
    {
     "data": {
      "text/plain": [
       "array([[ 1,  3],\n",
       "       [ 6,  8],\n",
       "       [11, 13],\n",
       "       [16, 18],\n",
       "       [21, 23]])"
      ]
     },
     "execution_count": 269,
     "metadata": {},
     "output_type": "execute_result"
    }
   ],
   "source": [
    "a[:, 0:3:2]"
   ]
  },
  {
   "cell_type": "markdown",
   "id": "ed7fb087-9ef0-4ad0-8300-b5d711442e47",
   "metadata": {},
   "source": [
    "## Comparacion entre Arrays"
   ]
  },
  {
   "cell_type": "code",
   "execution_count": null,
   "id": "a572257f-223b-4fa4-9966-832e9c618afb",
   "metadata": {},
   "outputs": [],
   "source": [
    "# Creamos los arrays"
   ]
  },
  {
   "cell_type": "code",
   "execution_count": 270,
   "id": "999c89bc-72ba-460d-b6f1-687477b58fed",
   "metadata": {},
   "outputs": [
    {
     "data": {
      "text/plain": [
       "array([[1, 2, 3],\n",
       "       [4, 5, 6]])"
      ]
     },
     "execution_count": 270,
     "metadata": {},
     "output_type": "execute_result"
    }
   ],
   "source": [
    "s = np.array([\n",
    "    [1, 2, 3],\n",
    "    [4, 5, 6]\n",
    "])\n",
    "s"
   ]
  },
  {
   "cell_type": "code",
   "execution_count": 271,
   "id": "21096c30-c361-4d72-bd6d-28dedc5c4d9c",
   "metadata": {},
   "outputs": [
    {
     "data": {
      "text/plain": [
       "array([[100, 200,   3],\n",
       "       [400,   5,   6]])"
      ]
     },
     "execution_count": 271,
     "metadata": {},
     "output_type": "execute_result"
    }
   ],
   "source": [
    "t = np.array([\n",
    "    [100, 200, 3],\n",
    "    [400, 5, 6]\n",
    "])\n",
    "t"
   ]
  },
  {
   "cell_type": "markdown",
   "id": "49b77097-8d6c-453a-898c-331f0cfcec5c",
   "metadata": {},
   "source": [
    "**Los comparo**"
   ]
  },
  {
   "cell_type": "markdown",
   "id": "075f9d5e-2ae7-4dfb-9715-21446beb8a30",
   "metadata": {},
   "source": [
    "**```np.where(condicion, si es cierto, si es falso)```**"
   ]
  },
  {
   "cell_type": "code",
   "execution_count": 272,
   "id": "c66ad628-9269-482a-bad7-66c463a4e48d",
   "metadata": {},
   "outputs": [
    {
     "data": {
      "text/plain": [
       "array([['False', 'False', 'True'],\n",
       "       ['False', 'True', 'True']], dtype='<U5')"
      ]
     },
     "execution_count": 272,
     "metadata": {},
     "output_type": "execute_result"
    }
   ],
   "source": [
    "np.where(s==t, \"True\", \"False\")"
   ]
  },
  {
   "cell_type": "code",
   "execution_count": 273,
   "id": "cf3905f9-b9b6-480e-8907-57f0a291bd30",
   "metadata": {},
   "outputs": [
    {
     "data": {
      "text/plain": [
       "array([['No', 'No', 'Si'],\n",
       "       ['No', 'Si', 'Si']], dtype='<U2')"
      ]
     },
     "execution_count": 273,
     "metadata": {},
     "output_type": "execute_result"
    }
   ],
   "source": [
    "np.where(s==t, \"Si\", \"No\")"
   ]
  },
  {
   "cell_type": "code",
   "execution_count": 274,
   "id": "ee89a35e-9b20-4a91-8cc9-a9f73fa32c47",
   "metadata": {},
   "outputs": [
    {
     "data": {
      "text/plain": [
       "array([[0, 0, 1],\n",
       "       [0, 1, 1]])"
      ]
     },
     "execution_count": 274,
     "metadata": {},
     "output_type": "execute_result"
    }
   ],
   "source": [
    "np.where(s==t, 1, 0)"
   ]
  },
  {
   "cell_type": "markdown",
   "id": "3f599b35-34de-4164-9bfd-fefe15db2dd2",
   "metadata": {},
   "source": [
    "## Concatenación de arrays"
   ]
  },
  {
   "cell_type": "markdown",
   "id": "ebfad50a-1270-4ed3-84e5-25c61151fb6f",
   "metadata": {},
   "source": [
    "**Crear los arrays**"
   ]
  },
  {
   "cell_type": "code",
   "execution_count": 275,
   "id": "f4199489-5b92-4982-979f-1656c9c38fc2",
   "metadata": {},
   "outputs": [
    {
     "data": {
      "text/plain": [
       "array([[1, 2],\n",
       "       [3, 4]])"
      ]
     },
     "execution_count": 275,
     "metadata": {},
     "output_type": "execute_result"
    }
   ],
   "source": [
    "y = np.array([\n",
    "    [1, 2],\n",
    "    [3, 4]\n",
    "])\n",
    "y"
   ]
  },
  {
   "cell_type": "code",
   "execution_count": 276,
   "id": "4427ba66-5b94-4fcd-916a-ef8b98b10ee0",
   "metadata": {},
   "outputs": [],
   "source": [
    "z = np.array([\n",
    "    [5, 6]\n",
    "])"
   ]
  },
  {
   "cell_type": "markdown",
   "id": "c7c3ea47-bbc2-496d-a729-bf14e6041f21",
   "metadata": {},
   "source": [
    "**Concatenación por filas**"
   ]
  },
  {
   "cell_type": "code",
   "execution_count": 277,
   "id": "669ee463-789a-42fb-91d9-34d3f0781058",
   "metadata": {},
   "outputs": [
    {
     "data": {
      "text/plain": [
       "array([[1, 2],\n",
       "       [3, 4],\n",
       "       [5, 6]])"
      ]
     },
     "execution_count": 277,
     "metadata": {},
     "output_type": "execute_result"
    }
   ],
   "source": [
    "np.concatenate((y,z), axis=0)"
   ]
  },
  {
   "cell_type": "markdown",
   "id": "e0a980f0-f240-4f06-bce5-e6fa8547b11d",
   "metadata": {},
   "source": [
    "**Concatenación por colunmas**"
   ]
  },
  {
   "cell_type": "code",
   "execution_count": 278,
   "id": "1270ef6e-0205-4264-987e-89148ba2e77d",
   "metadata": {},
   "outputs": [
    {
     "data": {
      "text/plain": [
       "array([[5],\n",
       "       [6]])"
      ]
     },
     "execution_count": 278,
     "metadata": {},
     "output_type": "execute_result"
    }
   ],
   "source": [
    "z1 = z.transpose()\n",
    "z1"
   ]
  },
  {
   "cell_type": "code",
   "execution_count": 279,
   "id": "fc50aa1a-e45c-4a86-bf21-bc569d3a4eda",
   "metadata": {
    "scrolled": true
   },
   "outputs": [
    {
     "data": {
      "text/plain": [
       "array([[1, 2, 5],\n",
       "       [3, 4, 6]])"
      ]
     },
     "execution_count": 279,
     "metadata": {},
     "output_type": "execute_result"
    }
   ],
   "source": [
    "np.concatenate((y,z1), axis=1)"
   ]
  },
  {
   "cell_type": "markdown",
   "id": "077807d4-9941-4966-ac16-d2d684476a80",
   "metadata": {},
   "source": [
    "## Operaciones"
   ]
  },
  {
   "cell_type": "code",
   "execution_count": null,
   "id": "2693619b-6313-4e69-85eb-001a908667b4",
   "metadata": {},
   "outputs": [],
   "source": [
    "# Potencias"
   ]
  },
  {
   "cell_type": "code",
   "execution_count": 280,
   "id": "77b87764-3d92-4eaf-a275-181fb812aedf",
   "metadata": {},
   "outputs": [
    {
     "data": {
      "text/plain": [
       "array([1, 2, 3, 4])"
      ]
     },
     "execution_count": 280,
     "metadata": {},
     "output_type": "execute_result"
    }
   ],
   "source": [
    "r = np.array([1, 2, 3, 4])\n",
    "r"
   ]
  },
  {
   "cell_type": "code",
   "execution_count": null,
   "id": "4cd6bc47-49d7-4a1d-a391-07c55438e515",
   "metadata": {},
   "outputs": [],
   "source": [
    "# Método 1"
   ]
  },
  {
   "cell_type": "code",
   "execution_count": 281,
   "id": "a3a38539-4ff1-4ea4-b170-fa475b8bc511",
   "metadata": {},
   "outputs": [
    {
     "data": {
      "text/plain": [
       "array([ 1,  4,  9, 16])"
      ]
     },
     "execution_count": 281,
     "metadata": {},
     "output_type": "execute_result"
    }
   ],
   "source": [
    "r**2 # 1^1, 2^2, 3^3, 4^4"
   ]
  },
  {
   "cell_type": "code",
   "execution_count": null,
   "id": "527320fa-cca8-4640-a684-94cba3cea8d9",
   "metadata": {},
   "outputs": [],
   "source": [
    "# Método 2 "
   ]
  },
  {
   "cell_type": "code",
   "execution_count": 282,
   "id": "a51b4cdd-cd85-49cd-98ca-7a427c7c5e92",
   "metadata": {},
   "outputs": [
    {
     "data": {
      "text/plain": [
       "array([ 1,  4,  9, 16])"
      ]
     },
     "execution_count": 282,
     "metadata": {},
     "output_type": "execute_result"
    }
   ],
   "source": [
    "pow(r, 2)"
   ]
  },
  {
   "cell_type": "markdown",
   "id": "e3afe091-0c48-46dc-b576-b8a2b6e757fe",
   "metadata": {},
   "source": [
    "### Producto escalar y producto vectorial de 2 vectores"
   ]
  },
  {
   "cell_type": "code",
   "execution_count": 283,
   "id": "285b02ed-0e6e-4ade-9a2d-34b782ba52b0",
   "metadata": {},
   "outputs": [
    {
     "data": {
      "text/plain": [
       "array([1, 2, 3])"
      ]
     },
     "execution_count": 283,
     "metadata": {},
     "output_type": "execute_result"
    }
   ],
   "source": [
    "w = np.array([1, 2, 3])\n",
    "w"
   ]
  },
  {
   "cell_type": "code",
   "execution_count": 284,
   "id": "c32cff3a-26ac-46dd-b7b6-7f5386d40108",
   "metadata": {},
   "outputs": [
    {
     "data": {
      "text/plain": [
       "array([ 2,  5, -4])"
      ]
     },
     "execution_count": 284,
     "metadata": {},
     "output_type": "execute_result"
    }
   ],
   "source": [
    "x = np.array([2, 5, -4])\n",
    "x"
   ]
  },
  {
   "cell_type": "markdown",
   "id": "097a79d7-acd8-468c-97cc-e5afc3038cdf",
   "metadata": {},
   "source": [
    "**Producto escalar:**"
   ]
  },
  {
   "cell_type": "code",
   "execution_count": null,
   "id": "6cad3874-d4e1-42a4-a652-e6523277211d",
   "metadata": {},
   "outputs": [],
   "source": [
    "# w * x = ((1*2) + (2*5) + (3*-4))"
   ]
  },
  {
   "cell_type": "code",
   "execution_count": 285,
   "id": "28de1f71-916e-4e21-ad58-ab2798f57432",
   "metadata": {},
   "outputs": [
    {
     "data": {
      "text/plain": [
       "0"
      ]
     },
     "execution_count": 285,
     "metadata": {},
     "output_type": "execute_result"
    }
   ],
   "source": [
    "# np.dot(matriz1, matriz2)\n",
    "np.dot(w,x)"
   ]
  },
  {
   "cell_type": "markdown",
   "id": "095fb591-fb3e-4163-8df2-d487a48bb726",
   "metadata": {},
   "source": [
    "**Producto Vectorial:**"
   ]
  },
  {
   "cell_type": "code",
   "execution_count": null,
   "id": "a3424c77-e702-4c4b-b903-1d1d42086a5a",
   "metadata": {},
   "outputs": [],
   "source": [
    "## Producto Vectorial\n",
    "\n",
    "# i j k\n",
    "# 1 2 3\n",
    "# 2 5 -4\n",
    "\n",
    "# y se opera:\n",
    "# -8i+5K+6j -(-4k-4j+15i) = -23i+10j+1k --> (-23, 10, 1)"
   ]
  },
  {
   "cell_type": "code",
   "execution_count": 286,
   "id": "06528b81-032b-4ac2-a760-12079770a0bd",
   "metadata": {},
   "outputs": [
    {
     "data": {
      "text/plain": [
       "array([-23,  10,   1])"
      ]
     },
     "execution_count": 286,
     "metadata": {},
     "output_type": "execute_result"
    }
   ],
   "source": [
    "np.cross(w, x)"
   ]
  },
  {
   "cell_type": "markdown",
   "id": "dee75b1a-ab35-4705-a179-a018fbbf9308",
   "metadata": {},
   "source": [
    "### Matriz con \"matrix\""
   ]
  },
  {
   "cell_type": "code",
   "execution_count": 287,
   "id": "df850fd1-aa80-4155-996e-ac9c118666e1",
   "metadata": {},
   "outputs": [
    {
     "data": {
      "text/plain": [
       "matrix([[ 4, -3, 11,  1],\n",
       "        [ 5,  9,  7,  2],\n",
       "        [ 2,  3,  4,  1],\n",
       "        [ 5,  3, -5, -9]])"
      ]
     },
     "execution_count": 287,
     "metadata": {},
     "output_type": "execute_result"
    }
   ],
   "source": [
    "# 4 filas 4 columnas\n",
    "u = np.matrix([\n",
    "    [4, -3, 11, 1],\n",
    "    [5, 9, 7, 2],\n",
    "    [2, 3, 4, 1],\n",
    "    [5, 3, -5, -9]\n",
    "])\n",
    "u"
   ]
  },
  {
   "cell_type": "code",
   "execution_count": 288,
   "id": "f4962a67-b07d-404c-8398-41e87f93c8ae",
   "metadata": {},
   "outputs": [
    {
     "data": {
      "text/plain": [
       "matrix([[4, 9, 1, 3]])"
      ]
     },
     "execution_count": 288,
     "metadata": {},
     "output_type": "execute_result"
    }
   ],
   "source": [
    "# 1 fila y 4 columnas\n",
    "v = np.matrix([4, 9, 1, 3])\n",
    "v"
   ]
  },
  {
   "cell_type": "markdown",
   "id": "9087d048-d492-4ada-8f8d-18df3c5e2766",
   "metadata": {},
   "source": [
    "**Suma**"
   ]
  },
  {
   "cell_type": "code",
   "execution_count": 289,
   "id": "293e14e3-a6da-49d7-9d16-d114c9c019a7",
   "metadata": {},
   "outputs": [
    {
     "data": {
      "text/plain": [
       "matrix([[ 8,  6, 12,  4],\n",
       "        [ 9, 18,  8,  5],\n",
       "        [ 6, 12,  5,  4],\n",
       "        [ 9, 12, -4, -6]])"
      ]
     },
     "execution_count": 289,
     "metadata": {},
     "output_type": "execute_result"
    }
   ],
   "source": [
    "u + v"
   ]
  },
  {
   "cell_type": "markdown",
   "id": "41845e8f-2702-4d0a-9f0b-e41fd3d115ef",
   "metadata": {},
   "source": [
    "**Resta**"
   ]
  },
  {
   "cell_type": "code",
   "execution_count": 290,
   "id": "e3a8dfc8-4bbc-4973-afc9-6a4e17512237",
   "metadata": {},
   "outputs": [
    {
     "data": {
      "text/plain": [
       "matrix([[  0, -12,  10,  -2],\n",
       "        [  1,   0,   6,  -1],\n",
       "        [ -2,  -6,   3,  -2],\n",
       "        [  1,  -6,  -6, -12]])"
      ]
     },
     "execution_count": 290,
     "metadata": {},
     "output_type": "execute_result"
    }
   ],
   "source": [
    "u - v"
   ]
  },
  {
   "cell_type": "markdown",
   "id": "fd581235-19fb-4154-8d7c-2203869aa0dc",
   "metadata": {},
   "source": [
    "**Producto**"
   ]
  },
  {
   "cell_type": "code",
   "execution_count": 291,
   "id": "83eda9c6-6219-4df1-aebc-60e7881a5edc",
   "metadata": {},
   "outputs": [
    {
     "ename": "ValueError",
     "evalue": "shapes (4,4) and (1,4) not aligned: 4 (dim 1) != 1 (dim 0)",
     "output_type": "error",
     "traceback": [
      "\u001b[0;31m---------------------------------------------------------------------------\u001b[0m",
      "\u001b[0;31mValueError\u001b[0m                                Traceback (most recent call last)",
      "Cell \u001b[0;32mIn[291], line 1\u001b[0m\n\u001b[0;32m----> 1\u001b[0m \u001b[43mu\u001b[49m\u001b[43m \u001b[49m\u001b[38;5;241;43m*\u001b[39;49m\u001b[43m \u001b[49m\u001b[43mv\u001b[49m\n",
      "File \u001b[0;32m~/.local/lib/python3.10/site-packages/numpy/matrixlib/defmatrix.py:219\u001b[0m, in \u001b[0;36mmatrix.__mul__\u001b[0;34m(self, other)\u001b[0m\n\u001b[1;32m    216\u001b[0m \u001b[38;5;28;01mdef\u001b[39;00m \u001b[38;5;21m__mul__\u001b[39m(\u001b[38;5;28mself\u001b[39m, other):\n\u001b[1;32m    217\u001b[0m     \u001b[38;5;28;01mif\u001b[39;00m \u001b[38;5;28misinstance\u001b[39m(other, (N\u001b[38;5;241m.\u001b[39mndarray, \u001b[38;5;28mlist\u001b[39m, \u001b[38;5;28mtuple\u001b[39m)) :\n\u001b[1;32m    218\u001b[0m         \u001b[38;5;66;03m# This promotes 1-D vectors to row vectors\u001b[39;00m\n\u001b[0;32m--> 219\u001b[0m         \u001b[38;5;28;01mreturn\u001b[39;00m \u001b[43mN\u001b[49m\u001b[38;5;241;43m.\u001b[39;49m\u001b[43mdot\u001b[49m\u001b[43m(\u001b[49m\u001b[38;5;28;43mself\u001b[39;49m\u001b[43m,\u001b[49m\u001b[43m \u001b[49m\u001b[43masmatrix\u001b[49m\u001b[43m(\u001b[49m\u001b[43mother\u001b[49m\u001b[43m)\u001b[49m\u001b[43m)\u001b[49m\n\u001b[1;32m    220\u001b[0m     \u001b[38;5;28;01mif\u001b[39;00m isscalar(other) \u001b[38;5;129;01mor\u001b[39;00m \u001b[38;5;129;01mnot\u001b[39;00m \u001b[38;5;28mhasattr\u001b[39m(other, \u001b[38;5;124m'\u001b[39m\u001b[38;5;124m__rmul__\u001b[39m\u001b[38;5;124m'\u001b[39m) :\n\u001b[1;32m    221\u001b[0m         \u001b[38;5;28;01mreturn\u001b[39;00m N\u001b[38;5;241m.\u001b[39mdot(\u001b[38;5;28mself\u001b[39m, other)\n",
      "\u001b[0;31mValueError\u001b[0m: shapes (4,4) and (1,4) not aligned: 4 (dim 1) != 1 (dim 0)"
     ]
    }
   ],
   "source": [
    "u * v"
   ]
  },
  {
   "cell_type": "code",
   "execution_count": null,
   "id": "c0347acf-ae5c-49b6-bf50-b45d21496649",
   "metadata": {},
   "outputs": [],
   "source": [
    "# ValueError --> es necesario realizar la transpuesta para este caso, ya que las dimensiones No son las adecuadas"
   ]
  },
  {
   "cell_type": "markdown",
   "id": "113047bd-26ba-4e96-af17-4d111f66c4c8",
   "metadata": {},
   "source": [
    "**Opción 1:**"
   ]
  },
  {
   "cell_type": "code",
   "execution_count": 292,
   "id": "329526d3-6ecf-4596-962d-170f7eb56b5a",
   "metadata": {},
   "outputs": [
    {
     "data": {
      "text/plain": [
       "matrix([[  3],\n",
       "        [114],\n",
       "        [ 42],\n",
       "        [ 15]])"
      ]
     },
     "execution_count": 292,
     "metadata": {},
     "output_type": "execute_result"
    }
   ],
   "source": [
    "u*v.transpose()"
   ]
  },
  {
   "cell_type": "markdown",
   "id": "096335d1-1058-4959-a311-5dbe28d3b977",
   "metadata": {},
   "source": [
    "**Opción 2:**"
   ]
  },
  {
   "cell_type": "code",
   "execution_count": 293,
   "id": "07fbf124-fa01-4291-bb4d-6f221412aede",
   "metadata": {},
   "outputs": [
    {
     "data": {
      "text/plain": [
       "matrix([[  3],\n",
       "        [114],\n",
       "        [ 42],\n",
       "        [ 15]])"
      ]
     },
     "execution_count": 293,
     "metadata": {},
     "output_type": "execute_result"
    }
   ],
   "source": [
    "u*v.T"
   ]
  },
  {
   "cell_type": "markdown",
   "id": "f701dbfc-9371-4b79-9141-bbdcd48f23ef",
   "metadata": {},
   "source": [
    "**Opción 3:**"
   ]
  },
  {
   "cell_type": "code",
   "execution_count": 294,
   "id": "a0365f59-6640-4c24-a774-6982df034e07",
   "metadata": {},
   "outputs": [
    {
     "data": {
      "text/plain": [
       "matrix([[  3],\n",
       "        [114],\n",
       "        [ 42],\n",
       "        [ 15]])"
      ]
     },
     "execution_count": 294,
     "metadata": {},
     "output_type": "execute_result"
    }
   ],
   "source": [
    "np.dot(u, v.T)"
   ]
  },
  {
   "cell_type": "markdown",
   "id": "6a1508da-d1c4-4c30-a967-9f62d2f8af79",
   "metadata": {},
   "source": [
    "**Traza de una matriz**"
   ]
  },
  {
   "cell_type": "markdown",
   "id": "0b75b0bb-7156-48f3-9251-36d28498e71c",
   "metadata": {},
   "source": [
    "**(suma de los elementos de la diagonal principal)**"
   ]
  },
  {
   "cell_type": "code",
   "execution_count": 295,
   "id": "18586a4c-5229-489e-be2e-fdc52af33bbb",
   "metadata": {},
   "outputs": [
    {
     "data": {
      "text/plain": [
       "matrix([[  0, -12,  10,  -2],\n",
       "        [  1,   0,   6,  -1],\n",
       "        [ -2,  -6,   3,  -2],\n",
       "        [  1,  -6,  -6, -12]])"
      ]
     },
     "execution_count": 295,
     "metadata": {},
     "output_type": "execute_result"
    }
   ],
   "source": [
    "u -v"
   ]
  },
  {
   "cell_type": "code",
   "execution_count": 296,
   "id": "530636cb-49c1-40e4-81de-e5a73bf5c868",
   "metadata": {},
   "outputs": [
    {
     "data": {
      "text/plain": [
       "numpy.matrix"
      ]
     },
     "execution_count": 296,
     "metadata": {},
     "output_type": "execute_result"
    }
   ],
   "source": [
    "type(u-v)"
   ]
  },
  {
   "cell_type": "code",
   "execution_count": 297,
   "id": "a9974057-cc20-4966-b2b9-7157db6e1b09",
   "metadata": {},
   "outputs": [
    {
     "data": {
      "text/plain": [
       "-9"
      ]
     },
     "execution_count": 297,
     "metadata": {},
     "output_type": "execute_result"
    }
   ],
   "source": [
    "np.trace(u-v) # 0 + 0 + 3 + (-12) = -9 (suma de los elementos de la diagonal principal)"
   ]
  },
  {
   "cell_type": "markdown",
   "id": "295dde24-486e-455c-9931-ca2e7c37d533",
   "metadata": {},
   "source": [
    "## Matematical functions"
   ]
  },
  {
   "cell_type": "markdown",
   "id": "a21dbeb0-35c8-40fb-88a3-5712a045bf41",
   "metadata": {},
   "source": [
    "### Trigonometric functions"
   ]
  },
  {
   "cell_type": "markdown",
   "id": "32bac53e-903a-40f5-b285-ee5cd5a67692",
   "metadata": {},
   "source": [
    "|                    Functions                    |                         Description                         |\n",
    "| ------------------------------------------------| ------------------------------------------------------------|\n",
    "| sin(x, /[, out, where, casting, order, ...])    | Trigonometric sine, element-wise.                           |\n",
    "| cos(x, /[, out, where, casting, order, ...])    | Cosine element-wise.                                        |\n",
    "| tan(x, /[, out, where, casting, order, ...])    | Compute tangent element-wise.                               |\n",
    "| arcsin(x, /[, out, where, casting, order, ...]) | Inverse sine, element-wise.                                 |\n",
    "| asin(x, /[, out, where, casting, order, ...])   | Inverse sine, element-wise.                                 |\n",
    "| arccos(x, /[, out, where, casting, order, ...]) | Trigonometric inverse cosine, element-wise.                 |\n",
    "| acos(x, /[, out, where, casting, order, ...])   | Trigonometric inverse cosine, element-wise.                 |\n",
    "| arctan(x, /[, out, where, casting, order, ...]) | Trigonometric inverse tangent, element-wise.                |\n",
    "| atan(x, /[, out, where, casting, order, ...])   | Trigonometric inverse tangent, element-wise.                |\n",
    "| hypot(x1, x2, /[, out, where, casting, ...])    | Given the \"legs\" of a right triangle, return its hypotenuse.|\n",
    "| degrees(x, /[, out, where, casting, order, ...])| Convert angles from radians to degrees.                     |\n",
    "| radians(x, /[, out, where, casting, order, ...])| Convert angles from degrees to radians.                     |"
   ]
  },
  {
   "cell_type": "markdown",
   "id": "88140356-2451-438a-ba19-5393acd7d1dd",
   "metadata": {},
   "source": [
    "### Rounding\n",
    "\n",
    "|                    Functions                   |                         Description                   |\n",
    "| -----------------------------------------------| ------------------------------------------------------|\n",
    "|  round(a[, decimals, out])                     | Evenly round to the given number of decimals.         |\n",
    "|  around(a[, decimals, out])                    | Round an array to the given number of decimals.       |\n",
    "|  rint(x, /[, out, where, casting, order, ...]) | Round elements of the array to the nearest integer.   |\n",
    "|  fix(x[, out])                                 | Round to nearest integer towards zero.                |\n",
    "|  floor(x, /[, out, where, casting, order, ...])| Return the floor of the input, element-wise.          |\n",
    "|  ceil(x, /[, out, where, casting, order, ...]) | Return the ceiling of the input, element-wise.        |\n",
    "|  trunc(x, /[, out, where, casting, order, ...])| Return the truncated value of the input, element-wise.|"
   ]
  },
  {
   "cell_type": "markdown",
   "id": "432ffea0-9eef-4118-a1b0-93f63377ed1b",
   "metadata": {},
   "source": [
    "### Sums, products, differences\n",
    "\n",
    "|                    Functions                   |                                         Description                                          |\n",
    "| -----------------------------------------------| ---------------------------------------------------------------------------------------------|\n",
    "| prod(a[, axis, dtype, out, keepdims, ...])     | Return the product of array elements over a given axis.                                      |\n",
    "| sum(a[, axis, dtype, out, keepdims, ...])      | Sum of array elements over a given axis.                                                     |\n",
    "| nanprod(a[, axis, dtype, out, keepdims, ...])  | Return the product of array elements over a given axis treating Not a Numbers (NaNs) as ones.|\n",
    "| nansum(a[, axis, dtype, out, keepdims, ...])   | Return the sum of array elements over a given axis treating Not a Numbers (NaNs) as zero.    |\n",
    "| cumprod(a[, axis, dtype, out])                 | Return the cumulative product of elements along a given axis.                                |\n",
    "| cumsum(a[, axis, dtype, out])                  | Return the cumulative sum of the elements along a given axis.                                |\n",
    "| gradient(f, *varargs[, axis, edge_order])      | Return the gradient of an N-dimensional array.                                               |\n",
    "| cross(a, b[, axisa, axisb, axisc, axis])       | Return the cross product of two (arrays of) vectors.                                         |"
   ]
  },
  {
   "cell_type": "markdown",
   "id": "c937379c-b7e0-4aff-92b6-8ebc2c5e383a",
   "metadata": {},
   "source": [
    "### Arithmetic operations\n",
    "\n",
    "|                      Functions                   |                      Description                                          |\n",
    "| -------------------------------------------------| --------------------------------------------------------------------------|\n",
    "| add(x1, x2, /[, out, where, casting, order, ...])|  Add arguments element-wise.                                              |\n",
    "| reciprocal(x, /[, out, where, casting, ...])     | Return the reciprocal of the argument, element-wise.                      |\n",
    "| positive(x, /[, out, where, casting, order, ...])| Numerical positive, element-wise.                                         |\n",
    "| negative(x, /[, out, where, casting, order, ...])| Numerical negative, element-wise.                                         |\n",
    "| multiply(x1, x2, /[, out, where, casting, ...])  | Multiply arguments element-wise.                                          |\n",
    "| divide(x1, x2, /[, out, where, casting, ...])    | Divide arguments element-wise.                                            | \n",
    "| power(x1, x2, /[, out, where, casting, ...])     | First array elements raised to powers from second array, element-wise.    |\n",
    "| pow(x1, x2, /[, out, where, casting, order, ...])| First array elements raised to powers from second array, element-wise.    |\n",
    "| subtract(x1, x2, /[, out, where, casting, ...])  | Subtract arguments, element-wise.                                         |\n",
    "| true_divide(x1, x2, /[, out, where, ...])        | Divide arguments element-wise.                                            |\n",
    "| floor_divide(x1, x2, /[, out, where, ...])       | Return the largest integer smaller or equal to the division of the inputs.|\n",
    "| float_power(x1, x2, /[, out, where, ...])        | First array elements raised to powers from second array, element-wise.    |\n",
    "| fmod(x1, x2, /[, out, where, casting, ...])      | Returns the element-wise remainder of division.                           |\n",
    "| mod(x1, x2, /[, out, where, casting, order, ...])| Returns the element-wise remainder of division.                           |"
   ]
  },
  {
   "cell_type": "markdown",
   "id": "f244d5d5-1703-4f21-a8a9-4e020f205851",
   "metadata": {},
   "source": [
    "### Extrema finding\n",
    "\n",
    "|                      Functions                   |                      Description                        |\n",
    "| -------------------------------------------------| --------------------------------------------------------|\n",
    "| maximum(x1, x2, /[, out, where, casting, ...])   | Element-wise maximum of array elements.                 |\n",
    "| max(a[, axis, out, keepdims, initial, where])    | Return the maximum of an array or maximum along an axis.|\n",
    "| minimum(x1, x2, /[, out, where, casting, ...])   | Element-wise minimum of array elements.                 |\n",
    "| min(a[, axis, out, keepdims, initial, where])    | Return the minimum of an array or minimum along an axis.|"
   ]
  },
  {
   "cell_type": "markdown",
   "id": "d6f9a837-3a38-47b5-a275-00ad11b720d1",
   "metadata": {},
   "source": [
    "*Creado por:*\n",
    "\n",
    "*Isabel Maniega*"
   ]
  }
 ],
 "metadata": {
  "kernelspec": {
   "display_name": "Python 3 (ipykernel)",
   "language": "python",
   "name": "python3"
  },
  "language_info": {
   "codemirror_mode": {
    "name": "ipython",
    "version": 3
   },
   "file_extension": ".py",
   "mimetype": "text/x-python",
   "name": "python",
   "nbconvert_exporter": "python",
   "pygments_lexer": "ipython3",
   "version": "3.10.12"
  }
 },
 "nbformat": 4,
 "nbformat_minor": 5
}
