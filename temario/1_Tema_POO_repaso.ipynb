{
 "cells": [
  {
   "cell_type": "markdown",
   "id": "e34940b0",
   "metadata": {},
   "source": [
    "*Creado por:*\n",
    "\n",
    "*Isabel Maniega*"
   ]
  },
  {
   "cell_type": "markdown",
   "id": "d1d3bf94-cd92-4a33-b0c1-9f7db4259df6",
   "metadata": {},
   "source": [
    "# Contenido del temario (30 Horas)\n",
    "\n",
    "1) REPASO DE CONCEPTOS SOBRE TIPOS Y POO \n",
    "2) THREADS \n",
    "3) PATRONES DE DISEÑO MÁS COMUNES EN PYTHON\n",
    "4) ANÁLISIS DE DATOS CON LAS LIBRERÍAS: NUMPY Y PANDAS\n",
    "5) DIFERENCIAS PYTHON Y JYTHON \n",
    "6) FORMATEAR CÓDIGO JSON / XML CON PYTHON\n",
    "7) SERVICIOS REST\n",
    "8) ARQUITECTURA SOAP\n",
    "9) MÓDULO LOGGING\n",
    "10) LIBRERÍA DE SERIALIZACIÓN\n",
    "11) LIBRERÍA CTYPES"
   ]
  },
  {
   "cell_type": "markdown",
   "id": "732484e3-7e90-4ff2-afd6-75951b1631c1",
   "metadata": {},
   "source": [
    "# Programación Orientada a Objetos (POO) - Repaso"
   ]
  },
  {
   "cell_type": "markdown",
   "id": "b89bb24d",
   "metadata": {},
   "source": [
    "## Explicación general"
   ]
  },
  {
   "cell_type": "markdown",
   "id": "50e8caba",
   "metadata": {},
   "source": [
    "* La clase es una plantilla\n",
    "* CON ESA PLANTILLA...creamos **OBJETOS**\n",
    "* UN OBJETO...ES la **instancia de esa clase**\n",
    "* los **atributos** son las **variables**\n",
    "* los **métodos** son las **funciones**"
   ]
  },
  {
   "cell_type": "markdown",
   "id": "7b610f6d",
   "metadata": {},
   "source": [
    "## Ejemplo - Introduccion I"
   ]
  },
  {
   "cell_type": "code",
   "execution_count": null,
   "id": "81e8e91b",
   "metadata": {},
   "outputs": [],
   "source": [
    "class Empleado:\n",
    "    # funciones se les llama MÉTODOS\n",
    "    # variables se les atributos\n",
    "    def __init__(self, Id, Name, Age, Role):\n",
    "        self.Id = Id\n",
    "        self.Name = Name\n",
    "        self.Age = Age\n",
    "        self.Role = Role\n",
    "# Instancia \n",
    "# genero tantos clientes/empleado como quiera de esta forma\n",
    "# empleado1 es el objeto1\n",
    "\n",
    "empleado1 = Empleado(1, \"Ana\", 30, \"ingeniera\")\n",
    "empleado2 = Empleado(2, \"Pedro\", 45, \"arquitecto\")\n",
    "empleado3 = Empleado(3, \"Andrea\", 25, \"abogada\")     "
   ]
  },
  {
   "cell_type": "code",
   "execution_count": null,
   "id": "03099bc2",
   "metadata": {},
   "outputs": [],
   "source": [
    "empleado1.Age"
   ]
  },
  {
   "cell_type": "code",
   "execution_count": null,
   "id": "512b4088",
   "metadata": {},
   "outputs": [],
   "source": [
    "empleado2.Age"
   ]
  },
  {
   "cell_type": "code",
   "execution_count": null,
   "id": "ced2805c",
   "metadata": {},
   "outputs": [],
   "source": [
    "empleado3.Age"
   ]
  },
  {
   "cell_type": "code",
   "execution_count": null,
   "id": "5e56ad04",
   "metadata": {},
   "outputs": [],
   "source": [
    "empleado1.Role"
   ]
  },
  {
   "cell_type": "code",
   "execution_count": null,
   "id": "fdc9915b",
   "metadata": {},
   "outputs": [],
   "source": [
    "empleado3.Name"
   ]
  },
  {
   "cell_type": "code",
   "execution_count": null,
   "id": "bff0278f",
   "metadata": {},
   "outputs": [],
   "source": [
    "empleado2.Id"
   ]
  },
  {
   "cell_type": "markdown",
   "id": "9b490aef",
   "metadata": {},
   "source": [
    "## Ejemplo - Introducción II"
   ]
  },
  {
   "cell_type": "code",
   "execution_count": null,
   "id": "59410ccc",
   "metadata": {},
   "outputs": [],
   "source": [
    "# creamos la clase\n",
    "class Cliente:\n",
    "    # creamos la primera clase para inicializar el atributo nombre:\n",
    "    def inicializar(self, nombre):\n",
    "        self.nombre = nombre\n",
    "        \n",
    "    # creamos el segundo método\n",
    "    def imprimir(self):\n",
    "        print(\"Nombre: \", self.nombre)    "
   ]
  },
  {
   "cell_type": "code",
   "execution_count": null,
   "id": "0efa093f",
   "metadata": {},
   "outputs": [],
   "source": [
    "# bloque principal\n",
    "# creamos una instancia de la clase Cliente\n",
    "# (primer objeto)\n",
    "cliente1 = Cliente()\n",
    "\n",
    "# era: NombreClase.NombreFuncion\n",
    "# entonces: NombreInstancia.NombreMétodo\n",
    "cliente1.inicializar(\"María\")\n",
    "# el otro método\n",
    "cliente1.imprimir()"
   ]
  },
  {
   "cell_type": "code",
   "execution_count": null,
   "id": "991f86a0",
   "metadata": {},
   "outputs": [],
   "source": [
    "# segundo objeto\n",
    "cliente2 = Cliente()\n",
    "cliente2.inicializar(\"Luis\")\n",
    "cliente2.imprimir()"
   ]
  },
  {
   "cell_type": "markdown",
   "id": "80aee0af-dd8a-4a15-8197-25a045448c19",
   "metadata": {},
   "source": [
    "# Polimorfismo"
   ]
  },
  {
   "cell_type": "markdown",
   "id": "58d02d53-e9b4-44fc-bac3-c03aeb0f320a",
   "metadata": {},
   "source": [
    "La misma función puede estar en diferentes clases"
   ]
  },
  {
   "cell_type": "markdown",
   "id": "191681e7-92e9-41df-b243-af33ce126eed",
   "metadata": {},
   "source": [
    "* Ejemplo que ya le habíamos visto"
   ]
  },
  {
   "cell_type": "code",
   "execution_count": null,
   "id": "ecd49997-4310-4ce6-90e7-50140f70ed64",
   "metadata": {},
   "outputs": [],
   "source": [
    "class Clase1:\n",
    "    def funcion1():\n",
    "        print(\"Estamos en Clase1 - funcion1\")\n",
    "\n",
    "class Clase2:\n",
    "    def funcion1():\n",
    "        print(\"Estamos en Clase2 - funcion1\")\n",
    "\n",
    "class Clase3:\n",
    "    def funcion1():\n",
    "        print(\"Estamos en Clase3 - funcion1\")"
   ]
  },
  {
   "cell_type": "code",
   "execution_count": null,
   "id": "f0f83d72-9554-4135-a85a-e52c576f0a5a",
   "metadata": {},
   "outputs": [],
   "source": [
    "Clase1.funcion1()"
   ]
  },
  {
   "cell_type": "code",
   "execution_count": null,
   "id": "c454eebf-4489-496b-b4dd-e44e640e9b07",
   "metadata": {},
   "outputs": [],
   "source": [
    "Clase2.funcion1()"
   ]
  },
  {
   "cell_type": "code",
   "execution_count": null,
   "id": "c8c2915a-aa75-43a2-90f8-15b29eebb603",
   "metadata": {},
   "outputs": [],
   "source": [
    "Clase3.funcion1()"
   ]
  },
  {
   "cell_type": "markdown",
   "id": "762b4008-2137-4b86-afc1-56104162266f",
   "metadata": {},
   "source": [
    "# En POO es lo mismo"
   ]
  },
  {
   "cell_type": "code",
   "execution_count": null,
   "id": "4fa6b585-a84a-40b1-a84c-e931b3047c26",
   "metadata": {},
   "outputs": [],
   "source": [
    "class Clase1:\n",
    "    def metodo1(self):\n",
    "        print(\"Estamos en: Clase1 - metodo1\")\n",
    "\n",
    "class Clase2:\n",
    "    def metodo1(self):\n",
    "        print(\"Estamos en: Clase2 - metodo1\")\n",
    "\n",
    "class Clase3:\n",
    "    def metodo1(self):\n",
    "        print(\"Estamos en: Clase3 - metodo1\")"
   ]
  },
  {
   "cell_type": "code",
   "execution_count": null,
   "id": "f3790152-d605-4faa-b39f-2f40d1ef9305",
   "metadata": {},
   "outputs": [],
   "source": [
    "clase_1 = Clase1()\n",
    "clase_2 = Clase2()\n",
    "clase_3 = Clase3()"
   ]
  },
  {
   "cell_type": "code",
   "execution_count": null,
   "id": "a554829a-b190-4c0e-86a0-046c12549c72",
   "metadata": {},
   "outputs": [],
   "source": [
    "clase_1.metodo1()"
   ]
  },
  {
   "cell_type": "code",
   "execution_count": null,
   "id": "1f8eda0c-0023-41a9-a39e-c8c56609a3d4",
   "metadata": {},
   "outputs": [],
   "source": [
    "clase_2.metodo1()"
   ]
  },
  {
   "cell_type": "code",
   "execution_count": null,
   "id": "e6e25f0d-2885-4e2b-a72d-2e523b10c5cf",
   "metadata": {},
   "outputs": [],
   "source": [
    "clase_3.metodo1()"
   ]
  },
  {
   "cell_type": "markdown",
   "id": "3eb0207b-3f5a-4bcd-a77b-402df541337a",
   "metadata": {},
   "source": [
    "# Encapsulamiento"
   ]
  },
  {
   "cell_type": "markdown",
   "id": "9f95f52d-bef7-41e5-9652-567055ee78a3",
   "metadata": {},
   "source": [
    "## ¿Qué es?"
   ]
  },
  {
   "cell_type": "markdown",
   "id": "45f92d45-80fd-4b58-86b0-87e939b5a3ee",
   "metadata": {},
   "source": [
    "Sirve para proteger a las variables de modificaciones no deseadas."
   ]
  },
  {
   "cell_type": "markdown",
   "id": "a3b053d5-0242-40c7-ba63-f20a71373823",
   "metadata": {},
   "source": [
    "VARIABLES PRIVADAS / MÉTODOS PRIVADOS"
   ]
  },
  {
   "cell_type": "markdown",
   "id": "d86ad9f9-7a02-44de-971a-add75ad5dfa0",
   "metadata": {},
   "source": [
    "= SOLO ACCESIBLES DESDE LA CLASE DONDE SE ENCUENTREN"
   ]
  },
  {
   "cell_type": "markdown",
   "id": "67339f9c-1527-46a5-8d19-7f2444f6be1e",
   "metadata": {},
   "source": [
    "en java y c++ se consigue la encapsulación de otra manera\n",
    "en python se hace con:\n",
    "    \n",
    "  * (__nombre)\n",
    "\n",
    "\n",
    "  * Doble barra baja antes de la variable (atributo)\n",
    "  * Doble barra baja antes de la función (método)"
   ]
  },
  {
   "cell_type": "markdown",
   "id": "886e21a8-a4ec-45ef-8ff0-8f4e7baf2094",
   "metadata": {},
   "source": [
    "# Ejemplo 1"
   ]
  },
  {
   "cell_type": "code",
   "execution_count": null,
   "id": "41567a42-d9f9-41a8-9597-fef48e92fff9",
   "metadata": {},
   "outputs": [],
   "source": [
    "class Clase1:\n",
    "    def __metodo1(self):\n",
    "        print(\"Estamos en método1\")\n",
    "class Clase2:\n",
    "    def metodo2():\n",
    "        print(\"estamos en metodo2\")"
   ]
  },
  {
   "cell_type": "code",
   "execution_count": null,
   "id": "9bf1a5b4-43ce-463d-bb4d-8d2a3753de85",
   "metadata": {},
   "outputs": [],
   "source": [
    "# AttributeError: type object 'Clase1' has no attribute '__metodo1'\n",
    "# Clase1.__metodo1()"
   ]
  },
  {
   "cell_type": "code",
   "execution_count": null,
   "id": "b02eeda6-e73e-4968-b266-f95354e8d110",
   "metadata": {},
   "outputs": [],
   "source": [
    "# AttributeError: type object 'Clase1' has no attribute 'metodo1'\n",
    "# Clase1.metodo1()"
   ]
  },
  {
   "cell_type": "code",
   "execution_count": null,
   "id": "d9b7dc27-391b-441e-b60e-b3abecb438f4",
   "metadata": {},
   "outputs": [],
   "source": [
    "obj = Clase1()\n",
    "\n",
    "obj._Clase1__metodo1()"
   ]
  },
  {
   "cell_type": "code",
   "execution_count": null,
   "id": "10bd0d50-cb52-432e-b047-15455661bad3",
   "metadata": {},
   "outputs": [],
   "source": [
    "Clase2.metodo2()"
   ]
  },
  {
   "cell_type": "code",
   "execution_count": null,
   "id": "2b3edf34-4603-4e31-b4a7-10eba50cc74c",
   "metadata": {},
   "outputs": [],
   "source": [
    "class Clase1:\n",
    "    def __metodo1():\n",
    "        print(\"Estamos en método1\")\n",
    "    # __metodo1() # Si lo declaramos dentro de la clase podemos hacer al metodo, fuera NO.\n",
    "\n",
    "class Clase2:\n",
    "    def metodo2():\n",
    "        print(\"estamos en metodo2\")"
   ]
  },
  {
   "cell_type": "markdown",
   "id": "f107ad0c-e6c4-4ea1-bbc9-e72a34af3b66",
   "metadata": {},
   "source": [
    "# Ejemplo 2"
   ]
  },
  {
   "cell_type": "code",
   "execution_count": null,
   "id": "66a608ee-3dca-4997-8e38-4d4973582604",
   "metadata": {},
   "outputs": [],
   "source": [
    "class Clase1:\n",
    "    def __metodo1():\n",
    "        print(\"Estamos en método1\")\n",
    "        print(\"llamada a: metodo2\")\n",
    "        Clase2.metodo2()\n",
    "\n",
    "class Clase2:\n",
    "    def metodo2():\n",
    "        print(\"estamos en metodo2\")\n",
    "        print(\"llamada a: -metodo1-\")\n",
    "        Clase1._Clase1__metodo1()"
   ]
  },
  {
   "cell_type": "code",
   "execution_count": null,
   "id": "1552118d-f7c2-490b-bb4a-df49fe4c556c",
   "metadata": {},
   "outputs": [],
   "source": [
    "# Clase1.__metodo1()\n",
    "\n",
    "# AttributeError: type object 'Clase1' has no attribute '__metodo1'"
   ]
  },
  {
   "cell_type": "code",
   "execution_count": null,
   "id": "846aa29e-d048-4477-a8b0-cf6408252680",
   "metadata": {},
   "outputs": [],
   "source": [
    "# Clase1.metodo1()\n",
    "\n",
    "# AttributeError: type object 'Clase1' has no attribute '__metodo1'"
   ]
  },
  {
   "cell_type": "code",
   "execution_count": null,
   "id": "963e109b-5ac9-4534-b4f1-73fe690148d8",
   "metadata": {},
   "outputs": [],
   "source": [
    "# Clase2.metodo2()\n",
    "\n",
    "# AttributeError: type object 'Clase1' has no attribute '_Clase2__metodo1'"
   ]
  },
  {
   "cell_type": "markdown",
   "id": "139211d7-bf6b-4572-9ef9-9c52a39cfad3",
   "metadata": {},
   "source": [
    "# Ejemplo 3"
   ]
  },
  {
   "cell_type": "markdown",
   "id": "39eff004-9b90-452f-9fb0-73dc6efcd6d2",
   "metadata": {},
   "source": [
    "## 1ª Parte"
   ]
  },
  {
   "cell_type": "code",
   "execution_count": null,
   "id": "40d4ea37-54da-44a4-8b37-6d560eb7ebe0",
   "metadata": {},
   "outputs": [],
   "source": [
    "class Fecha_albaran:\n",
    "    def __init__(self, dia, mes, año):\n",
    "        self.dia = dia\n",
    "        self.mes = mes\n",
    "        self.año = año\n",
    "albaran1 = Fecha_albaran(15, 1, 2015)"
   ]
  },
  {
   "cell_type": "code",
   "execution_count": null,
   "id": "1c5eac47-d15a-41f3-b391-9b6fcb054d06",
   "metadata": {},
   "outputs": [],
   "source": [
    "albaran1.dia"
   ]
  },
  {
   "cell_type": "code",
   "execution_count": null,
   "id": "98c7dacb-899b-4d61-90d5-d698970ac938",
   "metadata": {},
   "outputs": [],
   "source": [
    "albaran1.mes"
   ]
  },
  {
   "cell_type": "code",
   "execution_count": null,
   "id": "80fcaaf5-da7c-4ca0-9728-4ba68d83106f",
   "metadata": {},
   "outputs": [],
   "source": [
    "albaran1.año"
   ]
  },
  {
   "cell_type": "markdown",
   "id": "06da5025-1a3b-426a-ad51-5dc6ce1257d2",
   "metadata": {},
   "source": [
    "## 2ª Parte"
   ]
  },
  {
   "cell_type": "code",
   "execution_count": null,
   "id": "03066bc4-614b-492f-ab7c-005181388b65",
   "metadata": {},
   "outputs": [],
   "source": [
    "class Fecha_albaran:\n",
    "    def __init__(self, dia, mes, año):\n",
    "        self.__dia = dia # atributo privado\n",
    "        self.mes = mes\n",
    "        self.año = año\n",
    "albaran1 = Fecha_albaran(15, 1, 2015)"
   ]
  },
  {
   "cell_type": "code",
   "execution_count": null,
   "id": "9c28aaa3-bb96-41f1-909e-a7b9aa472448",
   "metadata": {},
   "outputs": [],
   "source": [
    "albaran1.mes"
   ]
  },
  {
   "cell_type": "code",
   "execution_count": null,
   "id": "f2e23844-ea69-4bdb-b0bb-0db912e4cb81",
   "metadata": {},
   "outputs": [],
   "source": [
    "albaran1.año"
   ]
  },
  {
   "cell_type": "code",
   "execution_count": null,
   "id": "559b73fa-5f55-4ff7-a7cf-ad3d650656de",
   "metadata": {},
   "outputs": [],
   "source": [
    "# albaran1.dia\n",
    "\n",
    "# AttributeError: 'Fecha_albaran' object has no attribute 'dia'"
   ]
  },
  {
   "cell_type": "code",
   "execution_count": null,
   "id": "15cd2fed-73fc-43ad-b7d0-29d30dfa3333",
   "metadata": {},
   "outputs": [],
   "source": [
    "# albaran1.__dia\n",
    "\n",
    "# AttributeError: 'Fecha_albaran' object has no attribute 'dia'"
   ]
  },
  {
   "cell_type": "markdown",
   "id": "0d4ba8af-1a72-4ea6-889a-0a2a2779565e",
   "metadata": {},
   "source": [
    "## 3ª Parte"
   ]
  },
  {
   "cell_type": "code",
   "execution_count": null,
   "id": "20d00037-cd34-4100-b94d-0feba8fad6d8",
   "metadata": {},
   "outputs": [],
   "source": [
    "class Fecha_albaran:\n",
    "    def __init__(self):\n",
    "        self.__dia = 15 # atributo privado\n",
    "        self.__mes = 4\n",
    "        self.__año = 2015\n",
    "    \n",
    "    def setMes(self, mes):\n",
    "        if mes > 0 and mes < 13:\n",
    "            self.__mes = mes\n",
    "        else:\n",
    "            print(\"mes no valido - No está entre Enero y Diciembre\")\n",
    "    \n",
    "    def getMes(self):\n",
    "        return self.__mes\n",
    "\n",
    "albaran1 = Fecha_albaran()"
   ]
  },
  {
   "cell_type": "code",
   "execution_count": null,
   "id": "9406d0db-0269-4268-9930-aa784a71fe55",
   "metadata": {},
   "outputs": [],
   "source": [
    "albaran1.setMes(45)"
   ]
  },
  {
   "cell_type": "code",
   "execution_count": null,
   "id": "48dc2fd2-8160-4f4a-8df5-c925c508d42a",
   "metadata": {},
   "outputs": [],
   "source": [
    "albaran1.getMes()"
   ]
  },
  {
   "cell_type": "code",
   "execution_count": null,
   "id": "003348af-3a01-470a-aeb1-4314fdb92358",
   "metadata": {},
   "outputs": [],
   "source": [
    "albaran1.setMes(6)"
   ]
  },
  {
   "cell_type": "code",
   "execution_count": null,
   "id": "345d81b6-08cd-4aad-9d41-f1996bd903c5",
   "metadata": {},
   "outputs": [],
   "source": [
    "albaran1.getMes()"
   ]
  },
  {
   "cell_type": "markdown",
   "id": "20d4da5f-b100-4ac5-a84b-6f0c32de788d",
   "metadata": {},
   "source": [
    "# Ejemplo 4"
   ]
  },
  {
   "cell_type": "code",
   "execution_count": null,
   "id": "2ea14f78-3a4a-44b5-ba54-08f2b148158d",
   "metadata": {},
   "outputs": [],
   "source": [
    "class Clase:\n",
    "    \"\"\" \n",
    "        Clase para diferenciar variables y métodos\n",
    "        publicos y privados\n",
    "    \"\"\"\n",
    "    # Variables de clase (atributos en este caso)\n",
    "    x = 10 # Atributo ACCESIBLE\n",
    "    __y = 20 # SOLO ES ACCESIBLE DENTRO DE LA CLASE\n",
    "    \n",
    "    # MÉTODO ACCESIBLE\n",
    "    def metodoPublico(self):\n",
    "        # SE PUEDE ACCEDER A SU INFORMACIÓN\n",
    "        print(\"el método es público\")\n",
    "    \n",
    "    # MÉTODO SÓLO ACCESIBLE EN LA CLASE\n",
    "    def __metodoPrivado(self):\n",
    "        print(\"Este método es privado\")        "
   ]
  },
  {
   "cell_type": "code",
   "execution_count": null,
   "id": "d935376d-c62c-4481-b2c5-dc9d0c1ff7a7",
   "metadata": {},
   "outputs": [],
   "source": [
    "# objeto\n",
    "clase1 = Clase()"
   ]
  },
  {
   "cell_type": "code",
   "execution_count": null,
   "id": "c2e16f54-b56c-4b2d-8611-74e9c6a6b707",
   "metadata": {},
   "outputs": [],
   "source": [
    "# Acceso a elementos PÙBLICOS"
   ]
  },
  {
   "cell_type": "code",
   "execution_count": null,
   "id": "947963e5-671e-4603-8de2-b1bcdf93c4c1",
   "metadata": {},
   "outputs": [],
   "source": [
    "clase1.x"
   ]
  },
  {
   "cell_type": "code",
   "execution_count": null,
   "id": "391cc861-d60c-44f2-9dfb-de9b85665a48",
   "metadata": {},
   "outputs": [],
   "source": [
    "clase1.metodoPublico()"
   ]
  },
  {
   "cell_type": "code",
   "execution_count": null,
   "id": "ef76668f-fc61-4b71-bcfa-54caf56419d2",
   "metadata": {},
   "outputs": [],
   "source": [
    "# Acceso a los elementos PRIVADOS"
   ]
  },
  {
   "cell_type": "code",
   "execution_count": null,
   "id": "2bce6afb-beea-4017-ae5f-70638c24c2d7",
   "metadata": {},
   "outputs": [],
   "source": [
    "# Clase.y\n",
    "\n",
    "# AttributeError: type object 'Clase' has no attribute 'y'"
   ]
  },
  {
   "cell_type": "code",
   "execution_count": null,
   "id": "c9f8027f-abe5-4e48-8735-2d6482413efa",
   "metadata": {},
   "outputs": [],
   "source": [
    "# Clase.__metodoPrivado()\n",
    "\n",
    "# AttributeError: type object 'Clase' has no attribute '__metodoPrivado'"
   ]
  },
  {
   "cell_type": "code",
   "execution_count": null,
   "id": "a8a2f5f8-1c09-4d09-bb99-574887a43090",
   "metadata": {},
   "outputs": [],
   "source": [
    "class Clase:\n",
    "    # Variables de clase (atributos en este caso)\n",
    "    x = 10 # Atributo ACCESIBLE\n",
    "    __y = 20 # SOLO ES ACCESIBLE DENTRO DE LA CLASE\n",
    "    \n",
    "    # MÉTODO ACCESIBLE\n",
    "    def metodoPublico(y):\n",
    "        # SE PUEDE ACCEDER A SU INFORMACIÓN\n",
    "        print(\"el método es público\")\n",
    "        print(\"el valor de y es \", y)\n",
    "        \n",
    "    \n",
    "    # MÉTODO SÓLO ACCESIBLE EN LA CLASE\n",
    "    def __metodoPrivado(x):\n",
    "        print(\"Este método es privado\")  \n",
    "        print(\"el valor de x es : \", x)\n",
    "        \n",
    "    __metodoPrivado(x)\n",
    "    # metodoPublico(__y)"
   ]
  },
  {
   "cell_type": "code",
   "execution_count": null,
   "id": "2bb80d80-3be7-4163-a692-efc1e6036dc3",
   "metadata": {
    "scrolled": true
   },
   "outputs": [],
   "source": [
    "class Clase:\n",
    "    \"\"\" \n",
    "        Clase para diferenciar variables y métodos\n",
    "        publicos y privados\n",
    "    \"\"\"\n",
    "    # Variables de clase (atributos en este caso)\n",
    "    x = 10 # Atributo ACCESIBLE\n",
    "    __y = 20 # SOLO ES ACCESIBLE DENTRO DE LA CLASE\n",
    "    \n",
    "    # MÉTODO ACCESIBLE\n",
    "    def metodoPublico(y):\n",
    "        # SE PUEDE ACCEDER A SU INFORMACIÓN\n",
    "        print(\"el método es público\")\n",
    "        print(\"el valor de y es \", y)\n",
    "        \n",
    "    \n",
    "    # MÉTODO SÓLO ACCESIBLE EN LA CLASE\n",
    "    def __metodoPrivado(x):\n",
    "        print(\"Este método es privado\")  \n",
    "        print(\"el valor de x es : \", x)\n",
    "        \n",
    "    # __metodoPrivado(x)\n",
    "    metodoPublico(__y)"
   ]
  },
  {
   "cell_type": "markdown",
   "id": "12560b0b-cccf-41bd-a65c-84007e8a5d61",
   "metadata": {},
   "source": [
    "## Herencia"
   ]
  },
  {
   "cell_type": "markdown",
   "id": "438bda18-ad7e-4c89-822f-3abbd32f23be",
   "metadata": {},
   "source": [
    "### Herencia\n",
    "\n",
    "La **herencia** es una práctica común (en la programación de objetos) de pasar atributos y métodos de la superclase (definida y existente) a una clase recién creada, llamada subclase.\n",
    "\n",
    "En otras palabras, la herencia es una forma de construir una nueva clase, no desde cero, sino utilizando un repertorio de rasgos ya definido. La nueva clase hereda (y esta es la clave) todo el equipamiento ya existente, pero puedes agregar algo nuevo si es necesario.\n",
    "\n",
    "Gracias a eso, es posible construir clases más especializadas (más concretas) utilizando algunos conjuntos de reglas y comportamientos generales predefinidos."
   ]
  },
  {
   "cell_type": "code",
   "execution_count": null,
   "id": "6eea631b-7d88-46ad-b02b-7b045592e4ef",
   "metadata": {},
   "outputs": [],
   "source": [
    "class Vehicle:\n",
    "    pass\n",
    "\n",
    "\n",
    "class LandVehicle(Vehicle):\n",
    "    pass\n",
    "\n",
    "\n",
    "class TrackedVehicle(LandVehicle):\n",
    "    pass"
   ]
  },
  {
   "cell_type": "markdown",
   "id": "6e00cdcf-a15a-44d0-ae18-744351eaf20d",
   "metadata": {},
   "source": [
    "Podemos decir que:\n",
    "\n",
    "* La clase Vehicle es la superclase para clases LandVehicle y TrackedVehicle.\n",
    "* La clase LandVehicle es una subclase de Vehicle y la superclase de TrackedVehicle al mismo tiempo.\n",
    "* La clase TrackedVehicle es una subclase tanto de Vehicle y LandVehicle.\n",
    "\n",
    "El conocimiento anterior proviene de la lectura del código (en otras palabras, lo sabemos porque podemos verlo).\n",
    "\n",
    "Python ofrece una función que es capaz de identificar una relación entre dos clases, y aunque su diagnóstico no es complejo, puede verificar si una clase particular es una subclase de cualquier otra clase.\n",
    "\n",
    "**issubclass():** La función devuelve True si ClassOne es una subclase de ClassTwo, y False de lo contrario.\n",
    "\n",
    "Hay dos bucles anidados. Su propósito es verificar todos los pares de clases ordenadas posibles y que imprima los resultados de la verificación para determinar si el par coincide con la relación subclase-superclase:\n"
   ]
  },
  {
   "cell_type": "code",
   "execution_count": null,
   "id": "b2fb736a-fb43-4b60-8a3d-d6423cff7c07",
   "metadata": {},
   "outputs": [],
   "source": [
    "class Vehicle:\n",
    "    pass\n",
    "\n",
    "\n",
    "class LandVehicle(Vehicle):\n",
    "    pass\n",
    "\n",
    "\n",
    "class TrackedVehicle(LandVehicle):\n",
    "    pass\n",
    "\n",
    "\n",
    "for cls1 in [Vehicle, LandVehicle, TrackedVehicle]:\n",
    "    for cls2 in [Vehicle, LandVehicle, TrackedVehicle]:\n",
    "        print(issubclass(cls1, cls2), end=\"\\t\")\n",
    "    print()\n"
   ]
  },
  {
   "cell_type": "markdown",
   "id": "1b4086fa-6537-4783-a3e7-c62f3caf6d38",
   "metadata": {},
   "source": [
    "**isinstance():** La función devuelve True si el objeto es una instancia de la clase, o False de lo contrario.\n",
    "\n",
    "Hemos creado tres objetos, uno para cada una de las clases. Luego, usando dos bucles anidados, verificamos todos los pares posibles de clase de objeto para averiguar si los objetos son instancias de las clases."
   ]
  },
  {
   "cell_type": "code",
   "execution_count": null,
   "id": "e22d4938-e53b-4259-99d6-ca21954b19d8",
   "metadata": {},
   "outputs": [],
   "source": [
    "class Vehicle:\n",
    "    pass\n",
    "\n",
    "\n",
    "class LandVehicle(Vehicle):\n",
    "    pass\n",
    "\n",
    "\n",
    "class TrackedVehicle(LandVehicle):\n",
    "    pass\n",
    "\n",
    "\n",
    "my_vehicle = Vehicle()\n",
    "my_land_vehicle = LandVehicle()\n",
    "my_tracked_vehicle = TrackedVehicle()\n",
    "\n",
    "for obj in [my_vehicle, my_land_vehicle, my_tracked_vehicle]:\n",
    "    for cls in [Vehicle, LandVehicle, TrackedVehicle]:\n",
    "        print(isinstance(obj, cls), end=\"\\t\")\n",
    "    print()"
   ]
  },
  {
   "cell_type": "markdown",
   "id": "a3a489b1-888f-4d44-a056-c317eb331e4d",
   "metadata": {},
   "source": [
    "**is:** El operador 'is' verifica si dos variables, en este caso (object_one y object_two) se refieren al mismo objeto.\n",
    "\n",
    "No olvides que las variables no almacenan los objetos en sí, sino solo los identificadores que apuntan a la memoria interna de Python.\n",
    "\n",
    "Asignar un valor de una variable de objeto a otra variable no copia el objeto, sino solo su identificador. Es por ello que un operador como is puede ser muy útil en ciertas circunstancias.\n",
    "\n",
    "Echa un vistazo al código en el editor. Analicémoslo:\n",
    "\n",
    "* Existe una clase muy simple equipada con un constructor simple, que crea una sola propiedad. La clase se usa para instanciar dos objetos. El primero se asigna a otra variable, y su propiedad val se incrementa en uno.\n",
    "* Luego, el operador 'is' se aplica tres veces para verificar todos los pares de objetos posibles, y todos los valores de la propiedad val son mostrados en pantalla.\n",
    "* La última parte del código lleva a cabo otro experimento. Después de tres tareas, ambas cadenas contienen los mismos textos, pero estos textos se almacenan en diferentes objetos."
   ]
  },
  {
   "cell_type": "code",
   "execution_count": null,
   "id": "815fce69-7906-4bab-a0fe-171162b1e8ee",
   "metadata": {},
   "outputs": [],
   "source": [
    "class SampleClass:\n",
    "    def __init__(self, val):\n",
    "        self.val = val\n",
    "\n",
    "\n",
    "object_1 = SampleClass(0) # val = 0\n",
    "object_2 = SampleClass(2) # val = 2\n",
    "object_3 = object_1 # val = 0 (para los dos 3, 1)\n",
    "object_3.val += 1 # val = 0 + 1 = 1 \n",
    "\n",
    "print(object_1 is object_2)\n",
    "print(object_2 is object_3)\n",
    "print(object_3 is object_1)\n",
    "print(object_1.val, object_2.val, object_3.val)\n",
    "\n",
    "string_1 = \"Mary tenía un \"\n",
    "string_2 = \"Mary tenía un corderito\"\n",
    "string_1 += \"corderito\"\n",
    "\n",
    "print(id(string_1))\n",
    "print(id(string_2))\n",
    "\n",
    "print(string_1 == string_2, string_1 is string_2)\n"
   ]
  },
  {
   "cell_type": "markdown",
   "id": "b0d462ec-5c88-4190-9d09-929b946a98dd",
   "metadata": {},
   "source": [
    "Los resultados prueban que object_1 y object_3 son en realidad los mismos objetos, mientras que string_1 y string_2 no lo son, a pesar de que su contenido sea el mismo."
   ]
  },
  {
   "cell_type": "code",
   "execution_count": null,
   "id": "17331089-a8e1-494f-a9f8-58f6109adf4c",
   "metadata": {},
   "outputs": [],
   "source": [
    "class Super:\n",
    "    def __init__(self, name):\n",
    "        self.name = name\n",
    "\n",
    "    def __str__(self):\n",
    "        return \"Mi nombre es \" + self.name + \".\"\n",
    "\n",
    "\n",
    "class Sub(Super):\n",
    "    def __init__(self, name):\n",
    "        Super.__init__(self, name)\n",
    "\n",
    "\n",
    "obj = Sub(\"Andy\")\n",
    "\n",
    "print(obj)"
   ]
  },
  {
   "cell_type": "markdown",
   "id": "5bf54e7e-203e-4e8e-aa9d-b53776f5298d",
   "metadata": {},
   "source": [
    "* Existe una clase llamada Super, que define su propio constructor utilizado para asignar la propiedad del objeto, llamada name.\n",
    "* La clase también define el método __ str __(), lo que permite que la clase pueda presentar su identidad en forma de texto.\n",
    "* La clase se usa luego como base para crear una subclase llamadaSub. La clase Sub define su propio constructor, que invoca el de la superclase. Toma nota de como lo hemos hecho: Super.__ init __(self, name).\n",
    "* Hemos nombrado explícitamente la superclase y hemos apuntado al método para invocar a __ init __(), proporcionando todos los argumentos necesarios.\n",
    "* Hemos instanciado un objeto de la clase Sub y lo hemos impreso."
   ]
  },
  {
   "cell_type": "code",
   "execution_count": null,
   "id": "dcc86ddb-529b-4a88-9f44-5caa1a3f3b21",
   "metadata": {},
   "outputs": [],
   "source": [
    "class Super:\n",
    "    def __init__(self, name):\n",
    "        self.name = name\n",
    "\n",
    "    def __str__(self):\n",
    "        return \"Mi nombre es \" + self.name + \".\"\n",
    "\n",
    "\n",
    "class Sub(Super):\n",
    "    def __init__(self, name):\n",
    "        super().__init__(name)\n",
    "\n",
    "\n",
    "obj = Sub(\"Andy\")\n",
    "\n",
    "print(obj)"
   ]
  },
  {
   "cell_type": "markdown",
   "id": "274ddfd7-fe38-41c2-be32-8ec372e84483",
   "metadata": {},
   "source": [
    "La función super() accede a la superclase sin necesidad de conocer su nombre.\n",
    "\n",
    "La función super() crea un contexto en el que no tiene que (además, no debe) pasar el argumento propio al método que se invoca; es por eso que es posible activar el constructor de la superclase utilizando solo un argumento.\n",
    "\n",
    "Nota: puedes usar este mecanismo no solo para invocar al constructor de la superclase, pero también para obtener acceso a cualquiera de los recursos disponibles dentro de la superclase."
   ]
  },
  {
   "cell_type": "code",
   "execution_count": null,
   "id": "9c018923-988e-4166-b1cf-669ddcd304ba",
   "metadata": {},
   "outputs": [],
   "source": [
    "class Super:\n",
    "    supVar = 1\n",
    "\n",
    "\n",
    "class Sub(Super):\n",
    "    subVar = 2\n",
    "\n",
    "\n",
    "obj = Sub()\n",
    "\n",
    "print(obj.subVar)\n",
    "print(obj.supVar)"
   ]
  },
  {
   "cell_type": "code",
   "execution_count": null,
   "id": "a6a1c32b-3edd-4177-9497-a3c5aafb9076",
   "metadata": {},
   "outputs": [],
   "source": [
    "class ExampleClass:\n",
    "    \n",
    "    counter = 0\n",
    "    \n",
    "    def __init__(self, val = 1):\n",
    "        self.__first = val\n",
    "        ExampleClass.counter += 1\n",
    "\n",
    "example_object_1 = ExampleClass() # __first = 1, counter = 0 + 1 = 1\n",
    "example_object_2 = ExampleClass(2) # __first = 2, counter = 1 + 1 = 2\n",
    "example_object_3 = ExampleClass(4) # __first = 4, counter = 2 + 1 = 3\n",
    "\n",
    "print(example_object_1.__dict__, example_object_1.counter)\n",
    "print(example_object_2.__dict__, example_object_2.counter)\n",
    "print(example_object_3.__dict__, example_object_3.counter)\n",
    "\n",
    "print('\\n')\n",
    "print(ExampleClass.__dict__)"
   ]
  },
  {
   "cell_type": "markdown",
   "id": "f5cb9b73-837f-4328-abd1-b3ed88404dcc",
   "metadata": {},
   "source": [
    "La clase Super define una variable de clase llamada supVar, y la clase Sub define una variable llamada subVar. Ambas variables son visibles dentro del objeto de clase Sub."
   ]
  },
  {
   "cell_type": "code",
   "execution_count": null,
   "id": "2f2a5e01-92f2-475e-a6bd-07fc0d47b002",
   "metadata": {},
   "outputs": [],
   "source": [
    "class Super:\n",
    "    def __init__(self):\n",
    "        self.supVar = 11\n",
    "\n",
    "\n",
    "class Sub(Super):\n",
    "    def __init__(self):\n",
    "        super().__init__()\n",
    "        self.subVar = 12\n",
    "\n",
    "\n",
    "obj = Sub()\n",
    "\n",
    "print(obj.subVar)\n",
    "print(obj.supVar)"
   ]
  },
  {
   "cell_type": "markdown",
   "id": "172d87e8-3146-49b1-99fa-3c8ab9065f18",
   "metadata": {},
   "source": [
    "El constructor de la clase Sub crea una variable de instancia llamada subVar, mientras que el constructor de Super hace lo mismo con una variable de nombre supVar. Al igual que el ejemplo anterior, ambas variables son accesibles desde el objeto de clase Sub.\n",
    "\n",
    "Nota: La existencia de la variable supVar obviamente está condicionada por la invocación del constructor de la clase Super. Omitirlo daría como resultado la ausencia de la variable en el objeto creado (pruébalo tu mismo)."
   ]
  },
  {
   "cell_type": "markdown",
   "id": "8f72cb67-1bc0-4b31-9369-9a5d9fdf87d7",
   "metadata": {},
   "source": [
    "****"
   ]
  },
  {
   "cell_type": "markdown",
   "id": "04eca82c-d0fd-4183-ac7f-380901057ad4",
   "metadata": {},
   "source": [
    "### Herencia Multiple\n",
    "\n",
    "La herencia múltiple ocurre cuando una clase tiene más de una superclase."
   ]
  },
  {
   "cell_type": "code",
   "execution_count": null,
   "id": "640f1239-be1f-4aa0-8ba0-3ec1f7803c91",
   "metadata": {},
   "outputs": [],
   "source": [
    "class SuperA:\n",
    "    var_a = 10\n",
    "    def fun_a(self):\n",
    "        return 11\n",
    "\n",
    "\n",
    "class SuperB:\n",
    "    var_b = 20\n",
    "    def fun_b(self):\n",
    "        return 21\n",
    "\n",
    "\n",
    "class Sub(SuperA, SuperB):\n",
    "    pass\n",
    "\n",
    "\n",
    "obj = Sub()\n",
    "\n",
    "print(obj.var_a, obj.fun_a())\n",
    "print(obj.var_b, obj.fun_b())"
   ]
  },
  {
   "cell_type": "markdown",
   "id": "7944f883-c0b7-426b-9336-29e71ce38389",
   "metadata": {},
   "source": [
    "La clase Sub tiene dos superclases: SuperA y SuperB. Esto significa que la clase Sub hereda todos los bienes ofrecidos por ambas clases SuperA y SuperB."
   ]
  },
  {
   "cell_type": "code",
   "execution_count": null,
   "id": "9745a17d-da21-44d6-bf07-75b661bab483",
   "metadata": {},
   "outputs": [],
   "source": [
    "class Level1:\n",
    "    var = 100\n",
    "    def fun(self):\n",
    "        return 101\n",
    "\n",
    "\n",
    "class Level2(Level1):\n",
    "    var = 200\n",
    "    def fun(self):\n",
    "        return 201\n",
    "\n",
    "\n",
    "class Level3(Level2):\n",
    "    pass\n",
    "\n",
    "\n",
    "obj = Level3()\n",
    "\n",
    "print(obj.var, obj.fun())\n"
   ]
  },
  {
   "cell_type": "markdown",
   "id": "d0e1f640-9974-4d07-ba8c-008d09415d02",
   "metadata": {},
   "source": [
    "Tanto la clase, Level1 y Level2 definen un método llamado fun() y una propiedad llamada var. ¿Significará esto el objeto de la claseLevel3 podrá acceder a dos copias de cada entidad? De ningún modo.\n",
    "\n",
    "La entidad definida después (en el sentido de herencia) anula la misma entidad definida anteriormente.\n",
    "\n",
    "Como puedes ver, la variable de clase var y el método fun() de la clase Level2 anula las entidades de los mismos nombres derivados de la clase Level1.\n",
    "\n",
    "Esta característica se puede usar intencionalmente para modificar el comportamiento predeterminado de las clases (o definido previamente) cuando cualquiera de tus clases necesite actuar de manera diferente a su ancestro."
   ]
  },
  {
   "cell_type": "code",
   "execution_count": null,
   "id": "6922e85f-940f-4456-8b90-b26cc8d966b9",
   "metadata": {},
   "outputs": [],
   "source": [
    "class Left:\n",
    "    var = \"L\"\n",
    "    var_left = \"LL\"\n",
    "    def fun(self):\n",
    "        return \"Left\"\n",
    "\n",
    "\n",
    "class Right:\n",
    "    var = \"R\"\n",
    "    var_right = \"RR\"\n",
    "    def fun(self):\n",
    "        return \"Right\"\n",
    "\n",
    "\n",
    "class Sub(Left, Right):\n",
    "    pass\n",
    "\n",
    "\n",
    "obj = Sub()\n",
    "\n",
    "print(obj.var, obj.var_left, obj.var_right, obj.fun())"
   ]
  },
  {
   "cell_type": "markdown",
   "id": "b71dc406-9eee-4a47-920a-0dbf5c00d399",
   "metadata": {},
   "source": [
    "La clase Sub hereda todos los bienes de dos superclases Left y Right (estos nombres están destinados a ser significativos).\n",
    "\n",
    "No hay duda de que la variable de clase var_right proviene de la clase Right, y var_left proviene de la clase Left respectivamente.\n",
    "\n",
    "Esto es claro. Pero, ¿De donde proviene la variable var? ¿Es posible adivinarlo? El mismo problema se encuentra con el método fun() - ¿Será invocada desde Left o desde Right? \n",
    "\n",
    "Esto prueba que ambos casos poco claros tienen una solución dentro de la clase Left.\n",
    "\n",
    "Podemos decir que Python busca componentes de objetos en el siguiente orden:\n",
    "\n",
    "* Dentro del objeto mismo.\n",
    "* En sus superclases, de abajo hacia arriba.\n",
    "* Si hay más de una clase en una ruta de herencia, Python las escanea de izquierda a derecha."
   ]
  },
  {
   "cell_type": "code",
   "execution_count": null,
   "id": "38bbe174-f010-46dc-a171-7e8cf187fa3e",
   "metadata": {},
   "outputs": [],
   "source": [
    "class Left:\n",
    "    var = \"L\"\n",
    "    var_left = \"LL\"\n",
    "    def fun(self):\n",
    "        return \"Left\"\n",
    "\n",
    "\n",
    "class Right:\n",
    "    var = \"R\"\n",
    "    var_right = \"RR\"\n",
    "    def fun(self):\n",
    "        return \"Right\"\n",
    "\n",
    "\n",
    "class Sub(Right, Left): # modificamos las posisciones de Right y left\n",
    "    pass\n",
    "\n",
    "\n",
    "obj = Sub()\n",
    "\n",
    "print(obj.var, obj.var_left, obj.var_right, obj.fun())"
   ]
  },
  {
   "cell_type": "markdown",
   "id": "a1927bfe-ad7c-47d6-bcb2-838d226f5a9b",
   "metadata": {},
   "source": [
    "****"
   ]
  },
  {
   "cell_type": "markdown",
   "id": "5175a6fa-03cb-46b1-8d99-c4177396080d",
   "metadata": {},
   "source": [
    "# DIR"
   ]
  },
  {
   "cell_type": "code",
   "execution_count": null,
   "id": "e976fa96-02b1-482d-8568-6f43cda7d113",
   "metadata": {},
   "outputs": [],
   "source": [
    "import numpy as np"
   ]
  },
  {
   "cell_type": "code",
   "execution_count": null,
   "id": "32537179-31b0-40f1-92a7-25186afd24b9",
   "metadata": {},
   "outputs": [],
   "source": [
    "print(np.array(dir(clase1)))"
   ]
  },
  {
   "cell_type": "code",
   "execution_count": null,
   "id": "ddd3c2b6-161b-413d-822a-d39a2beb100a",
   "metadata": {},
   "outputs": [],
   "source": [
    "clase1.__dir__()"
   ]
  },
  {
   "cell_type": "code",
   "execution_count": null,
   "id": "c7f7f3b5-bfc9-4668-a75d-4f1a5998d840",
   "metadata": {},
   "outputs": [],
   "source": [
    "dir(np)"
   ]
  },
  {
   "cell_type": "code",
   "execution_count": null,
   "id": "1e7f2dac-d223-4bac-be5f-bc2f3bc78f7c",
   "metadata": {},
   "outputs": [],
   "source": [
    "# '_Clase__metodoPrivado'\n",
    "\n",
    "# Veíamos que está ahi, pero no es accesible\n",
    "\n",
    "# pero...\n",
    "\n",
    "# SE PUEDE IMPRIMIR ASI:"
   ]
  },
  {
   "cell_type": "code",
   "execution_count": null,
   "id": "7daefd6d-a9d1-4c17-9345-0026804f6b26",
   "metadata": {},
   "outputs": [],
   "source": [
    "clase1.x"
   ]
  },
  {
   "cell_type": "code",
   "execution_count": null,
   "id": "8e79e37f-ae0c-476b-b055-15c0dfc9f0b5",
   "metadata": {},
   "outputs": [],
   "source": [
    "clase1._Clase__y"
   ]
  },
  {
   "cell_type": "code",
   "execution_count": null,
   "id": "d4430a80-8416-44b5-93cc-09d399d56522",
   "metadata": {},
   "outputs": [],
   "source": [
    "clase1.metodoPublico()"
   ]
  },
  {
   "cell_type": "code",
   "execution_count": null,
   "id": "ab2e3503-0449-467b-bafb-3e03540a6df6",
   "metadata": {},
   "outputs": [],
   "source": [
    "clase1._Clase__metodoPrivado()"
   ]
  },
  {
   "cell_type": "code",
   "execution_count": null,
   "id": "37e2ddbf-cbb5-4558-b84f-8f4221220907",
   "metadata": {},
   "outputs": [],
   "source": [
    "albaran1.__dict__"
   ]
  },
  {
   "cell_type": "code",
   "execution_count": null,
   "id": "b09e8a14-a6a4-4e85-9d24-7b7d68624574",
   "metadata": {},
   "outputs": [],
   "source": [
    "# visualizar el contenido del objeto\n",
    "vars(albaran1)"
   ]
  },
  {
   "cell_type": "code",
   "execution_count": null,
   "id": "35cecaf9-8ccd-4b83-b05c-53ec70cf66b8",
   "metadata": {},
   "outputs": [],
   "source": [
    "Fecha_albaran.__dict__"
   ]
  },
  {
   "cell_type": "markdown",
   "id": "f9b76669",
   "metadata": {},
   "source": [
    "*Creado por:*\n",
    "\n",
    "*Isabel Maniega*"
   ]
  }
 ],
 "metadata": {
  "kernelspec": {
   "display_name": "Python 3 (ipykernel)",
   "language": "python",
   "name": "python3"
  },
  "language_info": {
   "codemirror_mode": {
    "name": "ipython",
    "version": 3
   },
   "file_extension": ".py",
   "mimetype": "text/x-python",
   "name": "python",
   "nbconvert_exporter": "python",
   "pygments_lexer": "ipython3",
   "version": "3.10.12"
  }
 },
 "nbformat": 4,
 "nbformat_minor": 5
}
