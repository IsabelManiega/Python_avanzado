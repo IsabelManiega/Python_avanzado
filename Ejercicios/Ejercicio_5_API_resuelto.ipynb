{
 "cells": [
  {
   "cell_type": "markdown",
   "id": "c3306c48-2f62-40ea-94d3-d5793ff9b035",
   "metadata": {},
   "source": [
    "*Creado por:*\n",
    "\n",
    "*Isabel Maniega*"
   ]
  },
  {
   "cell_type": "markdown",
   "id": "ad0f669f-be2b-4f99-87a6-861f3dc1f34f",
   "metadata": {},
   "source": [
    "# Ejercicio API REST"
   ]
  },
  {
   "cell_type": "markdown",
   "id": "a449e72e-66be-406f-8c5f-89b32244b1fb",
   "metadata": {},
   "source": [
    "## API Endpoints\n",
    "\n",
    "Una API REST expone un conjunto de URL públicas que las aplicaciones cliente utilizan para acceder a los recursos de un servicio web. Estas URL, en el contexto de una API, se denominan puntos finales (endpoints).\n",
    "\n",
    "Para aclarar esto, eche un vistazo a la tabla que aparece a continuación. En esta tabla, verá los puntos finales de API para un sistema CRM hipotético . Estos puntos finales son para un recurso de cliente que representa un potencial customers en el sistema:\n",
    "\n",
    "| Método HTTP\t|          API endpoint         |\t     Descripción                 |\n",
    "|---------------|-------------------------------|------------------------------------|\n",
    "|      GET\t    | /customers\t                | Obtenga una lista de clientes.     |\n",
    "|      GET\t    | ```/customers/<customer_id>```| Consiga un solo cliente.           |\n",
    "|      POST\t    | /customers\t                | Crear un nuevo cliente.            |\n",
    "|      PUT\t    | ```/customers/<customer_id>```| Actualizar un cliente.             |\n",
    "|      DELETE\t| ```/customers/<customer_id>```| Eliminar un cliente.               |\n",
    "\n",
    "Cada uno de los puntos finales anteriores realiza una acción diferente según el método HTTP.\n",
    "\n",
    "1) Realiza un **GET** a la url:\n",
    "```\n",
    "\"https://jsonplaceholder.typicode.com/todos\"\n",
    "```\n",
    "Del id = 1, recoge la información como un json(), status_code y los headers:"
   ]
  },
  {
   "cell_type": "code",
   "execution_count": 1,
   "id": "c207aab0-3499-4125-b21e-bea53366fe29",
   "metadata": {},
   "outputs": [
    {
     "data": {
      "text/plain": [
       "{'userId': 1, 'id': 1, 'title': 'delectus aut autem', 'completed': False}"
      ]
     },
     "execution_count": 1,
     "metadata": {},
     "output_type": "execute_result"
    }
   ],
   "source": [
    "import requests\n",
    "\n",
    "api_url = \"https://jsonplaceholder.typicode.com/todos/1\"\n",
    "response = requests.get(api_url)\n",
    "response.json()"
   ]
  },
  {
   "cell_type": "code",
   "execution_count": 2,
   "id": "e47c649f-13c0-4254-a0ec-69f853db771c",
   "metadata": {},
   "outputs": [
    {
     "data": {
      "text/plain": [
       "200"
      ]
     },
     "execution_count": 2,
     "metadata": {},
     "output_type": "execute_result"
    }
   ],
   "source": [
    "response.status_code"
   ]
  },
  {
   "cell_type": "code",
   "execution_count": 3,
   "id": "c505aaac-13f0-4392-9cf0-0e56284cf2ea",
   "metadata": {},
   "outputs": [
    {
     "data": {
      "text/plain": [
       "'application/json; charset=utf-8'"
      ]
     },
     "execution_count": 3,
     "metadata": {},
     "output_type": "execute_result"
    }
   ],
   "source": [
    "response.headers[\"Content-Type\"]"
   ]
  },
  {
   "cell_type": "markdown",
   "id": "1beaeea3-6451-4132-8770-56f7de9d9f33",
   "metadata": {},
   "source": [
    "2) Realiza un **POST** con el siguiente dato:\n",
    "```\n",
    "{\n",
    "    \"userId\": 1,\n",
    "    \"title\": \"Buy milk\",\n",
    "    \"completed\": false\n",
    "}\n",
    "```\n",
    "\n",
    "A la siguiente url ```\"https://jsonplaceholder.typicode.com/todos\"```"
   ]
  },
  {
   "cell_type": "code",
   "execution_count": 6,
   "id": "12e2c4b6-e314-4a1d-af09-45b7ff3850e0",
   "metadata": {},
   "outputs": [
    {
     "data": {
      "text/plain": [
       "{'userId': 1, 'title': 'Buy milk', 'completed': False, 'id': 201}"
      ]
     },
     "execution_count": 6,
     "metadata": {},
     "output_type": "execute_result"
    }
   ],
   "source": [
    "import json\n",
    "\n",
    "api_url = \"https://jsonplaceholder.typicode.com/todos\"\n",
    "todo = {\"userId\": 1, \"title\": \"Buy milk\", \"completed\": False}\n",
    "headers =  {\"Content-Type\":\"application/json\"}\n",
    "response = requests.post(api_url, data=json.dumps(todo), headers=headers)\n",
    "response.json()"
   ]
  },
  {
   "cell_type": "code",
   "execution_count": 7,
   "id": "6ddd28a7-d817-4eac-9eb3-8e91afedc413",
   "metadata": {},
   "outputs": [
    {
     "data": {
      "text/plain": [
       "201"
      ]
     },
     "execution_count": 7,
     "metadata": {},
     "output_type": "execute_result"
    }
   ],
   "source": [
    "response.status_code"
   ]
  },
  {
   "cell_type": "markdown",
   "id": "f69818f8-f8c9-40ef-a902-2fa994ed215b",
   "metadata": {},
   "source": [
    "3) Realiza el **PUT** a la siguiente url \"https://jsonplaceholder.typicode.com/todos\", moficando el id = 10, modifica por el siguiente json:\n",
    "\n",
    "```{\"userId\": 1, \"title\": \"Wash car\", \"completed\": True}```\n",
    "\n",
    "Recoge la respuesta y el status_code:"
   ]
  },
  {
   "cell_type": "code",
   "execution_count": 8,
   "id": "cc462313-097f-4995-b798-d279c525972a",
   "metadata": {},
   "outputs": [
    {
     "data": {
      "text/plain": [
       "{'userId': 1,\n",
       " 'id': 10,\n",
       " 'title': 'illo est ratione doloremque quia maiores aut',\n",
       " 'completed': True}"
      ]
     },
     "execution_count": 8,
     "metadata": {},
     "output_type": "execute_result"
    }
   ],
   "source": [
    "api_url = \"https://jsonplaceholder.typicode.com/todos/10\"\n",
    "response = requests.get(api_url)\n",
    "response.json()"
   ]
  },
  {
   "cell_type": "code",
   "execution_count": 9,
   "id": "bb75ff2b-4924-46d0-9cae-14e0d4f25163",
   "metadata": {},
   "outputs": [
    {
     "data": {
      "text/plain": [
       "{'userId': 1, 'title': 'Wash car', 'completed': True, 'id': 10}"
      ]
     },
     "execution_count": 9,
     "metadata": {},
     "output_type": "execute_result"
    }
   ],
   "source": [
    "todo = {\"userId\": 1, \"title\": \"Wash car\", \"completed\": True}\n",
    "headers =  {\"Content-Type\":\"application/json\"}\n",
    "response = requests.put(api_url, data=json.dumps(todo), headers=headers)\n",
    "response.json()"
   ]
  },
  {
   "cell_type": "code",
   "execution_count": 10,
   "id": "8e404532-331c-475b-82d9-aaedd0083d9a",
   "metadata": {},
   "outputs": [
    {
     "data": {
      "text/plain": [
       "200"
      ]
     },
     "execution_count": 10,
     "metadata": {},
     "output_type": "execute_result"
    }
   ],
   "source": [
    "response.status_code"
   ]
  },
  {
   "cell_type": "markdown",
   "id": "cc7d881f-8c1e-4d90-8a38-184ae0b20dc3",
   "metadata": {},
   "source": [
    "4) Realiza el **DELETE** del id = 10, recoge la respuesta y el status_code:"
   ]
  },
  {
   "cell_type": "code",
   "execution_count": 11,
   "id": "985fd287-6431-4694-8543-d8faed71b4f1",
   "metadata": {},
   "outputs": [
    {
     "data": {
      "text/plain": [
       "{}"
      ]
     },
     "execution_count": 11,
     "metadata": {},
     "output_type": "execute_result"
    }
   ],
   "source": [
    "api_url = \"https://jsonplaceholder.typicode.com/todos/10\"\n",
    "response = requests.delete(api_url)\n",
    "response.json()"
   ]
  },
  {
   "cell_type": "code",
   "execution_count": 12,
   "id": "8ff82f69-21c8-408e-8281-aee3d6fef75c",
   "metadata": {},
   "outputs": [
    {
     "data": {
      "text/plain": [
       "200"
      ]
     },
     "execution_count": 12,
     "metadata": {},
     "output_type": "execute_result"
    }
   ],
   "source": [
    "response.status_code"
   ]
  },
  {
   "cell_type": "markdown",
   "id": "6daf700d-9473-428d-bc9b-86b96b6ab018",
   "metadata": {},
   "source": [
    "*Creado por:*\n",
    "\n",
    "*Isabel Maniega*"
   ]
  }
 ],
 "metadata": {
  "kernelspec": {
   "display_name": "Python 3 (ipykernel)",
   "language": "python",
   "name": "python3"
  },
  "language_info": {
   "codemirror_mode": {
    "name": "ipython",
    "version": 3
   },
   "file_extension": ".py",
   "mimetype": "text/x-python",
   "name": "python",
   "nbconvert_exporter": "python",
   "pygments_lexer": "ipython3",
   "version": "3.10.12"
  }
 },
 "nbformat": 4,
 "nbformat_minor": 5
}
