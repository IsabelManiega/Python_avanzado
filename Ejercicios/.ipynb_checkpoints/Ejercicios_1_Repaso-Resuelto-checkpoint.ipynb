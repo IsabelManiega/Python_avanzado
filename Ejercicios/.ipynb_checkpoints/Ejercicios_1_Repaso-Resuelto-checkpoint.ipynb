{
 "cells": [
  {
   "cell_type": "markdown",
   "id": "92e5cf87",
   "metadata": {},
   "source": [
    "*Creado por:*\n",
    "\n",
    "*Isabel Maniega*"
   ]
  },
  {
   "cell_type": "markdown",
   "id": "c3b2ecdc",
   "metadata": {},
   "source": [
    "# Ejercicios"
   ]
  },
  {
   "cell_type": "markdown",
   "id": "21b0a9e7",
   "metadata": {},
   "source": [
    "**1)** Definir una función generar_n_caracteres() que tome un entero n y devuelva el caracter multiplicado por n. Por ejemplo: generar_n_caracteres(5, \"x\") debería devolver \"xxxxx\"."
   ]
  },
  {
   "cell_type": "code",
   "execution_count": 1,
   "id": "4f9f18cb",
   "metadata": {},
   "outputs": [],
   "source": [
    "def generar_n_caracteres(n, caracter):\n",
    "    return n * caracter"
   ]
  },
  {
   "cell_type": "code",
   "execution_count": 2,
   "id": "cfc75142",
   "metadata": {},
   "outputs": [
    {
     "data": {
      "text/plain": [
       "'xxxxx'"
      ]
     },
     "execution_count": 2,
     "metadata": {},
     "output_type": "execute_result"
    }
   ],
   "source": [
    "generar_n_caracteres(5, 'x')"
   ]
  },
  {
   "cell_type": "markdown",
   "id": "6099ead0",
   "metadata": {},
   "source": [
    "**2)** Definir un diagrama procedimiento() que tome una lista de números enteros e imprima un diagrama en la pantalla. Ejemplo: procedimiento([4, 9, 7]) debería imprimir lo siguiente:\n",
    "\n",
    "\"****\"\n",
    "\n",
    "\"*********\"\n",
    "\n",
    "\"*******\"\n"
   ]
  },
  {
   "cell_type": "code",
   "execution_count": 3,
   "id": "1f306c82",
   "metadata": {},
   "outputs": [],
   "source": [
    "def procedimiento(lista):\n",
    "    for i in lista:\n",
    "        print(i * \"x\")"
   ]
  },
  {
   "cell_type": "code",
   "execution_count": 4,
   "id": "8d9489ad",
   "metadata": {},
   "outputs": [
    {
     "name": "stdout",
     "output_type": "stream",
     "text": [
      "xxxx\n",
      "xxxxxxxxx\n",
      "xxxxxxx\n"
     ]
    }
   ],
   "source": [
    "procedimiento([4, 9, 7])"
   ]
  },
  {
   "cell_type": "markdown",
   "id": "383c83fe",
   "metadata": {},
   "source": [
    "**3)** Escribir una función mas_larga() que tome una lista de palabras y devuelva la mas larga."
   ]
  },
  {
   "cell_type": "code",
   "execution_count": 5,
   "id": "8d81c93e",
   "metadata": {},
   "outputs": [],
   "source": [
    "def mas_larga(lista):\n",
    "    mas_larga = \"\"\n",
    "    for i in lista:\n",
    "        if len(i) > len(mas_larga):\n",
    "            mas_larga = i\n",
    "    return mas_larga"
   ]
  },
  {
   "cell_type": "code",
   "execution_count": 6,
   "id": "5f5605b6",
   "metadata": {},
   "outputs": [
    {
     "data": {
      "text/plain": [
       "'tortuga'"
      ]
     },
     "execution_count": 6,
     "metadata": {},
     "output_type": "execute_result"
    }
   ],
   "source": [
    "mas_larga([\"coche\", \"tortuga\", \"bici\"])"
   ]
  },
  {
   "cell_type": "markdown",
   "id": "1700f59f",
   "metadata": {},
   "source": [
    "**4)** Escribir una función filtrar_palabras() que tome una lista de palabras y un entero n, y devuelva las palabras que tengan mas de n caracteres."
   ]
  },
  {
   "cell_type": "code",
   "execution_count": 7,
   "id": "037fcdb1",
   "metadata": {},
   "outputs": [],
   "source": [
    "def filtrar_palabras(lista, n):\n",
    "    for i in lista:\n",
    "        if len(i) > n:\n",
    "            print(i)"
   ]
  },
  {
   "cell_type": "code",
   "execution_count": 8,
   "id": "15ce33ca",
   "metadata": {},
   "outputs": [
    {
     "name": "stdout",
     "output_type": "stream",
     "text": [
      "coche\n",
      "tortuga\n"
     ]
    }
   ],
   "source": [
    "filtrar_palabras([\"coche\", \"tortuga\", \"bici\"], 4)"
   ]
  },
  {
   "cell_type": "markdown",
   "id": "a1088672",
   "metadata": {},
   "source": [
    "**5)** Escribir un programa que ingrese una cadena de texto. El programa tiene que evaluar la cadena y decir cuantas letras mayúsculas tiene."
   ]
  },
  {
   "cell_type": "code",
   "execution_count": 9,
   "id": "ef0b5524",
   "metadata": {},
   "outputs": [],
   "source": [
    "def c_mayusculas(cadena):\n",
    "    cont = 0\n",
    "    for i in cadena:\n",
    "        if i != i.lower(): #Recordar que lower() convierte una cadena en minúsculas\n",
    "            cont += 1\n",
    "    print(\"La cadena tiene\", cont, \"mayuscula/s\")"
   ]
  },
  {
   "cell_type": "code",
   "execution_count": 10,
   "id": "d406023d",
   "metadata": {},
   "outputs": [
    {
     "name": "stdout",
     "output_type": "stream",
     "text": [
      "La cadena tiene 2 mayuscula/s\n"
     ]
    }
   ],
   "source": [
    "c_mayusculas(\"Mas que Coches\")"
   ]
  },
  {
   "cell_type": "markdown",
   "id": "b3dcd6b9",
   "metadata": {},
   "source": [
    "**6)** Definir una tupla con 10 edades de personas.\n",
    "* Imprimir la cantidad de personas con edades superiores a 20."
   ]
  },
  {
   "cell_type": "code",
   "execution_count": 11,
   "id": "86cdd32f",
   "metadata": {},
   "outputs": [],
   "source": [
    "def mayores(tup):\n",
    "    cont = 0\n",
    "    for i in tup:\n",
    "        if i > 20:\n",
    "            cont += 1\n",
    "    print(\"Hay\", cont, \"numeros mayores a 20\")"
   ]
  },
  {
   "cell_type": "code",
   "execution_count": 12,
   "id": "8eaecfae",
   "metadata": {},
   "outputs": [
    {
     "name": "stdout",
     "output_type": "stream",
     "text": [
      "Hay 5 numeros mayores a 20\n"
     ]
    }
   ],
   "source": [
    "mayores((15, 20, 16, 31, 40, 50, 11, 13, 48, 60))"
   ]
  },
  {
   "cell_type": "markdown",
   "id": "53d7b8b8",
   "metadata": {},
   "source": [
    "**7)** Definir una lista con un conjunto de nombres, imprimir la cantidad de comienzan con la letra a.\n",
    "También se puede hacer elegir al usuario la letra a buscar.  (Un poco mas emocionante)"
   ]
  },
  {
   "cell_type": "code",
   "execution_count": 13,
   "id": "1713a6c6",
   "metadata": {},
   "outputs": [],
   "source": [
    "def main():\n",
    "    x = int(input(\"Cuantos nombres quieres ingresar?: \"))\n",
    "    lista = []\n",
    "    for i in range(x):\n",
    "        a = input(\"Ingresa el nombre: \")\n",
    "        lista.append(a)   \n",
    "    print(\"\\n\")\n",
    "    \n",
    "    comienzo = input(\"Con que letra empieza el nombre?: \")\n",
    "    cont = 0\n",
    "    for i in lista:\n",
    "        if i[0] == comienzo.lower() or i[0] == comienzo.upper() :\n",
    "            cont += 1\n",
    "    return cont"
   ]
  },
  {
   "cell_type": "code",
   "execution_count": 14,
   "id": "57b47fca",
   "metadata": {},
   "outputs": [
    {
     "name": "stdout",
     "output_type": "stream",
     "text": [
      "Cuantos nombres quieres ingresar?: 2\n",
      "Ingresa el nombre: Ana\n",
      "Ingresa el nombre: Pedro\n",
      "\n",
      "\n",
      "Con que letra empieza el nombre?: p\n"
     ]
    },
    {
     "data": {
      "text/plain": [
       "1"
      ]
     },
     "execution_count": 14,
     "metadata": {},
     "output_type": "execute_result"
    }
   ],
   "source": [
    "main()"
   ]
  },
  {
   "cell_type": "markdown",
   "id": "58777d90",
   "metadata": {},
   "source": [
    "**8)** Crear una función contar_vocales(), que reciba una palabra y cuente cuantas letras \"a\" tiene, cuantas letras \"e\" tiene y así hasta completar todas las vocales.\n",
    "Se puede hacer que el usuario sea quien elija la palabra."
   ]
  },
  {
   "cell_type": "code",
   "execution_count": 15,
   "id": "b5c704c3",
   "metadata": {},
   "outputs": [],
   "source": [
    "def contar_vocales(cadena):\n",
    "    cadena = cadena.lower()\n",
    "    vocales = \"aeiou\"\n",
    "   \n",
    "    for x in vocales:\n",
    "        contador = 0\n",
    "        for i in cadena:\n",
    "            if i == x:\n",
    "                contador += 1\n",
    "        print(\"Hay %d %s.\" % (contador, x))"
   ]
  },
  {
   "cell_type": "code",
   "execution_count": 16,
   "id": "f785452c",
   "metadata": {},
   "outputs": [
    {
     "name": "stdout",
     "output_type": "stream",
     "text": [
      "Hay 1 a.\n",
      "Hay 0 e.\n",
      "Hay 0 i.\n",
      "Hay 2 o.\n",
      "Hay 1 u.\n"
     ]
    }
   ],
   "source": [
    "contar_vocales(\"Hola Mundo\")"
   ]
  },
  {
   "cell_type": "markdown",
   "id": "f19f99f2",
   "metadata": {},
   "source": [
    "*Creado por:*\n",
    "\n",
    "*Isabel Maniega*"
   ]
  }
 ],
 "metadata": {
  "kernelspec": {
   "display_name": "Python 3",
   "language": "python",
   "name": "python3"
  },
  "language_info": {
   "codemirror_mode": {
    "name": "ipython",
    "version": 3
   },
   "file_extension": ".py",
   "mimetype": "text/x-python",
   "name": "python",
   "nbconvert_exporter": "python",
   "pygments_lexer": "ipython3",
   "version": "3.8.10"
  }
 },
 "nbformat": 4,
 "nbformat_minor": 5
}
