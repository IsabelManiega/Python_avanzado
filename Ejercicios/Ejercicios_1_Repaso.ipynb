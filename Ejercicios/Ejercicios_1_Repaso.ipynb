{
 "cells": [
  {
   "cell_type": "markdown",
   "id": "2dc73c48",
   "metadata": {},
   "source": [
    "*Creado por:*\n",
    "\n",
    "*Isabel Maniega*"
   ]
  },
  {
   "cell_type": "markdown",
   "id": "298e436c",
   "metadata": {},
   "source": [
    "# Ejercicios"
   ]
  },
  {
   "cell_type": "markdown",
   "id": "b78de3a1",
   "metadata": {},
   "source": [
    "**1)** Definir una función generar_n_caracteres() que tome un entero n y devuelva el caracter multiplicado por n. Por ejemplo: generar_n_caracteres(5, \"x\") debería devolver \"xxxxx\"."
   ]
  },
  {
   "cell_type": "markdown",
   "id": "87a27876",
   "metadata": {},
   "source": [
    "**2)** Definir un diagrama procedimiento() que tome una lista de números enteros e imprima un diagrama en la pantalla. Ejemplo: procedimiento([4, 9, 7]) debería imprimir lo siguiente:\n",
    "\n",
    "\"****\"\n",
    "\n",
    "\"*********\"\n",
    "\n",
    "\"*******\"\n"
   ]
  },
  {
   "cell_type": "markdown",
   "id": "ad1b3b2b",
   "metadata": {},
   "source": [
    "**3)** Escribir una función mas_larga() que tome una lista de palabras y devuelva la mas larga."
   ]
  },
  {
   "cell_type": "markdown",
   "id": "fe6c6825",
   "metadata": {},
   "source": [
    "**4)** Escribir una función filtrar_palabras() que tome una lista de palabras y un entero n, y devuelva las palabras que tengan mas de n caracteres."
   ]
  },
  {
   "cell_type": "markdown",
   "id": "01ae5afa",
   "metadata": {},
   "source": [
    "**5)** Escribir un programa que ingrese una cadena de texto. El programa tiene que evaluar la cadena y decir cuantas letras mayúsculas tiene."
   ]
  },
  {
   "cell_type": "markdown",
   "id": "08260a2c",
   "metadata": {},
   "source": [
    "**6)** Definir una tupla con 10 edades de personas.\n",
    "* Imprimir la cantidad de personas con edades superiores a 20."
   ]
  },
  {
   "cell_type": "markdown",
   "id": "d84e372a",
   "metadata": {},
   "source": [
    "**7)** Definir una lista con un conjunto de nombres, imprimir la cantidad de comienzan con la letra a.\n",
    "También se puede hacer elegir al usuario la letra a buscar.  (Un poco mas emocionante)"
   ]
  },
  {
   "cell_type": "markdown",
   "id": "248ce07f",
   "metadata": {},
   "source": [
    "**8)** Crear una función contar_vocales(), que reciba una palabra y cuente cuantas letras \"a\" tiene, cuantas letras \"e\" tiene y así hasta completar todas las vocales.\n",
    "Se puede hacer que el usuario sea quien elija la palabra."
   ]
  },
  {
   "cell_type": "markdown",
   "id": "498737b1",
   "metadata": {},
   "source": [
    "*Creado por:*\n",
    "\n",
    "*Isabel Maniega*"
   ]
  }
 ],
 "metadata": {
  "kernelspec": {
   "display_name": "Python 3 (ipykernel)",
   "language": "python",
   "name": "python3"
  },
  "language_info": {
   "codemirror_mode": {
    "name": "ipython",
    "version": 3
   },
   "file_extension": ".py",
   "mimetype": "text/x-python",
   "name": "python",
   "nbconvert_exporter": "python",
   "pygments_lexer": "ipython3",
   "version": "3.10.12"
  }
 },
 "nbformat": 4,
 "nbformat_minor": 5
}
