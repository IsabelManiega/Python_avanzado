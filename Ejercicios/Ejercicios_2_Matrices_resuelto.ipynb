{
 "cells": [
  {
   "cell_type": "markdown",
   "id": "c05ac759",
   "metadata": {},
   "source": [
    "*Creado por:*\n",
    "    \n",
    "*Isabel Maniega*"
   ]
  },
  {
   "cell_type": "markdown",
   "id": "040dd6c7",
   "metadata": {},
   "source": [
    "# Ejercicio 1"
   ]
  },
  {
   "cell_type": "markdown",
   "id": "e0081c75",
   "metadata": {},
   "source": [
    "Crea una matriz con ayuda numpy:"
   ]
  },
  {
   "cell_type": "markdown",
   "id": "76d7a693",
   "metadata": {},
   "source": [
    "**1)** Cuya matriz contenga 4 filas por 4 columnas  de ceros"
   ]
  },
  {
   "cell_type": "code",
   "execution_count": 2,
   "id": "3c3f41ea",
   "metadata": {},
   "outputs": [],
   "source": [
    "import numpy as np"
   ]
  },
  {
   "cell_type": "code",
   "execution_count": 3,
   "id": "d4912c11",
   "metadata": {},
   "outputs": [
    {
     "data": {
      "text/plain": [
       "array([[0., 0., 0., 0.],\n",
       "       [0., 0., 0., 0.],\n",
       "       [0., 0., 0., 0.],\n",
       "       [0., 0., 0., 0.]])"
      ]
     },
     "execution_count": 3,
     "metadata": {},
     "output_type": "execute_result"
    }
   ],
   "source": [
    "matriz = np.zeros((4,4))\n",
    "matriz"
   ]
  },
  {
   "cell_type": "markdown",
   "id": "cc1fbe02",
   "metadata": {},
   "source": [
    "**2)** Apartir de la matriz de ceros crea la matriz identidad"
   ]
  },
  {
   "cell_type": "markdown",
   "id": "16ea8984",
   "metadata": {},
   "source": [
    "<img witdh=\"45%\" src=\"Explicación_matrizIdentidad.png\"/>"
   ]
  },
  {
   "cell_type": "code",
   "execution_count": 6,
   "id": "95ad671d",
   "metadata": {},
   "outputs": [
    {
     "data": {
      "text/plain": [
       "array([[1., 0., 0., 0.],\n",
       "       [0., 1., 0., 0.],\n",
       "       [0., 0., 1., 0.],\n",
       "       [0., 0., 0., 1.]])"
      ]
     },
     "execution_count": 6,
     "metadata": {},
     "output_type": "execute_result"
    }
   ],
   "source": [
    "for i in range(len(matriz)):\n",
    "    # print(i)\n",
    "    for j in range(len(matriz[i])):\n",
    "        # print('Valor de j: ', j)\n",
    "        if j == i:\n",
    "            matriz[i][j] = 1\n",
    "matriz"
   ]
  },
  {
   "cell_type": "markdown",
   "id": "94b3db2e",
   "metadata": {},
   "source": [
    "# Ejercicio 2"
   ]
  },
  {
   "cell_type": "markdown",
   "id": "ede02060",
   "metadata": {},
   "source": [
    "Crea una matriz con ayuda numpy:"
   ]
  },
  {
   "cell_type": "markdown",
   "id": "faf0eeda",
   "metadata": {},
   "source": [
    "* Primera fila contenga: 3, 6, 8\n",
    "* Segunda fila contenga: 20, 5, 7\n",
    "* Tercera fila contenga: 10, 14, 1"
   ]
  },
  {
   "cell_type": "code",
   "execution_count": 7,
   "id": "5270bd5c",
   "metadata": {},
   "outputs": [
    {
     "data": {
      "text/plain": [
       "array([[ 3,  6,  8],\n",
       "       [20,  5,  7],\n",
       "       [10, 14,  1]])"
      ]
     },
     "execution_count": 7,
     "metadata": {},
     "output_type": "execute_result"
    }
   ],
   "source": [
    "m = np.array([\n",
    "    [3, 6, 8],\n",
    "    [20, 5, 7],\n",
    "    [10, 14, 1]\n",
    "])\n",
    "m"
   ]
  },
  {
   "cell_type": "markdown",
   "id": "afffdcc1",
   "metadata": {},
   "source": [
    "**1)** Crea la transpuesta de esta matriz"
   ]
  },
  {
   "cell_type": "code",
   "execution_count": 8,
   "id": "3c86c7c4",
   "metadata": {},
   "outputs": [
    {
     "data": {
      "text/plain": [
       "array([[ 3, 20, 10],\n",
       "       [ 6,  5, 14],\n",
       "       [ 8,  7,  1]])"
      ]
     },
     "execution_count": 8,
     "metadata": {},
     "output_type": "execute_result"
    }
   ],
   "source": [
    "m.T"
   ]
  },
  {
   "cell_type": "markdown",
   "id": "8bfbcdd1",
   "metadata": {},
   "source": [
    "**2)** Muestra el tamaño de la matriz"
   ]
  },
  {
   "cell_type": "code",
   "execution_count": 10,
   "id": "3cdb9dc8",
   "metadata": {},
   "outputs": [
    {
     "data": {
      "text/plain": [
       "9"
      ]
     },
     "execution_count": 10,
     "metadata": {},
     "output_type": "execute_result"
    }
   ],
   "source": [
    "m.size"
   ]
  },
  {
   "cell_type": "markdown",
   "id": "4695ebbc",
   "metadata": {},
   "source": [
    "**3)** Muestra las dimensiones "
   ]
  },
  {
   "cell_type": "code",
   "execution_count": 11,
   "id": "39c206cd",
   "metadata": {},
   "outputs": [
    {
     "data": {
      "text/plain": [
       "(3, 3)"
      ]
     },
     "execution_count": 11,
     "metadata": {},
     "output_type": "execute_result"
    }
   ],
   "source": [
    "m.shape"
   ]
  },
  {
   "cell_type": "markdown",
   "id": "2418a356",
   "metadata": {},
   "source": [
    "**4)** ¿La matriz tiene valores menores de 0?"
   ]
  },
  {
   "cell_type": "code",
   "execution_count": 13,
   "id": "ea6630eb",
   "metadata": {},
   "outputs": [
    {
     "data": {
      "text/plain": [
       "False"
      ]
     },
     "execution_count": 13,
     "metadata": {},
     "output_type": "execute_result"
    }
   ],
   "source": [
    "np.all(m<0)"
   ]
  },
  {
   "cell_type": "markdown",
   "id": "657b587e",
   "metadata": {},
   "source": [
    "**5)** ¿La matriz tiene algún valor mayor de 10?"
   ]
  },
  {
   "cell_type": "code",
   "execution_count": 14,
   "id": "eeeb5b54",
   "metadata": {},
   "outputs": [
    {
     "data": {
      "text/plain": [
       "True"
      ]
     },
     "execution_count": 14,
     "metadata": {},
     "output_type": "execute_result"
    }
   ],
   "source": [
    "np.any(m>10)"
   ]
  },
  {
   "cell_type": "markdown",
   "id": "7ae2491d",
   "metadata": {},
   "source": [
    "**6)** Coge una muestra de 5 valores de esa matriz usando linespace "
   ]
  },
  {
   "cell_type": "code",
   "execution_count": 18,
   "id": "8f423876",
   "metadata": {},
   "outputs": [
    {
     "data": {
      "text/plain": [
       "array([ 1.  ,  5.75, 10.5 , 15.25, 20.  ])"
      ]
     },
     "execution_count": 18,
     "metadata": {},
     "output_type": "execute_result"
    }
   ],
   "source": [
    "muestra = np.linspace(m.min(), m.max(), 5)\n",
    "muestra"
   ]
  },
  {
   "cell_type": "markdown",
   "id": "4d509a22",
   "metadata": {},
   "source": [
    "**7)** La matriz contiene el valor 7"
   ]
  },
  {
   "cell_type": "code",
   "execution_count": 19,
   "id": "b82ed416",
   "metadata": {},
   "outputs": [
    {
     "data": {
      "text/plain": [
       "True"
      ]
     },
     "execution_count": 19,
     "metadata": {},
     "output_type": "execute_result"
    }
   ],
   "source": [
    "7 in m"
   ]
  },
  {
   "cell_type": "markdown",
   "id": "9f737479",
   "metadata": {},
   "source": [
    "**8)** Crea una copia de esa matriz en una única dimensión"
   ]
  },
  {
   "cell_type": "code",
   "execution_count": 21,
   "id": "801d757c",
   "metadata": {},
   "outputs": [
    {
     "data": {
      "text/plain": [
       "array([ 3,  6,  8, 20,  5,  7, 10, 14,  1])"
      ]
     },
     "execution_count": 21,
     "metadata": {},
     "output_type": "execute_result"
    }
   ],
   "source": [
    "m.flatten()"
   ]
  },
  {
   "cell_type": "markdown",
   "id": "0d4a8fb1",
   "metadata": {},
   "source": [
    "**9)** Crea una copia de esa matriz en una única dimensión, en este caso usando un bucle y una lista vacia"
   ]
  },
  {
   "cell_type": "code",
   "execution_count": 25,
   "id": "ba887ed4",
   "metadata": {},
   "outputs": [
    {
     "name": "stdout",
     "output_type": "stream",
     "text": [
      "[3, 6, 8, 20, 5, 7, 10, 14, 1]\n"
     ]
    },
    {
     "data": {
      "text/plain": [
       "array([ 3,  6,  8, 20,  5,  7, 10, 14,  1])"
      ]
     },
     "execution_count": 25,
     "metadata": {},
     "output_type": "execute_result"
    }
   ],
   "source": [
    "lista_final = []\n",
    "for i in range(len(m)):\n",
    "    for j in range(len(m[i])):\n",
    "        lista_final.append(m[i][j])\n",
    "print(lista_final)\n",
    "m2 = np.array(lista_final)\n",
    "m2"
   ]
  },
  {
   "cell_type": "markdown",
   "id": "7da65dfb",
   "metadata": {},
   "source": [
    "**10)** Realiza a esta última matriz creada con flatten la potencia de 3"
   ]
  },
  {
   "cell_type": "code",
   "execution_count": 26,
   "id": "d49f87e1",
   "metadata": {},
   "outputs": [
    {
     "data": {
      "text/plain": [
       "array([  27,  216,  512, 8000,  125,  343, 1000, 2744,    1])"
      ]
     },
     "execution_count": 26,
     "metadata": {},
     "output_type": "execute_result"
    }
   ],
   "source": [
    "pow(m2, 3)"
   ]
  },
  {
   "cell_type": "markdown",
   "id": "5a81ab47",
   "metadata": {},
   "source": [
    "*Creado por:*\n",
    "    \n",
    "*Isabel Maniega*"
   ]
  }
 ],
 "metadata": {
  "kernelspec": {
   "display_name": "Python 3",
   "language": "python",
   "name": "python3"
  },
  "language_info": {
   "codemirror_mode": {
    "name": "ipython",
    "version": 3
   },
   "file_extension": ".py",
   "mimetype": "text/x-python",
   "name": "python",
   "nbconvert_exporter": "python",
   "pygments_lexer": "ipython3",
   "version": "3.8.10"
  }
 },
 "nbformat": 4,
 "nbformat_minor": 5
}
