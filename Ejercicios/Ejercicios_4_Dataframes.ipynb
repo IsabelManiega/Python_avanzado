{
 "cells": [
  {
   "cell_type": "markdown",
   "id": "9b77a49b",
   "metadata": {},
   "source": [
    "*Creado por:*\n",
    "\n",
    "*Isabel Maniega*"
   ]
  },
  {
   "cell_type": "markdown",
   "id": "30a852f2",
   "metadata": {},
   "source": [
    "# Ejercicio 1"
   ]
  },
  {
   "cell_type": "markdown",
   "id": "ba44b3bb",
   "metadata": {},
   "source": [
    "**1)** Lee con pandas el archivo train.csv correspondiente al titanic dataset"
   ]
  },
  {
   "cell_type": "markdown",
   "id": "1960cd4f",
   "metadata": {},
   "source": [
    "**2)** Hacer un bucle for para automatizar las gráficas de pd.crosstab\n",
    "\n",
    "Se pide relacionar la columna Survived con Pclass, Sex y Embarked\n",
    "\n",
    "\n",
    "Nota:\n",
    "\n",
    "Se pide que dentro del bucle for se encuentre la gráfica requerida.\n",
    "\n",
    "Entonces, en una sola celda, tenemos 3 gráficas mostradas y todo automatizado."
   ]
  },
  {
   "cell_type": "markdown",
   "id": "a0630926",
   "metadata": {},
   "source": [
    "**3)** Hacer una función para automatizar las gráficas de pd.crosstab\n",
    "\n",
    "Se pide relacionar la columna Survived con Pclass, Sex y Embarked\n",
    "\n",
    "NOTA:\n",
    "\n",
    "Se pide definir una función (1 vez por ello)\n",
    "\n",
    "y hacer llamadas a la función (3 en este caso, para: Pclass, Sex, Embarked)"
   ]
  },
  {
   "cell_type": "markdown",
   "id": "9bd0caa1",
   "metadata": {},
   "source": [
    "# Ejercicio 2"
   ]
  },
  {
   "cell_type": "markdown",
   "id": "3fb5c542",
   "metadata": {},
   "source": [
    "**Ejercicio de obtener los valores que muestra el pd.crosstab de Sex y Pclass sin usar el propio pd.crosstab**"
   ]
  },
  {
   "cell_type": "markdown",
   "id": "6bbb6ae6",
   "metadata": {},
   "source": [
    "**1)** Imprime nuevamente los primeros 5 valores"
   ]
  },
  {
   "cell_type": "markdown",
   "id": "7d39b4ed",
   "metadata": {},
   "source": [
    "**2)** Usando value_counts() observa cuantos hombres y mujeres hay\n",
    "\n",
    "(No hace falta plotear, simplemente mostrar los números de cada)"
   ]
  },
  {
   "cell_type": "markdown",
   "id": "b0fc3382",
   "metadata": {},
   "source": [
    "**3)** Sin usar value_counts() observa cuantos hombres y mujeres hay\n",
    "\n",
    "(con un algoritmo)"
   ]
  },
  {
   "cell_type": "markdown",
   "id": "4e2990cc",
   "metadata": {},
   "source": [
    "**4)** Ahora haz lo mismo de otra forma\n",
    "\n",
    "En esta ocasión se pide que: \n",
    "\n",
    "crees un dataframe con el formato del original, \n",
    "\n",
    "bajo la permisa que sea un dataframe con todo hombres (primeramente)\n",
    "\n",
    "y con todo mujeres (a continuación)\n",
    "\n",
    "(2 DataFrames por tanto)\n",
    "\n",
    "Y observes si el número de filas de ambos nuevos DataFrames coincide con los valores anteriores"
   ]
  },
  {
   "cell_type": "markdown",
   "id": "c948e2fa",
   "metadata": {},
   "source": [
    "*Creado por:*\n",
    "\n",
    "*Isabel Maniega*"
   ]
  }
 ],
 "metadata": {
  "kernelspec": {
   "display_name": "Python 3 (ipykernel)",
   "language": "python",
   "name": "python3"
  },
  "language_info": {
   "codemirror_mode": {
    "name": "ipython",
    "version": 3
   },
   "file_extension": ".py",
   "mimetype": "text/x-python",
   "name": "python",
   "nbconvert_exporter": "python",
   "pygments_lexer": "ipython3",
   "version": "3.10.12"
  }
 },
 "nbformat": 4,
 "nbformat_minor": 5
}
