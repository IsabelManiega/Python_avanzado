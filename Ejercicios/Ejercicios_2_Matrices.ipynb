{
 "cells": [
  {
   "cell_type": "markdown",
   "id": "692c017d",
   "metadata": {},
   "source": [
    "*Creado por:*\n",
    "    \n",
    "*Isabel Maniega*"
   ]
  },
  {
   "cell_type": "markdown",
   "id": "1e6ad405",
   "metadata": {},
   "source": [
    "# Ejercicio 1"
   ]
  },
  {
   "cell_type": "markdown",
   "id": "940d6687",
   "metadata": {},
   "source": [
    "Crea una matriz con ayuda de numpy:"
   ]
  },
  {
   "cell_type": "markdown",
   "id": "03d6da9f",
   "metadata": {},
   "source": [
    "**1)** Cuya matriz contenga 4 filas por 4 columnas de ceros"
   ]
  },
  {
   "cell_type": "markdown",
   "id": "2323e469",
   "metadata": {},
   "source": [
    "**2)** Apartir de la matriz de ceros crea la matriz identidad"
   ]
  },
  {
   "cell_type": "code",
   "execution_count": 6,
   "id": "3702df1a-1a47-4327-91e4-49403d1cd45a",
   "metadata": {},
   "outputs": [
    {
     "data": {
      "text/plain": [
       "array([[1, 0, 0],\n",
       "       [0, 1, 0],\n",
       "       [0, 0, 1]])"
      ]
     },
     "execution_count": 6,
     "metadata": {},
     "output_type": "execute_result"
    }
   ],
   "source": [
    "import numpy as np\n",
    "\n",
    "matriz_identidad = np.array([[1, 0, 0],\n",
    "                             [0, 1, 0],\n",
    "                             [0, 0, 1]])\n",
    "matriz_identidad"
   ]
  },
  {
   "cell_type": "markdown",
   "id": "c9fdb276",
   "metadata": {},
   "source": [
    "# Ejercicio 2"
   ]
  },
  {
   "cell_type": "markdown",
   "id": "344783d3",
   "metadata": {},
   "source": [
    "Crear una matriz con ayuda de numpy:"
   ]
  },
  {
   "cell_type": "markdown",
   "id": "35829cc0",
   "metadata": {},
   "source": [
    "* Primera fila contenga: 3, 6, 8\n",
    "* Segunda fila contenga: 20, 5, 7\n",
    "* Tercera fila contenga: 10, 14, 1"
   ]
  },
  {
   "cell_type": "markdown",
   "id": "cbff3eff",
   "metadata": {},
   "source": [
    "**1)** Crea la transpuesta de esta matriz"
   ]
  },
  {
   "cell_type": "markdown",
   "id": "d146bc36",
   "metadata": {},
   "source": [
    "**2)** Muestra el tamaño de la matriz"
   ]
  },
  {
   "cell_type": "markdown",
   "id": "150e5606",
   "metadata": {},
   "source": [
    "**3)** Muestra las dimensiones"
   ]
  },
  {
   "cell_type": "markdown",
   "id": "79ac8091",
   "metadata": {},
   "source": [
    "**4)** ¿La matriz tiene valores menores de 0?"
   ]
  },
  {
   "cell_type": "markdown",
   "id": "f7bb934c",
   "metadata": {},
   "source": [
    "**5)** ¿La matriz tiene algún valor mayor de 10?"
   ]
  },
  {
   "cell_type": "markdown",
   "id": "2490d0d4",
   "metadata": {},
   "source": [
    "**6)** Coge una muestra de 5 valores de esa matriz usando linespace"
   ]
  },
  {
   "cell_type": "markdown",
   "id": "27c051c4",
   "metadata": {},
   "source": [
    "**7)**¿La matriz contiene el valor 7?"
   ]
  },
  {
   "cell_type": "markdown",
   "id": "89163166",
   "metadata": {},
   "source": [
    "**8)** Crea una copia de esa matriz en una única dimensión"
   ]
  },
  {
   "cell_type": "markdown",
   "id": "ae901ebb",
   "metadata": {},
   "source": [
    "**9)** Crea una copia de esa matriz en una única dimensión, en este caso usando un bucle y una lista vacia"
   ]
  },
  {
   "cell_type": "markdown",
   "id": "badb808b",
   "metadata": {},
   "source": [
    "**10)** Realiza a esta última matriz creada con flatten la potencia de 3"
   ]
  },
  {
   "cell_type": "markdown",
   "id": "3314bf81",
   "metadata": {},
   "source": [
    "*Creado por:*\n",
    "    \n",
    "*Isabel Maniega*"
   ]
  }
 ],
 "metadata": {
  "kernelspec": {
   "display_name": "Python 3 (ipykernel)",
   "language": "python",
   "name": "python3"
  },
  "language_info": {
   "codemirror_mode": {
    "name": "ipython",
    "version": 3
   },
   "file_extension": ".py",
   "mimetype": "text/x-python",
   "name": "python",
   "nbconvert_exporter": "python",
   "pygments_lexer": "ipython3",
   "version": "3.10.12"
  }
 },
 "nbformat": 4,
 "nbformat_minor": 5
}
