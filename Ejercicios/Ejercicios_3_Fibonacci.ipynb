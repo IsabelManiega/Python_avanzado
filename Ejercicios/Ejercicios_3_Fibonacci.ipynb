{
 "cells": [
  {
   "cell_type": "markdown",
   "id": "495c8a6a",
   "metadata": {},
   "source": [
    "*Creado por:*\n",
    "    \n",
    "*Isabel Maniega*"
   ]
  },
  {
   "cell_type": "markdown",
   "id": "42555d83",
   "metadata": {},
   "source": [
    "# Ejercicio 1"
   ]
  },
  {
   "cell_type": "markdown",
   "id": "d871c1ae",
   "metadata": {},
   "source": [
    "Cada número es la suma de los 2 anteriores:"
   ]
  },
  {
   "cell_type": "markdown",
   "id": "b446bc0e",
   "metadata": {},
   "source": [
    "0-1-1-2-3-5-8-13-21-34..."
   ]
  },
  {
   "cell_type": "markdown",
   "id": "7ac44d46",
   "metadata": {},
   "source": [
    "Se pide programar esa secuencia con Python."
   ]
  },
  {
   "cell_type": "markdown",
   "id": "4485ae56",
   "metadata": {},
   "source": [
    "Nota:"
   ]
  },
  {
   "cell_type": "markdown",
   "id": "fd803548",
   "metadata": {},
   "source": [
    "Apendiza elementos hasta tener 10 primeros resultados.\n",
    "\n",
    "(los 10 números indicados desde 0 hasta 34)\n",
    "\n",
    "**Si sabes, hazlo de varias formas diferentes**"
   ]
  },
  {
   "cell_type": "markdown",
   "id": "a938c5a4",
   "metadata": {},
   "source": [
    "# Ejercicio 2"
   ]
  },
  {
   "cell_type": "markdown",
   "id": "6050f69c",
   "metadata": {},
   "source": [
    "Cada número es la suma de los 2 anteriores:"
   ]
  },
  {
   "cell_type": "markdown",
   "id": "d6f0bbba",
   "metadata": {},
   "source": [
    "0-1-1-2-3-5-8-13-21-34..."
   ]
  },
  {
   "cell_type": "markdown",
   "id": "bd4d307e",
   "metadata": {},
   "source": [
    "Se pide programar para los números de fibonacci mayores de 1000"
   ]
  },
  {
   "cell_type": "code",
   "execution_count": 1,
   "id": "dc0cbd41",
   "metadata": {},
   "outputs": [],
   "source": [
    "# Primero muestra los valores de 0 hasta 1000000, crea una lista\n",
    "# con ese listado crea una segunda lista con los mayores de 1000"
   ]
  },
  {
   "cell_type": "markdown",
   "id": "9b08aea6",
   "metadata": {},
   "source": [
    "# Ejercicio 3"
   ]
  },
  {
   "cell_type": "markdown",
   "id": "d08955d5",
   "metadata": {},
   "source": [
    "Se pide crear un NUEVO dataframe para cada uno de los siguientes casos\n",
    "\n",
    "planteados y que están relacionados con el Titanic DataSet\n",
    "\n",
    "(antes debéis de cargar el archivo como df)"
   ]
  },
  {
   "cell_type": "markdown",
   "id": "f3524470",
   "metadata": {},
   "source": [
    "**1)** Leer el archivo train.csv del titanic dataset"
   ]
  },
  {
   "cell_type": "markdown",
   "id": "87e5be21",
   "metadata": {},
   "source": [
    "**2)** Crear un dataframe de nombre **df_sobreviven** refiriéndose a un dataframe en el que todos los pasajeros sobreviven"
   ]
  },
  {
   "cell_type": "markdown",
   "id": "3275e5e9",
   "metadata": {},
   "source": [
    "NOTA: si al principio no estás seguro del resultado, puedes usar value_counts() para comprobar tu resultado"
   ]
  },
  {
   "cell_type": "markdown",
   "id": "ef14583e",
   "metadata": {},
   "source": [
    "**3)** Crear un dataframe de nombre **df__no_sobreviven** refiriéndose a un dataframe en el que NINGUNO de los pasajeros sobrevive"
   ]
  },
  {
   "cell_type": "markdown",
   "id": "db6d524c",
   "metadata": {},
   "source": [
    "**4)** DataFrame de hombres que no sobrevivieron en el titanic"
   ]
  },
  {
   "cell_type": "markdown",
   "id": "889756ca",
   "metadata": {},
   "source": [
    "**5)** DataFrame de hombres que si sobrevivieron en el titanic"
   ]
  },
  {
   "cell_type": "markdown",
   "id": "ca190211",
   "metadata": {},
   "source": [
    "**6)** DataFrame de mujeres que no sobrevivieron en el titanic"
   ]
  },
  {
   "cell_type": "markdown",
   "id": "42dbc48e",
   "metadata": {},
   "source": [
    "**7)** DataFrame de mujeres que si sobrevivieron en el titanic"
   ]
  },
  {
   "cell_type": "markdown",
   "id": "d8bd3b59",
   "metadata": {},
   "source": [
    "*Creado por:*\n",
    "    \n",
    "*Isabel Maniega*"
   ]
  }
 ],
 "metadata": {
  "kernelspec": {
   "display_name": "Python 3",
   "language": "python",
   "name": "python3"
  },
  "language_info": {
   "codemirror_mode": {
    "name": "ipython",
    "version": 3
   },
   "file_extension": ".py",
   "mimetype": "text/x-python",
   "name": "python",
   "nbconvert_exporter": "python",
   "pygments_lexer": "ipython3",
   "version": "3.8.10"
  }
 },
 "nbformat": 4,
 "nbformat_minor": 5
}
